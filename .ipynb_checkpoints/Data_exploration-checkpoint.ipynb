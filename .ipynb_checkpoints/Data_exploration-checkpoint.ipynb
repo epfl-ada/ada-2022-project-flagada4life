{
 "cells": [
  {
   "cell_type": "markdown",
   "id": "0c63f038",
   "metadata": {},
   "source": [
    "# Little exploration of the movie dataset"
   ]
  },
  {
   "cell_type": "markdown",
   "id": "7d1afeb1",
   "metadata": {},
   "source": [
    "## Movie.metadata"
   ]
  },
  {
   "cell_type": "code",
   "execution_count": 2,
   "id": "50def4fa",
   "metadata": {},
   "outputs": [],
   "source": [
    "import pandas as pd\n",
    "import numpy as np\n",
    "import matplotlib.pyplot as plt\n",
    "%matplotlib inline\n",
    "import seaborn as sns\n",
    "import math\n",
    "\n",
    "data_folder = './data/MovieSummaries/'\n",
    "\n",
    "movie_metadata = pd.read_csv(data_folder + 'movie.metadata.tsv', sep =\"\\t\", header=None\n",
    "                      , names = ['Wikipedia movie ID', 'Freebase movie ID', 'Movie name'\n",
    "                       ,'Movie release date','Movie box office revenue','Movie runtime',\n",
    "                       'Movie languages', 'Movie countries','Movie genres'], index_col = 'Wikipedia movie ID')"
   ]
  },
  {
   "cell_type": "code",
   "execution_count": 3,
   "id": "c1869a34",
   "metadata": {},
   "outputs": [
    {
     "data": {
      "text/html": [
       "<div>\n",
       "<style scoped>\n",
       "    .dataframe tbody tr th:only-of-type {\n",
       "        vertical-align: middle;\n",
       "    }\n",
       "\n",
       "    .dataframe tbody tr th {\n",
       "        vertical-align: top;\n",
       "    }\n",
       "\n",
       "    .dataframe thead th {\n",
       "        text-align: right;\n",
       "    }\n",
       "</style>\n",
       "<table border=\"1\" class=\"dataframe\">\n",
       "  <thead>\n",
       "    <tr style=\"text-align: right;\">\n",
       "      <th></th>\n",
       "      <th>Freebase movie ID</th>\n",
       "      <th>Movie name</th>\n",
       "      <th>Movie release date</th>\n",
       "      <th>Movie box office revenue</th>\n",
       "      <th>Movie runtime</th>\n",
       "      <th>Movie languages</th>\n",
       "      <th>Movie countries</th>\n",
       "      <th>Movie genres</th>\n",
       "    </tr>\n",
       "    <tr>\n",
       "      <th>Wikipedia movie ID</th>\n",
       "      <th></th>\n",
       "      <th></th>\n",
       "      <th></th>\n",
       "      <th></th>\n",
       "      <th></th>\n",
       "      <th></th>\n",
       "      <th></th>\n",
       "      <th></th>\n",
       "    </tr>\n",
       "  </thead>\n",
       "  <tbody>\n",
       "    <tr>\n",
       "      <th>975900</th>\n",
       "      <td>/m/03vyhn</td>\n",
       "      <td>Ghosts of Mars</td>\n",
       "      <td>2001-08-24</td>\n",
       "      <td>14010832.0</td>\n",
       "      <td>98.0</td>\n",
       "      <td>{\"/m/02h40lc\": \"English Language\"}</td>\n",
       "      <td>{\"/m/09c7w0\": \"United States of America\"}</td>\n",
       "      <td>{\"/m/01jfsb\": \"Thriller\", \"/m/06n90\": \"Science...</td>\n",
       "    </tr>\n",
       "    <tr>\n",
       "      <th>3196793</th>\n",
       "      <td>/m/08yl5d</td>\n",
       "      <td>Getting Away with Murder: The JonBenét Ramsey ...</td>\n",
       "      <td>2000-02-16</td>\n",
       "      <td>NaN</td>\n",
       "      <td>95.0</td>\n",
       "      <td>{\"/m/02h40lc\": \"English Language\"}</td>\n",
       "      <td>{\"/m/09c7w0\": \"United States of America\"}</td>\n",
       "      <td>{\"/m/02n4kr\": \"Mystery\", \"/m/03bxz7\": \"Biograp...</td>\n",
       "    </tr>\n",
       "  </tbody>\n",
       "</table>\n",
       "</div>"
      ],
      "text/plain": [
       "                   Freebase movie ID  \\\n",
       "Wikipedia movie ID                     \n",
       "975900                     /m/03vyhn   \n",
       "3196793                    /m/08yl5d   \n",
       "\n",
       "                                                           Movie name  \\\n",
       "Wikipedia movie ID                                                      \n",
       "975900                                                 Ghosts of Mars   \n",
       "3196793             Getting Away with Murder: The JonBenét Ramsey ...   \n",
       "\n",
       "                   Movie release date  Movie box office revenue  \\\n",
       "Wikipedia movie ID                                                \n",
       "975900                     2001-08-24                14010832.0   \n",
       "3196793                    2000-02-16                       NaN   \n",
       "\n",
       "                    Movie runtime                     Movie languages  \\\n",
       "Wikipedia movie ID                                                      \n",
       "975900                       98.0  {\"/m/02h40lc\": \"English Language\"}   \n",
       "3196793                      95.0  {\"/m/02h40lc\": \"English Language\"}   \n",
       "\n",
       "                                              Movie countries  \\\n",
       "Wikipedia movie ID                                              \n",
       "975900              {\"/m/09c7w0\": \"United States of America\"}   \n",
       "3196793             {\"/m/09c7w0\": \"United States of America\"}   \n",
       "\n",
       "                                                         Movie genres  \n",
       "Wikipedia movie ID                                                     \n",
       "975900              {\"/m/01jfsb\": \"Thriller\", \"/m/06n90\": \"Science...  \n",
       "3196793             {\"/m/02n4kr\": \"Mystery\", \"/m/03bxz7\": \"Biograp...  "
      ]
     },
     "execution_count": 3,
     "metadata": {},
     "output_type": "execute_result"
    }
   ],
   "source": [
    "movie_metadata.head(2)"
   ]
  },
  {
   "cell_type": "code",
   "execution_count": 4,
   "id": "ec4c6b7c",
   "metadata": {},
   "outputs": [
    {
     "data": {
      "text/plain": [
       "True"
      ]
     },
     "execution_count": 4,
     "metadata": {},
     "output_type": "execute_result"
    }
   ],
   "source": [
    "movie_metadata.index.is_unique"
   ]
  },
  {
   "cell_type": "markdown",
   "id": "c243adc1",
   "metadata": {},
   "source": [
    "Let's see the movies with biggest box office revenues."
   ]
  },
  {
   "cell_type": "code",
   "execution_count": 5,
   "id": "9c48c777",
   "metadata": {},
   "outputs": [
    {
     "data": {
      "text/html": [
       "<div>\n",
       "<style scoped>\n",
       "    .dataframe tbody tr th:only-of-type {\n",
       "        vertical-align: middle;\n",
       "    }\n",
       "\n",
       "    .dataframe tbody tr th {\n",
       "        vertical-align: top;\n",
       "    }\n",
       "\n",
       "    .dataframe thead th {\n",
       "        text-align: right;\n",
       "    }\n",
       "</style>\n",
       "<table border=\"1\" class=\"dataframe\">\n",
       "  <thead>\n",
       "    <tr style=\"text-align: right;\">\n",
       "      <th></th>\n",
       "      <th>Freebase movie ID</th>\n",
       "      <th>Movie name</th>\n",
       "      <th>Movie release date</th>\n",
       "      <th>Movie box office revenue</th>\n",
       "      <th>Movie runtime</th>\n",
       "      <th>Movie languages</th>\n",
       "      <th>Movie countries</th>\n",
       "      <th>Movie genres</th>\n",
       "    </tr>\n",
       "    <tr>\n",
       "      <th>Wikipedia movie ID</th>\n",
       "      <th></th>\n",
       "      <th></th>\n",
       "      <th></th>\n",
       "      <th></th>\n",
       "      <th></th>\n",
       "      <th></th>\n",
       "      <th></th>\n",
       "      <th></th>\n",
       "    </tr>\n",
       "  </thead>\n",
       "  <tbody>\n",
       "    <tr>\n",
       "      <th>4273140</th>\n",
       "      <td>/m/0bth54</td>\n",
       "      <td>Avatar</td>\n",
       "      <td>2009-12-10</td>\n",
       "      <td>2.782275e+09</td>\n",
       "      <td>178.0</td>\n",
       "      <td>{\"/m/02h40lc\": \"English Language\", \"/m/06nm1\":...</td>\n",
       "      <td>{\"/m/09c7w0\": \"United States of America\", \"/m/...</td>\n",
       "      <td>{\"/m/01jfsb\": \"Thriller\", \"/m/06n90\": \"Science...</td>\n",
       "    </tr>\n",
       "    <tr>\n",
       "      <th>52371</th>\n",
       "      <td>/m/0dr_4</td>\n",
       "      <td>Titanic</td>\n",
       "      <td>1997-11-01</td>\n",
       "      <td>2.185372e+09</td>\n",
       "      <td>194.0</td>\n",
       "      <td>{\"/m/02bjrlw\": \"Italian Language\", \"/m/02h40lc...</td>\n",
       "      <td>{\"/m/09c7w0\": \"United States of America\"}</td>\n",
       "      <td>{\"/m/0fx2s\": \"Tragedy\", \"/m/04xvh5\": \"Costume ...</td>\n",
       "    </tr>\n",
       "  </tbody>\n",
       "</table>\n",
       "</div>"
      ],
      "text/plain": [
       "                   Freebase movie ID Movie name Movie release date  \\\n",
       "Wikipedia movie ID                                                   \n",
       "4273140                    /m/0bth54     Avatar         2009-12-10   \n",
       "52371                       /m/0dr_4    Titanic         1997-11-01   \n",
       "\n",
       "                    Movie box office revenue  Movie runtime  \\\n",
       "Wikipedia movie ID                                            \n",
       "4273140                         2.782275e+09          178.0   \n",
       "52371                           2.185372e+09          194.0   \n",
       "\n",
       "                                                      Movie languages  \\\n",
       "Wikipedia movie ID                                                      \n",
       "4273140             {\"/m/02h40lc\": \"English Language\", \"/m/06nm1\":...   \n",
       "52371               {\"/m/02bjrlw\": \"Italian Language\", \"/m/02h40lc...   \n",
       "\n",
       "                                                      Movie countries  \\\n",
       "Wikipedia movie ID                                                      \n",
       "4273140             {\"/m/09c7w0\": \"United States of America\", \"/m/...   \n",
       "52371                       {\"/m/09c7w0\": \"United States of America\"}   \n",
       "\n",
       "                                                         Movie genres  \n",
       "Wikipedia movie ID                                                     \n",
       "4273140             {\"/m/01jfsb\": \"Thriller\", \"/m/06n90\": \"Science...  \n",
       "52371               {\"/m/0fx2s\": \"Tragedy\", \"/m/04xvh5\": \"Costume ...  "
      ]
     },
     "execution_count": 5,
     "metadata": {},
     "output_type": "execute_result"
    }
   ],
   "source": [
    "movie_metadata.sort_values('Movie box office revenue', ascending = False).head(2)"
   ]
  },
  {
   "cell_type": "markdown",
   "id": "75d319b9",
   "metadata": {},
   "source": [
    "## Character.metadata"
   ]
  },
  {
   "cell_type": "code",
   "execution_count": 6,
   "id": "4fd218d8",
   "metadata": {},
   "outputs": [],
   "source": [
    "char_metadata = pd.read_csv(data_folder + 'character.metadata.tsv', sep =\"\\t\", header=None\n",
    "                      , names = ['Wikipedia movie ID', 'Freebase movie ID', 'Movie release date'\n",
    "                       ,'Character name','Actor date of birth','Actor gender',\n",
    "                       'Actor height', 'Actor ethnicity','Actor name','Actor age at movie release',\n",
    "                        'Freebase character/actor map ID', 'Freebase character ID',\n",
    "                        'Freebase actor ID'], index_col = 'Wikipedia movie ID')"
   ]
  },
  {
   "cell_type": "code",
   "execution_count": 7,
   "id": "014d9364",
   "metadata": {},
   "outputs": [
    {
     "data": {
      "text/html": [
       "<div>\n",
       "<style scoped>\n",
       "    .dataframe tbody tr th:only-of-type {\n",
       "        vertical-align: middle;\n",
       "    }\n",
       "\n",
       "    .dataframe tbody tr th {\n",
       "        vertical-align: top;\n",
       "    }\n",
       "\n",
       "    .dataframe thead th {\n",
       "        text-align: right;\n",
       "    }\n",
       "</style>\n",
       "<table border=\"1\" class=\"dataframe\">\n",
       "  <thead>\n",
       "    <tr style=\"text-align: right;\">\n",
       "      <th></th>\n",
       "      <th>Freebase movie ID</th>\n",
       "      <th>Movie release date</th>\n",
       "      <th>Character name</th>\n",
       "      <th>Actor date of birth</th>\n",
       "      <th>Actor gender</th>\n",
       "      <th>Actor height</th>\n",
       "      <th>Actor ethnicity</th>\n",
       "      <th>Actor name</th>\n",
       "      <th>Actor age at movie release</th>\n",
       "      <th>Freebase character/actor map ID</th>\n",
       "      <th>Freebase character ID</th>\n",
       "      <th>Freebase actor ID</th>\n",
       "    </tr>\n",
       "    <tr>\n",
       "      <th>Wikipedia movie ID</th>\n",
       "      <th></th>\n",
       "      <th></th>\n",
       "      <th></th>\n",
       "      <th></th>\n",
       "      <th></th>\n",
       "      <th></th>\n",
       "      <th></th>\n",
       "      <th></th>\n",
       "      <th></th>\n",
       "      <th></th>\n",
       "      <th></th>\n",
       "      <th></th>\n",
       "    </tr>\n",
       "  </thead>\n",
       "  <tbody>\n",
       "    <tr>\n",
       "      <th>975900</th>\n",
       "      <td>/m/03vyhn</td>\n",
       "      <td>2001-08-24</td>\n",
       "      <td>Akooshay</td>\n",
       "      <td>1958-08-26</td>\n",
       "      <td>F</td>\n",
       "      <td>1.620</td>\n",
       "      <td>NaN</td>\n",
       "      <td>Wanda De Jesus</td>\n",
       "      <td>42.0</td>\n",
       "      <td>/m/0bgchxw</td>\n",
       "      <td>/m/0bgcj3x</td>\n",
       "      <td>/m/03wcfv7</td>\n",
       "    </tr>\n",
       "    <tr>\n",
       "      <th>975900</th>\n",
       "      <td>/m/03vyhn</td>\n",
       "      <td>2001-08-24</td>\n",
       "      <td>Lieutenant Melanie Ballard</td>\n",
       "      <td>1974-08-15</td>\n",
       "      <td>F</td>\n",
       "      <td>1.780</td>\n",
       "      <td>/m/044038p</td>\n",
       "      <td>Natasha Henstridge</td>\n",
       "      <td>27.0</td>\n",
       "      <td>/m/0jys3m</td>\n",
       "      <td>/m/0bgchn4</td>\n",
       "      <td>/m/0346l4</td>\n",
       "    </tr>\n",
       "    <tr>\n",
       "      <th>975900</th>\n",
       "      <td>/m/03vyhn</td>\n",
       "      <td>2001-08-24</td>\n",
       "      <td>Desolation Williams</td>\n",
       "      <td>1969-06-15</td>\n",
       "      <td>M</td>\n",
       "      <td>1.727</td>\n",
       "      <td>/m/0x67</td>\n",
       "      <td>Ice Cube</td>\n",
       "      <td>32.0</td>\n",
       "      <td>/m/0jys3g</td>\n",
       "      <td>/m/0bgchn_</td>\n",
       "      <td>/m/01vw26l</td>\n",
       "    </tr>\n",
       "    <tr>\n",
       "      <th>975900</th>\n",
       "      <td>/m/03vyhn</td>\n",
       "      <td>2001-08-24</td>\n",
       "      <td>Sgt Jericho Butler</td>\n",
       "      <td>1967-09-12</td>\n",
       "      <td>M</td>\n",
       "      <td>1.750</td>\n",
       "      <td>NaN</td>\n",
       "      <td>Jason Statham</td>\n",
       "      <td>33.0</td>\n",
       "      <td>/m/02vchl6</td>\n",
       "      <td>/m/0bgchnq</td>\n",
       "      <td>/m/034hyc</td>\n",
       "    </tr>\n",
       "    <tr>\n",
       "      <th>975900</th>\n",
       "      <td>/m/03vyhn</td>\n",
       "      <td>2001-08-24</td>\n",
       "      <td>Bashira Kincaid</td>\n",
       "      <td>1977-09-25</td>\n",
       "      <td>F</td>\n",
       "      <td>1.650</td>\n",
       "      <td>NaN</td>\n",
       "      <td>Clea DuVall</td>\n",
       "      <td>23.0</td>\n",
       "      <td>/m/02vbb3r</td>\n",
       "      <td>/m/0bgchp9</td>\n",
       "      <td>/m/01y9xg</td>\n",
       "    </tr>\n",
       "  </tbody>\n",
       "</table>\n",
       "</div>"
      ],
      "text/plain": [
       "                   Freebase movie ID Movie release date  \\\n",
       "Wikipedia movie ID                                        \n",
       "975900                     /m/03vyhn         2001-08-24   \n",
       "975900                     /m/03vyhn         2001-08-24   \n",
       "975900                     /m/03vyhn         2001-08-24   \n",
       "975900                     /m/03vyhn         2001-08-24   \n",
       "975900                     /m/03vyhn         2001-08-24   \n",
       "\n",
       "                                Character name Actor date of birth  \\\n",
       "Wikipedia movie ID                                                   \n",
       "975900                                Akooshay          1958-08-26   \n",
       "975900              Lieutenant Melanie Ballard          1974-08-15   \n",
       "975900                     Desolation Williams          1969-06-15   \n",
       "975900                      Sgt Jericho Butler          1967-09-12   \n",
       "975900                         Bashira Kincaid          1977-09-25   \n",
       "\n",
       "                   Actor gender  Actor height Actor ethnicity  \\\n",
       "Wikipedia movie ID                                              \n",
       "975900                        F         1.620             NaN   \n",
       "975900                        F         1.780      /m/044038p   \n",
       "975900                        M         1.727         /m/0x67   \n",
       "975900                        M         1.750             NaN   \n",
       "975900                        F         1.650             NaN   \n",
       "\n",
       "                            Actor name  Actor age at movie release  \\\n",
       "Wikipedia movie ID                                                   \n",
       "975900                  Wanda De Jesus                        42.0   \n",
       "975900              Natasha Henstridge                        27.0   \n",
       "975900                        Ice Cube                        32.0   \n",
       "975900                   Jason Statham                        33.0   \n",
       "975900                     Clea DuVall                        23.0   \n",
       "\n",
       "                   Freebase character/actor map ID Freebase character ID  \\\n",
       "Wikipedia movie ID                                                         \n",
       "975900                                  /m/0bgchxw            /m/0bgcj3x   \n",
       "975900                                   /m/0jys3m            /m/0bgchn4   \n",
       "975900                                   /m/0jys3g            /m/0bgchn_   \n",
       "975900                                  /m/02vchl6            /m/0bgchnq   \n",
       "975900                                  /m/02vbb3r            /m/0bgchp9   \n",
       "\n",
       "                   Freebase actor ID  \n",
       "Wikipedia movie ID                    \n",
       "975900                    /m/03wcfv7  \n",
       "975900                     /m/0346l4  \n",
       "975900                    /m/01vw26l  \n",
       "975900                     /m/034hyc  \n",
       "975900                     /m/01y9xg  "
      ]
     },
     "execution_count": 7,
     "metadata": {},
     "output_type": "execute_result"
    }
   ],
   "source": [
    "char_metadata.head()"
   ]
  },
  {
   "cell_type": "markdown",
   "id": "65c0ef80",
   "metadata": {},
   "source": [
    "Few tests to see how bad the data is."
   ]
  },
  {
   "cell_type": "code",
   "execution_count": 9,
   "id": "5ce06068",
   "metadata": {},
   "outputs": [
    {
     "data": {
      "text/plain": [
       "381"
      ]
     },
     "execution_count": 9,
     "metadata": {},
     "output_type": "execute_result"
    }
   ],
   "source": [
    "len(char_metadata[char_metadata['Actor age at movie release']<0])"
   ]
  },
  {
   "cell_type": "code",
   "execution_count": 10,
   "id": "3ee29039",
   "metadata": {},
   "outputs": [
    {
     "data": {
      "image/png": "[encoded data removed]",
      "text/plain": [
       "<Figure size 432x288 with 1 Axes>"
      ]
     },
     "metadata": {},
     "output_type": "display_data"
    }
   ],
   "source": [
    "df_fem = char_metadata[char_metadata['Actor gender'] == 'F']\n",
    "df_masc = char_metadata[char_metadata['Actor gender'] == 'M']\n",
    "mylabels = [\"women\", \"men\"]\n",
    "plt.pie(np.array([df_fem['Actor name'].nunique(),df_masc['Actor name'].nunique()]), labels = mylabels, autopct='%1.2f%%')\n",
    "plt.title(\"Percentage of men and women actor in the dataset\")\n",
    "plt.show()"
   ]
  },
  {
   "cell_type": "markdown",
   "id": "58b826ca",
   "metadata": {},
   "source": [
    "## plot_summaries.txt"
   ]
  },
  {
   "cell_type": "markdown",
   "id": "dad36628",
   "metadata": {},
   "source": [
    "Printing the first few lines of the movie summaries"
   ]
  },
  {
   "cell_type": "code",
   "execution_count": 13,
   "id": "fc1c5762",
   "metadata": {},
   "outputs": [
    {
     "name": "stdout",
     "output_type": "stream",
     "text": [
      "[\"23890098\\tShlykov, a hard-working taxi driver and Lyosha, a saxophonist, develop a bizarre love-hate relationship, and despite their prejudices, realize they aren't so different after all.\\n\"]\n"
     ]
    }
   ],
   "source": [
    "with open(data_folder + \"plot_summaries.txt\") as myfile:\n",
    "    head = [next(myfile) for x in range(1)]\n",
    "print(head)"
   ]
  },
  {
   "cell_type": "markdown",
   "id": "d4d87d89",
   "metadata": {},
   "source": [
    "## name.clusters.txt"
   ]
  },
  {
   "cell_type": "code",
   "execution_count": 17,
   "id": "2dcd8b89",
   "metadata": {},
   "outputs": [
    {
     "name": "stdout",
     "output_type": "stream",
     "text": [
      "['Stuart Little\\t/m/0k3w9c\\n', 'Stuart Little\\t/m/0k3wcx\\n', 'Stuart Little\\t/m/0k3wbn\\n']\n"
     ]
    }
   ],
   "source": [
    "with open(data_folder + \"name.clusters.txt\") as myfile:\n",
    "    head = [next(myfile) for x in range(3)]\n",
    "print(head)"
   ]
  },
  {
   "cell_type": "markdown",
   "id": "a4dde6a5",
   "metadata": {},
   "source": [
    "## tvtropes.cluster.txt"
   ]
  },
  {
   "cell_type": "code",
   "execution_count": 18,
   "id": "ebe1c9bd",
   "metadata": {},
   "outputs": [
    {
     "name": "stdout",
     "output_type": "stream",
     "text": [
      "['absent_minded_professor\\t{\"char\": \"Professor Philip Brainard\", \"movie\": \"Flubber\", \"id\": \"/m/0jy9q0\", \"actor\": \"Robin Williams\"}\\n', 'absent_minded_professor\\t{\"char\": \"Professor Keenbean\", \"movie\": \"Richie Rich\", \"id\": \"/m/02vchl3\", \"actor\": \"Michael McShane\"}\\n', 'absent_minded_professor\\t{\"char\": \"Dr. Reinhardt Lane\", \"movie\": \"The Shadow\", \"id\": \"/m/0k6fkc\", \"actor\": \"Ian McKellen\"}\\n']\n"
     ]
    }
   ],
   "source": [
    "with open(data_folder + \"tvtropes.clusters.txt\") as myfile:\n",
    "    head = [next(myfile) for x in range(3)]\n",
    "print(head)\n"
   ]
  },
  {
   "cell_type": "markdown",
   "id": "a9eb4319",
   "metadata": {},
   "source": [
    "## corenlp_plot_summaries.tar.gz (to load)"
   ]
  },
  {
   "cell_type": "code",
   "execution_count": null,
   "id": "f1ee59bd",
   "metadata": {},
   "outputs": [],
   "source": []
  }
 ],
 "metadata": {
  "kernelspec": {
   "display_name": "Python 3 (ipykernel)",
   "language": "python",
   "name": "python3"
  },
  "language_info": {
   "codemirror_mode": {
    "name": "ipython",
    "version": 3
   },
   "file_extension": ".py",
   "mimetype": "text/x-python",
   "name": "python",
   "nbconvert_exporter": "python",
   "pygments_lexer": "ipython3",
   "version": "3.9.7"
  }
 },
 "nbformat": 4,
 "nbformat_minor": 5
}
