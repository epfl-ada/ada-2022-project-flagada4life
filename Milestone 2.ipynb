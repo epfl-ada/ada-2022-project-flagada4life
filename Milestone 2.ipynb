{
 "cells": [
  {
   "cell_type": "markdown",
   "id": "c2134194",
   "metadata": {},
   "source": [
    "# Milestone 2: Data wrangling and initial analyses"
   ]
  },
  {
   "cell_type": "markdown",
   "id": "3984bf88",
   "metadata": {},
   "source": [
    "## 1.  Familiarization with CMU Movie Summary Corpus dataset and restructuration"
   ]
  },
  {
   "cell_type": "markdown",
   "id": "fcea7acf",
   "metadata": {},
   "source": [
    "In this section, we familiarize ourselves with the CMU Movie Summary Corpus dataset. We also restructure the data to make it directly usable for our future analysis."
   ]
  },
  {
   "cell_type": "markdown",
   "id": "dd79ec2e",
   "metadata": {},
   "source": [
    "### 1.1 Character metadata"
   ]
  },
  {
   "cell_type": "markdown",
   "id": "91ebcf6d",
   "metadata": {},
   "source": [
    "### 1.2 Movie metadata"
   ]
  },
  {
   "cell_type": "markdown",
   "id": "4d188232",
   "metadata": {},
   "source": [
    "### 1.3 Plot summaries"
   ]
  },
  {
   "cell_type": "markdown",
   "id": "d10c3d43",
   "metadata": {},
   "source": [
    "### 1.4 Core NLP plot summaries"
   ]
  },
  {
   "cell_type": "code",
   "execution_count": null,
   "id": "8f64d171",
   "metadata": {},
   "outputs": [],
   "source": []
  },
  {
   "cell_type": "markdown",
   "id": "f40cfc29",
   "metadata": {},
   "source": [
    "## 2. Familiarization with IMDb dataset and restructuration"
   ]
  },
  {
   "cell_type": "markdown",
   "id": "e65cfcb5",
   "metadata": {},
   "source": [
    "In this section, we familiarize ourselves with the IMDb dataset. We select the useful data for our future analysis."
   ]
  },
  {
   "cell_type": "markdown",
   "id": "b3e8de41",
   "metadata": {},
   "source": [
    "### 2.1 Titles principals"
   ]
  },
  {
   "cell_type": "markdown",
   "id": "cadf3c61",
   "metadata": {},
   "source": [
    "### 2.2 Name basics"
   ]
  },
  {
   "cell_type": "markdown",
   "id": "a9b9d562",
   "metadata": {},
   "source": [
    "### 2.3 Title crew"
   ]
  },
  {
   "cell_type": "markdown",
   "id": "6622b433",
   "metadata": {},
   "source": [
    "### 2.4 Title ratings"
   ]
  },
  {
   "cell_type": "markdown",
   "id": "dd1dc5c6",
   "metadata": {},
   "source": [
    "### 2.5 Title basics"
   ]
  },
  {
   "cell_type": "code",
   "execution_count": null,
   "id": "1f26a289",
   "metadata": {},
   "outputs": [],
   "source": []
  },
  {
   "cell_type": "markdown",
   "id": "550f4d0f",
   "metadata": {},
   "source": [
    "## 3. Data aggregation (IMDb and Movie Summary Corpus datasets)"
   ]
  },
  {
   "cell_type": "markdown",
   "id": "f49e6b95",
   "metadata": {},
   "source": [
    "In this section, we aggragate the IMDb and the Movie Summary Corpus together thanks to previously queried matches between IMDb IDs and freebase IDs."
   ]
  },
  {
   "cell_type": "markdown",
   "id": "b23245bb",
   "metadata": {},
   "source": [
    "### 3.1 Matching dataframe between IMDb IDs and freebase IDs"
   ]
  },
  {
   "cell_type": "markdown",
   "id": "c49bc8ad",
   "metadata": {},
   "source": [
    "### 3.2 Merging the datasets"
   ]
  },
  {
   "cell_type": "code",
   "execution_count": null,
   "id": "19967d11",
   "metadata": {},
   "outputs": [],
   "source": []
  },
  {
   "cell_type": "markdown",
   "id": "87105309",
   "metadata": {},
   "source": [
    "## 4. Data cleaning and crosschecking the data"
   ]
  },
  {
   "cell_type": "markdown",
   "id": "1c4b3b0f",
   "metadata": {},
   "source": [
    "In this section, we make sure that our dataset is clean and usable by making sanity checks and crosschecking data when possible."
   ]
  },
  {
   "cell_type": "code",
   "execution_count": null,
   "id": "e7ee9dd6",
   "metadata": {},
   "outputs": [],
   "source": []
  },
  {
   "cell_type": "markdown",
   "id": "7a83e7ed",
   "metadata": {},
   "source": [
    "# 5. Initial analysis"
   ]
  },
  {
   "cell_type": "markdown",
   "id": "2482a0fc",
   "metadata": {},
   "source": [
    "### 5.1 Are women younger in cinema ?"
   ]
  },
  {
   "cell_type": "markdown",
   "id": "1161d4c0",
   "metadata": {},
   "source": [
    "#### 5.1.1 Evolution through time"
   ]
  },
  {
   "cell_type": "markdown",
   "id": "210a9612",
   "metadata": {},
   "source": [
    "#### 5.2 Differences between genres"
   ]
  },
  {
   "cell_type": "markdown",
   "id": "0cee8d50",
   "metadata": {},
   "source": [
    "### 5.2 Description of characters in the summaries"
   ]
  },
  {
   "cell_type": "markdown",
   "id": "d377fad2",
   "metadata": {},
   "source": [
    "### 5.3 Difference in importance of movie roles women and men get"
   ]
  },
  {
   "cell_type": "markdown",
   "id": "665efbab",
   "metadata": {},
   "source": [
    "### 5.4 Are IMDb ratings biased towards male/female opinion ?"
   ]
  },
  {
   "cell_type": "code",
   "execution_count": null,
   "id": "dc416863",
   "metadata": {},
   "outputs": [],
   "source": []
  }
 ],
 "metadata": {
  "kernelspec": {
   "display_name": "Python 3 (ipykernel)",
   "language": "python",
   "name": "python3"
  },
  "language_info": {
   "codemirror_mode": {
    "name": "ipython",
    "version": 3
   },
   "file_extension": ".py",
   "mimetype": "text/x-python",
   "name": "python",
   "nbconvert_exporter": "python",
   "pygments_lexer": "ipython3",
   "version": "3.9.7"
  }
 },
 "nbformat": 4,
 "nbformat_minor": 5
}
