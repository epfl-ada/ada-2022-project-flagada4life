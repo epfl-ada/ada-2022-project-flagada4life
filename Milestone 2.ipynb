{
 "cells": [
  {
   "cell_type": "markdown",
   "id": "d7b6f9da",
   "metadata": {},
   "source": [
    "# Milestone 2: Data wrangling and initial analyses"
   ]
  },
  {
   "cell_type": "markdown",
   "id": "83093676",
   "metadata": {},
   "source": [
    "## 0. Imports"
   ]
  },
  {
   "cell_type": "code",
   "execution_count": 1,
   "id": "a682c539",
   "metadata": {},
   "outputs": [],
   "source": [
    "import pandas as pd\n",
    "import numpy as np\n",
    "import matplotlib.pyplot as plt\n",
    "%matplotlib inline\n",
    "import seaborn as sns\n",
    "import math\n",
    "import json\n",
    "from wordcloud import WordCloud, STOPWORDS\n",
    "import gzip\n",
    "from pylab import xticks\n",
    "import tqdm.notebook \n",
    "from tqdm.notebook import trange"
   ]
  },
  {
   "cell_type": "markdown",
   "id": "30bf3f59",
   "metadata": {},
   "source": [
    "## 1.  Familiarization with CMU Movie Summary Corpus dataset and restructuration"
   ]
  },
  {
   "cell_type": "markdown",
   "id": "f54f8af0",
   "metadata": {},
   "source": [
    "In this section, we familiarize ourselves with the CMU Movie Summary Corpus dataset. We also restructure the data to make it directly usable for our future analysis."
   ]
  },
  {
   "cell_type": "markdown",
   "id": "ffd0f72e",
   "metadata": {},
   "source": [
    "### 1.1 Character metadata"
   ]
  },
  {
   "cell_type": "markdown",
   "id": "e9dbf4ff",
   "metadata": {},
   "source": [
    "### 1.2 Movie metadata"
   ]
  },
  {
   "cell_type": "markdown",
   "id": "91819a66",
   "metadata": {},
   "source": [
    "### 1.3 Plot summaries"
   ]
  },
  {
   "cell_type": "markdown",
   "id": "7d0be83b",
   "metadata": {},
   "source": [
    "### 1.4 Core NLP plot summaries"
   ]
  },
  {
   "cell_type": "code",
   "execution_count": null,
   "id": "854feb6e",
   "metadata": {},
   "outputs": [],
   "source": []
  },
  {
   "cell_type": "markdown",
   "id": "9f84a2b7",
   "metadata": {},
   "source": [
    "## 2. Familiarization with IMDb dataset and restructuration"
   ]
  },
  {
   "cell_type": "markdown",
   "id": "78cfe26d",
   "metadata": {},
   "source": [
    "In this section, we familiarize ourselves with the IMDb dataset. We select the useful data for our future analysis."
   ]
  },
  {
   "cell_type": "markdown",
   "id": "d7f0bc76",
   "metadata": {},
   "source": [
    "### 2.1 Titles principals"
   ]
  },
  {
   "cell_type": "markdown",
   "id": "a53f331e",
   "metadata": {},
   "source": [
    "### 2.2 Name basics"
   ]
  },
  {
   "cell_type": "markdown",
   "id": "997e894f",
   "metadata": {},
   "source": [
    "### 2.3 Title crew"
   ]
  },
  {
   "cell_type": "markdown",
   "id": "718bc4f9",
   "metadata": {},
   "source": [
    "### 2.4 Title ratings"
   ]
  },
  {
   "cell_type": "markdown",
   "id": "d20ff4b3",
   "metadata": {},
   "source": [
    "### 2.5 Title basics"
   ]
  },
  {
   "cell_type": "code",
   "execution_count": null,
   "id": "95c55f46",
   "metadata": {},
   "outputs": [],
   "source": []
  },
  {
   "cell_type": "markdown",
   "id": "c0f39fff",
   "metadata": {},
   "source": [
    "## 3. Data aggregation (IMDb and Movie Summary Corpus datasets)"
   ]
  },
  {
   "cell_type": "markdown",
   "id": "5a862a50",
   "metadata": {},
   "source": [
    "In this section, we aggragate the IMDb and the Movie Summary Corpus together thanks to previously queried matches between IMDb IDs and freebase IDs."
   ]
  },
  {
   "cell_type": "markdown",
   "id": "b076ad45",
   "metadata": {},
   "source": [
    "### 3.1 Matching dataframe between IMDb IDs and freebase IDs"
   ]
  },
  {
   "cell_type": "markdown",
   "id": "426ee817",
   "metadata": {},
   "source": [
    "### 3.2 Merging the datasets"
   ]
  },
  {
   "cell_type": "code",
   "execution_count": null,
   "id": "2229e729",
   "metadata": {},
   "outputs": [],
   "source": []
  },
  {
   "cell_type": "markdown",
   "id": "35c892a0",
   "metadata": {},
   "source": [
    "## 4. Data cleaning and crosschecking the data"
   ]
  },
  {
   "cell_type": "markdown",
   "id": "52e88ba3",
   "metadata": {},
   "source": [
    "In this section, we make sure that our dataset is clean and usable by making sanity checks and crosschecking data when possible."
   ]
  },
  {
   "cell_type": "code",
   "execution_count": null,
   "id": "453dd20f",
   "metadata": {},
   "outputs": [],
   "source": []
  },
  {
   "cell_type": "markdown",
   "id": "343664fe",
   "metadata": {},
   "source": [
    "# 5. Initial analysis"
   ]
  },
  {
   "cell_type": "markdown",
   "id": "b5d4d4aa",
   "metadata": {},
   "source": [
    "### 5.1 Are women younger in cinema ?"
   ]
  },
  {
   "cell_type": "markdown",
   "id": "c8ce3509",
   "metadata": {},
   "source": [
    "#### 5.1.1 Evolution through time"
   ]
  },
  {
   "cell_type": "markdown",
   "id": "47b8c412",
   "metadata": {},
   "source": [
    "#### 5.2 Differences between genres"
   ]
  },
  {
   "cell_type": "markdown",
   "id": "0330e7bb",
   "metadata": {},
   "source": [
    "### 5.2 Description of characters in the summaries"
   ]
  },
  {
   "cell_type": "markdown",
   "id": "84e6559e",
   "metadata": {},
   "source": [
    "### 5.3 Difference in importance of movie roles women and men get"
   ]
  },
  {
   "cell_type": "markdown",
   "id": "53dc9ae8",
   "metadata": {},
   "source": [
    "### 5.4 Are IMDb ratings biased towards male/female opinion ?"
   ]
  },
  {
   "cell_type": "code",
   "execution_count": null,
   "id": "312701d1",
   "metadata": {},
   "outputs": [],
   "source": []
  }
 ],
 "metadata": {
  "kernelspec": {
   "display_name": "Python 3 (ipykernel)",
   "language": "python",
   "name": "python3"
  },
  "language_info": {
   "codemirror_mode": {
    "name": "ipython",
    "version": 3
   },
   "file_extension": ".py",
   "mimetype": "text/x-python",
   "name": "python",
   "nbconvert_exporter": "python",
   "pygments_lexer": "ipython3",
   "version": "3.9.7"
  }
 },
 "nbformat": 4,
 "nbformat_minor": 5
}
