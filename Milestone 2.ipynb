{
 "cells": [
  {
   "cell_type": "markdown",
   "id": "d7b6f9da",
   "metadata": {},
   "source": [
    "# Milestone 2: Data wrangling and initial analyses"
   ]
  },
  {
   "cell_type": "markdown",
   "id": "0de71893",
   "metadata": {},
   "source": [
    "### Table of Contents\n",
    "\n",
    "* [Section 0](#section0): Imports\n",
    "* [Section 1](#section1): Familiarization with CMU Movie Summary Corpus dataset and restructuration\n",
    "    * [Section 1.1](#section_1_1): Character metadata\n",
    "    * [Section 1.2](#section_1_2): Movie metadata\n",
    "    * [Section 1.3](#section_1_3): Plot summaries\n",
    "    * [Section 1.4](#section_1_4): Core NLP plot summaries\n",
    "    * [Section 1.5](#section_1_5): tvtropes_clusters\n",
    "* [Section 2](#section2): Familiarization with IMDb dataset and restructuration\n",
    "    * [Section 2.1](#section_2_1): Titles principals\n",
    "    * [Section 2.2](#section_2_2): Name basics\n",
    "    * [Section 2.3](#section_2_3): Title crew\n",
    "    * [Section 2.4](#section_2_4): Title basics\n",
    "    * [Section 2.5](#section_2_5): Title rankings\n",
    "    * [Section 2.6](#section_2_6): Linking IMDb Ids to freebase movie Ids\n",
    "* [Section 3](#section3): Initial analysis\n",
    "    * [Section 3.1](#section_3_1): Most common actions of characters in the summaries\n",
    "    * [Section 3.2](#section_3_2): Are women younger in cinema ?\n",
    "    * [Section 3.3](#section_3_3): Differences between genres\n",
    "    * [Section 3.4](#section_3_4): Difference in importance of movie roles women and men get\n",
    "    * [Section 3.5](#section_3_5): Are IMDb ratings representing somewhat more male or female opinion on movie ?"
   ]
  },
  {
   "cell_type": "markdown",
   "id": "83093676",
   "metadata": {},
   "source": [
    "## 0. Imports  <a class=\"anchor\" id=\"section0\"></a>"
   ]
  },
  {
   "cell_type": "code",
   "execution_count": 2,
   "id": "a682c539",
   "metadata": {},
   "outputs": [],
   "source": [
    "import pandas as pd\n",
    "import numpy as np\n",
    "import matplotlib.pyplot as plt\n",
    "%matplotlib inline\n",
    "import seaborn as sns\n",
    "import math\n",
    "import json\n",
    "from wordcloud import WordCloud, STOPWORDS\n",
    "import gzip\n",
    "from pylab import xticks\n",
    "import tqdm.notebook \n",
    "from tqdm.notebook import trange\n",
    "import pickle\n",
    "import warnings\n",
    "warnings.filterwarnings(\"ignore\")\n",
    "import plotly.express as px"
   ]
  },
  {
   "cell_type": "markdown",
   "id": "2ffb86b1-33df-4ef6-99fb-bcb08b735560",
   "metadata": {},
   "source": [
    "### Usefull statistical functions"
   ]
  },
  {
   "cell_type": "code",
   "execution_count": 2,
   "id": "323b0b8d-2a22-4e00-b668-8dc68eb85dc8",
   "metadata": {},
   "outputs": [],
   "source": [
    "def bootstrap_CI(data, nbr_draws):\n",
    "    means = np.zeros(nbr_draws)\n",
    "    data = np.array(data)\n",
    "\n",
    "    for n in range(nbr_draws):\n",
    "        indices = np.random.randint(0, len(data), len(data))\n",
    "        data_tmp = data[indices] \n",
    "        means[n] = np.nanmean(data_tmp)\n",
    "\n",
    "    return [np.nanpercentile(means, 2.5),np.nanpercentile(means, 97.5)]"
   ]
  },
  {
   "cell_type": "markdown",
   "id": "30bf3f59",
   "metadata": {},
   "source": [
    "## 1.  Familiarization with CMU Movie Summary Corpus dataset and restructuration <a class=\"anchor\" id=\"section1\"></a>"
   ]
  },
  {
   "cell_type": "markdown",
   "id": "f54f8af0",
   "metadata": {},
   "source": [
    "In this section, we familiarize ourselves with the CMU Movie Summary Corpus dataset. We also restructure the data to make it directly usable for our future analysis."
   ]
  },
  {
   "cell_type": "markdown",
   "id": "ffd0f72e",
   "metadata": {},
   "source": [
    "### 1.1 Character metadata <a class=\"anchor\" id=\"section_1_1\"></a>"
   ]
  },
  {
   "cell_type": "code",
   "execution_count": 4,
   "id": "fb79da85",
   "metadata": {},
   "outputs": [],
   "source": [
    "#Importing character metadata\n",
    "df_char_meta = pd.read_table(\"./data/MovieSummaries/character.metadata.tsv\", header=None)\n",
    "df_char_meta.columns=[\"Wikipedia movie ID\", \"Freebase movie ID\", \"Movie release date\", \"character name\", \"Actor date of birth\", \"Actor gender\", \n",
    "            \"Actor height (in meters)\", \"Actor ethnicity (Freebase ID)\", \"Actor name\", \"Actor age at movie release\", \"Freebase character/actor map ID\", \n",
    "            \"Freebase character ID\", \"Freebase actor ID\"]"
   ]
  },
  {
   "cell_type": "code",
   "execution_count": 3,
   "id": "aec65070",
   "metadata": {},
   "outputs": [
    {
     "data": {
      "text/html": [
       "<div>\n",
       "<style scoped>\n",
       "    .dataframe tbody tr th:only-of-type {\n",
       "        vertical-align: middle;\n",
       "    }\n",
       "\n",
       "    .dataframe tbody tr th {\n",
       "        vertical-align: top;\n",
       "    }\n",
       "\n",
       "    .dataframe thead th {\n",
       "        text-align: right;\n",
       "    }\n",
       "</style>\n",
       "<table border=\"1\" class=\"dataframe\">\n",
       "  <thead>\n",
       "    <tr style=\"text-align: right;\">\n",
       "      <th></th>\n",
       "      <th>Wikipedia movie ID</th>\n",
       "      <th>Freebase movie ID</th>\n",
       "      <th>Movie release date</th>\n",
       "      <th>character name</th>\n",
       "      <th>Actor date of birth</th>\n",
       "      <th>Actor gender</th>\n",
       "      <th>Actor height (in meters)</th>\n",
       "      <th>Actor ethnicity (Freebase ID)</th>\n",
       "      <th>Actor name</th>\n",
       "      <th>Actor age at movie release</th>\n",
       "      <th>Freebase character/actor map ID</th>\n",
       "      <th>Freebase character ID</th>\n",
       "      <th>Freebase actor ID</th>\n",
       "    </tr>\n",
       "  </thead>\n",
       "  <tbody>\n",
       "    <tr>\n",
       "      <th>368077</th>\n",
       "      <td>7972076</td>\n",
       "      <td>/m/026lz_k</td>\n",
       "      <td>2006-03-10</td>\n",
       "      <td>Christy</td>\n",
       "      <td>1985-08-27</td>\n",
       "      <td>M</td>\n",
       "      <td>NaN</td>\n",
       "      <td>NaN</td>\n",
       "      <td>Augustin Kennady</td>\n",
       "      <td>20.0</td>\n",
       "      <td>/m/02vcbqj</td>\n",
       "      <td>/m/0l68mkk</td>\n",
       "      <td>/m/0h1p4b</td>\n",
       "    </tr>\n",
       "    <tr>\n",
       "      <th>272275</th>\n",
       "      <td>33012483</td>\n",
       "      <td>/m/0b06ny</td>\n",
       "      <td>1940</td>\n",
       "      <td>NaN</td>\n",
       "      <td>1911-08-12</td>\n",
       "      <td>M</td>\n",
       "      <td>NaN</td>\n",
       "      <td>NaN</td>\n",
       "      <td>Cantinflas</td>\n",
       "      <td>28.0</td>\n",
       "      <td>/m/0jt36w</td>\n",
       "      <td>NaN</td>\n",
       "      <td>/m/013q78</td>\n",
       "    </tr>\n",
       "    <tr>\n",
       "      <th>367681</th>\n",
       "      <td>19868507</td>\n",
       "      <td>/m/04q9l98</td>\n",
       "      <td>2008</td>\n",
       "      <td>NaN</td>\n",
       "      <td>1941-10-10</td>\n",
       "      <td>M</td>\n",
       "      <td>1.905</td>\n",
       "      <td>/m/013b7g</td>\n",
       "      <td>Peter Coyote</td>\n",
       "      <td>66.0</td>\n",
       "      <td>/m/0n662rf</td>\n",
       "      <td>NaN</td>\n",
       "      <td>/m/02r34n</td>\n",
       "    </tr>\n",
       "    <tr>\n",
       "      <th>246681</th>\n",
       "      <td>11449217</td>\n",
       "      <td>/m/02rd16v</td>\n",
       "      <td>1914-03-02</td>\n",
       "      <td>NaN</td>\n",
       "      <td>1887-03-24</td>\n",
       "      <td>M</td>\n",
       "      <td>1.780</td>\n",
       "      <td>/m/07bch9</td>\n",
       "      <td>Roscoe Arbuckle</td>\n",
       "      <td>NaN</td>\n",
       "      <td>/m/03kzg9t</td>\n",
       "      <td>NaN</td>\n",
       "      <td>/m/0k57l</td>\n",
       "    </tr>\n",
       "    <tr>\n",
       "      <th>12808</th>\n",
       "      <td>28354779</td>\n",
       "      <td>/m/0cg316q</td>\n",
       "      <td>2009</td>\n",
       "      <td>Victor</td>\n",
       "      <td>1991-03-08</td>\n",
       "      <td>M</td>\n",
       "      <td>1.750</td>\n",
       "      <td>NaN</td>\n",
       "      <td>Devon Werkheiser</td>\n",
       "      <td>17.0</td>\n",
       "      <td>/m/0cgnlrv</td>\n",
       "      <td>/m/0h2_4_l</td>\n",
       "      <td>/m/04xbtl</td>\n",
       "    </tr>\n",
       "  </tbody>\n",
       "</table>\n",
       "</div>"
      ],
      "text/plain": [
       "        Wikipedia movie ID Freebase movie ID Movie release date  \\\n",
       "368077             7972076        /m/026lz_k         2006-03-10   \n",
       "272275            33012483         /m/0b06ny               1940   \n",
       "367681            19868507        /m/04q9l98               2008   \n",
       "246681            11449217        /m/02rd16v         1914-03-02   \n",
       "12808             28354779        /m/0cg316q               2009   \n",
       "\n",
       "       character name Actor date of birth Actor gender  \\\n",
       "368077        Christy          1985-08-27            M   \n",
       "272275            NaN          1911-08-12            M   \n",
       "367681            NaN          1941-10-10            M   \n",
       "246681            NaN          1887-03-24            M   \n",
       "12808          Victor          1991-03-08            M   \n",
       "\n",
       "        Actor height (in meters) Actor ethnicity (Freebase ID)  \\\n",
       "368077                       NaN                           NaN   \n",
       "272275                       NaN                           NaN   \n",
       "367681                     1.905                     /m/013b7g   \n",
       "246681                     1.780                     /m/07bch9   \n",
       "12808                      1.750                           NaN   \n",
       "\n",
       "              Actor name  Actor age at movie release  \\\n",
       "368077  Augustin Kennady                        20.0   \n",
       "272275        Cantinflas                        28.0   \n",
       "367681      Peter Coyote                        66.0   \n",
       "246681   Roscoe Arbuckle                         NaN   \n",
       "12808   Devon Werkheiser                        17.0   \n",
       "\n",
       "       Freebase character/actor map ID Freebase character ID Freebase actor ID  \n",
       "368077                      /m/02vcbqj            /m/0l68mkk         /m/0h1p4b  \n",
       "272275                       /m/0jt36w                   NaN         /m/013q78  \n",
       "367681                      /m/0n662rf                   NaN         /m/02r34n  \n",
       "246681                      /m/03kzg9t                   NaN          /m/0k57l  \n",
       "12808                       /m/0cgnlrv            /m/0h2_4_l         /m/04xbtl  "
      ]
     },
     "execution_count": 3,
     "metadata": {},
     "output_type": "execute_result"
    }
   ],
   "source": [
    "df_char_meta.sample(5)"
   ]
  },
  {
   "cell_type": "code",
   "execution_count": 4,
   "id": "f6f12a08",
   "metadata": {},
   "outputs": [
    {
     "name": "stdout",
     "output_type": "stream",
     "text": [
      "Total size of the dataset: 450669\n"
     ]
    }
   ],
   "source": [
    "print(\"Total size of the dataset: \" + str(df_char_meta.shape[0]))"
   ]
  },
  {
   "cell_type": "code",
   "execution_count": 5,
   "id": "22f5368b",
   "metadata": {},
   "outputs": [
    {
     "name": "stdout",
     "output_type": "stream",
     "text": [
      "Number of entries for which we don't have the gender: 45609\n"
     ]
    }
   ],
   "source": [
    "print(\"Number of entries for which we don't have the gender: \" + str(df_char_meta[\"Actor gender\"].isnull().values.sum()))\n"
   ]
  },
  {
   "cell_type": "code",
   "execution_count": 6,
   "id": "f16ee67a",
   "metadata": {},
   "outputs": [
    {
     "name": "stdout",
     "output_type": "stream",
     "text": [
      "Number of entries for which we don't have the age at the movie release date: 158113\n"
     ]
    }
   ],
   "source": [
    "print(\"Number of entries for which we don't have the age at the movie release date: \" + \n",
    "      str(df_char_meta[\"Actor age at movie release\"].isnull().values.sum()))"
   ]
  },
  {
   "cell_type": "code",
   "execution_count": 7,
   "id": "7980cb4f",
   "metadata": {},
   "outputs": [
    {
     "data": {
      "image/png": "[encoded data removed]",
      "text/plain": [
       "<Figure size 300x300 with 1 Axes>"
      ]
     },
     "metadata": {},
     "output_type": "display_data"
    }
   ],
   "source": [
    "mylabels = [\"women\", \"men\"]\n",
    "plt.figure(figsize=(3,3)) \n",
    "plt.pie(np.array([df_char_meta[df_char_meta['Actor gender'] == 'F']['Actor name'].nunique(),df_char_meta[df_char_meta['Actor gender'] == 'M']['Actor name'].nunique()]), labels = mylabels, autopct='%1.2f%%')\n",
    "plt.title(\"Percentage of men and women actors in the dataset\")\n",
    "plt.show()"
   ]
  },
  {
   "cell_type": "markdown",
   "id": "e9dbf4ff",
   "metadata": {},
   "source": [
    "### 1.2 Movie metadata <a class=\"anchor\" id=\"section_1_2\"></a>"
   ]
  },
  {
   "cell_type": "code",
   "execution_count": 9,
   "id": "10834567",
   "metadata": {},
   "outputs": [],
   "source": [
    "#Importing the data\n",
    "df_movie_meta = pd.read_table(\"./data/MovieSummaries/movie.metadata.tsv\", header=None)\n",
    "df_movie_meta.columns=[\"Wikipedia movie ID\", \"Freebase movie ID\", \"Movie name\", \"Movie release date\", \n",
    "                     \"Movie box office revenue\", \"Movie runtime\", \"Movie languages\", \"Movie countries\", \"Movie genres\"]\n"
   ]
  },
  {
   "cell_type": "code",
   "execution_count": 9,
   "id": "90d975c3",
   "metadata": {},
   "outputs": [],
   "source": [
    "#Creating lists in desired columns\n",
    "df_movie_meta['Movie countries'] = df_movie_meta['Movie countries'].apply(lambda x: json.loads(x)) # Converts to dictionnary\n",
    "df_movie_meta['Movie countries'] = df_movie_meta['Movie countries'].apply(lambda x: list(x.values()))\n",
    "df_movie_meta['Movie genres'] = df_movie_meta['Movie genres'].apply(lambda x: json.loads(x)) # Converts to dictionnary\n",
    "df_movie_meta['Movie genres'] = df_movie_meta['Movie genres'].apply(lambda x: list(x.values()))\n",
    "df_movie_meta['Movie languages'] = df_movie_meta['Movie languages'].apply(lambda x: json.loads(x)) # Converts to dictionnary\n",
    "df_movie_meta['Movie languages'] = df_movie_meta['Movie languages'].apply(lambda x: list(x.values()))"
   ]
  },
  {
   "cell_type": "code",
   "execution_count": 10,
   "id": "0e763af4",
   "metadata": {},
   "outputs": [],
   "source": [
    "#Keeping only the year of the movie\n",
    "df_movie_meta.query(\"`Movie release date` > '1915'\", inplace = True)\n",
    "df_movie_meta[\"Movie release date\"] = pd.to_datetime(df_movie_meta[\"Movie release date\"])\n",
    "df_movie_meta[\"Movie release date\"] = df_movie_meta[\"Movie release date\"].dt.year"
   ]
  },
  {
   "cell_type": "code",
   "execution_count": 11,
   "id": "09a2dbbe",
   "metadata": {},
   "outputs": [
    {
     "data": {
      "text/html": [
       "<div>\n",
       "<style scoped>\n",
       "    .dataframe tbody tr th:only-of-type {\n",
       "        vertical-align: middle;\n",
       "    }\n",
       "\n",
       "    .dataframe tbody tr th {\n",
       "        vertical-align: top;\n",
       "    }\n",
       "\n",
       "    .dataframe thead th {\n",
       "        text-align: right;\n",
       "    }\n",
       "</style>\n",
       "<table border=\"1\" class=\"dataframe\">\n",
       "  <thead>\n",
       "    <tr style=\"text-align: right;\">\n",
       "      <th></th>\n",
       "      <th>Wikipedia movie ID</th>\n",
       "      <th>Freebase movie ID</th>\n",
       "      <th>Movie name</th>\n",
       "      <th>Movie release date</th>\n",
       "      <th>Movie box office revenue</th>\n",
       "      <th>Movie runtime</th>\n",
       "      <th>Movie languages</th>\n",
       "      <th>Movie countries</th>\n",
       "      <th>Movie genres</th>\n",
       "    </tr>\n",
       "  </thead>\n",
       "  <tbody>\n",
       "    <tr>\n",
       "      <th>24281</th>\n",
       "      <td>31830066</td>\n",
       "      <td>/m/0gtwfdp</td>\n",
       "      <td>Shaheb Name Golam</td>\n",
       "      <td>2009</td>\n",
       "      <td>NaN</td>\n",
       "      <td>NaN</td>\n",
       "      <td>[Bengali Language]</td>\n",
       "      <td>[Bangladesh]</td>\n",
       "      <td>[Family Drama]</td>\n",
       "    </tr>\n",
       "    <tr>\n",
       "      <th>56781</th>\n",
       "      <td>26930909</td>\n",
       "      <td>/m/09n9rcv</td>\n",
       "      <td>Hell's Highway</td>\n",
       "      <td>1932</td>\n",
       "      <td>NaN</td>\n",
       "      <td>62.0</td>\n",
       "      <td>[English Language]</td>\n",
       "      <td>[United States of America]</td>\n",
       "      <td>[Drama]</td>\n",
       "    </tr>\n",
       "    <tr>\n",
       "      <th>2574</th>\n",
       "      <td>26293153</td>\n",
       "      <td>/m/0b745m7</td>\n",
       "      <td>The Big Operator</td>\n",
       "      <td>1959</td>\n",
       "      <td>NaN</td>\n",
       "      <td>91.0</td>\n",
       "      <td>[English Language]</td>\n",
       "      <td>[United States of America]</td>\n",
       "      <td>[Crime Fiction, Drama]</td>\n",
       "    </tr>\n",
       "    <tr>\n",
       "      <th>67192</th>\n",
       "      <td>3644025</td>\n",
       "      <td>/m/09rvwv</td>\n",
       "      <td>Flesh for Frankenstein</td>\n",
       "      <td>1974</td>\n",
       "      <td>NaN</td>\n",
       "      <td>95.0</td>\n",
       "      <td>[English Language]</td>\n",
       "      <td>[France, United States of America, Italy]</td>\n",
       "      <td>[Science Fiction, Horror, Indie, Creature Film...</td>\n",
       "    </tr>\n",
       "    <tr>\n",
       "      <th>11598</th>\n",
       "      <td>36183483</td>\n",
       "      <td>/m/0g519bh</td>\n",
       "      <td>The Lion Roars</td>\n",
       "      <td>2002</td>\n",
       "      <td>NaN</td>\n",
       "      <td>98.0</td>\n",
       "      <td>[Cantonese]</td>\n",
       "      <td>[Hong Kong]</td>\n",
       "      <td>[Comedy film, Chinese Movies]</td>\n",
       "    </tr>\n",
       "  </tbody>\n",
       "</table>\n",
       "</div>"
      ],
      "text/plain": [
       "       Wikipedia movie ID Freebase movie ID              Movie name  \\\n",
       "24281            31830066        /m/0gtwfdp       Shaheb Name Golam   \n",
       "56781            26930909        /m/09n9rcv          Hell's Highway   \n",
       "2574             26293153        /m/0b745m7        The Big Operator   \n",
       "67192             3644025         /m/09rvwv  Flesh for Frankenstein   \n",
       "11598            36183483        /m/0g519bh          The Lion Roars   \n",
       "\n",
       "       Movie release date  Movie box office revenue  Movie runtime  \\\n",
       "24281                2009                       NaN            NaN   \n",
       "56781                1932                       NaN           62.0   \n",
       "2574                 1959                       NaN           91.0   \n",
       "67192                1974                       NaN           95.0   \n",
       "11598                2002                       NaN           98.0   \n",
       "\n",
       "          Movie languages                            Movie countries  \\\n",
       "24281  [Bengali Language]                               [Bangladesh]   \n",
       "56781  [English Language]                 [United States of America]   \n",
       "2574   [English Language]                 [United States of America]   \n",
       "67192  [English Language]  [France, United States of America, Italy]   \n",
       "11598         [Cantonese]                                [Hong Kong]   \n",
       "\n",
       "                                            Movie genres  \n",
       "24281                                     [Family Drama]  \n",
       "56781                                            [Drama]  \n",
       "2574                              [Crime Fiction, Drama]  \n",
       "67192  [Science Fiction, Horror, Indie, Creature Film...  \n",
       "11598                      [Comedy film, Chinese Movies]  "
      ]
     },
     "execution_count": 11,
     "metadata": {},
     "output_type": "execute_result"
    }
   ],
   "source": [
    "df_movie_meta.sample(5)"
   ]
  },
  {
   "cell_type": "code",
   "execution_count": 12,
   "id": "16bf09f4",
   "metadata": {},
   "outputs": [
    {
     "data": {
      "text/plain": [
       "Text(0.5, 1.0, 'Number of movies released each year')"
      ]
     },
     "execution_count": 12,
     "metadata": {},
     "output_type": "execute_result"
    },
    {
     "data": {
      "image/png": "[encoded data removed]",
      "text/plain": [
       "<Figure size 640x480 with 1 Axes>"
      ]
     },
     "metadata": {},
     "output_type": "display_data"
    }
   ],
   "source": [
    "sns.histplot(df_movie_meta['Movie release date'], discrete = True)\n",
    "plt.title('Number of movies released each year')"
   ]
  },
  {
   "cell_type": "markdown",
   "id": "f4bcb994",
   "metadata": {},
   "source": [
    "We see that the number of movies available in the dataset increase slowly between the 1920s and then 1990s increases exponentially starting 1990."
   ]
  },
  {
   "cell_type": "code",
   "execution_count": 13,
   "id": "4502fc7f",
   "metadata": {},
   "outputs": [
    {
     "data": {
      "text/plain": [
       "Text(0.5, 1.0, 'Top movie coutries')"
      ]
     },
     "execution_count": 13,
     "metadata": {},
     "output_type": "execute_result"
    },
    {
     "data": {
      "image/png": "[encoded data removed]",
      "text/plain": [
       "<Figure size 1400x400 with 1 Axes>"
      ]
     },
     "metadata": {},
     "output_type": "display_data"
    }
   ],
   "source": [
    "def to_1D(series):\n",
    "    return pd.Series([x for _list in series for x in _list])\n",
    "a = to_1D(df_movie_meta['Movie countries']).value_counts().nlargest(10)\n",
    "\n",
    "fig, ax = plt.subplots(figsize = (14,4))\n",
    "ax.bar(a.index,\n",
    "        a.values)\n",
    "ax.set_ylabel(\"Frequency\", size = 12)\n",
    "ax.set_title(\"Top movie coutries\", size = 14)"
   ]
  },
  {
   "cell_type": "code",
   "execution_count": 14,
   "id": "1fb469e4",
   "metadata": {},
   "outputs": [
    {
     "data": {
      "text/plain": [
       "Text(0.5, 1.0, 'Top genres')"
      ]
     },
     "execution_count": 14,
     "metadata": {},
     "output_type": "execute_result"
    },
    {
     "data": {
      "image/png": "[encoded data removed]",
      "text/plain": [
       "<Figure size 1400x400 with 1 Axes>"
      ]
     },
     "metadata": {},
     "output_type": "display_data"
    }
   ],
   "source": [
    "def to_1D(series):\n",
    "    return pd.Series([x for _list in series for x in _list])\n",
    "\n",
    "a = to_1D(df_movie_meta['Movie genres']).value_counts().nlargest(20)\n",
    "\n",
    "fig, ax = plt.subplots(figsize = (14,4))\n",
    "ax.bar(a.index,\n",
    "        a.values)\n",
    "plt.xticks(rotation=90)\n",
    "ax.set_ylabel(\"Frequency\", size = 12)\n",
    "ax.set_title(\"Top genres\", size = 14)"
   ]
  },
  {
   "cell_type": "markdown",
   "id": "0bb6ffb5",
   "metadata": {},
   "source": [
    "#### Merging and cleaning the two datasets"
   ]
  },
  {
   "cell_type": "code",
   "execution_count": 15,
   "id": "2b9250ea",
   "metadata": {},
   "outputs": [],
   "source": [
    "df_merged_meta = pd.DataFrame(df_char_meta[[\"Freebase movie ID\", \"Actor gender\", \"Actor age at movie release\"]])\n",
    "df_merged_meta = pd.merge(df_merged_meta, df_movie_meta[[\"Freebase movie ID\", \"Movie release date\", \n",
    "                                                        \"Movie countries\", \"Movie genres\"]], on=\"Freebase movie ID\")"
   ]
  },
  {
   "cell_type": "code",
   "execution_count": 59,
   "id": "3e0b99f2",
   "metadata": {},
   "outputs": [
    {
     "data": {
      "text/html": [
       "<div>\n",
       "<style scoped>\n",
       "    .dataframe tbody tr th:only-of-type {\n",
       "        vertical-align: middle;\n",
       "    }\n",
       "\n",
       "    .dataframe tbody tr th {\n",
       "        vertical-align: top;\n",
       "    }\n",
       "\n",
       "    .dataframe thead th {\n",
       "        text-align: right;\n",
       "    }\n",
       "</style>\n",
       "<table border=\"1\" class=\"dataframe\">\n",
       "  <thead>\n",
       "    <tr style=\"text-align: right;\">\n",
       "      <th></th>\n",
       "      <th>Freebase movie ID</th>\n",
       "      <th>Actor gender</th>\n",
       "      <th>Actor age at movie release</th>\n",
       "      <th>Movie release date</th>\n",
       "      <th>Movie countries</th>\n",
       "      <th>Movie genres</th>\n",
       "    </tr>\n",
       "  </thead>\n",
       "  <tbody>\n",
       "    <tr>\n",
       "      <th>433981</th>\n",
       "      <td>/m/02q1jgf</td>\n",
       "      <td>M</td>\n",
       "      <td>73.0</td>\n",
       "      <td>1983</td>\n",
       "      <td>[India]</td>\n",
       "      <td>[Musical, Action, Drama]</td>\n",
       "    </tr>\n",
       "    <tr>\n",
       "      <th>173109</th>\n",
       "      <td>/m/06_wdx9</td>\n",
       "      <td>M</td>\n",
       "      <td>33.0</td>\n",
       "      <td>1965</td>\n",
       "      <td>[India]</td>\n",
       "      <td>[Drama, Tollywood]</td>\n",
       "    </tr>\n",
       "    <tr>\n",
       "      <th>365076</th>\n",
       "      <td>/m/0bbbmbf</td>\n",
       "      <td>M</td>\n",
       "      <td>45.0</td>\n",
       "      <td>1951</td>\n",
       "      <td>[France]</td>\n",
       "      <td>[Drama]</td>\n",
       "    </tr>\n",
       "    <tr>\n",
       "      <th>59551</th>\n",
       "      <td>/m/04gsth2</td>\n",
       "      <td>F</td>\n",
       "      <td>19.0</td>\n",
       "      <td>1962</td>\n",
       "      <td>[India]</td>\n",
       "      <td>[Musical, Drama]</td>\n",
       "    </tr>\n",
       "    <tr>\n",
       "      <th>327982</th>\n",
       "      <td>/m/0cjwkt</td>\n",
       "      <td>M</td>\n",
       "      <td>24.0</td>\n",
       "      <td>1935</td>\n",
       "      <td>[United States of America]</td>\n",
       "      <td>[Black-and-white]</td>\n",
       "    </tr>\n",
       "  </tbody>\n",
       "</table>\n",
       "</div>"
      ],
      "text/plain": [
       "       Freebase movie ID Actor gender  Actor age at movie release  \\\n",
       "433981        /m/02q1jgf            M                        73.0   \n",
       "173109        /m/06_wdx9            M                        33.0   \n",
       "365076        /m/0bbbmbf            M                        45.0   \n",
       "59551         /m/04gsth2            F                        19.0   \n",
       "327982         /m/0cjwkt            M                        24.0   \n",
       "\n",
       "        Movie release date             Movie countries  \\\n",
       "433981                1983                     [India]   \n",
       "173109                1965                     [India]   \n",
       "365076                1951                    [France]   \n",
       "59551                 1962                     [India]   \n",
       "327982                1935  [United States of America]   \n",
       "\n",
       "                    Movie genres  \n",
       "433981  [Musical, Action, Drama]  \n",
       "173109        [Drama, Tollywood]  \n",
       "365076                   [Drama]  \n",
       "59551           [Musical, Drama]  \n",
       "327982         [Black-and-white]  "
      ]
     },
     "execution_count": 59,
     "metadata": {},
     "output_type": "execute_result"
    }
   ],
   "source": [
    "df_merged_meta.sample(5)"
   ]
  },
  {
   "cell_type": "code",
   "execution_count": 17,
   "id": "10834872",
   "metadata": {},
   "outputs": [
    {
     "name": "stdout",
     "output_type": "stream",
     "text": [
      "Size of the gloabal dataset: 437830\n",
      "Size after removing entries with no gender: 392446\n",
      "Size after removing entries with no age at movie release: 290726\n"
     ]
    }
   ],
   "source": [
    "print(\"Size of the gloabal dataset: \" + str(df_merged_meta.shape[0]))\n",
    "df_merged_meta.dropna(subset=['Actor gender'], inplace = True)\n",
    "print(\"Size after removing entries with no gender: \" + str(df_merged_meta.shape[0]))\n",
    "df_merged_meta.dropna(subset=['Actor age at movie release'], inplace = True)\n",
    "print(\"Size after removing entries with no age at movie release: \" + str(df_merged_meta.shape[0]))"
   ]
  },
  {
   "cell_type": "markdown",
   "id": "91819a66",
   "metadata": {},
   "source": [
    "### 1.3 Plot summaries <a class=\"anchor\" id=\"section_1_3\"></a>\n",
    "A dataframe that with 60000 summaries from movies."
   ]
  },
  {
   "cell_type": "code",
   "execution_count": 7,
   "id": "f5e8e256",
   "metadata": {},
   "outputs": [],
   "source": [
    "PLOT_SUMMARIES = './data/MovieSummaries/plot_summaries.txt'\n",
    "plot_summaries = pd.read_csv(PLOT_SUMMARIES, sep=\"\\t\", header=None, names = ['Wikipedia movie ID','summary'])"
   ]
  },
  {
   "cell_type": "code",
   "execution_count": 17,
   "id": "d7c34727",
   "metadata": {},
   "outputs": [
    {
     "data": {
      "text/html": [
       "<div>\n",
       "<style scoped>\n",
       "    .dataframe tbody tr th:only-of-type {\n",
       "        vertical-align: middle;\n",
       "    }\n",
       "\n",
       "    .dataframe tbody tr th {\n",
       "        vertical-align: top;\n",
       "    }\n",
       "\n",
       "    .dataframe thead th {\n",
       "        text-align: right;\n",
       "    }\n",
       "</style>\n",
       "<table border=\"1\" class=\"dataframe\">\n",
       "  <thead>\n",
       "    <tr style=\"text-align: right;\">\n",
       "      <th></th>\n",
       "      <th>Wikipedia movie ID</th>\n",
       "      <th>summary</th>\n",
       "    </tr>\n",
       "  </thead>\n",
       "  <tbody>\n",
       "    <tr>\n",
       "      <th>23103</th>\n",
       "      <td>23666645</td>\n",
       "      <td>The young Michèle Isola, who is about to inher...</td>\n",
       "    </tr>\n",
       "    <tr>\n",
       "      <th>17850</th>\n",
       "      <td>13822832</td>\n",
       "      <td>The title character is Victor Church, a World ...</td>\n",
       "    </tr>\n",
       "    <tr>\n",
       "      <th>29078</th>\n",
       "      <td>27869241</td>\n",
       "      <td>Daffy scoffs at a flock of ducks flying south ...</td>\n",
       "    </tr>\n",
       "    <tr>\n",
       "      <th>29360</th>\n",
       "      <td>24480416</td>\n",
       "      <td>The documentary follows the life of 11 male pr...</td>\n",
       "    </tr>\n",
       "    <tr>\n",
       "      <th>21029</th>\n",
       "      <td>20435857</td>\n",
       "      <td>Nitin Bankar  and Ram Mishra  are lucky in lov...</td>\n",
       "    </tr>\n",
       "  </tbody>\n",
       "</table>\n",
       "</div>"
      ],
      "text/plain": [
       "       Wikipedia movie ID                                            summary\n",
       "23103            23666645  The young Michèle Isola, who is about to inher...\n",
       "17850            13822832  The title character is Victor Church, a World ...\n",
       "29078            27869241  Daffy scoffs at a flock of ducks flying south ...\n",
       "29360            24480416  The documentary follows the life of 11 male pr...\n",
       "21029            20435857  Nitin Bankar  and Ram Mishra  are lucky in lov..."
      ]
     },
     "execution_count": 17,
     "metadata": {},
     "output_type": "execute_result"
    }
   ],
   "source": [
    "plot_summaries.sample(5)"
   ]
  },
  {
   "cell_type": "markdown",
   "id": "7d0be83b",
   "metadata": {},
   "source": [
    "### 1.4 Core NLP plot summaries <a class=\"anchor\" id=\"section_1_4\"></a>"
   ]
  },
  {
   "cell_type": "markdown",
   "id": "607fe85c",
   "metadata": {},
   "source": [
    "The code below show how, from the file \"corenlp_plot_summaries\", we get all dependencies associated with all characters in every movie. We then put them in a dataframe. Since the loops are very long to run, we store it into a csv file called 'characters_descriptions.csv'."
   ]
  },
  {
   "cell_type": "code",
   "execution_count": null,
   "id": "854feb6e",
   "metadata": {},
   "outputs": [],
   "source": [
    "## we will build the dataframe that will store all the words, actions \n",
    "## associated with each character from each movie\n",
    "\n",
    "## we get all the movie ids\n",
    "movie_ids = character_md.drop_duplicates('Wikipedia movie ID')['Wikipedia movie ID']\n",
    "\n",
    "## we pre-allocate the list so loops goes faster, \n",
    "## because append function is slower\n",
    "SIZE = 5000000\n",
    "dependency = [None] * SIZE\n",
    "governor = [None] * SIZE\n",
    "dependent = [None] * SIZE\n",
    "actor_name = [None] * SIZE\n",
    "actor_id = [None] * SIZE\n",
    "actor_gender = [None] * SIZE\n",
    "char_name = [None] * SIZE\n",
    "action = [None] * SIZE\n",
    "movie_Id = [None] * SIZE\n",
    "\n",
    "## start loop over each movie\n",
    "## i index for each movie\n",
    "## j index for the number of actions registered, we use it to store data in lists\n",
    "i = 0\n",
    "j = 0\n",
    "for movie_id in movie_ids:\n",
    "    \n",
    "    ## to have an idea of the advancement of the process\n",
    "    '''\n",
    "    if (i%1000 == 0) & (i>1000):\n",
    "        print(round(i*100/len(movie_ids), 2))\n",
    "    i +=1\n",
    "    '''\n",
    "    \n",
    "    ## we open the file in relation to this movie_id\n",
    "    \n",
    "    PATH = './data/MovieSummaries/corenlp_plot_summaries/' + str(movie_id) + '.xml.gz'\n",
    "    \n",
    "    try: \n",
    "        UNZIP_PATH = gzip.open(PATH, 'r')\n",
    "        tree = ET.parse(UNZIP_PATH)\n",
    "        root = tree.getroot()\n",
    "    except:\n",
    "        ## Some movies in the data base don't have a resume that have \n",
    "        ## been processed by the stanford coreNLP program.\n",
    "        ## We just skip loop for these movies\n",
    "        continue\n",
    "        \n",
    "    ## we get all the characters in the corresponding movie\n",
    "    characters = character_md[character_md['Wikipedia movie ID'] == movie_id].dropna(subset=['Character name'])\n",
    "    \n",
    "    ## start loop over all dependencies (i.e. links between words in the resume)\n",
    "    for child in root.iter('dep'):\n",
    "        \n",
    "        typ = child.attrib['type']\n",
    "        gov = child[0].text\n",
    "        dep = child[1].text\n",
    "        \n",
    "        ## start loop over all characters in the movie\n",
    "        for idx, prsn in characters.iterrows():\n",
    "    \n",
    "            chn = prsn['Character name']\n",
    "            actorname = prsn['Actor name']\n",
    "            actorid = prsn['Freebase actor ID']\n",
    "            actorgender = prsn['Actor gender']\n",
    "            \n",
    "            ## often, a character is called by only a part of its name, \n",
    "            ## we have to take it into account.\n",
    "            for chn_ in chn.split():\n",
    "                ## if one of the words is related to the character,\n",
    "                ## we store the dependency in the lists\n",
    "                if (chn_ == gov) | (chn_ == dep):\n",
    "                    actor_name[j] = actorname\n",
    "                    actor_id[j] = actorid\n",
    "                    actor_gender[j] = actorgender\n",
    "                    char_name[j] = chn\n",
    "                    dependency[j] = typ\n",
    "                    governor[j] = gov\n",
    "                    dependent[j] = dep\n",
    "                    movie_Id[j] = movie_id\n",
    "                    if chn_ == gov:\n",
    "                        action[j] = dep\n",
    "                    else:\n",
    "                        action[j] = gov\n",
    "                    j+=1\n",
    "                    \n",
    "## We create the dataframe from those lists, and then store it into a csv file                  \n",
    "actor_words = pd.DataFrame.from_dict({'actor name' : actor_name[:j], 'actor id' : actor_id[:j], 'actor gender' : actor_gender[:j], 'character name' : char_name[:j], 'dependency':dependency[:j], 'governor':governor[:j], 'dependent':dependent[:j], 'action' : action[:j], 'movie id': movie_Id[:j]})\n",
    "actor_words.to_csv('characters_descriptions.csv', index=False)"
   ]
  },
  {
   "cell_type": "markdown",
   "id": "7c6ece03",
   "metadata": {},
   "source": [
    "let's look at the dataframe created"
   ]
  },
  {
   "cell_type": "code",
   "execution_count": 20,
   "id": "7e6515d9",
   "metadata": {},
   "outputs": [],
   "source": [
    "characters_descriptions = pd.read_csv('./data/MovieSummaries/characters_descriptions.csv')"
   ]
  },
  {
   "cell_type": "code",
   "execution_count": 23,
   "id": "42ce6133",
   "metadata": {},
   "outputs": [
    {
     "name": "stdout",
     "output_type": "stream",
     "text": [
      "This dataframe contains all the actions associated with every character in every movie resumes. \n",
      "Columns about ids will be usefull for merging action with other dataframes.\n",
      "number of rows : 2561042\n"
     ]
    },
    {
     "data": {
      "text/html": [
       "<div>\n",
       "<style scoped>\n",
       "    .dataframe tbody tr th:only-of-type {\n",
       "        vertical-align: middle;\n",
       "    }\n",
       "\n",
       "    .dataframe tbody tr th {\n",
       "        vertical-align: top;\n",
       "    }\n",
       "\n",
       "    .dataframe thead th {\n",
       "        text-align: right;\n",
       "    }\n",
       "</style>\n",
       "<table border=\"1\" class=\"dataframe\">\n",
       "  <thead>\n",
       "    <tr style=\"text-align: right;\">\n",
       "      <th></th>\n",
       "      <th>actor name</th>\n",
       "      <th>actor id</th>\n",
       "      <th>actor gender</th>\n",
       "      <th>character name</th>\n",
       "      <th>dependency</th>\n",
       "      <th>governor</th>\n",
       "      <th>dependent</th>\n",
       "      <th>action</th>\n",
       "      <th>movie id</th>\n",
       "    </tr>\n",
       "  </thead>\n",
       "  <tbody>\n",
       "    <tr>\n",
       "      <th>2167883</th>\n",
       "      <td>Michael McElroy</td>\n",
       "      <td>/m/02pkcmz</td>\n",
       "      <td>M</td>\n",
       "      <td>Ben Cappadora - Age 3</td>\n",
       "      <td>cc</td>\n",
       "      <td>Cappadora</td>\n",
       "      <td>and</td>\n",
       "      <td>and</td>\n",
       "      <td>12978934</td>\n",
       "    </tr>\n",
       "    <tr>\n",
       "      <th>2085644</th>\n",
       "      <td>Anupam Kher</td>\n",
       "      <td>/m/0292l3</td>\n",
       "      <td>M</td>\n",
       "      <td>Saxena</td>\n",
       "      <td>appos</td>\n",
       "      <td>Saxena</td>\n",
       "      <td>daughter</td>\n",
       "      <td>daughter</td>\n",
       "      <td>1413739</td>\n",
       "    </tr>\n",
       "    <tr>\n",
       "      <th>42276</th>\n",
       "      <td>Jacqueline Obradors</td>\n",
       "      <td>/m/04jlpk</td>\n",
       "      <td>F</td>\n",
       "      <td>Angelica</td>\n",
       "      <td>agent</td>\n",
       "      <td>accompanied</td>\n",
       "      <td>Angelica</td>\n",
       "      <td>accompanied</td>\n",
       "      <td>365039</td>\n",
       "    </tr>\n",
       "    <tr>\n",
       "      <th>2515959</th>\n",
       "      <td>Kurt Russell</td>\n",
       "      <td>/m/01g969</td>\n",
       "      <td>M</td>\n",
       "      <td>Dexter Riley</td>\n",
       "      <td>dobj</td>\n",
       "      <td>sees</td>\n",
       "      <td>Dexter</td>\n",
       "      <td>sees</td>\n",
       "      <td>9613521</td>\n",
       "    </tr>\n",
       "    <tr>\n",
       "      <th>1679667</th>\n",
       "      <td>Graham McTavish</td>\n",
       "      <td>/m/027nbx1</td>\n",
       "      <td>M</td>\n",
       "      <td>Loki</td>\n",
       "      <td>dobj</td>\n",
       "      <td>takes</td>\n",
       "      <td>Loki</td>\n",
       "      <td>takes</td>\n",
       "      <td>18373306</td>\n",
       "    </tr>\n",
       "  </tbody>\n",
       "</table>\n",
       "</div>"
      ],
      "text/plain": [
       "                  actor name    actor id actor gender         character name  \\\n",
       "2167883      Michael McElroy  /m/02pkcmz            M  Ben Cappadora - Age 3   \n",
       "2085644          Anupam Kher   /m/0292l3            M                 Saxena   \n",
       "42276    Jacqueline Obradors   /m/04jlpk            F               Angelica   \n",
       "2515959         Kurt Russell   /m/01g969            M           Dexter Riley   \n",
       "1679667      Graham McTavish  /m/027nbx1            M                   Loki   \n",
       "\n",
       "        dependency     governor dependent       action  movie id  \n",
       "2167883         cc    Cappadora       and          and  12978934  \n",
       "2085644      appos       Saxena  daughter     daughter   1413739  \n",
       "42276        agent  accompanied  Angelica  accompanied    365039  \n",
       "2515959       dobj         sees    Dexter         sees   9613521  \n",
       "1679667       dobj        takes      Loki        takes  18373306  "
      ]
     },
     "execution_count": 23,
     "metadata": {},
     "output_type": "execute_result"
    }
   ],
   "source": [
    "## a description of the data frame\n",
    "print('This dataframe contains all the actions associated with every character in every movie resumes. \\nColumns about ids will be usefull for merging action with other dataframes.')\n",
    "print('number of rows : ' + str(characters_descriptions.shape[0]))\n",
    "characters_descriptions.sample(5)"
   ]
  },
  {
   "cell_type": "markdown",
   "id": "3e32fbbf",
   "metadata": {},
   "source": [
    "As we can see, we've stored the most relevant information to us in order to later maybe merge this dataframe with other ones to mix data and make analysis. \n",
    "Each row correspond to an action or description of a character in a movie. In consequence, we have columns storing inforamtions about the character, the actor, and the movie. "
   ]
  },
  {
   "cell_type": "markdown",
   "id": "4c839d94",
   "metadata": {},
   "source": [
    "### 1.5 tvtropes_clusters <a class=\"anchor\" id=\"section_1_5\"></a>\n",
    "tvtropes_cluster is a dataframe that stores some character profiles that are redundant in movies. They associate these characters profiles with characters, actors and the movie"
   ]
  },
  {
   "cell_type": "code",
   "execution_count": 15,
   "id": "02a8b755",
   "metadata": {},
   "outputs": [
    {
     "data": {
      "text/html": [
       "<div>\n",
       "<style scoped>\n",
       "    .dataframe tbody tr th:only-of-type {\n",
       "        vertical-align: middle;\n",
       "    }\n",
       "\n",
       "    .dataframe tbody tr th {\n",
       "        vertical-align: top;\n",
       "    }\n",
       "\n",
       "    .dataframe thead th {\n",
       "        text-align: right;\n",
       "    }\n",
       "</style>\n",
       "<table border=\"1\" class=\"dataframe\">\n",
       "  <thead>\n",
       "    <tr style=\"text-align: right;\">\n",
       "      <th></th>\n",
       "      <th>char types</th>\n",
       "      <th>char</th>\n",
       "      <th>movie</th>\n",
       "      <th>ID</th>\n",
       "      <th>actor</th>\n",
       "    </tr>\n",
       "  </thead>\n",
       "  <tbody>\n",
       "    <tr>\n",
       "      <th>130</th>\n",
       "      <td>coward</td>\n",
       "      <td>Beni Gabor</td>\n",
       "      <td>The Mummy</td>\n",
       "      <td>/m/03jskk3</td>\n",
       "      <td>Kevin J. O'Connor</td>\n",
       "    </tr>\n",
       "    <tr>\n",
       "      <th>55</th>\n",
       "      <td>bromantic_foil</td>\n",
       "      <td>Banky Edwards</td>\n",
       "      <td>Chasing Amy</td>\n",
       "      <td>/m/05ckj7h</td>\n",
       "      <td>Jason Lee</td>\n",
       "    </tr>\n",
       "    <tr>\n",
       "      <th>442</th>\n",
       "      <td>stoner</td>\n",
       "      <td>Thadeous</td>\n",
       "      <td>Your Highness</td>\n",
       "      <td>/m/07zm_ym</td>\n",
       "      <td>Danny McBride</td>\n",
       "    </tr>\n",
       "    <tr>\n",
       "      <th>458</th>\n",
       "      <td>surfer_dude</td>\n",
       "      <td>Geek</td>\n",
       "      <td>Surf's Up</td>\n",
       "      <td>/m/02_wz9s</td>\n",
       "      <td>Jeff Bridges</td>\n",
       "    </tr>\n",
       "    <tr>\n",
       "      <th>340</th>\n",
       "      <td>loveable_rogue</td>\n",
       "      <td>Peter Blood</td>\n",
       "      <td>Captain Blood</td>\n",
       "      <td>/m/02vb_m3</td>\n",
       "      <td>Errol Flynn</td>\n",
       "    </tr>\n",
       "  </tbody>\n",
       "</table>\n",
       "</div>"
      ],
      "text/plain": [
       "         char types           char          movie          ID  \\\n",
       "130          coward     Beni Gabor      The Mummy  /m/03jskk3   \n",
       "55   bromantic_foil  Banky Edwards    Chasing Amy  /m/05ckj7h   \n",
       "442          stoner       Thadeous  Your Highness  /m/07zm_ym   \n",
       "458     surfer_dude           Geek      Surf's Up  /m/02_wz9s   \n",
       "340  loveable_rogue    Peter Blood  Captain Blood  /m/02vb_m3   \n",
       "\n",
       "                 actor  \n",
       "130  Kevin J. O'Connor  \n",
       "55           Jason Lee  \n",
       "442      Danny McBride  \n",
       "458       Jeff Bridges  \n",
       "340        Errol Flynn  "
      ]
     },
     "execution_count": 15,
     "metadata": {},
     "output_type": "execute_result"
    }
   ],
   "source": [
    "TVTROPES_CLUSTERS = \"./data/MovieSummaries/tvtropes.clusters.txt\"\n",
    "tvtropes_clusters = pd.read_csv(TVTROPES_CLUSTERS, sep=\"\\t\", header=None, names = ['char types', 'char', 'movie', 'ID', 'actor'])\n",
    "dic = tvtropes_clusters.to_dict()\n",
    "for idx in range(tvtropes_clusters.shape[0]):\n",
    "    serie = json.loads(dic['char'][idx])\n",
    "    tvtropes_clusters.at[idx, 'char'] = serie['char']\n",
    "    tvtropes_clusters.at[idx, 'movie'] = serie['movie']\n",
    "    tvtropes_clusters.at[idx, 'ID'] = serie['id']\n",
    "    tvtropes_clusters.at[idx, 'actor'] = serie['actor']\n",
    "tvtropes_clusters.sample(5)"
   ]
  },
  {
   "cell_type": "markdown",
   "id": "9f84a2b7",
   "metadata": {},
   "source": [
    "## 2. Familiarization with IMDb dataset and restructuration <a class=\"anchor\" id=\"section2\"></a>"
   ]
  },
  {
   "cell_type": "code",
   "execution_count": 4,
   "id": "2e484532",
   "metadata": {},
   "outputs": [],
   "source": [
    "data_folder_IMDB = './IMDb data/'"
   ]
  },
  {
   "cell_type": "markdown",
   "id": "78cfe26d",
   "metadata": {},
   "source": [
    "In this section, we familiarize ourselves with the IMDb dataset. We select the useful data for our future analysis."
   ]
  },
  {
   "cell_type": "markdown",
   "id": "d7f0bc76",
   "metadata": {},
   "source": [
    "### 2.1 Titles principals <a class=\"anchor\" id=\"section_2_1\"></a>"
   ]
  },
  {
   "cell_type": "code",
   "execution_count": 19,
   "id": "6d39496b",
   "metadata": {},
   "outputs": [
    {
     "data": {
      "text/html": [
       "<div>\n",
       "<style scoped>\n",
       "    .dataframe tbody tr th:only-of-type {\n",
       "        vertical-align: middle;\n",
       "    }\n",
       "\n",
       "    .dataframe tbody tr th {\n",
       "        vertical-align: top;\n",
       "    }\n",
       "\n",
       "    .dataframe thead th {\n",
       "        text-align: right;\n",
       "    }\n",
       "</style>\n",
       "<table border=\"1\" class=\"dataframe\">\n",
       "  <thead>\n",
       "    <tr style=\"text-align: right;\">\n",
       "      <th></th>\n",
       "      <th>tconst</th>\n",
       "      <th>ordering</th>\n",
       "      <th>nconst</th>\n",
       "      <th>category</th>\n",
       "      <th>job</th>\n",
       "      <th>characters</th>\n",
       "    </tr>\n",
       "  </thead>\n",
       "  <tbody>\n",
       "    <tr>\n",
       "      <th>0</th>\n",
       "      <td>tt0000001</td>\n",
       "      <td>1</td>\n",
       "      <td>nm1588970</td>\n",
       "      <td>self</td>\n",
       "      <td>\\N</td>\n",
       "      <td>[\"Self\"]</td>\n",
       "    </tr>\n",
       "    <tr>\n",
       "      <th>1</th>\n",
       "      <td>tt0000001</td>\n",
       "      <td>2</td>\n",
       "      <td>nm0005690</td>\n",
       "      <td>director</td>\n",
       "      <td>\\N</td>\n",
       "      <td>\\N</td>\n",
       "    </tr>\n",
       "    <tr>\n",
       "      <th>2</th>\n",
       "      <td>tt0000001</td>\n",
       "      <td>3</td>\n",
       "      <td>nm0374658</td>\n",
       "      <td>cinematographer</td>\n",
       "      <td>director of photography</td>\n",
       "      <td>\\N</td>\n",
       "    </tr>\n",
       "    <tr>\n",
       "      <th>3</th>\n",
       "      <td>tt0000002</td>\n",
       "      <td>1</td>\n",
       "      <td>nm0721526</td>\n",
       "      <td>director</td>\n",
       "      <td>\\N</td>\n",
       "      <td>\\N</td>\n",
       "    </tr>\n",
       "    <tr>\n",
       "      <th>4</th>\n",
       "      <td>tt0000002</td>\n",
       "      <td>2</td>\n",
       "      <td>nm1335271</td>\n",
       "      <td>composer</td>\n",
       "      <td>\\N</td>\n",
       "      <td>\\N</td>\n",
       "    </tr>\n",
       "  </tbody>\n",
       "</table>\n",
       "</div>"
      ],
      "text/plain": [
       "      tconst  ordering     nconst         category                      job  \\\n",
       "0  tt0000001         1  nm1588970             self                       \\N   \n",
       "1  tt0000001         2  nm0005690         director                       \\N   \n",
       "2  tt0000001         3  nm0374658  cinematographer  director of photography   \n",
       "3  tt0000002         1  nm0721526         director                       \\N   \n",
       "4  tt0000002         2  nm1335271         composer                       \\N   \n",
       "\n",
       "  characters  \n",
       "0   [\"Self\"]  \n",
       "1         \\N  \n",
       "2         \\N  \n",
       "3         \\N  \n",
       "4         \\N  "
      ]
     },
     "execution_count": 19,
     "metadata": {},
     "output_type": "execute_result"
    }
   ],
   "source": [
    "f = gzip.open(data_folder_IMDB + './title.principals.tsv.gz','rb')\n",
    "df_titles_principal = pd.read_csv(f, sep='\\t')\n",
    "df_titles_principal.head(5)"
   ]
  },
  {
   "cell_type": "code",
   "execution_count": 20,
   "id": "d81296d7",
   "metadata": {},
   "outputs": [
    {
     "data": {
      "text/plain": [
       "array(['self', 'director', 'cinematographer', 'composer', 'producer',\n",
       "       'editor', 'actor', 'actress', 'writer', 'production_designer',\n",
       "       'archive_footage', 'archive_sound'], dtype=object)"
      ]
     },
     "execution_count": 20,
     "metadata": {},
     "output_type": "execute_result"
    }
   ],
   "source": [
    "df_titles_principal['category'].unique()"
   ]
  },
  {
   "cell_type": "markdown",
   "id": "83d25274",
   "metadata": {},
   "source": [
    "We see that IMDb dataset differentiates actresses from actors, but does not for the other jobs. We are interested genders of actors, writers, producers, directors, so we query them using SQL."
   ]
  },
  {
   "cell_type": "markdown",
   "id": "14f9ef45",
   "metadata": {},
   "source": [
    "SELECT \n",
    "  ?id\n",
    "  ?gender\n",
    "  ?IMDb_ID \n",
    "\n",
    "WHERE \n",
    "{\n",
    "  ?id p:P345 ?id2.\n",
    "  ?id wdt:P21 ?gender. \n",
    "  ?id wdt:P345 ?IMDb_ID.\n",
    "}"
   ]
  },
  {
   "cell_type": "code",
   "execution_count": 21,
   "id": "e2eb967b",
   "metadata": {},
   "outputs": [
    {
     "data": {
      "text/html": [
       "<div>\n",
       "<style scoped>\n",
       "    .dataframe tbody tr th:only-of-type {\n",
       "        vertical-align: middle;\n",
       "    }\n",
       "\n",
       "    .dataframe tbody tr th {\n",
       "        vertical-align: top;\n",
       "    }\n",
       "\n",
       "    .dataframe thead th {\n",
       "        text-align: right;\n",
       "    }\n",
       "</style>\n",
       "<table border=\"1\" class=\"dataframe\">\n",
       "  <thead>\n",
       "    <tr style=\"text-align: right;\">\n",
       "      <th></th>\n",
       "      <th>gender</th>\n",
       "      <th>IMDb_ID</th>\n",
       "    </tr>\n",
       "  </thead>\n",
       "  <tbody>\n",
       "    <tr>\n",
       "      <th>0</th>\n",
       "      <td>Q6581097</td>\n",
       "      <td>nm0899581</td>\n",
       "    </tr>\n",
       "    <tr>\n",
       "      <th>1</th>\n",
       "      <td>Q6581097</td>\n",
       "      <td>nm2561320</td>\n",
       "    </tr>\n",
       "    <tr>\n",
       "      <th>2</th>\n",
       "      <td>Q6581097</td>\n",
       "      <td>nm0005240</td>\n",
       "    </tr>\n",
       "    <tr>\n",
       "      <th>3</th>\n",
       "      <td>Q6581097</td>\n",
       "      <td>nm0707199</td>\n",
       "    </tr>\n",
       "    <tr>\n",
       "      <th>4</th>\n",
       "      <td>Q6581097</td>\n",
       "      <td>nm1211443</td>\n",
       "    </tr>\n",
       "  </tbody>\n",
       "</table>\n",
       "</div>"
      ],
      "text/plain": [
       "     gender    IMDb_ID\n",
       "0  Q6581097  nm0899581\n",
       "1  Q6581097  nm2561320\n",
       "2  Q6581097  nm0005240\n",
       "3  Q6581097  nm0707199\n",
       "4  Q6581097  nm1211443"
      ]
     },
     "execution_count": 21,
     "metadata": {},
     "output_type": "execute_result"
    }
   ],
   "source": [
    "gender_imdb = pd.read_csv('imdb_genders.csv')\n",
    "gender_imdb['gender'] = gender_imdb['gender'].apply(lambda x : str(x).rsplit('/', 1)[-1])\n",
    "gender_imdb = gender_imdb.drop(columns = ['id'])\n",
    "gender_imdb.head(5)"
   ]
  },
  {
   "cell_type": "markdown",
   "id": "161b1c69",
   "metadata": {},
   "source": [
    "Now we replace wikidata ids by the gender (male = Q6581097 and female = Q6581072). Category \"actress\" gets gender female and category \"actor\" gets gender male. We discard trangender people, two-spirit, genderqueer, bigender people and all very singular genre attributes because of their rarity."
   ]
  },
  {
   "cell_type": "code",
   "execution_count": 22,
   "id": "f18d7652",
   "metadata": {},
   "outputs": [],
   "source": [
    "gender_imdb['gender'] = gender_imdb['gender'].str.replace('Q6581097', 'male')\n",
    "gender_imdb['gender'] = gender_imdb['gender'].str.replace('Q6581072', 'female')\n",
    "gender_imdb = gender_imdb[gender_imdb['gender'].str.contains('male|female')]"
   ]
  },
  {
   "cell_type": "code",
   "execution_count": 23,
   "id": "66d3a5c5",
   "metadata": {},
   "outputs": [
    {
     "data": {
      "text/html": [
       "<div>\n",
       "<style scoped>\n",
       "    .dataframe tbody tr th:only-of-type {\n",
       "        vertical-align: middle;\n",
       "    }\n",
       "\n",
       "    .dataframe tbody tr th {\n",
       "        vertical-align: top;\n",
       "    }\n",
       "\n",
       "    .dataframe thead th {\n",
       "        text-align: right;\n",
       "    }\n",
       "</style>\n",
       "<table border=\"1\" class=\"dataframe\">\n",
       "  <thead>\n",
       "    <tr style=\"text-align: right;\">\n",
       "      <th></th>\n",
       "      <th>gender</th>\n",
       "      <th>IMDb_ID</th>\n",
       "    </tr>\n",
       "  </thead>\n",
       "  <tbody>\n",
       "    <tr>\n",
       "      <th>0</th>\n",
       "      <td>male</td>\n",
       "      <td>nm0899581</td>\n",
       "    </tr>\n",
       "    <tr>\n",
       "      <th>1</th>\n",
       "      <td>male</td>\n",
       "      <td>nm2561320</td>\n",
       "    </tr>\n",
       "    <tr>\n",
       "      <th>2</th>\n",
       "      <td>male</td>\n",
       "      <td>nm0005240</td>\n",
       "    </tr>\n",
       "    <tr>\n",
       "      <th>3</th>\n",
       "      <td>male</td>\n",
       "      <td>nm0707199</td>\n",
       "    </tr>\n",
       "    <tr>\n",
       "      <th>4</th>\n",
       "      <td>male</td>\n",
       "      <td>nm1211443</td>\n",
       "    </tr>\n",
       "  </tbody>\n",
       "</table>\n",
       "</div>"
      ],
      "text/plain": [
       "  gender    IMDb_ID\n",
       "0   male  nm0899581\n",
       "1   male  nm2561320\n",
       "2   male  nm0005240\n",
       "3   male  nm0707199\n",
       "4   male  nm1211443"
      ]
     },
     "execution_count": 23,
     "metadata": {},
     "output_type": "execute_result"
    }
   ],
   "source": [
    "gender_imdb.head(5)"
   ]
  },
  {
   "cell_type": "code",
   "execution_count": 24,
   "id": "6ca74d3b",
   "metadata": {},
   "outputs": [
    {
     "data": {
      "text/plain": [
       "male      280097\n",
       "female    146461\n",
       "Name: gender, dtype: int64"
      ]
     },
     "execution_count": 24,
     "metadata": {},
     "output_type": "execute_result"
    }
   ],
   "source": [
    "gender_imdb['gender'].value_counts()"
   ]
  },
  {
   "cell_type": "markdown",
   "id": "f865c8a4",
   "metadata": {},
   "source": [
    "Now let's merge the two dataframes based on the IMDb id."
   ]
  },
  {
   "cell_type": "code",
   "execution_count": 25,
   "id": "485bf31b",
   "metadata": {},
   "outputs": [],
   "source": [
    "df_titles_principal = df_titles_principal.merge(gender_imdb, how= 'left', left_on = 'nconst', right_on = 'IMDb_ID')"
   ]
  },
  {
   "cell_type": "code",
   "execution_count": 26,
   "id": "a103fade",
   "metadata": {},
   "outputs": [
    {
     "data": {
      "text/html": [
       "<div>\n",
       "<style scoped>\n",
       "    .dataframe tbody tr th:only-of-type {\n",
       "        vertical-align: middle;\n",
       "    }\n",
       "\n",
       "    .dataframe tbody tr th {\n",
       "        vertical-align: top;\n",
       "    }\n",
       "\n",
       "    .dataframe thead th {\n",
       "        text-align: right;\n",
       "    }\n",
       "</style>\n",
       "<table border=\"1\" class=\"dataframe\">\n",
       "  <thead>\n",
       "    <tr style=\"text-align: right;\">\n",
       "      <th></th>\n",
       "      <th>tconst</th>\n",
       "      <th>ordering</th>\n",
       "      <th>nconst</th>\n",
       "      <th>category</th>\n",
       "      <th>job</th>\n",
       "      <th>characters</th>\n",
       "      <th>gender</th>\n",
       "      <th>IMDb_ID</th>\n",
       "    </tr>\n",
       "  </thead>\n",
       "  <tbody>\n",
       "    <tr>\n",
       "      <th>0</th>\n",
       "      <td>tt0000001</td>\n",
       "      <td>1</td>\n",
       "      <td>nm1588970</td>\n",
       "      <td>self</td>\n",
       "      <td>\\N</td>\n",
       "      <td>[\"Self\"]</td>\n",
       "      <td>female</td>\n",
       "      <td>nm1588970</td>\n",
       "    </tr>\n",
       "    <tr>\n",
       "      <th>1</th>\n",
       "      <td>tt0000001</td>\n",
       "      <td>2</td>\n",
       "      <td>nm0005690</td>\n",
       "      <td>director</td>\n",
       "      <td>\\N</td>\n",
       "      <td>\\N</td>\n",
       "      <td>male</td>\n",
       "      <td>nm0005690</td>\n",
       "    </tr>\n",
       "    <tr>\n",
       "      <th>2</th>\n",
       "      <td>tt0000001</td>\n",
       "      <td>3</td>\n",
       "      <td>nm0374658</td>\n",
       "      <td>cinematographer</td>\n",
       "      <td>director of photography</td>\n",
       "      <td>\\N</td>\n",
       "      <td>male</td>\n",
       "      <td>nm0374658</td>\n",
       "    </tr>\n",
       "    <tr>\n",
       "      <th>3</th>\n",
       "      <td>tt0000002</td>\n",
       "      <td>1</td>\n",
       "      <td>nm0721526</td>\n",
       "      <td>director</td>\n",
       "      <td>\\N</td>\n",
       "      <td>\\N</td>\n",
       "      <td>male</td>\n",
       "      <td>nm0721526</td>\n",
       "    </tr>\n",
       "    <tr>\n",
       "      <th>4</th>\n",
       "      <td>tt0000002</td>\n",
       "      <td>2</td>\n",
       "      <td>nm1335271</td>\n",
       "      <td>composer</td>\n",
       "      <td>\\N</td>\n",
       "      <td>\\N</td>\n",
       "      <td>NaN</td>\n",
       "      <td>NaN</td>\n",
       "    </tr>\n",
       "  </tbody>\n",
       "</table>\n",
       "</div>"
      ],
      "text/plain": [
       "      tconst  ordering     nconst         category                      job  \\\n",
       "0  tt0000001         1  nm1588970             self                       \\N   \n",
       "1  tt0000001         2  nm0005690         director                       \\N   \n",
       "2  tt0000001         3  nm0374658  cinematographer  director of photography   \n",
       "3  tt0000002         1  nm0721526         director                       \\N   \n",
       "4  tt0000002         2  nm1335271         composer                       \\N   \n",
       "\n",
       "  characters  gender    IMDb_ID  \n",
       "0   [\"Self\"]  female  nm1588970  \n",
       "1         \\N    male  nm0005690  \n",
       "2         \\N    male  nm0374658  \n",
       "3         \\N    male  nm0721526  \n",
       "4         \\N     NaN        NaN  "
      ]
     },
     "execution_count": 26,
     "metadata": {},
     "output_type": "execute_result"
    }
   ],
   "source": [
    "df_titles_principal.head(5)"
   ]
  },
  {
   "cell_type": "markdown",
   "id": "c93648d8",
   "metadata": {},
   "source": [
    "We add the information coming from actress/actor to the gender column :"
   ]
  },
  {
   "cell_type": "code",
   "execution_count": 27,
   "id": "91b86530",
   "metadata": {},
   "outputs": [],
   "source": [
    "df_titles_principal.gender.fillna(df_titles_principal.category, inplace=True)\n",
    "df_titles_principal['gender'] = df_titles_principal['gender'].str.replace('actress', 'female')\n",
    "df_titles_principal['gender'] = df_titles_principal['gender'].str.replace('actor', 'male')\n",
    "df_titles_principal = df_titles_principal[df_titles_principal['gender'].str.contains('male|female')]"
   ]
  },
  {
   "cell_type": "code",
   "execution_count": 28,
   "id": "306f5e3d",
   "metadata": {},
   "outputs": [
    {
     "data": {
      "text/html": [
       "<div>\n",
       "<style scoped>\n",
       "    .dataframe tbody tr th:only-of-type {\n",
       "        vertical-align: middle;\n",
       "    }\n",
       "\n",
       "    .dataframe tbody tr th {\n",
       "        vertical-align: top;\n",
       "    }\n",
       "\n",
       "    .dataframe thead th {\n",
       "        text-align: right;\n",
       "    }\n",
       "</style>\n",
       "<table border=\"1\" class=\"dataframe\">\n",
       "  <thead>\n",
       "    <tr style=\"text-align: right;\">\n",
       "      <th></th>\n",
       "      <th>tconst</th>\n",
       "      <th>ordering</th>\n",
       "      <th>nconst</th>\n",
       "      <th>category</th>\n",
       "      <th>job</th>\n",
       "      <th>characters</th>\n",
       "      <th>gender</th>\n",
       "      <th>IMDb_ID</th>\n",
       "    </tr>\n",
       "  </thead>\n",
       "  <tbody>\n",
       "    <tr>\n",
       "      <th>0</th>\n",
       "      <td>tt0000001</td>\n",
       "      <td>1</td>\n",
       "      <td>nm1588970</td>\n",
       "      <td>self</td>\n",
       "      <td>\\N</td>\n",
       "      <td>[\"Self\"]</td>\n",
       "      <td>female</td>\n",
       "      <td>nm1588970</td>\n",
       "    </tr>\n",
       "    <tr>\n",
       "      <th>1</th>\n",
       "      <td>tt0000001</td>\n",
       "      <td>2</td>\n",
       "      <td>nm0005690</td>\n",
       "      <td>director</td>\n",
       "      <td>\\N</td>\n",
       "      <td>\\N</td>\n",
       "      <td>male</td>\n",
       "      <td>nm0005690</td>\n",
       "    </tr>\n",
       "    <tr>\n",
       "      <th>2</th>\n",
       "      <td>tt0000001</td>\n",
       "      <td>3</td>\n",
       "      <td>nm0374658</td>\n",
       "      <td>cinematographer</td>\n",
       "      <td>director of photography</td>\n",
       "      <td>\\N</td>\n",
       "      <td>male</td>\n",
       "      <td>nm0374658</td>\n",
       "    </tr>\n",
       "  </tbody>\n",
       "</table>\n",
       "</div>"
      ],
      "text/plain": [
       "      tconst  ordering     nconst         category                      job  \\\n",
       "0  tt0000001         1  nm1588970             self                       \\N   \n",
       "1  tt0000001         2  nm0005690         director                       \\N   \n",
       "2  tt0000001         3  nm0374658  cinematographer  director of photography   \n",
       "\n",
       "  characters  gender    IMDb_ID  \n",
       "0   [\"Self\"]  female  nm1588970  \n",
       "1         \\N    male  nm0005690  \n",
       "2         \\N    male  nm0374658  "
      ]
     },
     "execution_count": 28,
     "metadata": {},
     "output_type": "execute_result"
    }
   ],
   "source": [
    "df_titles_principal = df_titles_principal.drop_duplicates()\n",
    "df_titles_principal.head(3)"
   ]
  },
  {
   "cell_type": "code",
   "execution_count": 29,
   "id": "6dd50ad0",
   "metadata": {},
   "outputs": [],
   "source": [
    "#creates a file\n",
    "picklefile = open('df_titles_principal_with_gender', 'wb')\n",
    "#pickles the dataframe\n",
    "pickle.dump(df_titles_principal, picklefile)"
   ]
  },
  {
   "cell_type": "markdown",
   "id": "a53f331e",
   "metadata": {},
   "source": [
    "### 2.2 Name basics <a class=\"anchor\" id=\"section_2_2\"></a>"
   ]
  },
  {
   "cell_type": "markdown",
   "id": "07ea0429",
   "metadata": {},
   "source": [
    "From this file, we keep the birth year and the primary name and merge with the previous dataset."
   ]
  },
  {
   "cell_type": "code",
   "execution_count": 30,
   "id": "e005e9f4",
   "metadata": {},
   "outputs": [
    {
     "data": {
      "text/html": [
       "<div>\n",
       "<style scoped>\n",
       "    .dataframe tbody tr th:only-of-type {\n",
       "        vertical-align: middle;\n",
       "    }\n",
       "\n",
       "    .dataframe tbody tr th {\n",
       "        vertical-align: top;\n",
       "    }\n",
       "\n",
       "    .dataframe thead th {\n",
       "        text-align: right;\n",
       "    }\n",
       "</style>\n",
       "<table border=\"1\" class=\"dataframe\">\n",
       "  <thead>\n",
       "    <tr style=\"text-align: right;\">\n",
       "      <th></th>\n",
       "      <th>tconst</th>\n",
       "      <th>ordering</th>\n",
       "      <th>nconst</th>\n",
       "      <th>category</th>\n",
       "      <th>job</th>\n",
       "      <th>characters</th>\n",
       "      <th>gender</th>\n",
       "      <th>IMDb_ID</th>\n",
       "    </tr>\n",
       "  </thead>\n",
       "  <tbody>\n",
       "    <tr>\n",
       "      <th>0</th>\n",
       "      <td>tt0000001</td>\n",
       "      <td>1</td>\n",
       "      <td>nm1588970</td>\n",
       "      <td>self</td>\n",
       "      <td>\\N</td>\n",
       "      <td>[\"Self\"]</td>\n",
       "      <td>female</td>\n",
       "      <td>nm1588970</td>\n",
       "    </tr>\n",
       "    <tr>\n",
       "      <th>1</th>\n",
       "      <td>tt0000001</td>\n",
       "      <td>2</td>\n",
       "      <td>nm0005690</td>\n",
       "      <td>director</td>\n",
       "      <td>\\N</td>\n",
       "      <td>\\N</td>\n",
       "      <td>male</td>\n",
       "      <td>nm0005690</td>\n",
       "    </tr>\n",
       "    <tr>\n",
       "      <th>2</th>\n",
       "      <td>tt0000001</td>\n",
       "      <td>3</td>\n",
       "      <td>nm0374658</td>\n",
       "      <td>cinematographer</td>\n",
       "      <td>director of photography</td>\n",
       "      <td>\\N</td>\n",
       "      <td>male</td>\n",
       "      <td>nm0374658</td>\n",
       "    </tr>\n",
       "  </tbody>\n",
       "</table>\n",
       "</div>"
      ],
      "text/plain": [
       "      tconst  ordering     nconst         category                      job  \\\n",
       "0  tt0000001         1  nm1588970             self                       \\N   \n",
       "1  tt0000001         2  nm0005690         director                       \\N   \n",
       "2  tt0000001         3  nm0374658  cinematographer  director of photography   \n",
       "\n",
       "  characters  gender    IMDb_ID  \n",
       "0   [\"Self\"]  female  nm1588970  \n",
       "1         \\N    male  nm0005690  \n",
       "2         \\N    male  nm0374658  "
      ]
     },
     "execution_count": 30,
     "metadata": {},
     "output_type": "execute_result"
    }
   ],
   "source": [
    "picklefile = open('df_titles_principal_with_gender', 'rb')\n",
    "#unpickle the dataframe\n",
    "df_titles_principal = pickle.load(picklefile)\n",
    "df_titles_principal.head(3)"
   ]
  },
  {
   "cell_type": "code",
   "execution_count": 31,
   "id": "5c34d6a7",
   "metadata": {},
   "outputs": [
    {
     "data": {
      "text/html": [
       "<div>\n",
       "<style scoped>\n",
       "    .dataframe tbody tr th:only-of-type {\n",
       "        vertical-align: middle;\n",
       "    }\n",
       "\n",
       "    .dataframe tbody tr th {\n",
       "        vertical-align: top;\n",
       "    }\n",
       "\n",
       "    .dataframe thead th {\n",
       "        text-align: right;\n",
       "    }\n",
       "</style>\n",
       "<table border=\"1\" class=\"dataframe\">\n",
       "  <thead>\n",
       "    <tr style=\"text-align: right;\">\n",
       "      <th></th>\n",
       "      <th>nconst</th>\n",
       "      <th>primaryName</th>\n",
       "      <th>birthYear</th>\n",
       "      <th>deathYear</th>\n",
       "      <th>primaryProfession</th>\n",
       "      <th>knownForTitles</th>\n",
       "    </tr>\n",
       "  </thead>\n",
       "  <tbody>\n",
       "    <tr>\n",
       "      <th>0</th>\n",
       "      <td>nm0000001</td>\n",
       "      <td>Fred Astaire</td>\n",
       "      <td>1899</td>\n",
       "      <td>1987</td>\n",
       "      <td>soundtrack,actor,miscellaneous</td>\n",
       "      <td>tt0053137,tt0050419,tt0072308,tt0031983</td>\n",
       "    </tr>\n",
       "    <tr>\n",
       "      <th>1</th>\n",
       "      <td>nm0000002</td>\n",
       "      <td>Lauren Bacall</td>\n",
       "      <td>1924</td>\n",
       "      <td>2014</td>\n",
       "      <td>actress,soundtrack</td>\n",
       "      <td>tt0038355,tt0117057,tt0037382,tt0071877</td>\n",
       "    </tr>\n",
       "    <tr>\n",
       "      <th>2</th>\n",
       "      <td>nm0000003</td>\n",
       "      <td>Brigitte Bardot</td>\n",
       "      <td>1934</td>\n",
       "      <td>\\N</td>\n",
       "      <td>actress,soundtrack,music_department</td>\n",
       "      <td>tt0049189,tt0054452,tt0056404,tt0057345</td>\n",
       "    </tr>\n",
       "  </tbody>\n",
       "</table>\n",
       "</div>"
      ],
      "text/plain": [
       "      nconst      primaryName birthYear deathYear  \\\n",
       "0  nm0000001     Fred Astaire      1899      1987   \n",
       "1  nm0000002    Lauren Bacall      1924      2014   \n",
       "2  nm0000003  Brigitte Bardot      1934        \\N   \n",
       "\n",
       "                     primaryProfession  \\\n",
       "0       soundtrack,actor,miscellaneous   \n",
       "1                   actress,soundtrack   \n",
       "2  actress,soundtrack,music_department   \n",
       "\n",
       "                            knownForTitles  \n",
       "0  tt0053137,tt0050419,tt0072308,tt0031983  \n",
       "1  tt0038355,tt0117057,tt0037382,tt0071877  \n",
       "2  tt0049189,tt0054452,tt0056404,tt0057345  "
      ]
     },
     "execution_count": 31,
     "metadata": {},
     "output_type": "execute_result"
    }
   ],
   "source": [
    "f=gzip.open(data_folder_IMDB + './name.basics.tsv.gz','rb')\n",
    "df_name_basics = pd.read_csv(f, sep='\\t')\n",
    "df_name_basics.head(3)"
   ]
  },
  {
   "cell_type": "code",
   "execution_count": 32,
   "id": "839ca88d",
   "metadata": {},
   "outputs": [
    {
     "data": {
      "text/html": [
       "<div>\n",
       "<style scoped>\n",
       "    .dataframe tbody tr th:only-of-type {\n",
       "        vertical-align: middle;\n",
       "    }\n",
       "\n",
       "    .dataframe tbody tr th {\n",
       "        vertical-align: top;\n",
       "    }\n",
       "\n",
       "    .dataframe thead th {\n",
       "        text-align: right;\n",
       "    }\n",
       "</style>\n",
       "<table border=\"1\" class=\"dataframe\">\n",
       "  <thead>\n",
       "    <tr style=\"text-align: right;\">\n",
       "      <th></th>\n",
       "      <th>nconst</th>\n",
       "      <th>primaryName</th>\n",
       "      <th>birthYear</th>\n",
       "    </tr>\n",
       "  </thead>\n",
       "  <tbody>\n",
       "    <tr>\n",
       "      <th>0</th>\n",
       "      <td>nm0000001</td>\n",
       "      <td>Fred Astaire</td>\n",
       "      <td>1899</td>\n",
       "    </tr>\n",
       "    <tr>\n",
       "      <th>1</th>\n",
       "      <td>nm0000002</td>\n",
       "      <td>Lauren Bacall</td>\n",
       "      <td>1924</td>\n",
       "    </tr>\n",
       "    <tr>\n",
       "      <th>2</th>\n",
       "      <td>nm0000003</td>\n",
       "      <td>Brigitte Bardot</td>\n",
       "      <td>1934</td>\n",
       "    </tr>\n",
       "  </tbody>\n",
       "</table>\n",
       "</div>"
      ],
      "text/plain": [
       "      nconst      primaryName birthYear\n",
       "0  nm0000001     Fred Astaire      1899\n",
       "1  nm0000002    Lauren Bacall      1924\n",
       "2  nm0000003  Brigitte Bardot      1934"
      ]
     },
     "execution_count": 32,
     "metadata": {},
     "output_type": "execute_result"
    }
   ],
   "source": [
    "df_name_basics_short = df_name_basics.drop(columns = ['primaryProfession', 'knownForTitles', 'deathYear'])\n",
    "df_name_basics_short.head(3)"
   ]
  },
  {
   "cell_type": "code",
   "execution_count": 33,
   "id": "3538fba6",
   "metadata": {},
   "outputs": [
    {
     "data": {
      "text/html": [
       "<div>\n",
       "<style scoped>\n",
       "    .dataframe tbody tr th:only-of-type {\n",
       "        vertical-align: middle;\n",
       "    }\n",
       "\n",
       "    .dataframe tbody tr th {\n",
       "        vertical-align: top;\n",
       "    }\n",
       "\n",
       "    .dataframe thead th {\n",
       "        text-align: right;\n",
       "    }\n",
       "</style>\n",
       "<table border=\"1\" class=\"dataframe\">\n",
       "  <thead>\n",
       "    <tr style=\"text-align: right;\">\n",
       "      <th></th>\n",
       "      <th>tconst</th>\n",
       "      <th>ordering</th>\n",
       "      <th>nconst</th>\n",
       "      <th>category</th>\n",
       "      <th>job</th>\n",
       "      <th>characters</th>\n",
       "      <th>gender</th>\n",
       "      <th>primaryName</th>\n",
       "      <th>birthYear</th>\n",
       "    </tr>\n",
       "  </thead>\n",
       "  <tbody>\n",
       "    <tr>\n",
       "      <th>0</th>\n",
       "      <td>tt0000001</td>\n",
       "      <td>1</td>\n",
       "      <td>nm1588970</td>\n",
       "      <td>self</td>\n",
       "      <td>\\N</td>\n",
       "      <td>[\"Self\"]</td>\n",
       "      <td>female</td>\n",
       "      <td>Carmencita</td>\n",
       "      <td>1868</td>\n",
       "    </tr>\n",
       "    <tr>\n",
       "      <th>1</th>\n",
       "      <td>tt0000001</td>\n",
       "      <td>2</td>\n",
       "      <td>nm0005690</td>\n",
       "      <td>director</td>\n",
       "      <td>\\N</td>\n",
       "      <td>\\N</td>\n",
       "      <td>male</td>\n",
       "      <td>William K.L. Dickson</td>\n",
       "      <td>1860</td>\n",
       "    </tr>\n",
       "    <tr>\n",
       "      <th>2</th>\n",
       "      <td>tt0000001</td>\n",
       "      <td>3</td>\n",
       "      <td>nm0374658</td>\n",
       "      <td>cinematographer</td>\n",
       "      <td>director of photography</td>\n",
       "      <td>\\N</td>\n",
       "      <td>male</td>\n",
       "      <td>William Heise</td>\n",
       "      <td>1847</td>\n",
       "    </tr>\n",
       "  </tbody>\n",
       "</table>\n",
       "</div>"
      ],
      "text/plain": [
       "      tconst  ordering     nconst         category                      job  \\\n",
       "0  tt0000001         1  nm1588970             self                       \\N   \n",
       "1  tt0000001         2  nm0005690         director                       \\N   \n",
       "2  tt0000001         3  nm0374658  cinematographer  director of photography   \n",
       "\n",
       "  characters  gender           primaryName birthYear  \n",
       "0   [\"Self\"]  female            Carmencita      1868  \n",
       "1         \\N    male  William K.L. Dickson      1860  \n",
       "2         \\N    male         William Heise      1847  "
      ]
     },
     "execution_count": 33,
     "metadata": {},
     "output_type": "execute_result"
    }
   ],
   "source": [
    "df_titles_principal = df_titles_principal.merge(df_name_basics_short, how='left', on = 'nconst')\n",
    "df_titles_principal = df_titles_principal.drop(columns = 'IMDb_ID')\n",
    "df_titles_principal.head(3)"
   ]
  },
  {
   "cell_type": "markdown",
   "id": "997e894f",
   "metadata": {},
   "source": [
    "### 2.3 Title crew <a class=\"anchor\" id=\"section_2_3\"></a>"
   ]
  },
  {
   "cell_type": "markdown",
   "id": "2cd746e0",
   "metadata": {},
   "source": [
    "This data allows us to know the directors and writers for each movie."
   ]
  },
  {
   "cell_type": "code",
   "execution_count": 14,
   "id": "9cb856cc",
   "metadata": {},
   "outputs": [
    {
     "data": {
      "text/html": [
       "<div>\n",
       "<style scoped>\n",
       "    .dataframe tbody tr th:only-of-type {\n",
       "        vertical-align: middle;\n",
       "    }\n",
       "\n",
       "    .dataframe tbody tr th {\n",
       "        vertical-align: top;\n",
       "    }\n",
       "\n",
       "    .dataframe thead th {\n",
       "        text-align: right;\n",
       "    }\n",
       "</style>\n",
       "<table border=\"1\" class=\"dataframe\">\n",
       "  <thead>\n",
       "    <tr style=\"text-align: right;\">\n",
       "      <th></th>\n",
       "      <th>tconst</th>\n",
       "      <th>directors</th>\n",
       "      <th>writers</th>\n",
       "    </tr>\n",
       "  </thead>\n",
       "  <tbody>\n",
       "    <tr>\n",
       "      <th>0</th>\n",
       "      <td>tt0000001</td>\n",
       "      <td>nm0005690</td>\n",
       "      <td>\\N</td>\n",
       "    </tr>\n",
       "    <tr>\n",
       "      <th>1</th>\n",
       "      <td>tt0000002</td>\n",
       "      <td>nm0721526</td>\n",
       "      <td>\\N</td>\n",
       "    </tr>\n",
       "    <tr>\n",
       "      <th>2</th>\n",
       "      <td>tt0000003</td>\n",
       "      <td>nm0721526</td>\n",
       "      <td>\\N</td>\n",
       "    </tr>\n",
       "  </tbody>\n",
       "</table>\n",
       "</div>"
      ],
      "text/plain": [
       "      tconst  directors writers\n",
       "0  tt0000001  nm0005690      \\N\n",
       "1  tt0000002  nm0721526      \\N\n",
       "2  tt0000003  nm0721526      \\N"
      ]
     },
     "execution_count": 14,
     "metadata": {},
     "output_type": "execute_result"
    }
   ],
   "source": [
    "f = gzip.open(data_folder_IMDB + '/title.crew.tsv.gz', 'rb')\n",
    "df_title_crew=  pd.read_csv(f, sep='\\t')\n",
    "df_title_crew.head(3)"
   ]
  },
  {
   "cell_type": "code",
   "execution_count": 35,
   "id": "0862b95c",
   "metadata": {},
   "outputs": [
    {
     "data": {
      "text/html": [
       "<div>\n",
       "<style scoped>\n",
       "    .dataframe tbody tr th:only-of-type {\n",
       "        vertical-align: middle;\n",
       "    }\n",
       "\n",
       "    .dataframe tbody tr th {\n",
       "        vertical-align: top;\n",
       "    }\n",
       "\n",
       "    .dataframe thead th {\n",
       "        text-align: right;\n",
       "    }\n",
       "</style>\n",
       "<table border=\"1\" class=\"dataframe\">\n",
       "  <thead>\n",
       "    <tr style=\"text-align: right;\">\n",
       "      <th></th>\n",
       "      <th>tconst</th>\n",
       "      <th>ordering</th>\n",
       "      <th>nconst</th>\n",
       "      <th>category</th>\n",
       "      <th>job</th>\n",
       "      <th>characters</th>\n",
       "      <th>gender</th>\n",
       "      <th>primaryName</th>\n",
       "      <th>birthYear</th>\n",
       "      <th>directors</th>\n",
       "      <th>writers</th>\n",
       "    </tr>\n",
       "  </thead>\n",
       "  <tbody>\n",
       "    <tr>\n",
       "      <th>0</th>\n",
       "      <td>tt0000001</td>\n",
       "      <td>1</td>\n",
       "      <td>nm1588970</td>\n",
       "      <td>self</td>\n",
       "      <td>\\N</td>\n",
       "      <td>[\"Self\"]</td>\n",
       "      <td>female</td>\n",
       "      <td>Carmencita</td>\n",
       "      <td>1868</td>\n",
       "      <td>nm0005690</td>\n",
       "      <td>\\N</td>\n",
       "    </tr>\n",
       "    <tr>\n",
       "      <th>1</th>\n",
       "      <td>tt0000001</td>\n",
       "      <td>2</td>\n",
       "      <td>nm0005690</td>\n",
       "      <td>director</td>\n",
       "      <td>\\N</td>\n",
       "      <td>\\N</td>\n",
       "      <td>male</td>\n",
       "      <td>William K.L. Dickson</td>\n",
       "      <td>1860</td>\n",
       "      <td>nm0005690</td>\n",
       "      <td>\\N</td>\n",
       "    </tr>\n",
       "    <tr>\n",
       "      <th>2</th>\n",
       "      <td>tt0000001</td>\n",
       "      <td>3</td>\n",
       "      <td>nm0374658</td>\n",
       "      <td>cinematographer</td>\n",
       "      <td>director of photography</td>\n",
       "      <td>\\N</td>\n",
       "      <td>male</td>\n",
       "      <td>William Heise</td>\n",
       "      <td>1847</td>\n",
       "      <td>nm0005690</td>\n",
       "      <td>\\N</td>\n",
       "    </tr>\n",
       "  </tbody>\n",
       "</table>\n",
       "</div>"
      ],
      "text/plain": [
       "      tconst  ordering     nconst         category                      job  \\\n",
       "0  tt0000001         1  nm1588970             self                       \\N   \n",
       "1  tt0000001         2  nm0005690         director                       \\N   \n",
       "2  tt0000001         3  nm0374658  cinematographer  director of photography   \n",
       "\n",
       "  characters  gender           primaryName birthYear  directors writers  \n",
       "0   [\"Self\"]  female            Carmencita      1868  nm0005690      \\N  \n",
       "1         \\N    male  William K.L. Dickson      1860  nm0005690      \\N  \n",
       "2         \\N    male         William Heise      1847  nm0005690      \\N  "
      ]
     },
     "execution_count": 35,
     "metadata": {},
     "output_type": "execute_result"
    }
   ],
   "source": [
    "df23 = df_titles_principal.merge(df_title_crew, how='left', on = 'tconst')\n",
    "df23.head(3)"
   ]
  },
  {
   "cell_type": "markdown",
   "id": "8bdfa391",
   "metadata": {},
   "source": [
    "We now merge the crew (writer and director) data with the genders and map freebase movies to imdb movies. What we want to get is genders of the writers and directors for cmu movies, which will be use in the analysis to see if their gender impact male and female representation in movies"
   ]
  },
  {
   "cell_type": "code",
   "execution_count": 7,
   "id": "9690ba8d",
   "metadata": {},
   "outputs": [],
   "source": [
    "# To map freebase ids to imdb ids\n",
    "fb_to_imdb = pd.read_csv('freebase_to_imdb.csv')\n",
    "fb_to_imdb.drop(columns = ['sitelink', 'item'], inplace = True)"
   ]
  },
  {
   "cell_type": "code",
   "execution_count": 15,
   "id": "9b0064a5",
   "metadata": {},
   "outputs": [],
   "source": [
    "f = gzip.open(data_folder_IMDB + '/title.basics.tsv.gz', 'rb')\n",
    "df_title_basics =  pd.read_csv(f, sep='\\t')\n",
    "# Getting imdb ids for freebase ids\n",
    "data = df_movie_meta.merge(fb_to_imdb, how = 'inner', left_on = 'Freebase movie ID', right_on = 'freebaseID' )\n",
    "# Merging cmu and imdb movies\n",
    "merged_cmu_imdb = data.merge(df_title_basics, how = 'inner', left_on = 'IMDb_ID', right_on = 'tconst')\n",
    "# Obtaining the crew for each movie\n",
    "merged_cmu_imdb = merged_cmu_imdb.merge(df_title_crew, how = 'inner', left_on = 'IMDb_ID', right_on = 'tconst')\n",
    "# Selecting subsets of the dataframe \n",
    "df_directors = merged_cmu_imdb[['Freebase movie ID', 'directors']]\n",
    "df_directors['directors'] = df_directors['directors'].apply(lambda x : x.split(','))\n",
    "df_writers = merged_cmu_imdb[['Freebase movie ID', 'writers']]\n",
    "df_writers['writers'] = df_writers['writers'].apply(lambda x : x.split(','))"
   ]
  },
  {
   "cell_type": "code",
   "execution_count": 16,
   "id": "e771e744",
   "metadata": {},
   "outputs": [],
   "source": [
    "gender_imdb = pd.read_csv('imdb_genders.csv')\n",
    "gender_imdb['gender'] = gender_imdb['gender'].apply(lambda x : str(x).rsplit('/', 1)[-1])\n",
    "gender_imdb = gender_imdb.drop(columns = ['id'])\n",
    "# Replacing male and female genders and keeping only them\n",
    "gender_imdb['gender'] = gender_imdb['gender'].str.replace('Q6581097', 'male')\n",
    "gender_imdb['gender'] = gender_imdb['gender'].str.replace('Q6581072', 'female')\n",
    "gender_imdb = gender_imdb[gender_imdb['gender'].str.contains('male|female')]"
   ]
  },
  {
   "cell_type": "code",
   "execution_count": 17,
   "id": "bca5d94d",
   "metadata": {},
   "outputs": [],
   "source": [
    "# Putting only one director and writer per line\n",
    "df_directors = df_directors.set_index(['Freebase movie ID']).apply(lambda x: x.explode()).reset_index()\n",
    "df_writers = df_writers.set_index(['Freebase movie ID']).apply(lambda x: x.explode()).reset_index()\n",
    "# keeping only unique directors and writers\n",
    "df_writers_unique = df_writers.drop_duplicates(subset = 'writers')\n",
    "df_directors_unique = df_directors.drop_duplicates(subset = 'directors')\n",
    "# Getting their imdb ids\n",
    "df_wri = df_writers_unique.merge(gender_imdb, how = 'inner', left_on='writers', right_on = 'IMDb_ID')\n",
    "df_dir = df_directors_unique.merge(gender_imdb, how = 'inner', left_on='directors', right_on = 'IMDb_ID')"
   ]
  },
  {
   "cell_type": "code",
   "execution_count": 18,
   "id": "2b68e1d3",
   "metadata": {},
   "outputs": [
    {
     "data": {
      "text/plain": [
       "male      24027\n",
       "female     3841\n",
       "Name: gender, dtype: int64"
      ]
     },
     "execution_count": 18,
     "metadata": {},
     "output_type": "execute_result"
    }
   ],
   "source": [
    "df_wri['gender'].value_counts()"
   ]
  },
  {
   "cell_type": "code",
   "execution_count": 19,
   "id": "fd98544a",
   "metadata": {},
   "outputs": [
    {
     "data": {
      "text/plain": [
       "male      15568\n",
       "female     1657\n",
       "Name: gender, dtype: int64"
      ]
     },
     "execution_count": 19,
     "metadata": {},
     "output_type": "execute_result"
    }
   ],
   "source": [
    "df_dir['gender'].value_counts()"
   ]
  },
  {
   "cell_type": "markdown",
   "id": "d371cddd",
   "metadata": {},
   "source": [
    "We have almost 27 868 writers and 17 225 directors along with their genders associated to the CMU database movies. It's not complete but is enough to do an analysis. We observe that most of them are men for the two jobs."
   ]
  },
  {
   "cell_type": "markdown",
   "id": "d20ff4b3",
   "metadata": {},
   "source": [
    "### 2.4 Title basics <a class=\"anchor\" id=\"section_2_4\"></a>"
   ]
  },
  {
   "cell_type": "code",
   "execution_count": 20,
   "id": "6b77cae9",
   "metadata": {},
   "outputs": [
    {
     "data": {
      "text/html": [
       "<div>\n",
       "<style scoped>\n",
       "    .dataframe tbody tr th:only-of-type {\n",
       "        vertical-align: middle;\n",
       "    }\n",
       "\n",
       "    .dataframe tbody tr th {\n",
       "        vertical-align: top;\n",
       "    }\n",
       "\n",
       "    .dataframe thead th {\n",
       "        text-align: right;\n",
       "    }\n",
       "</style>\n",
       "<table border=\"1\" class=\"dataframe\">\n",
       "  <thead>\n",
       "    <tr style=\"text-align: right;\">\n",
       "      <th></th>\n",
       "      <th>tconst</th>\n",
       "      <th>titleType</th>\n",
       "      <th>primaryTitle</th>\n",
       "      <th>originalTitle</th>\n",
       "      <th>isAdult</th>\n",
       "      <th>startYear</th>\n",
       "      <th>endYear</th>\n",
       "      <th>runtimeMinutes</th>\n",
       "      <th>genres</th>\n",
       "    </tr>\n",
       "  </thead>\n",
       "  <tbody>\n",
       "    <tr>\n",
       "      <th>0</th>\n",
       "      <td>tt0000001</td>\n",
       "      <td>short</td>\n",
       "      <td>Carmencita</td>\n",
       "      <td>Carmencita</td>\n",
       "      <td>0</td>\n",
       "      <td>1894</td>\n",
       "      <td>\\N</td>\n",
       "      <td>1</td>\n",
       "      <td>Documentary,Short</td>\n",
       "    </tr>\n",
       "    <tr>\n",
       "      <th>1</th>\n",
       "      <td>tt0000002</td>\n",
       "      <td>short</td>\n",
       "      <td>Le clown et ses chiens</td>\n",
       "      <td>Le clown et ses chiens</td>\n",
       "      <td>0</td>\n",
       "      <td>1892</td>\n",
       "      <td>\\N</td>\n",
       "      <td>5</td>\n",
       "      <td>Animation,Short</td>\n",
       "    </tr>\n",
       "    <tr>\n",
       "      <th>2</th>\n",
       "      <td>tt0000003</td>\n",
       "      <td>short</td>\n",
       "      <td>Pauvre Pierrot</td>\n",
       "      <td>Pauvre Pierrot</td>\n",
       "      <td>0</td>\n",
       "      <td>1892</td>\n",
       "      <td>\\N</td>\n",
       "      <td>4</td>\n",
       "      <td>Animation,Comedy,Romance</td>\n",
       "    </tr>\n",
       "  </tbody>\n",
       "</table>\n",
       "</div>"
      ],
      "text/plain": [
       "      tconst titleType            primaryTitle           originalTitle  \\\n",
       "0  tt0000001     short              Carmencita              Carmencita   \n",
       "1  tt0000002     short  Le clown et ses chiens  Le clown et ses chiens   \n",
       "2  tt0000003     short          Pauvre Pierrot          Pauvre Pierrot   \n",
       "\n",
       "  isAdult startYear endYear runtimeMinutes                    genres  \n",
       "0       0      1894      \\N              1         Documentary,Short  \n",
       "1       0      1892      \\N              5           Animation,Short  \n",
       "2       0      1892      \\N              4  Animation,Comedy,Romance  "
      ]
     },
     "execution_count": 20,
     "metadata": {},
     "output_type": "execute_result"
    }
   ],
   "source": [
    "f = gzip.open(data_folder_IMDB + '/title.basics.tsv.gz', 'rb')\n",
    "df_title_basics =  pd.read_csv(f, sep='\\t')\n",
    "df_title_basics.head(3)"
   ]
  },
  {
   "cell_type": "code",
   "execution_count": 21,
   "id": "aeafae5a",
   "metadata": {},
   "outputs": [
    {
     "name": "stdout",
     "output_type": "stream",
     "text": [
      "There are 9363390 titles in the IMDb dataset\n"
     ]
    }
   ],
   "source": [
    "print(\"There are {} titles in the IMDb dataset\".format(len(df_title_basics)))"
   ]
  },
  {
   "cell_type": "markdown",
   "id": "8b83022d",
   "metadata": {},
   "source": [
    "That is definitely a lot of titles. But not all of them are movies. Let's check what part of the dataset contains movies"
   ]
  },
  {
   "cell_type": "code",
   "execution_count": 23,
   "id": "06b3d4a4",
   "metadata": {},
   "outputs": [
    {
     "data": {
      "image/png": "[encoded data removed]",
      "text/plain": [
       "<Figure size 432x432 with 1 Axes>"
      ]
     },
     "metadata": {},
     "output_type": "display_data"
    }
   ],
   "source": [
    "cmap = plt.get_cmap('Pastel1')\n",
    "colors = [cmap(i) for i in np.linspace(0, 1, 8)]\n",
    "df_title_basics.titleType.value_counts().plot.pie(autopct=\"%.0f%%\",figsize=(6,6),pctdistance=0.8,\n",
    "                                                 wedgeprops=dict(width=0.4), colors = colors)\n",
    "plt.show()"
   ]
  },
  {
   "cell_type": "markdown",
   "id": "9d145786",
   "metadata": {},
   "source": [
    "Only 7% of the dataset are movies. Let's isolate them."
   ]
  },
  {
   "cell_type": "code",
   "execution_count": 39,
   "id": "adca3b66",
   "metadata": {},
   "outputs": [
    {
     "name": "stdout",
     "output_type": "stream",
     "text": [
      "There are 626772 movies in the IMDb dataset\n"
     ]
    },
    {
     "data": {
      "text/html": [
       "<div>\n",
       "<style scoped>\n",
       "    .dataframe tbody tr th:only-of-type {\n",
       "        vertical-align: middle;\n",
       "    }\n",
       "\n",
       "    .dataframe tbody tr th {\n",
       "        vertical-align: top;\n",
       "    }\n",
       "\n",
       "    .dataframe thead th {\n",
       "        text-align: right;\n",
       "    }\n",
       "</style>\n",
       "<table border=\"1\" class=\"dataframe\">\n",
       "  <thead>\n",
       "    <tr style=\"text-align: right;\">\n",
       "      <th></th>\n",
       "      <th>tconst</th>\n",
       "      <th>primaryTitle</th>\n",
       "      <th>originalTitle</th>\n",
       "      <th>startYear</th>\n",
       "      <th>runtimeMinutes</th>\n",
       "      <th>genres</th>\n",
       "    </tr>\n",
       "  </thead>\n",
       "  <tbody>\n",
       "    <tr>\n",
       "      <th>8</th>\n",
       "      <td>tt0000009</td>\n",
       "      <td>Miss Jerry</td>\n",
       "      <td>Miss Jerry</td>\n",
       "      <td>1894</td>\n",
       "      <td>45</td>\n",
       "      <td>Romance</td>\n",
       "    </tr>\n",
       "    <tr>\n",
       "      <th>498</th>\n",
       "      <td>tt0000502</td>\n",
       "      <td>Bohemios</td>\n",
       "      <td>Bohemios</td>\n",
       "      <td>1905</td>\n",
       "      <td>100</td>\n",
       "      <td>\\N</td>\n",
       "    </tr>\n",
       "    <tr>\n",
       "      <th>570</th>\n",
       "      <td>tt0000574</td>\n",
       "      <td>The Story of the Kelly Gang</td>\n",
       "      <td>The Story of the Kelly Gang</td>\n",
       "      <td>1906</td>\n",
       "      <td>70</td>\n",
       "      <td>Action,Adventure,Biography</td>\n",
       "    </tr>\n",
       "  </tbody>\n",
       "</table>\n",
       "</div>"
      ],
      "text/plain": [
       "        tconst                 primaryTitle                originalTitle  \\\n",
       "8    tt0000009                   Miss Jerry                   Miss Jerry   \n",
       "498  tt0000502                     Bohemios                     Bohemios   \n",
       "570  tt0000574  The Story of the Kelly Gang  The Story of the Kelly Gang   \n",
       "\n",
       "    startYear runtimeMinutes                      genres  \n",
       "8        1894             45                     Romance  \n",
       "498      1905            100                          \\N  \n",
       "570      1906             70  Action,Adventure,Biography  "
      ]
     },
     "execution_count": 39,
     "metadata": {},
     "output_type": "execute_result"
    }
   ],
   "source": [
    "df_movie_basics = df_title_basics[df_title_basics['titleType'] == 'movie']\n",
    "print(\"There are {} movies in the IMDb dataset\".format(len(df_movie_basics)))\n",
    "df_movie_basics = df_movie_basics.drop(columns = ['titleType', 'isAdult', 'endYear'])\n",
    "df_movie_basics.head(3)"
   ]
  },
  {
   "cell_type": "code",
   "execution_count": 40,
   "id": "d25dd979",
   "metadata": {},
   "outputs": [
    {
     "data": {
      "text/html": [
       "<div>\n",
       "<style scoped>\n",
       "    .dataframe tbody tr th:only-of-type {\n",
       "        vertical-align: middle;\n",
       "    }\n",
       "\n",
       "    .dataframe tbody tr th {\n",
       "        vertical-align: top;\n",
       "    }\n",
       "\n",
       "    .dataframe thead th {\n",
       "        text-align: right;\n",
       "    }\n",
       "</style>\n",
       "<table border=\"1\" class=\"dataframe\">\n",
       "  <thead>\n",
       "    <tr style=\"text-align: right;\">\n",
       "      <th></th>\n",
       "      <th>tconst</th>\n",
       "      <th>ordering</th>\n",
       "      <th>nconst</th>\n",
       "      <th>category</th>\n",
       "      <th>job</th>\n",
       "      <th>characters</th>\n",
       "      <th>gender</th>\n",
       "      <th>primaryName</th>\n",
       "      <th>birthYear</th>\n",
       "      <th>primaryTitle</th>\n",
       "      <th>originalTitle</th>\n",
       "      <th>startYear</th>\n",
       "      <th>runtimeMinutes</th>\n",
       "      <th>genres</th>\n",
       "    </tr>\n",
       "  </thead>\n",
       "  <tbody>\n",
       "    <tr>\n",
       "      <th>0</th>\n",
       "      <td>tt0000009</td>\n",
       "      <td>1</td>\n",
       "      <td>nm0063086</td>\n",
       "      <td>actress</td>\n",
       "      <td>\\N</td>\n",
       "      <td>[\"Miss Geraldine Holbrook (Miss Jerry)\"]</td>\n",
       "      <td>female</td>\n",
       "      <td>Blanche Bayliss</td>\n",
       "      <td>1878</td>\n",
       "      <td>Miss Jerry</td>\n",
       "      <td>Miss Jerry</td>\n",
       "      <td>1894</td>\n",
       "      <td>45</td>\n",
       "      <td>Romance</td>\n",
       "    </tr>\n",
       "    <tr>\n",
       "      <th>1</th>\n",
       "      <td>tt0000009</td>\n",
       "      <td>2</td>\n",
       "      <td>nm0183823</td>\n",
       "      <td>actor</td>\n",
       "      <td>\\N</td>\n",
       "      <td>[\"Mr. Hamilton\"]</td>\n",
       "      <td>male</td>\n",
       "      <td>William Courtenay</td>\n",
       "      <td>1875</td>\n",
       "      <td>Miss Jerry</td>\n",
       "      <td>Miss Jerry</td>\n",
       "      <td>1894</td>\n",
       "      <td>45</td>\n",
       "      <td>Romance</td>\n",
       "    </tr>\n",
       "    <tr>\n",
       "      <th>2</th>\n",
       "      <td>tt0000009</td>\n",
       "      <td>3</td>\n",
       "      <td>nm1309758</td>\n",
       "      <td>actor</td>\n",
       "      <td>\\N</td>\n",
       "      <td>[\"Chauncey Depew - the Director of the New Yor...</td>\n",
       "      <td>male</td>\n",
       "      <td>Chauncey Depew</td>\n",
       "      <td>1834</td>\n",
       "      <td>Miss Jerry</td>\n",
       "      <td>Miss Jerry</td>\n",
       "      <td>1894</td>\n",
       "      <td>45</td>\n",
       "      <td>Romance</td>\n",
       "    </tr>\n",
       "  </tbody>\n",
       "</table>\n",
       "</div>"
      ],
      "text/plain": [
       "      tconst  ordering     nconst category job  \\\n",
       "0  tt0000009         1  nm0063086  actress  \\N   \n",
       "1  tt0000009         2  nm0183823    actor  \\N   \n",
       "2  tt0000009         3  nm1309758    actor  \\N   \n",
       "\n",
       "                                          characters  gender  \\\n",
       "0           [\"Miss Geraldine Holbrook (Miss Jerry)\"]  female   \n",
       "1                                   [\"Mr. Hamilton\"]    male   \n",
       "2  [\"Chauncey Depew - the Director of the New Yor...    male   \n",
       "\n",
       "         primaryName birthYear primaryTitle originalTitle startYear  \\\n",
       "0    Blanche Bayliss      1878   Miss Jerry    Miss Jerry      1894   \n",
       "1  William Courtenay      1875   Miss Jerry    Miss Jerry      1894   \n",
       "2     Chauncey Depew      1834   Miss Jerry    Miss Jerry      1894   \n",
       "\n",
       "  runtimeMinutes   genres  \n",
       "0             45  Romance  \n",
       "1             45  Romance  \n",
       "2             45  Romance  "
      ]
     },
     "execution_count": 40,
     "metadata": {},
     "output_type": "execute_result"
    }
   ],
   "source": [
    "df24 = df_titles_principal.merge(df_movie_basics, how = 'inner', on = 'tconst')\n",
    "df24.head(3)"
   ]
  },
  {
   "cell_type": "code",
   "execution_count": 41,
   "id": "c09db58a",
   "metadata": {},
   "outputs": [],
   "source": [
    "#creates a file\n",
    "picklefile = open('df24', 'wb')\n",
    "#pickles the dataframe\n",
    "pickle.dump(df24, picklefile)"
   ]
  },
  {
   "cell_type": "code",
   "execution_count": 42,
   "id": "a75a8a6a",
   "metadata": {},
   "outputs": [
    {
     "data": {
      "text/html": [
       "<div>\n",
       "<style scoped>\n",
       "    .dataframe tbody tr th:only-of-type {\n",
       "        vertical-align: middle;\n",
       "    }\n",
       "\n",
       "    .dataframe tbody tr th {\n",
       "        vertical-align: top;\n",
       "    }\n",
       "\n",
       "    .dataframe thead th {\n",
       "        text-align: right;\n",
       "    }\n",
       "</style>\n",
       "<table border=\"1\" class=\"dataframe\">\n",
       "  <thead>\n",
       "    <tr style=\"text-align: right;\">\n",
       "      <th></th>\n",
       "      <th>tconst</th>\n",
       "      <th>ordering</th>\n",
       "      <th>nconst</th>\n",
       "      <th>category</th>\n",
       "      <th>job</th>\n",
       "      <th>characters</th>\n",
       "      <th>gender</th>\n",
       "      <th>primaryName</th>\n",
       "      <th>birthYear</th>\n",
       "      <th>primaryTitle</th>\n",
       "      <th>originalTitle</th>\n",
       "      <th>startYear</th>\n",
       "      <th>runtimeMinutes</th>\n",
       "      <th>genres</th>\n",
       "    </tr>\n",
       "  </thead>\n",
       "  <tbody>\n",
       "    <tr>\n",
       "      <th>0</th>\n",
       "      <td>tt0000009</td>\n",
       "      <td>1</td>\n",
       "      <td>nm0063086</td>\n",
       "      <td>actress</td>\n",
       "      <td>\\N</td>\n",
       "      <td>[\"Miss Geraldine Holbrook (Miss Jerry)\"]</td>\n",
       "      <td>female</td>\n",
       "      <td>Blanche Bayliss</td>\n",
       "      <td>1878</td>\n",
       "      <td>Miss Jerry</td>\n",
       "      <td>Miss Jerry</td>\n",
       "      <td>1894</td>\n",
       "      <td>45</td>\n",
       "      <td>Romance</td>\n",
       "    </tr>\n",
       "    <tr>\n",
       "      <th>1</th>\n",
       "      <td>tt0000009</td>\n",
       "      <td>2</td>\n",
       "      <td>nm0183823</td>\n",
       "      <td>actor</td>\n",
       "      <td>\\N</td>\n",
       "      <td>[\"Mr. Hamilton\"]</td>\n",
       "      <td>male</td>\n",
       "      <td>William Courtenay</td>\n",
       "      <td>1875</td>\n",
       "      <td>Miss Jerry</td>\n",
       "      <td>Miss Jerry</td>\n",
       "      <td>1894</td>\n",
       "      <td>45</td>\n",
       "      <td>Romance</td>\n",
       "    </tr>\n",
       "    <tr>\n",
       "      <th>2</th>\n",
       "      <td>tt0000009</td>\n",
       "      <td>3</td>\n",
       "      <td>nm1309758</td>\n",
       "      <td>actor</td>\n",
       "      <td>\\N</td>\n",
       "      <td>[\"Chauncey Depew - the Director of the New Yor...</td>\n",
       "      <td>male</td>\n",
       "      <td>Chauncey Depew</td>\n",
       "      <td>1834</td>\n",
       "      <td>Miss Jerry</td>\n",
       "      <td>Miss Jerry</td>\n",
       "      <td>1894</td>\n",
       "      <td>45</td>\n",
       "      <td>Romance</td>\n",
       "    </tr>\n",
       "    <tr>\n",
       "      <th>3</th>\n",
       "      <td>tt0000009</td>\n",
       "      <td>4</td>\n",
       "      <td>nm0085156</td>\n",
       "      <td>director</td>\n",
       "      <td>\\N</td>\n",
       "      <td>\\N</td>\n",
       "      <td>male</td>\n",
       "      <td>Alexander Black</td>\n",
       "      <td>1859</td>\n",
       "      <td>Miss Jerry</td>\n",
       "      <td>Miss Jerry</td>\n",
       "      <td>1894</td>\n",
       "      <td>45</td>\n",
       "      <td>Romance</td>\n",
       "    </tr>\n",
       "    <tr>\n",
       "      <th>4</th>\n",
       "      <td>tt0000502</td>\n",
       "      <td>1</td>\n",
       "      <td>nm0215752</td>\n",
       "      <td>actor</td>\n",
       "      <td>\\N</td>\n",
       "      <td>\\N</td>\n",
       "      <td>male</td>\n",
       "      <td>Antonio del Pozo</td>\n",
       "      <td>\\N</td>\n",
       "      <td>Bohemios</td>\n",
       "      <td>Bohemios</td>\n",
       "      <td>1905</td>\n",
       "      <td>100</td>\n",
       "      <td>\\N</td>\n",
       "    </tr>\n",
       "    <tr>\n",
       "      <th>...</th>\n",
       "      <td>...</td>\n",
       "      <td>...</td>\n",
       "      <td>...</td>\n",
       "      <td>...</td>\n",
       "      <td>...</td>\n",
       "      <td>...</td>\n",
       "      <td>...</td>\n",
       "      <td>...</td>\n",
       "      <td>...</td>\n",
       "      <td>...</td>\n",
       "      <td>...</td>\n",
       "      <td>...</td>\n",
       "      <td>...</td>\n",
       "      <td>...</td>\n",
       "    </tr>\n",
       "    <tr>\n",
       "      <th>2952500</th>\n",
       "      <td>tt9916706</td>\n",
       "      <td>4</td>\n",
       "      <td>nm3272130</td>\n",
       "      <td>actress</td>\n",
       "      <td>\\N</td>\n",
       "      <td>\\N</td>\n",
       "      <td>female</td>\n",
       "      <td>Ashwini Ekbote</td>\n",
       "      <td>1972</td>\n",
       "      <td>Dankyavar Danka</td>\n",
       "      <td>Dankyavar Danka</td>\n",
       "      <td>2013</td>\n",
       "      <td>\\N</td>\n",
       "      <td>Comedy</td>\n",
       "    </tr>\n",
       "    <tr>\n",
       "      <th>2952501</th>\n",
       "      <td>tt9916730</td>\n",
       "      <td>1</td>\n",
       "      <td>nm6096005</td>\n",
       "      <td>actor</td>\n",
       "      <td>\\N</td>\n",
       "      <td>\\N</td>\n",
       "      <td>male</td>\n",
       "      <td>Devadhar Archit</td>\n",
       "      <td>\\N</td>\n",
       "      <td>6 Gunn</td>\n",
       "      <td>6 Gunn</td>\n",
       "      <td>2017</td>\n",
       "      <td>116</td>\n",
       "      <td>\\N</td>\n",
       "    </tr>\n",
       "    <tr>\n",
       "      <th>2952502</th>\n",
       "      <td>tt9916730</td>\n",
       "      <td>2</td>\n",
       "      <td>nm0059461</td>\n",
       "      <td>actor</td>\n",
       "      <td>\\N</td>\n",
       "      <td>\\N</td>\n",
       "      <td>male</td>\n",
       "      <td>Sunil Barve</td>\n",
       "      <td>\\N</td>\n",
       "      <td>6 Gunn</td>\n",
       "      <td>6 Gunn</td>\n",
       "      <td>2017</td>\n",
       "      <td>116</td>\n",
       "      <td>\\N</td>\n",
       "    </tr>\n",
       "    <tr>\n",
       "      <th>2952503</th>\n",
       "      <td>tt9916730</td>\n",
       "      <td>3</td>\n",
       "      <td>nm13233318</td>\n",
       "      <td>actor</td>\n",
       "      <td>\\N</td>\n",
       "      <td>[\"Vishal\"]</td>\n",
       "      <td>male</td>\n",
       "      <td>Ganesh Vasant Patil</td>\n",
       "      <td>\\N</td>\n",
       "      <td>6 Gunn</td>\n",
       "      <td>6 Gunn</td>\n",
       "      <td>2017</td>\n",
       "      <td>116</td>\n",
       "      <td>\\N</td>\n",
       "    </tr>\n",
       "    <tr>\n",
       "      <th>2952504</th>\n",
       "      <td>tt9916730</td>\n",
       "      <td>4</td>\n",
       "      <td>nm4852679</td>\n",
       "      <td>actor</td>\n",
       "      <td>\\N</td>\n",
       "      <td>\\N</td>\n",
       "      <td>male</td>\n",
       "      <td>Bhushan Pradhan</td>\n",
       "      <td>\\N</td>\n",
       "      <td>6 Gunn</td>\n",
       "      <td>6 Gunn</td>\n",
       "      <td>2017</td>\n",
       "      <td>116</td>\n",
       "      <td>\\N</td>\n",
       "    </tr>\n",
       "  </tbody>\n",
       "</table>\n",
       "<p>2952505 rows × 14 columns</p>\n",
       "</div>"
      ],
      "text/plain": [
       "            tconst  ordering      nconst  category job  \\\n",
       "0        tt0000009         1   nm0063086   actress  \\N   \n",
       "1        tt0000009         2   nm0183823     actor  \\N   \n",
       "2        tt0000009         3   nm1309758     actor  \\N   \n",
       "3        tt0000009         4   nm0085156  director  \\N   \n",
       "4        tt0000502         1   nm0215752     actor  \\N   \n",
       "...            ...       ...         ...       ...  ..   \n",
       "2952500  tt9916706         4   nm3272130   actress  \\N   \n",
       "2952501  tt9916730         1   nm6096005     actor  \\N   \n",
       "2952502  tt9916730         2   nm0059461     actor  \\N   \n",
       "2952503  tt9916730         3  nm13233318     actor  \\N   \n",
       "2952504  tt9916730         4   nm4852679     actor  \\N   \n",
       "\n",
       "                                                characters  gender  \\\n",
       "0                 [\"Miss Geraldine Holbrook (Miss Jerry)\"]  female   \n",
       "1                                         [\"Mr. Hamilton\"]    male   \n",
       "2        [\"Chauncey Depew - the Director of the New Yor...    male   \n",
       "3                                                       \\N    male   \n",
       "4                                                       \\N    male   \n",
       "...                                                    ...     ...   \n",
       "2952500                                                 \\N  female   \n",
       "2952501                                                 \\N    male   \n",
       "2952502                                                 \\N    male   \n",
       "2952503                                         [\"Vishal\"]    male   \n",
       "2952504                                                 \\N    male   \n",
       "\n",
       "                 primaryName birthYear     primaryTitle    originalTitle  \\\n",
       "0            Blanche Bayliss      1878       Miss Jerry       Miss Jerry   \n",
       "1          William Courtenay      1875       Miss Jerry       Miss Jerry   \n",
       "2             Chauncey Depew      1834       Miss Jerry       Miss Jerry   \n",
       "3            Alexander Black      1859       Miss Jerry       Miss Jerry   \n",
       "4           Antonio del Pozo        \\N         Bohemios         Bohemios   \n",
       "...                      ...       ...              ...              ...   \n",
       "2952500       Ashwini Ekbote      1972  Dankyavar Danka  Dankyavar Danka   \n",
       "2952501      Devadhar Archit        \\N           6 Gunn           6 Gunn   \n",
       "2952502          Sunil Barve        \\N           6 Gunn           6 Gunn   \n",
       "2952503  Ganesh Vasant Patil        \\N           6 Gunn           6 Gunn   \n",
       "2952504      Bhushan Pradhan        \\N           6 Gunn           6 Gunn   \n",
       "\n",
       "        startYear runtimeMinutes   genres  \n",
       "0            1894             45  Romance  \n",
       "1            1894             45  Romance  \n",
       "2            1894             45  Romance  \n",
       "3            1894             45  Romance  \n",
       "4            1905            100       \\N  \n",
       "...           ...            ...      ...  \n",
       "2952500      2013             \\N   Comedy  \n",
       "2952501      2017            116       \\N  \n",
       "2952502      2017            116       \\N  \n",
       "2952503      2017            116       \\N  \n",
       "2952504      2017            116       \\N  \n",
       "\n",
       "[2952505 rows x 14 columns]"
      ]
     },
     "execution_count": 42,
     "metadata": {},
     "output_type": "execute_result"
    }
   ],
   "source": [
    "picklefile = open('df24', 'rb')\n",
    "#unpickle the dataframe\n",
    "df24_retrieved = pickle.load(picklefile)\n",
    "df24_retrieved"
   ]
  },
  {
   "cell_type": "markdown",
   "id": "718bc4f9",
   "metadata": {},
   "source": [
    "### 2.5 Title ratings <a class=\"anchor\" id=\"section_2_5\"></a>"
   ]
  },
  {
   "cell_type": "code",
   "execution_count": 43,
   "id": "95c55f46",
   "metadata": {},
   "outputs": [
    {
     "data": {
      "text/html": [
       "<div>\n",
       "<style scoped>\n",
       "    .dataframe tbody tr th:only-of-type {\n",
       "        vertical-align: middle;\n",
       "    }\n",
       "\n",
       "    .dataframe tbody tr th {\n",
       "        vertical-align: top;\n",
       "    }\n",
       "\n",
       "    .dataframe thead th {\n",
       "        text-align: right;\n",
       "    }\n",
       "</style>\n",
       "<table border=\"1\" class=\"dataframe\">\n",
       "  <thead>\n",
       "    <tr style=\"text-align: right;\">\n",
       "      <th></th>\n",
       "      <th>tconst</th>\n",
       "      <th>averageRating</th>\n",
       "      <th>numVotes</th>\n",
       "    </tr>\n",
       "  </thead>\n",
       "  <tbody>\n",
       "    <tr>\n",
       "      <th>0</th>\n",
       "      <td>tt0000001</td>\n",
       "      <td>5.7</td>\n",
       "      <td>1922</td>\n",
       "    </tr>\n",
       "    <tr>\n",
       "      <th>1</th>\n",
       "      <td>tt0000002</td>\n",
       "      <td>5.8</td>\n",
       "      <td>259</td>\n",
       "    </tr>\n",
       "    <tr>\n",
       "      <th>2</th>\n",
       "      <td>tt0000003</td>\n",
       "      <td>6.5</td>\n",
       "      <td>1734</td>\n",
       "    </tr>\n",
       "    <tr>\n",
       "      <th>3</th>\n",
       "      <td>tt0000004</td>\n",
       "      <td>5.6</td>\n",
       "      <td>174</td>\n",
       "    </tr>\n",
       "    <tr>\n",
       "      <th>4</th>\n",
       "      <td>tt0000005</td>\n",
       "      <td>6.2</td>\n",
       "      <td>2545</td>\n",
       "    </tr>\n",
       "  </tbody>\n",
       "</table>\n",
       "</div>"
      ],
      "text/plain": [
       "      tconst  averageRating  numVotes\n",
       "0  tt0000001            5.7      1922\n",
       "1  tt0000002            5.8       259\n",
       "2  tt0000003            6.5      1734\n",
       "3  tt0000004            5.6       174\n",
       "4  tt0000005            6.2      2545"
      ]
     },
     "execution_count": 43,
     "metadata": {},
     "output_type": "execute_result"
    }
   ],
   "source": [
    "f = gzip.open(data_folder_IMDB + '/title.ratings.tsv.gz', 'rb')\n",
    "df_title_ratings=  pd.read_csv(f, sep='\\t')\n",
    "df_title_ratings.head(5)"
   ]
  },
  {
   "cell_type": "code",
   "execution_count": 44,
   "id": "26b8b0c2",
   "metadata": {},
   "outputs": [],
   "source": [
    "df_25 = df24_retrieved.merge(df_title_ratings, how = 'left', on = 'tconst')"
   ]
  },
  {
   "cell_type": "code",
   "execution_count": 45,
   "id": "07eb68a3",
   "metadata": {},
   "outputs": [],
   "source": [
    "#creates a file\n",
    "picklefile = open('df_25', 'wb')\n",
    "#pickles the dataframe\n",
    "pickle.dump(df_25, picklefile)"
   ]
  },
  {
   "cell_type": "markdown",
   "id": "688b047b",
   "metadata": {},
   "source": [
    "### 2.6 Linking IMDb Ids to freebase movie Ids <a class=\"anchor\" id=\"section_2_6\"></a>"
   ]
  },
  {
   "cell_type": "code",
   "execution_count": 46,
   "id": "ce099101",
   "metadata": {},
   "outputs": [
    {
     "data": {
      "text/html": [
       "<div>\n",
       "<style scoped>\n",
       "    .dataframe tbody tr th:only-of-type {\n",
       "        vertical-align: middle;\n",
       "    }\n",
       "\n",
       "    .dataframe tbody tr th {\n",
       "        vertical-align: top;\n",
       "    }\n",
       "\n",
       "    .dataframe thead th {\n",
       "        text-align: right;\n",
       "    }\n",
       "</style>\n",
       "<table border=\"1\" class=\"dataframe\">\n",
       "  <thead>\n",
       "    <tr style=\"text-align: right;\">\n",
       "      <th></th>\n",
       "      <th>tconst</th>\n",
       "      <th>ordering</th>\n",
       "      <th>nconst</th>\n",
       "      <th>category</th>\n",
       "      <th>job</th>\n",
       "      <th>characters</th>\n",
       "      <th>gender</th>\n",
       "      <th>primaryName</th>\n",
       "      <th>birthYear</th>\n",
       "      <th>primaryTitle</th>\n",
       "      <th>originalTitle</th>\n",
       "      <th>startYear</th>\n",
       "      <th>runtimeMinutes</th>\n",
       "      <th>genres</th>\n",
       "      <th>averageRating</th>\n",
       "      <th>numVotes</th>\n",
       "    </tr>\n",
       "  </thead>\n",
       "  <tbody>\n",
       "    <tr>\n",
       "      <th>0</th>\n",
       "      <td>tt0000009</td>\n",
       "      <td>1</td>\n",
       "      <td>nm0063086</td>\n",
       "      <td>actress</td>\n",
       "      <td>\\N</td>\n",
       "      <td>[\"Miss Geraldine Holbrook (Miss Jerry)\"]</td>\n",
       "      <td>female</td>\n",
       "      <td>Blanche Bayliss</td>\n",
       "      <td>1878</td>\n",
       "      <td>Miss Jerry</td>\n",
       "      <td>Miss Jerry</td>\n",
       "      <td>1894</td>\n",
       "      <td>45</td>\n",
       "      <td>Romance</td>\n",
       "      <td>5.2</td>\n",
       "      <td>200.0</td>\n",
       "    </tr>\n",
       "    <tr>\n",
       "      <th>1</th>\n",
       "      <td>tt0000009</td>\n",
       "      <td>2</td>\n",
       "      <td>nm0183823</td>\n",
       "      <td>actor</td>\n",
       "      <td>\\N</td>\n",
       "      <td>[\"Mr. Hamilton\"]</td>\n",
       "      <td>male</td>\n",
       "      <td>William Courtenay</td>\n",
       "      <td>1875</td>\n",
       "      <td>Miss Jerry</td>\n",
       "      <td>Miss Jerry</td>\n",
       "      <td>1894</td>\n",
       "      <td>45</td>\n",
       "      <td>Romance</td>\n",
       "      <td>5.2</td>\n",
       "      <td>200.0</td>\n",
       "    </tr>\n",
       "    <tr>\n",
       "      <th>2</th>\n",
       "      <td>tt0000009</td>\n",
       "      <td>3</td>\n",
       "      <td>nm1309758</td>\n",
       "      <td>actor</td>\n",
       "      <td>\\N</td>\n",
       "      <td>[\"Chauncey Depew - the Director of the New Yor...</td>\n",
       "      <td>male</td>\n",
       "      <td>Chauncey Depew</td>\n",
       "      <td>1834</td>\n",
       "      <td>Miss Jerry</td>\n",
       "      <td>Miss Jerry</td>\n",
       "      <td>1894</td>\n",
       "      <td>45</td>\n",
       "      <td>Romance</td>\n",
       "      <td>5.2</td>\n",
       "      <td>200.0</td>\n",
       "    </tr>\n",
       "  </tbody>\n",
       "</table>\n",
       "</div>"
      ],
      "text/plain": [
       "      tconst  ordering     nconst category job  \\\n",
       "0  tt0000009         1  nm0063086  actress  \\N   \n",
       "1  tt0000009         2  nm0183823    actor  \\N   \n",
       "2  tt0000009         3  nm1309758    actor  \\N   \n",
       "\n",
       "                                          characters  gender  \\\n",
       "0           [\"Miss Geraldine Holbrook (Miss Jerry)\"]  female   \n",
       "1                                   [\"Mr. Hamilton\"]    male   \n",
       "2  [\"Chauncey Depew - the Director of the New Yor...    male   \n",
       "\n",
       "         primaryName birthYear primaryTitle originalTitle startYear  \\\n",
       "0    Blanche Bayliss      1878   Miss Jerry    Miss Jerry      1894   \n",
       "1  William Courtenay      1875   Miss Jerry    Miss Jerry      1894   \n",
       "2     Chauncey Depew      1834   Miss Jerry    Miss Jerry      1894   \n",
       "\n",
       "  runtimeMinutes   genres  averageRating  numVotes  \n",
       "0             45  Romance            5.2     200.0  \n",
       "1             45  Romance            5.2     200.0  \n",
       "2             45  Romance            5.2     200.0  "
      ]
     },
     "execution_count": 46,
     "metadata": {},
     "output_type": "execute_result"
    }
   ],
   "source": [
    "picklefile = open('df_25', 'rb')\n",
    "#unpickle the dataframe\n",
    "df25_retrieved = pickle.load(picklefile)\n",
    "df25_retrieved.head(3)"
   ]
  },
  {
   "cell_type": "markdown",
   "id": "3afc8a1e",
   "metadata": {},
   "source": [
    "We query the mapping between freebase and IMDb IDs on movies"
   ]
  },
  {
   "cell_type": "code",
   "execution_count": 47,
   "id": "e609f7ea",
   "metadata": {},
   "outputs": [
    {
     "data": {
      "text/html": [
       "<div>\n",
       "<style scoped>\n",
       "    .dataframe tbody tr th:only-of-type {\n",
       "        vertical-align: middle;\n",
       "    }\n",
       "\n",
       "    .dataframe tbody tr th {\n",
       "        vertical-align: top;\n",
       "    }\n",
       "\n",
       "    .dataframe thead th {\n",
       "        text-align: right;\n",
       "    }\n",
       "</style>\n",
       "<table border=\"1\" class=\"dataframe\">\n",
       "  <thead>\n",
       "    <tr style=\"text-align: right;\">\n",
       "      <th></th>\n",
       "      <th>freebaseID</th>\n",
       "      <th>IMDb_ID</th>\n",
       "    </tr>\n",
       "  </thead>\n",
       "  <tbody>\n",
       "    <tr>\n",
       "      <th>0</th>\n",
       "      <td>/m/05cj_j</td>\n",
       "      <td>tt0074512</td>\n",
       "    </tr>\n",
       "    <tr>\n",
       "      <th>1</th>\n",
       "      <td>/m/0d1t3h</td>\n",
       "      <td>tt0079630</td>\n",
       "    </tr>\n",
       "    <tr>\n",
       "      <th>2</th>\n",
       "      <td>/m/0gt35</td>\n",
       "      <td>tt0031971</td>\n",
       "    </tr>\n",
       "  </tbody>\n",
       "</table>\n",
       "</div>"
      ],
      "text/plain": [
       "  freebaseID    IMDb_ID\n",
       "0  /m/05cj_j  tt0074512\n",
       "1  /m/0d1t3h  tt0079630\n",
       "2   /m/0gt35  tt0031971"
      ]
     },
     "execution_count": 47,
     "metadata": {},
     "output_type": "execute_result"
    }
   ],
   "source": [
    "freebase_to_imdb = pd.read_csv('freebase_to_imdb.csv')\n",
    "freebase_to_imdb.drop(columns = ['sitelink', 'item'], inplace = True)\n",
    "freebase_to_imdb.head(3)"
   ]
  },
  {
   "cell_type": "markdown",
   "id": "55c035ae",
   "metadata": {},
   "source": [
    "We obtained 102808 matches between freebase IDs and IMDb IDs."
   ]
  },
  {
   "cell_type": "code",
   "execution_count": 48,
   "id": "32837c0c",
   "metadata": {},
   "outputs": [],
   "source": [
    "df26 = df25_retrieved.merge(freebase_to_imdb, how = 'inner', left_on = 'tconst', right_on = 'IMDb_ID')\n",
    "df26 = df26.drop(columns ='IMDb_ID')\n",
    "df26 = df26.drop_duplicates()\n",
    "final_df_imdb = df26"
   ]
  },
  {
   "cell_type": "code",
   "execution_count": 49,
   "id": "a99a3b71",
   "metadata": {},
   "outputs": [
    {
     "name": "stdout",
     "output_type": "stream",
     "text": [
      "We kept 95116 movies and 182266 persons working on those movies\n"
     ]
    }
   ],
   "source": [
    "print('We kept {} movies and {} persons working on those movies'.format(final_df_imdb['tconst'].nunique(),final_df_imdb['nconst'].nunique()))"
   ]
  },
  {
   "cell_type": "code",
   "execution_count": 50,
   "id": "2835fca4",
   "metadata": {},
   "outputs": [
    {
     "data": {
      "text/html": [
       "<div>\n",
       "<style scoped>\n",
       "    .dataframe tbody tr th:only-of-type {\n",
       "        vertical-align: middle;\n",
       "    }\n",
       "\n",
       "    .dataframe tbody tr th {\n",
       "        vertical-align: top;\n",
       "    }\n",
       "\n",
       "    .dataframe thead th {\n",
       "        text-align: right;\n",
       "    }\n",
       "</style>\n",
       "<table border=\"1\" class=\"dataframe\">\n",
       "  <thead>\n",
       "    <tr style=\"text-align: right;\">\n",
       "      <th></th>\n",
       "      <th>ordering</th>\n",
       "      <th>averageRating</th>\n",
       "      <th>numVotes</th>\n",
       "    </tr>\n",
       "  </thead>\n",
       "  <tbody>\n",
       "    <tr>\n",
       "      <th>count</th>\n",
       "      <td>732778.000000</td>\n",
       "      <td>662971.000000</td>\n",
       "      <td>6.629710e+05</td>\n",
       "    </tr>\n",
       "    <tr>\n",
       "      <th>mean</th>\n",
       "      <td>4.878602</td>\n",
       "      <td>6.167301</td>\n",
       "      <td>1.066603e+04</td>\n",
       "    </tr>\n",
       "    <tr>\n",
       "      <th>std</th>\n",
       "      <td>2.819658</td>\n",
       "      <td>1.087002</td>\n",
       "      <td>6.368150e+04</td>\n",
       "    </tr>\n",
       "    <tr>\n",
       "      <th>min</th>\n",
       "      <td>1.000000</td>\n",
       "      <td>1.000000</td>\n",
       "      <td>5.000000e+00</td>\n",
       "    </tr>\n",
       "    <tr>\n",
       "      <th>25%</th>\n",
       "      <td>2.000000</td>\n",
       "      <td>5.600000</td>\n",
       "      <td>8.400000e+01</td>\n",
       "    </tr>\n",
       "    <tr>\n",
       "      <th>50%</th>\n",
       "      <td>4.000000</td>\n",
       "      <td>6.300000</td>\n",
       "      <td>3.670000e+02</td>\n",
       "    </tr>\n",
       "    <tr>\n",
       "      <th>75%</th>\n",
       "      <td>7.000000</td>\n",
       "      <td>6.900000</td>\n",
       "      <td>1.798000e+03</td>\n",
       "    </tr>\n",
       "    <tr>\n",
       "      <th>max</th>\n",
       "      <td>10.000000</td>\n",
       "      <td>9.800000</td>\n",
       "      <td>2.659398e+06</td>\n",
       "    </tr>\n",
       "  </tbody>\n",
       "</table>\n",
       "</div>"
      ],
      "text/plain": [
       "            ordering  averageRating      numVotes\n",
       "count  732778.000000  662971.000000  6.629710e+05\n",
       "mean        4.878602       6.167301  1.066603e+04\n",
       "std         2.819658       1.087002  6.368150e+04\n",
       "min         1.000000       1.000000  5.000000e+00\n",
       "25%         2.000000       5.600000  8.400000e+01\n",
       "50%         4.000000       6.300000  3.670000e+02\n",
       "75%         7.000000       6.900000  1.798000e+03\n",
       "max        10.000000       9.800000  2.659398e+06"
      ]
     },
     "execution_count": 50,
     "metadata": {},
     "output_type": "execute_result"
    }
   ],
   "source": [
    "final_df_imdb.describe()"
   ]
  },
  {
   "cell_type": "code",
   "execution_count": 51,
   "id": "b0d154f4",
   "metadata": {},
   "outputs": [],
   "source": [
    "final_df_imdb = final_df_imdb.merge(df_title_crew, how = 'left', on = 'tconst')"
   ]
  },
  {
   "cell_type": "code",
   "execution_count": 52,
   "id": "5c5d174f",
   "metadata": {},
   "outputs": [],
   "source": [
    "#creates a file\n",
    "picklefile = open('final_df_imdb', 'wb')\n",
    "#pickles the dataframe\n",
    "pickle.dump(final_df_imdb, picklefile)"
   ]
  },
  {
   "cell_type": "code",
   "execution_count": 53,
   "id": "6447f60c",
   "metadata": {},
   "outputs": [
    {
     "data": {
      "text/html": [
       "<div>\n",
       "<style scoped>\n",
       "    .dataframe tbody tr th:only-of-type {\n",
       "        vertical-align: middle;\n",
       "    }\n",
       "\n",
       "    .dataframe tbody tr th {\n",
       "        vertical-align: top;\n",
       "    }\n",
       "\n",
       "    .dataframe thead th {\n",
       "        text-align: right;\n",
       "    }\n",
       "</style>\n",
       "<table border=\"1\" class=\"dataframe\">\n",
       "  <thead>\n",
       "    <tr style=\"text-align: right;\">\n",
       "      <th></th>\n",
       "      <th>tconst</th>\n",
       "      <th>ordering</th>\n",
       "      <th>nconst</th>\n",
       "      <th>category</th>\n",
       "      <th>job</th>\n",
       "      <th>characters</th>\n",
       "      <th>gender</th>\n",
       "      <th>primaryName</th>\n",
       "      <th>birthYear</th>\n",
       "      <th>primaryTitle</th>\n",
       "      <th>originalTitle</th>\n",
       "      <th>startYear</th>\n",
       "      <th>runtimeMinutes</th>\n",
       "      <th>genres</th>\n",
       "      <th>averageRating</th>\n",
       "      <th>numVotes</th>\n",
       "      <th>freebaseID</th>\n",
       "      <th>directors</th>\n",
       "      <th>writers</th>\n",
       "    </tr>\n",
       "  </thead>\n",
       "  <tbody>\n",
       "    <tr>\n",
       "      <th>0</th>\n",
       "      <td>tt0000591</td>\n",
       "      <td>1</td>\n",
       "      <td>nm0906197</td>\n",
       "      <td>actor</td>\n",
       "      <td>\\N</td>\n",
       "      <td>\\N</td>\n",
       "      <td>male</td>\n",
       "      <td>Georges Wague</td>\n",
       "      <td>1874</td>\n",
       "      <td>The Prodigal Son</td>\n",
       "      <td>L'enfant prodigue</td>\n",
       "      <td>1907</td>\n",
       "      <td>90</td>\n",
       "      <td>Drama</td>\n",
       "      <td>5.1</td>\n",
       "      <td>20.0</td>\n",
       "      <td>/m/07s67rr</td>\n",
       "      <td>nm0141150</td>\n",
       "      <td>nm0141150</td>\n",
       "    </tr>\n",
       "    <tr>\n",
       "      <th>1</th>\n",
       "      <td>tt0000591</td>\n",
       "      <td>2</td>\n",
       "      <td>nm0332182</td>\n",
       "      <td>actor</td>\n",
       "      <td>\\N</td>\n",
       "      <td>\\N</td>\n",
       "      <td>male</td>\n",
       "      <td>Henri Gouget</td>\n",
       "      <td>\\N</td>\n",
       "      <td>The Prodigal Son</td>\n",
       "      <td>L'enfant prodigue</td>\n",
       "      <td>1907</td>\n",
       "      <td>90</td>\n",
       "      <td>Drama</td>\n",
       "      <td>5.1</td>\n",
       "      <td>20.0</td>\n",
       "      <td>/m/07s67rr</td>\n",
       "      <td>nm0141150</td>\n",
       "      <td>nm0141150</td>\n",
       "    </tr>\n",
       "    <tr>\n",
       "      <th>2</th>\n",
       "      <td>tt0000591</td>\n",
       "      <td>3</td>\n",
       "      <td>nm1323543</td>\n",
       "      <td>actress</td>\n",
       "      <td>\\N</td>\n",
       "      <td>\\N</td>\n",
       "      <td>female</td>\n",
       "      <td>Christiane Mandelys</td>\n",
       "      <td>1873</td>\n",
       "      <td>The Prodigal Son</td>\n",
       "      <td>L'enfant prodigue</td>\n",
       "      <td>1907</td>\n",
       "      <td>90</td>\n",
       "      <td>Drama</td>\n",
       "      <td>5.1</td>\n",
       "      <td>20.0</td>\n",
       "      <td>/m/07s67rr</td>\n",
       "      <td>nm0141150</td>\n",
       "      <td>nm0141150</td>\n",
       "    </tr>\n",
       "    <tr>\n",
       "      <th>3</th>\n",
       "      <td>tt0000591</td>\n",
       "      <td>4</td>\n",
       "      <td>nm1759558</td>\n",
       "      <td>actress</td>\n",
       "      <td>\\N</td>\n",
       "      <td>\\N</td>\n",
       "      <td>female</td>\n",
       "      <td>Gilberte Sergy</td>\n",
       "      <td>\\N</td>\n",
       "      <td>The Prodigal Son</td>\n",
       "      <td>L'enfant prodigue</td>\n",
       "      <td>1907</td>\n",
       "      <td>90</td>\n",
       "      <td>Drama</td>\n",
       "      <td>5.1</td>\n",
       "      <td>20.0</td>\n",
       "      <td>/m/07s67rr</td>\n",
       "      <td>nm0141150</td>\n",
       "      <td>nm0141150</td>\n",
       "    </tr>\n",
       "    <tr>\n",
       "      <th>4</th>\n",
       "      <td>tt0000591</td>\n",
       "      <td>5</td>\n",
       "      <td>nm0141150</td>\n",
       "      <td>director</td>\n",
       "      <td>\\N</td>\n",
       "      <td>\\N</td>\n",
       "      <td>male</td>\n",
       "      <td>Michel Carré</td>\n",
       "      <td>1865</td>\n",
       "      <td>The Prodigal Son</td>\n",
       "      <td>L'enfant prodigue</td>\n",
       "      <td>1907</td>\n",
       "      <td>90</td>\n",
       "      <td>Drama</td>\n",
       "      <td>5.1</td>\n",
       "      <td>20.0</td>\n",
       "      <td>/m/07s67rr</td>\n",
       "      <td>nm0141150</td>\n",
       "      <td>nm0141150</td>\n",
       "    </tr>\n",
       "    <tr>\n",
       "      <th>...</th>\n",
       "      <td>...</td>\n",
       "      <td>...</td>\n",
       "      <td>...</td>\n",
       "      <td>...</td>\n",
       "      <td>...</td>\n",
       "      <td>...</td>\n",
       "      <td>...</td>\n",
       "      <td>...</td>\n",
       "      <td>...</td>\n",
       "      <td>...</td>\n",
       "      <td>...</td>\n",
       "      <td>...</td>\n",
       "      <td>...</td>\n",
       "      <td>...</td>\n",
       "      <td>...</td>\n",
       "      <td>...</td>\n",
       "      <td>...</td>\n",
       "      <td>...</td>\n",
       "      <td>...</td>\n",
       "    </tr>\n",
       "    <tr>\n",
       "      <th>732773</th>\n",
       "      <td>tt9898504</td>\n",
       "      <td>4</td>\n",
       "      <td>nm0474753</td>\n",
       "      <td>actress</td>\n",
       "      <td>\\N</td>\n",
       "      <td>\\N</td>\n",
       "      <td>female</td>\n",
       "      <td>Noor Kumalasari</td>\n",
       "      <td>\\N</td>\n",
       "      <td>Puteri Gunong Ledang</td>\n",
       "      <td>Puteri Gunong Ledang</td>\n",
       "      <td>1961</td>\n",
       "      <td>\\N</td>\n",
       "      <td>Fantasy</td>\n",
       "      <td>NaN</td>\n",
       "      <td>NaN</td>\n",
       "      <td>/m/027jl28</td>\n",
       "      <td>nm0634777</td>\n",
       "      <td>\\N</td>\n",
       "    </tr>\n",
       "    <tr>\n",
       "      <th>732774</th>\n",
       "      <td>tt9898504</td>\n",
       "      <td>6</td>\n",
       "      <td>nm1007470</td>\n",
       "      <td>actor</td>\n",
       "      <td>\\N</td>\n",
       "      <td>\\N</td>\n",
       "      <td>male</td>\n",
       "      <td>Puteh Lawak</td>\n",
       "      <td>\\N</td>\n",
       "      <td>Puteri Gunong Ledang</td>\n",
       "      <td>Puteri Gunong Ledang</td>\n",
       "      <td>1961</td>\n",
       "      <td>\\N</td>\n",
       "      <td>Fantasy</td>\n",
       "      <td>NaN</td>\n",
       "      <td>NaN</td>\n",
       "      <td>/m/027jl28</td>\n",
       "      <td>nm0634777</td>\n",
       "      <td>\\N</td>\n",
       "    </tr>\n",
       "    <tr>\n",
       "      <th>732775</th>\n",
       "      <td>tt9898504</td>\n",
       "      <td>7</td>\n",
       "      <td>nm0575397</td>\n",
       "      <td>actor</td>\n",
       "      <td>\\N</td>\n",
       "      <td>[\"Datuk Bendahara\"]</td>\n",
       "      <td>male</td>\n",
       "      <td>Shariff Medan</td>\n",
       "      <td>\\N</td>\n",
       "      <td>Puteri Gunong Ledang</td>\n",
       "      <td>Puteri Gunong Ledang</td>\n",
       "      <td>1961</td>\n",
       "      <td>\\N</td>\n",
       "      <td>Fantasy</td>\n",
       "      <td>NaN</td>\n",
       "      <td>NaN</td>\n",
       "      <td>/m/027jl28</td>\n",
       "      <td>nm0634777</td>\n",
       "      <td>\\N</td>\n",
       "    </tr>\n",
       "    <tr>\n",
       "      <th>732776</th>\n",
       "      <td>tt9898504</td>\n",
       "      <td>8</td>\n",
       "      <td>nm1403057</td>\n",
       "      <td>actor</td>\n",
       "      <td>\\N</td>\n",
       "      <td>[\"Ayahanda Tengku Zainol\"]</td>\n",
       "      <td>male</td>\n",
       "      <td>Ahmad Nisfu</td>\n",
       "      <td>\\N</td>\n",
       "      <td>Puteri Gunong Ledang</td>\n",
       "      <td>Puteri Gunong Ledang</td>\n",
       "      <td>1961</td>\n",
       "      <td>\\N</td>\n",
       "      <td>Fantasy</td>\n",
       "      <td>NaN</td>\n",
       "      <td>NaN</td>\n",
       "      <td>/m/027jl28</td>\n",
       "      <td>nm0634777</td>\n",
       "      <td>\\N</td>\n",
       "    </tr>\n",
       "    <tr>\n",
       "      <th>732777</th>\n",
       "      <td>tt9898504</td>\n",
       "      <td>9</td>\n",
       "      <td>nm5223665</td>\n",
       "      <td>actor</td>\n",
       "      <td>\\N</td>\n",
       "      <td>\\N</td>\n",
       "      <td>male</td>\n",
       "      <td>Satay Wahid</td>\n",
       "      <td>\\N</td>\n",
       "      <td>Puteri Gunong Ledang</td>\n",
       "      <td>Puteri Gunong Ledang</td>\n",
       "      <td>1961</td>\n",
       "      <td>\\N</td>\n",
       "      <td>Fantasy</td>\n",
       "      <td>NaN</td>\n",
       "      <td>NaN</td>\n",
       "      <td>/m/027jl28</td>\n",
       "      <td>nm0634777</td>\n",
       "      <td>\\N</td>\n",
       "    </tr>\n",
       "  </tbody>\n",
       "</table>\n",
       "<p>732778 rows × 19 columns</p>\n",
       "</div>"
      ],
      "text/plain": [
       "           tconst  ordering     nconst  category job  \\\n",
       "0       tt0000591         1  nm0906197     actor  \\N   \n",
       "1       tt0000591         2  nm0332182     actor  \\N   \n",
       "2       tt0000591         3  nm1323543   actress  \\N   \n",
       "3       tt0000591         4  nm1759558   actress  \\N   \n",
       "4       tt0000591         5  nm0141150  director  \\N   \n",
       "...           ...       ...        ...       ...  ..   \n",
       "732773  tt9898504         4  nm0474753   actress  \\N   \n",
       "732774  tt9898504         6  nm1007470     actor  \\N   \n",
       "732775  tt9898504         7  nm0575397     actor  \\N   \n",
       "732776  tt9898504         8  nm1403057     actor  \\N   \n",
       "732777  tt9898504         9  nm5223665     actor  \\N   \n",
       "\n",
       "                        characters  gender          primaryName birthYear  \\\n",
       "0                               \\N    male        Georges Wague      1874   \n",
       "1                               \\N    male         Henri Gouget        \\N   \n",
       "2                               \\N  female  Christiane Mandelys      1873   \n",
       "3                               \\N  female       Gilberte Sergy        \\N   \n",
       "4                               \\N    male         Michel Carré      1865   \n",
       "...                            ...     ...                  ...       ...   \n",
       "732773                          \\N  female      Noor Kumalasari        \\N   \n",
       "732774                          \\N    male          Puteh Lawak        \\N   \n",
       "732775         [\"Datuk Bendahara\"]    male        Shariff Medan        \\N   \n",
       "732776  [\"Ayahanda Tengku Zainol\"]    male          Ahmad Nisfu        \\N   \n",
       "732777                          \\N    male          Satay Wahid        \\N   \n",
       "\n",
       "                primaryTitle         originalTitle startYear runtimeMinutes  \\\n",
       "0           The Prodigal Son     L'enfant prodigue      1907             90   \n",
       "1           The Prodigal Son     L'enfant prodigue      1907             90   \n",
       "2           The Prodigal Son     L'enfant prodigue      1907             90   \n",
       "3           The Prodigal Son     L'enfant prodigue      1907             90   \n",
       "4           The Prodigal Son     L'enfant prodigue      1907             90   \n",
       "...                      ...                   ...       ...            ...   \n",
       "732773  Puteri Gunong Ledang  Puteri Gunong Ledang      1961             \\N   \n",
       "732774  Puteri Gunong Ledang  Puteri Gunong Ledang      1961             \\N   \n",
       "732775  Puteri Gunong Ledang  Puteri Gunong Ledang      1961             \\N   \n",
       "732776  Puteri Gunong Ledang  Puteri Gunong Ledang      1961             \\N   \n",
       "732777  Puteri Gunong Ledang  Puteri Gunong Ledang      1961             \\N   \n",
       "\n",
       "         genres  averageRating  numVotes  freebaseID  directors    writers  \n",
       "0         Drama            5.1      20.0  /m/07s67rr  nm0141150  nm0141150  \n",
       "1         Drama            5.1      20.0  /m/07s67rr  nm0141150  nm0141150  \n",
       "2         Drama            5.1      20.0  /m/07s67rr  nm0141150  nm0141150  \n",
       "3         Drama            5.1      20.0  /m/07s67rr  nm0141150  nm0141150  \n",
       "4         Drama            5.1      20.0  /m/07s67rr  nm0141150  nm0141150  \n",
       "...         ...            ...       ...         ...        ...        ...  \n",
       "732773  Fantasy            NaN       NaN  /m/027jl28  nm0634777         \\N  \n",
       "732774  Fantasy            NaN       NaN  /m/027jl28  nm0634777         \\N  \n",
       "732775  Fantasy            NaN       NaN  /m/027jl28  nm0634777         \\N  \n",
       "732776  Fantasy            NaN       NaN  /m/027jl28  nm0634777         \\N  \n",
       "732777  Fantasy            NaN       NaN  /m/027jl28  nm0634777         \\N  \n",
       "\n",
       "[732778 rows x 19 columns]"
      ]
     },
     "execution_count": 53,
     "metadata": {},
     "output_type": "execute_result"
    }
   ],
   "source": [
    "final_df_imdb"
   ]
  },
  {
   "cell_type": "markdown",
   "id": "d0e34877",
   "metadata": {},
   "source": [
    "At the end of this pipeline, we have a notebook with for 95 116 movies matching freebase ids, the principal cast, their genders which have been queried, and some more information on the movie they play in. We also have shown the utility of the IMDb dataset to get access to the directors and writers genders which can add a lot to the analysis. We can see if having a movie written by a man or a woman in order reinforce certain characters stereotypes. Furthermore, we will show in the initial analyses that we can use the cinemagoer library to access a breakdown of movie reviews by gender, and so IMDb data can add a small bonus to the analysis by showing how woman opinion is represented in a popular rating website."
   ]
  },
  {
   "cell_type": "markdown",
   "id": "343664fe",
   "metadata": {},
   "source": [
    "# 3. Initial analysis <a class=\"anchor\" id=\"section3\"></a>"
   ]
  },
  {
   "cell_type": "markdown",
   "id": "0330e7bb",
   "metadata": {
    "tags": []
   },
   "source": [
    "### 3.1 Most common actions of characters in the summaries <a class=\"anchor\" id=\"section_3_1\"></a>\n",
    "The dataframe characters_description allows us to identify action of characters in movies. We can then study, by gender, which are the most redundant actions."
   ]
  },
  {
   "cell_type": "code",
   "execution_count": 24,
   "id": "29ced915",
   "metadata": {},
   "outputs": [],
   "source": [
    "## in this study we are interested in actor's actions\n",
    "## let's remove some irrelevant words that we found\n",
    "irrelevant_words = ['\\'s', 'and', 'with', 'of', 'to', 'by', 'for', 'the', 'in', 'is', 'has', 'from', 'as',\n",
    "                   'his', 'on', 'Dr.', 'The', 'a', 'Mr.', 'John', 'Miss', 'Mrs.', 'father', 'son', 'friend', \n",
    "                   'daughter', 'wife', 'mother', 'family', 'sister', 'brother', 'man', 'men', 'Captain', \n",
    "                   'Singh', 'Jack', 'King', 'girl', 'woman', 'girlfriend', 'Mary', 'husband', 'parents', \n",
    "                   'Lady', 'children', 'White', 'Queen', 'car', 'room']\n",
    "\n",
    "conditions = (characters_descriptions['action']!='')\n",
    "\n",
    "for irr_wrd in irrelevant_words:\n",
    "    conditions = conditions&(characters_descriptions['action']!=irr_wrd)\n",
    "    \n",
    "act_df_treated = characters_descriptions[conditions]"
   ]
  },
  {
   "cell_type": "code",
   "execution_count": 95,
   "id": "c864deb2",
   "metadata": {},
   "outputs": [
    {
     "data": {
      "image/png": "[encoded data removed]",
      "text/plain": [
       "<Figure size 1000x700 with 1 Axes>"
      ]
     },
     "metadata": {},
     "output_type": "display_data"
    }
   ],
   "source": [
    "## let's have an overview of the most common actions of actors : \n",
    "most_common_actions = act_df_treated.groupby('action', as_index = False).count().sort_values('actor name', ascending = False).head(20)[['action', 'actor name']]\n",
    "plt.figure(figsize = (10, 7))\n",
    "sns.barplot(y= most_common_actions['action'], x = most_common_actions['actor name'], palette = 'viridis')\n",
    "plt.title('overview of the most common actions in resumes')\n",
    "plt.xlabel('count')\n",
    "plt.ylabel('actions')\n",
    "plt.tight_layout()"
   ]
  },
  {
   "cell_type": "code",
   "execution_count": 90,
   "id": "0dedc62b",
   "metadata": {},
   "outputs": [
    {
     "data": {
      "image/png": "[encoded data removed]",
      "text/plain": [
       "<Figure size 1000x700 with 2 Axes>"
      ]
     },
     "metadata": {},
     "output_type": "display_data"
    }
   ],
   "source": [
    "most_common_actions_M = act_df_treated[act_df_treated['actor gender']=='M'].groupby('action', as_index = False).count().sort_values('actor name', ascending = False).head(20)[['action', 'actor name']]\n",
    "most_common_actions_F = act_df_treated[act_df_treated['actor gender']=='F'].groupby('action', as_index = False).count().sort_values('actor name', ascending = False).head(20)[['action', 'actor name']]\n",
    "f, ax = plt.subplots(nrows=1, ncols=2, figsize = (10, 7), sharex = False)\n",
    "sns.barplot(ax=ax[0], y= most_common_actions_F['action'], x = most_common_actions_F['actor name'], palette = 'crest')\n",
    "sns.barplot(ax=ax[1], y= most_common_actions_M['action'], x = most_common_actions_M['actor name'], palette = 'flare')\n",
    "ax[0].set_title('most common actions for females')\n",
    "ax[1].set_title('most common actions for males')\n",
    "ax[0].set_xlabel('count')\n",
    "ax[1].set_xlabel('count')\n",
    "ax[1].set_ylabel(None)\n",
    "plt.tight_layout()"
   ]
  },
  {
   "cell_type": "markdown",
   "id": "1fb367ce",
   "metadata": {},
   "source": [
    "Looking at those graphs, it seems that there are a lot of actions in common for both men and women. But it seems that these common actions are really basic. What interest us is : what about the stereotyped actions like 'marry' or 'kill' for example ?\n",
    "\n",
    "*NB : x scales are not the same for ax[0] and ax[1]*"
   ]
  },
  {
   "cell_type": "code",
   "execution_count": 40,
   "id": "18214481",
   "metadata": {},
   "outputs": [],
   "source": [
    "## Now let's separate the data set into one for males and one for females.\n",
    "## We will make some more comparisons\n",
    "male_description = act_df_treated[act_df_treated['actor gender']=='M']\n",
    "female_description = act_df_treated[act_df_treated['actor gender']=='F']"
   ]
  },
  {
   "cell_type": "markdown",
   "id": "746d3911",
   "metadata": {},
   "source": [
    "We are interested her in the 100 most common actions for males, and for females, but separately this time. "
   ]
  },
  {
   "cell_type": "code",
   "execution_count": 41,
   "id": "92bcf1e9",
   "metadata": {},
   "outputs": [],
   "source": [
    "## let's take the 100 most common actions for males also for females\n",
    "## We will look at actions that are common for both genders and the ones that are only \n",
    "## for on of them\n",
    "head_males = male_description.groupby('action', as_index=False).count().sort_values('actor name', ascending = False).head(100)\n",
    "head_females = female_description.groupby('action', as_index=False).count().sort_values('actor name', ascending = False).head(100)"
   ]
  },
  {
   "cell_type": "code",
   "execution_count": 45,
   "id": "f287d434",
   "metadata": {},
   "outputs": [
    {
     "name": "stdout",
     "output_type": "stream",
     "text": [
      "Men and women share 87 actions over their 100 most common actions.\n"
     ]
    },
    {
     "data": {
      "image/png": "[encoded data removed]",
      "text/plain": [
       "<Figure size 1000x700 with 1 Axes>"
      ]
     },
     "metadata": {},
     "output_type": "display_data"
    }
   ],
   "source": [
    "## we merge them on their common most common words :\n",
    "merge_df = head_males.merge(head_females, how = 'inner', on = 'action', suffixes=('_M', '_F'))\n",
    "plt.figure(figsize = (10, 7))\n",
    "sns.barplot(y= merge_df.head(20)['action'], x = merge_df.head(20)['actor name_M']+merge_df.head(20)['actor name_F'])\n",
    "plt.title('overview of the most common actions that share males and females')\n",
    "plt.xlabel('count')\n",
    "plt.ylabel('actions')\n",
    "#plt.xticks(rotation=30)\n",
    "plt.tight_layout()\n",
    "## on the 100 most common actions for men and female, how many are shared by both gender ?\n",
    "print('Men and women share ' + str(merge_df.shape[0]) + ' actions ' + 'over their 100 most common actions.')"
   ]
  },
  {
   "cell_type": "markdown",
   "id": "45046d8b-31c3-4749-a895-e6a895502aa4",
   "metadata": {},
   "source": [
    "*For the next milestone, we will aggregate words that have the same radical, for example \"kill\", \"kills\", \"killed\". This will significatively the graph*"
   ]
  },
  {
   "cell_type": "code",
   "execution_count": 97,
   "id": "aedd80a9",
   "metadata": {},
   "outputs": [
    {
     "data": {
      "image/png": "[encoded data removed]",
      "text/plain": [
       "<Figure size 1000x700 with 2 Axes>"
      ]
     },
     "metadata": {},
     "output_type": "display_data"
    }
   ],
   "source": [
    "## Now let's look at the actions that they doesn't share\n",
    "top_actions_M_not_in_top_actions_F = pd.concat([head_males[['action', 'actor name']].rename(columns={'actor name': \"actor name_M\"}), merge_df[['action', 'actor name_M']], merge_df[['action', 'actor name_M']]]).drop_duplicates(keep=False)\n",
    "top_actions_F_not_in_top_actions_F= pd.concat([head_females[['action', 'actor name']].rename(columns={'actor name': \"actor name_F\"}), merge_df[['action', 'actor name_F']], merge_df[['action', 'actor name_F']]]).drop_duplicates(keep=False)\n",
    "\n",
    "f, ax = plt.subplots(nrows=1, ncols=2, figsize = (10, 7), sharex = False)\n",
    "sns.barplot(ax=ax[0], y= top_actions_F_not_in_top_actions_F.head(13)['action'], x = top_actions_F_not_in_top_actions_F.head(13)['actor name_F'], palette = 'mako')\n",
    "sns.barplot(ax=ax[1], y= top_actions_M_not_in_top_actions_F.head(13)['action'], x = top_actions_M_not_in_top_actions_F.head(13)['actor name_M'], palette = 'flare')\n",
    "ax[0].set_title('most common actions for females only')\n",
    "ax[1].set_title('most common actions for males only')\n",
    "ax[0].set_xlabel('count')\n",
    "ax[1].set_xlabel('count')\n",
    "ax[1].set_ylabel(None)\n",
    "plt.tight_layout()"
   ]
  },
  {
   "cell_type": "markdown",
   "id": "63f84a8a-c43a-4531-8a5a-b25967214eeb",
   "metadata": {},
   "source": [
    "*NB : x scales are not the same for ax[0] and ax[1]*"
   ]
  },
  {
   "cell_type": "markdown",
   "id": "97a221a5",
   "metadata": {},
   "source": [
    "Here the result we found are very interesting. "
   ]
  },
  {
   "cell_type": "markdown",
   "id": "b5d4d4aa",
   "metadata": {},
   "source": [
    "### 3.2 Are women younger in cinema ? <a class=\"anchor\" id=\"section_3_2\"></a>"
   ]
  },
  {
   "cell_type": "code",
   "execution_count": 18,
   "id": "1194f6c8-ca31-4cd8-903f-9f8b77f33cd0",
   "metadata": {},
   "outputs": [],
   "source": [
    "world = df_merged_meta.copy()"
   ]
  },
  {
   "cell_type": "markdown",
   "id": "190789df-6b2b-40d3-aa16-cee6a966a86b",
   "metadata": {},
   "source": [
    "We only keep :\n",
    "- Films released between 1950 and 2010\n",
    "- Raws with a \"correct\" actor age, i.e. positive"
   ]
  },
  {
   "cell_type": "code",
   "execution_count": 19,
   "id": "60fac5cc-a0fe-4aa7-ae17-1a0cf47cad43",
   "metadata": {},
   "outputs": [
    {
     "name": "stdout",
     "output_type": "stream",
     "text": [
      "87.34 % of entries are exploitable ( 253919 entries )\n"
     ]
    }
   ],
   "source": [
    "init_len = world.shape[0]\n",
    "world.query('`Movie release date` >= 1950 and `Movie release date` <= 2010 ', inplace=True)\n",
    "world.query('`Actor age at movie release` > 0', inplace=True)\n",
    "perc = world.shape[0]/init_len *100\n",
    "print(\"%.2f\" % perc, '% of entries are exploitable (',world.shape[0],'entries )')\n",
    "\n",
    "#Change format :\n",
    "world['Movie countries'] = world['Movie countries'].astype('str')\n",
    "world['Movie genres'] = world['Movie genres'].astype('str')"
   ]
  },
  {
   "cell_type": "markdown",
   "id": "b048a70e-f1b3-4427-96b0-b8e6ecd1786c",
   "metadata": {},
   "source": [
    "#### Split the world in 3 regions:\n",
    "- Usa   : Hollywood\n",
    "- India : Bollywood\n",
    "- West Europe (including France, Italy, Germany, Spain, Luxembourg, Netherlands, United kingdom)"
   ]
  },
  {
   "cell_type": "code",
   "execution_count": 20,
   "id": "48caf879-eb43-43ee-b71a-b01224931252",
   "metadata": {},
   "outputs": [
    {
     "name": "stdout",
     "output_type": "stream",
     "text": [
      "usa entries : 142167\n",
      "india entries : 30076\n",
      "west europe entries : 60544\n"
     ]
    }
   ],
   "source": [
    "#Split it into three regions\n",
    "usa_df = world[world['Movie countries'].str.contains('United State')]\n",
    "print('usa entries :',usa_df.shape[0])\n",
    "india_df = world[world['Movie countries'].str.contains('India')]\n",
    "print('india entries :',india_df.shape[0])\n",
    "west_europe = ['France','Italy','German','Spain','Luxembourg','Netherlands','United kingdom'] \n",
    "west_europe_df = world[world['Movie countries'].str.contains('|'.join(west_europe),case=False)]\n",
    "print('west europe entries :',west_europe_df.shape[0])"
   ]
  },
  {
   "cell_type": "markdown",
   "id": "551c65b4-ff29-4c53-b3e3-0554c4bdacdb",
   "metadata": {},
   "source": [
    "#### Evolution of actor / actress age"
   ]
  },
  {
   "cell_type": "code",
   "execution_count": 23,
   "id": "da19014a-e27b-4ef6-a889-a81459ac11cc",
   "metadata": {},
   "outputs": [],
   "source": [
    "#Usa\n",
    "usa_men = usa_df.query('`Actor gender` == \"M\"')\n",
    "usa_women = usa_df.query('`Actor gender` == \"F\"')\n",
    "stats_by_year_usa_men = usa_men.groupby(usa_men['Movie release date']).apply(lambda x: pd.Series({\n",
    "        'average_age': x['Actor age at movie release'].mean(),\n",
    "        'lower_err_age': bootstrap_CI(x['Actor age at movie release'], 1000)[0],\n",
    "        'upper_err_age': bootstrap_CI(x['Actor age at movie release'], 1000)[1]\n",
    "    }))\n",
    "stats_by_year_usa_women = usa_women.groupby(usa_women['Movie release date']).apply(lambda x: pd.Series({\n",
    "        'average_age': x['Actor age at movie release'].mean(),\n",
    "        'lower_err_age': bootstrap_CI(x['Actor age at movie release'], 1000)[0],\n",
    "        'upper_err_age': bootstrap_CI(x['Actor age at movie release'], 1000)[1]\n",
    "    }))\n",
    "\n",
    "#India\n",
    "india_men = india_df.query('`Actor gender` == \"M\"')\n",
    "india_women = india_df.query('`Actor gender` == \"F\"')\n",
    "stats_by_year_india_men = india_men.groupby(india_men['Movie release date']).apply(lambda x: pd.Series({\n",
    "        'average_age': x['Actor age at movie release'].mean(),\n",
    "        'lower_err_age': bootstrap_CI(x['Actor age at movie release'], 1000)[0],\n",
    "        'upper_err_age': bootstrap_CI(x['Actor age at movie release'], 1000)[1]\n",
    "    }))\n",
    "stats_by_year_india_women = india_women.groupby(india_women['Movie release date']).apply(lambda x: pd.Series({\n",
    "        'average_age': x['Actor age at movie release'].mean(),\n",
    "        'lower_err_age': bootstrap_CI(x['Actor age at movie release'], 1000)[0],\n",
    "        'upper_err_age': bootstrap_CI(x['Actor age at movie release'], 1000)[1]\n",
    "    }))\n",
    "\n",
    "#Europe\n",
    "europe_men = west_europe_df.query('`Actor gender` == \"M\"')\n",
    "europe_women = west_europe_df.query('`Actor gender` == \"F\"')\n",
    "stats_by_year_europe_men = europe_men.groupby(europe_men['Movie release date']).apply(lambda x: pd.Series({\n",
    "        'average_age': x['Actor age at movie release'].mean(),\n",
    "        'lower_err_age': bootstrap_CI(x['Actor age at movie release'], 1000)[0],\n",
    "        'upper_err_age': bootstrap_CI(x['Actor age at movie release'], 1000)[1]\n",
    "    }))\n",
    "stats_by_year_europe_women = europe_women.groupby(europe_women['Movie release date']).apply(lambda x: pd.Series({\n",
    "        'average_age': x['Actor age at movie release'].mean(),\n",
    "        'lower_err_age': bootstrap_CI(x['Actor age at movie release'], 1000)[0],\n",
    "        'upper_err_age': bootstrap_CI(x['Actor age at movie release'], 1000)[1]\n",
    "    }))"
   ]
  },
  {
   "cell_type": "code",
   "execution_count": 24,
   "id": "f099b354-25bf-4dcc-a90b-860c025a6de1",
   "metadata": {},
   "outputs": [
    {
     "data": {
      "text/plain": [
       "<matplotlib.legend.Legend at 0x1bcf3ceee80>"
      ]
     },
     "execution_count": 24,
     "metadata": {},
     "output_type": "execute_result"
    },
    {
     "data": {
      "image/png": "[encoded data removed]",
      "text/plain": [
       "<Figure size 640x480 with 3 Axes>"
      ]
     },
     "metadata": {},
     "output_type": "display_data"
    }
   ],
   "source": [
    "fig, (ax1, ax2, ax3) = plt.subplots(3, sharex=True, sharey=True)\n",
    "fig.suptitle('Age at movie release')\n",
    "fig.subplots_adjust(hspace=.5)\n",
    "ax1.set_xlim([1950,2010])\n",
    "ax1.set_ylim([15,50])\n",
    "ax1.grid(True)\n",
    "ax2.grid(True)\n",
    "ax3.grid(True)\n",
    "\n",
    "\n",
    "#USA :\n",
    "ax1.set_title('Usa')\n",
    "ax1.fill_between(stats_by_year_usa_men.index, stats_by_year_usa_men.lower_err_age,\n",
    "                 stats_by_year_usa_men.upper_err_age, alpha = 0.3, color = 'lime', label='Men')\n",
    "ax1.plot(stats_by_year_usa_men.average_age, color = 'lime')\n",
    "\n",
    "ax1.fill_between(stats_by_year_usa_women.index, stats_by_year_usa_women.lower_err_age,\n",
    "                 stats_by_year_usa_women.upper_err_age, alpha = 0.3, color = 'magenta', label='Women' )\n",
    "ax1.plot(stats_by_year_usa_women.average_age, color = 'magenta')\n",
    "\n",
    "\n",
    "\n",
    "\n",
    "#INDIA :\n",
    "ax2.set_title('India')\n",
    "ax2.fill_between(stats_by_year_india_men.index, stats_by_year_india_men.lower_err_age,\n",
    "                 stats_by_year_india_men.upper_err_age, alpha = 0.3, color = 'lime')\n",
    "ax2.plot(stats_by_year_india_men.average_age, color = 'lime', label='Men')\n",
    "\n",
    "ax2.fill_between(stats_by_year_india_women.index, stats_by_year_india_women.lower_err_age,\n",
    "                 stats_by_year_india_women.upper_err_age, alpha = 0.3, color = 'magenta', label='Women')\n",
    "ax2.plot(stats_by_year_india_women.average_age, color = 'magenta')\n",
    "ax2.set_ylabel('Age when movie released')\n",
    "\n",
    "#EUROPE :\n",
    "ax3.set_title('West Europe')\n",
    "ax3.fill_between(stats_by_year_europe_men.index, stats_by_year_europe_men.lower_err_age,\n",
    "               stats_by_year_europe_men.upper_err_age, alpha = 0.3, color = 'lime', label='Men')\n",
    "ax3.plot(stats_by_year_europe_men.average_age, color = 'lime')\n",
    "\n",
    "ax3.fill_between(stats_by_year_europe_women.index, stats_by_year_europe_women.lower_err_age,\n",
    "                 stats_by_year_europe_women.upper_err_age, alpha = 0.3, color = 'magenta', label='Women')\n",
    "ax3.plot(stats_by_year_europe_women.average_age, color = 'magenta')\n",
    "ax3.set_xlabel('Year')\n",
    "\n",
    "plt.legend(loc=(1.04, 2))"
   ]
  },
  {
   "cell_type": "markdown",
   "id": "a4e99a5c-9511-496c-96d5-c36f818d5387",
   "metadata": {},
   "source": [
    "In all three major regions, the average women's age is consistently lower than that of men. Thus, actresses were and still are younger than actors in films."
   ]
  },
  {
   "cell_type": "code",
   "execution_count": 25,
   "id": "bc558638-cc7d-443f-bc0d-76a2656333bc",
   "metadata": {},
   "outputs": [
    {
     "data": {
      "text/plain": [
       "<matplotlib.legend.Legend at 0x1bcf6a6c130>"
      ]
     },
     "execution_count": 25,
     "metadata": {},
     "output_type": "execute_result"
    },
    {
     "data": {
      "image/png": "[encoded data removed]",
      "text/plain": [
       "<Figure size 1200x400 with 2 Axes>"
      ]
     },
     "metadata": {},
     "output_type": "display_data"
    }
   ],
   "source": [
    "#Plot :\n",
    "fig, (ax1, ax2) = plt.subplots(1,2,sharey=True, sharex=True, figsize=(12, 4))\n",
    "fig.suptitle('Age at movie release')\n",
    "fig.subplots_adjust(hspace=.1)\n",
    "ax1.set_xlim([1950,2010])\n",
    "ax1.set_ylim([15,50])\n",
    "ax1.grid(True)\n",
    "ax2.grid(True)\n",
    "ax1.set_title('Men')\n",
    "ax2.set_title('Women')\n",
    "ax1.set_xlabel('Year')\n",
    "ax1.set_ylabel('Age when movie released')\n",
    "ax2.set_xlabel('Year')\n",
    "\n",
    "\n",
    "#USA :\n",
    "\n",
    "ax1.fill_between(stats_by_year_usa_men.index, stats_by_year_usa_men.lower_err_age,\n",
    "                 stats_by_year_usa_men.upper_err_age, alpha = 0.5, color = 'teal')\n",
    "ax1.plot(stats_by_year_usa_men.average_age, color = 'teal')\n",
    "\n",
    "ax2.fill_between(stats_by_year_usa_women.index, stats_by_year_usa_women.lower_err_age,\n",
    "                 stats_by_year_usa_women.upper_err_age, alpha = 0.5, color = 'teal', label='Usa')\n",
    "ax2.plot(stats_by_year_usa_women.average_age, color = 'teal')\n",
    "\n",
    "\n",
    "\n",
    "#INDIA :\n",
    "\n",
    "ax1.fill_between(stats_by_year_india_men.index, stats_by_year_india_men.lower_err_age,\n",
    "                 stats_by_year_india_men.upper_err_age, alpha = 0.3, color = 'lime', label='India')\n",
    "ax1.plot(stats_by_year_india_men.average_age, color = 'lime')\n",
    "\n",
    "ax2.fill_between(stats_by_year_india_women.index, stats_by_year_india_women.lower_err_age,\n",
    "                 stats_by_year_india_women.upper_err_age, alpha = 0.3, color = 'lime', label='India')\n",
    "ax2.plot(stats_by_year_india_women.average_age, color = 'lime', )\n",
    "\n",
    "\n",
    "#EUROPE :\n",
    "\n",
    "ax1.fill_between(stats_by_year_europe_men.index, stats_by_year_europe_men.lower_err_age,\n",
    "               stats_by_year_europe_men.upper_err_age, alpha = 0.3, color = 'magenta')\n",
    "ax1.plot(stats_by_year_europe_men.average_age, color = 'magenta')\n",
    "\n",
    "ax2.fill_between(stats_by_year_europe_women.index, stats_by_year_europe_women.lower_err_age,\n",
    "                 stats_by_year_europe_women.upper_err_age, alpha = 0.3, color = 'magenta', label='West Europe')\n",
    "ax2.plot(stats_by_year_europe_women.average_age, color = 'magenta')\n",
    "\n",
    "plt.legend()\n"
   ]
  },
  {
   "cell_type": "markdown",
   "id": "ca64c439-d12d-47b2-826f-b0b3826ae111",
   "metadata": {},
   "source": [
    "We can see that men's age follow the same trend with no difference for the three differents regions. However regarding women's ages, India has a difference compared to the two other areas and so Bollywood employs slightly younger women."
   ]
  },
  {
   "cell_type": "markdown",
   "id": "47b8c412",
   "metadata": {},
   "source": [
    "### 3.3 Differences between genres <a class=\"anchor\" id=\"section_3_3\"></a>"
   ]
  },
  {
   "cell_type": "code",
   "execution_count": 74,
   "id": "51b60ef4-85e0-402f-ae53-113c42ba5a40",
   "metadata": {},
   "outputs": [],
   "source": [
    "df_genre = pd.DataFrame(df_char_meta[\"Actor gender\"])\n",
    "df_genre = df_genre.dropna(subset=['Actor gender'])\n",
    "\n",
    "df_genre[\"Actor age at release date\"] = df_char_meta[\"Actor age at movie release\"]\n",
    "df_genre = df_genre.dropna(subset=['Actor age at release date'])\n",
    "\n",
    "df_genre[\"Freebase movie ID\"] = df_char_meta[\"Freebase movie ID\"]\n",
    "df_genre = pd.merge(df_genre, df_movie_meta[[\"Freebase movie ID\", \"Movie release date\", \"Movie countries\", \"Movie genres\"]], on=\"Freebase movie ID\")\n",
    "#df_plus = df_plus.dropna(subset=['Movie box office revenue'])\n",
    "df_genre[\"Movie release date\"] = pd.to_datetime(df_genre[\"Movie release date\"])\n",
    "df_genre[\"Movie release date\"] = df_genre[\"Movie release date\"].dt.year\n",
    "\n",
    "df_genre = df_genre.query(\"`Actor age at release date` > 0\")\n",
    "df_genre = df_genre.query(\"`Movie release date` > 1915\")\n",
    "\n",
    "df_genre[\"Main genre\"] = df_genre['Movie genres'].apply(lambda x:x[0] if len(x) else \"\")\n",
    "del df_genre[\"Movie genres\"]"
   ]
  },
  {
   "cell_type": "code",
   "execution_count": 75,
   "id": "bbde04f0-1108-4a32-a4cc-b67c38ad503c",
   "metadata": {},
   "outputs": [],
   "source": [
    "df_drama = df_genre[df_genre[\"Main genre\"] == \"Drama\"]\n",
    "df_comedy = df_genre[df_genre[\"Main genre\"] == \"Comedy\"]\n",
    "df_romance = df_genre[df_genre[\"Main genre\"] == \"Romance Film\"]\n",
    "df_action = df_genre[df_genre[\"Main genre\"] == \"Action\"]\n",
    "df_BW = df_genre[df_genre[\"Main genre\"] == \"Black-and-white\"]\n",
    "df_horror = df_genre[df_genre[\"Main genre\"] == \"Horror\"]"
   ]
  },
  {
   "cell_type": "code",
   "execution_count": 119,
   "id": "2624d34e-ad53-4e87-a442-29a8148e032b",
   "metadata": {},
   "outputs": [
    {
     "data": {
      "text/html": [
       "<div>\n",
       "<style scoped>\n",
       "    .dataframe tbody tr th:only-of-type {\n",
       "        vertical-align: middle;\n",
       "    }\n",
       "\n",
       "    .dataframe tbody tr th {\n",
       "        vertical-align: top;\n",
       "    }\n",
       "\n",
       "    .dataframe thead th {\n",
       "        text-align: right;\n",
       "    }\n",
       "</style>\n",
       "<table border=\"1\" class=\"dataframe\">\n",
       "  <thead>\n",
       "    <tr style=\"text-align: right;\">\n",
       "      <th></th>\n",
       "      <th>F</th>\n",
       "      <th>M</th>\n",
       "      <th>Age difference</th>\n",
       "    </tr>\n",
       "    <tr>\n",
       "      <th>Movie gender</th>\n",
       "      <th></th>\n",
       "      <th></th>\n",
       "      <th></th>\n",
       "    </tr>\n",
       "  </thead>\n",
       "  <tbody>\n",
       "    <tr>\n",
       "      <th>drama</th>\n",
       "      <td>33.489866</td>\n",
       "      <td>39.965172</td>\n",
       "      <td>6.475306</td>\n",
       "    </tr>\n",
       "    <tr>\n",
       "      <th>action</th>\n",
       "      <td>29.186372</td>\n",
       "      <td>40.671419</td>\n",
       "      <td>11.485047</td>\n",
       "    </tr>\n",
       "    <tr>\n",
       "      <th>B&amp;W</th>\n",
       "      <td>28.257937</td>\n",
       "      <td>34.162679</td>\n",
       "      <td>5.904743</td>\n",
       "    </tr>\n",
       "    <tr>\n",
       "      <th>romance</th>\n",
       "      <td>30.863814</td>\n",
       "      <td>38.489068</td>\n",
       "      <td>7.625254</td>\n",
       "    </tr>\n",
       "    <tr>\n",
       "      <th>comedy</th>\n",
       "      <td>33.415680</td>\n",
       "      <td>40.681688</td>\n",
       "      <td>7.266008</td>\n",
       "    </tr>\n",
       "    <tr>\n",
       "      <th>horror</th>\n",
       "      <td>31.074741</td>\n",
       "      <td>39.823761</td>\n",
       "      <td>8.749020</td>\n",
       "    </tr>\n",
       "  </tbody>\n",
       "</table>\n",
       "</div>"
      ],
      "text/plain": [
       "                      F          M  Age difference\n",
       "Movie gender                                      \n",
       "drama         33.489866  39.965172        6.475306\n",
       "action        29.186372  40.671419       11.485047\n",
       "B&W           28.257937  34.162679        5.904743\n",
       "romance       30.863814  38.489068        7.625254\n",
       "comedy        33.415680  40.681688        7.266008\n",
       "horror        31.074741  39.823761        8.749020"
      ]
     },
     "execution_count": 119,
     "metadata": {},
     "output_type": "execute_result"
    }
   ],
   "source": [
    "df_age = pd.DataFrame(df_drama.groupby(by=\"Actor gender\").mean()[\"Actor age at release date\"])\n",
    "df_temp = pd.DataFrame(df_action.groupby(by=\"Actor gender\").mean()[\"Actor age at release date\"])\n",
    "df_age = pd.concat([df_age, df_temp], axis = 1)\n",
    "df_temp = pd.DataFrame(df_BW.groupby(by=\"Actor gender\").mean()[\"Actor age at release date\"])\n",
    "df_age = pd.concat([df_age, df_temp], axis = 1)\n",
    "df_temp = pd.DataFrame(df_romance.groupby(by=\"Actor gender\").mean()[\"Actor age at release date\"])\n",
    "df_age = pd.concat([df_age, df_temp], axis = 1)\n",
    "df_temp = pd.DataFrame(df_comedy.groupby(by=\"Actor gender\").mean()[\"Actor age at release date\"])\n",
    "df_age = pd.concat([df_age, df_temp], axis = 1)\n",
    "df_temp = pd.DataFrame(df_horror.groupby(by=\"Actor gender\").mean()[\"Actor age at release date\"])\n",
    "df_age = pd.concat([df_age, df_temp], axis = 1)\n",
    "df_age.columns=[\"drama\", \"action\", \"B&W\", \"romance\", \"comedy\", \"horror\"]\n",
    "df_age = df_age.transpose()\n",
    "df_age[\"Age difference\"] = df_age[\"M\"]-df_age[\"F\"]\n",
    "df_age.index.names = ['Movie gender']\n",
    "df_age.columns.names=[\"\"]\n",
    "df_age"
   ]
  },
  {
   "cell_type": "code",
   "execution_count": 108,
   "id": "f1f27b57-d5f6-4a11-8d8a-3faa8997dfcc",
   "metadata": {},
   "outputs": [
    {
     "data": {
      "application/vnd.plotly.v1+json": {
       "config": {
        "plotlyServerURL": "https://plot.ly"
       },
       "data": [
        {
         "fill": "toself",
         "hovertemplate": "Age difference=%{r}<br>theta=%{theta}<extra></extra>",
         "legendgroup": "",
         "line": {
          "color": "#636efa",
          "dash": "solid"
         },
         "marker": {
          "symbol": "circle"
         },
         "mode": "lines",
         "name": "",
         "r": [
          6.475306058146728,
          11.485047294713901,
          5.904742917900808,
          7.62525431638095,
          7.266008246174543,
          8.74902021449375,
          6.475306058146728
         ],
         "showlegend": false,
         "subplot": "polar",
         "theta": [
          "drama",
          "action",
          "B&W",
          "romance",
          "comedy",
          "horror",
          "drama"
         ],
         "type": "scatterpolar"
        }
       ],
       "layout": {
        "autosize": true,
        "legend": {
         "tracegroupgap": 0
        },
        "margin": {
         "t": 60
        },
        "polar": {
         "angularaxis": {
          "direction": "clockwise",
          "rotation": 90,
          "type": "category"
         },
         "domain": {
          "x": [
           0,
           1
          ],
          "y": [
           0,
           1
          ]
         },
         "radialaxis": {
          "autorange": true,
          "range": [
           0,
           11.485047294713901
          ],
          "type": "linear"
         }
        },
        "template": {
         "data": {
          "bar": [
           {
            "error_x": {
             "color": "#2a3f5f"
            },
            "error_y": {
             "color": "#2a3f5f"
            },
            "marker": {
             "line": {
              "color": "#E5ECF6",
              "width": 0.5
             },
             "pattern": {
              "fillmode": "overlay",
              "size": 10,
              "solidity": 0.2
             }
            },
            "type": "bar"
           }
          ],
          "barpolar": [
           {
            "marker": {
             "line": {
              "color": "#E5ECF6",
              "width": 0.5
             },
             "pattern": {
              "fillmode": "overlay",
              "size": 10,
              "solidity": 0.2
             }
            },
            "type": "barpolar"
           }
          ],
          "carpet": [
           {
            "aaxis": {
             "endlinecolor": "#2a3f5f",
             "gridcolor": "white",
             "linecolor": "white",
             "minorgridcolor": "white",
             "startlinecolor": "#2a3f5f"
            },
            "baxis": {
             "endlinecolor": "#2a3f5f",
             "gridcolor": "white",
             "linecolor": "white",
             "minorgridcolor": "white",
             "startlinecolor": "#2a3f5f"
            },
            "type": "carpet"
           }
          ],
          "choropleth": [
           {
            "colorbar": {
             "outlinewidth": 0,
             "ticks": ""
            },
            "type": "choropleth"
           }
          ],
          "contour": [
           {
            "colorbar": {
             "outlinewidth": 0,
             "ticks": ""
            },
            "colorscale": [
             [
              0,
              "#0d0887"
             ],
             [
              0.1111111111111111,
              "#46039f"
             ],
             [
              0.2222222222222222,
              "#7201a8"
             ],
             [
              0.3333333333333333,
              "#9c179e"
             ],
             [
              0.4444444444444444,
              "#bd3786"
             ],
             [
              0.5555555555555556,
              "#d8576b"
             ],
             [
              0.6666666666666666,
              "#ed7953"
             ],
             [
              0.7777777777777778,
              "#fb9f3a"
             ],
             [
              0.8888888888888888,
              "#fdca26"
             ],
             [
              1,
              "#f0f921"
             ]
            ],
            "type": "contour"
           }
          ],
          "contourcarpet": [
           {
            "colorbar": {
             "outlinewidth": 0,
             "ticks": ""
            },
            "type": "contourcarpet"
           }
          ],
          "heatmap": [
           {
            "colorbar": {
             "outlinewidth": 0,
             "ticks": ""
            },
            "colorscale": [
             [
              0,
              "#0d0887"
             ],
             [
              0.1111111111111111,
              "#46039f"
             ],
             [
              0.2222222222222222,
              "#7201a8"
             ],
             [
              0.3333333333333333,
              "#9c179e"
             ],
             [
              0.4444444444444444,
              "#bd3786"
             ],
             [
              0.5555555555555556,
              "#d8576b"
             ],
             [
              0.6666666666666666,
              "#ed7953"
             ],
             [
              0.7777777777777778,
              "#fb9f3a"
             ],
             [
              0.8888888888888888,
              "#fdca26"
             ],
             [
              1,
              "#f0f921"
             ]
            ],
            "type": "heatmap"
           }
          ],
          "heatmapgl": [
           {
            "colorbar": {
             "outlinewidth": 0,
             "ticks": ""
            },
            "colorscale": [
             [
              0,
              "#0d0887"
             ],
             [
              0.1111111111111111,
              "#46039f"
             ],
             [
              0.2222222222222222,
              "#7201a8"
             ],
             [
              0.3333333333333333,
              "#9c179e"
             ],
             [
              0.4444444444444444,
              "#bd3786"
             ],
             [
              0.5555555555555556,
              "#d8576b"
             ],
             [
              0.6666666666666666,
              "#ed7953"
             ],
             [
              0.7777777777777778,
              "#fb9f3a"
             ],
             [
              0.8888888888888888,
              "#fdca26"
             ],
             [
              1,
              "#f0f921"
             ]
            ],
            "type": "heatmapgl"
           }
          ],
          "histogram": [
           {
            "marker": {
             "pattern": {
              "fillmode": "overlay",
              "size": 10,
              "solidity": 0.2
             }
            },
            "type": "histogram"
           }
          ],
          "histogram2d": [
           {
            "colorbar": {
             "outlinewidth": 0,
             "ticks": ""
            },
            "colorscale": [
             [
              0,
              "#0d0887"
             ],
             [
              0.1111111111111111,
              "#46039f"
             ],
             [
              0.2222222222222222,
              "#7201a8"
             ],
             [
              0.3333333333333333,
              "#9c179e"
             ],
             [
              0.4444444444444444,
              "#bd3786"
             ],
             [
              0.5555555555555556,
              "#d8576b"
             ],
             [
              0.6666666666666666,
              "#ed7953"
             ],
             [
              0.7777777777777778,
              "#fb9f3a"
             ],
             [
              0.8888888888888888,
              "#fdca26"
             ],
             [
              1,
              "#f0f921"
             ]
            ],
            "type": "histogram2d"
           }
          ],
          "histogram2dcontour": [
           {
            "colorbar": {
             "outlinewidth": 0,
             "ticks": ""
            },
            "colorscale": [
             [
              0,
              "#0d0887"
             ],
             [
              0.1111111111111111,
              "#46039f"
             ],
             [
              0.2222222222222222,
              "#7201a8"
             ],
             [
              0.3333333333333333,
              "#9c179e"
             ],
             [
              0.4444444444444444,
              "#bd3786"
             ],
             [
              0.5555555555555556,
              "#d8576b"
             ],
             [
              0.6666666666666666,
              "#ed7953"
             ],
             [
              0.7777777777777778,
              "#fb9f3a"
             ],
             [
              0.8888888888888888,
              "#fdca26"
             ],
             [
              1,
              "#f0f921"
             ]
            ],
            "type": "histogram2dcontour"
           }
          ],
          "mesh3d": [
           {
            "colorbar": {
             "outlinewidth": 0,
             "ticks": ""
            },
            "type": "mesh3d"
           }
          ],
          "parcoords": [
           {
            "line": {
             "colorbar": {
              "outlinewidth": 0,
              "ticks": ""
             }
            },
            "type": "parcoords"
           }
          ],
          "pie": [
           {
            "automargin": true,
            "type": "pie"
           }
          ],
          "scatter": [
           {
            "fillpattern": {
             "fillmode": "overlay",
             "size": 10,
             "solidity": 0.2
            },
            "type": "scatter"
           }
          ],
          "scatter3d": [
           {
            "line": {
             "colorbar": {
              "outlinewidth": 0,
              "ticks": ""
             }
            },
            "marker": {
             "colorbar": {
              "outlinewidth": 0,
              "ticks": ""
             }
            },
            "type": "scatter3d"
           }
          ],
          "scattercarpet": [
           {
            "marker": {
             "colorbar": {
              "outlinewidth": 0,
              "ticks": ""
             }
            },
            "type": "scattercarpet"
           }
          ],
          "scattergeo": [
           {
            "marker": {
             "colorbar": {
              "outlinewidth": 0,
              "ticks": ""
             }
            },
            "type": "scattergeo"
           }
          ],
          "scattergl": [
           {
            "marker": {
             "colorbar": {
              "outlinewidth": 0,
              "ticks": ""
             }
            },
            "type": "scattergl"
           }
          ],
          "scattermapbox": [
           {
            "marker": {
             "colorbar": {
              "outlinewidth": 0,
              "ticks": ""
             }
            },
            "type": "scattermapbox"
           }
          ],
          "scatterpolar": [
           {
            "marker": {
             "colorbar": {
              "outlinewidth": 0,
              "ticks": ""
             }
            },
            "type": "scatterpolar"
           }
          ],
          "scatterpolargl": [
           {
            "marker": {
             "colorbar": {
              "outlinewidth": 0,
              "ticks": ""
             }
            },
            "type": "scatterpolargl"
           }
          ],
          "scatterternary": [
           {
            "marker": {
             "colorbar": {
              "outlinewidth": 0,
              "ticks": ""
             }
            },
            "type": "scatterternary"
           }
          ],
          "surface": [
           {
            "colorbar": {
             "outlinewidth": 0,
             "ticks": ""
            },
            "colorscale": [
             [
              0,
              "#0d0887"
             ],
             [
              0.1111111111111111,
              "#46039f"
             ],
             [
              0.2222222222222222,
              "#7201a8"
             ],
             [
              0.3333333333333333,
              "#9c179e"
             ],
             [
              0.4444444444444444,
              "#bd3786"
             ],
             [
              0.5555555555555556,
              "#d8576b"
             ],
             [
              0.6666666666666666,
              "#ed7953"
             ],
             [
              0.7777777777777778,
              "#fb9f3a"
             ],
             [
              0.8888888888888888,
              "#fdca26"
             ],
             [
              1,
              "#f0f921"
             ]
            ],
            "type": "surface"
           }
          ],
          "table": [
           {
            "cells": {
             "fill": {
              "color": "#EBF0F8"
             },
             "line": {
              "color": "white"
             }
            },
            "header": {
             "fill": {
              "color": "#C8D4E3"
             },
             "line": {
              "color": "white"
             }
            },
            "type": "table"
           }
          ]
         },
         "layout": {
          "annotationdefaults": {
           "arrowcolor": "#2a3f5f",
           "arrowhead": 0,
           "arrowwidth": 1
          },
          "autotypenumbers": "strict",
          "coloraxis": {
           "colorbar": {
            "outlinewidth": 0,
            "ticks": ""
           }
          },
          "colorscale": {
           "diverging": [
            [
             0,
             "#8e0152"
            ],
            [
             0.1,
             "#c51b7d"
            ],
            [
             0.2,
             "#de77ae"
            ],
            [
             0.3,
             "#f1b6da"
            ],
            [
             0.4,
             "#fde0ef"
            ],
            [
             0.5,
             "#f7f7f7"
            ],
            [
             0.6,
             "#e6f5d0"
            ],
            [
             0.7,
             "#b8e186"
            ],
            [
             0.8,
             "#7fbc41"
            ],
            [
             0.9,
             "#4d9221"
            ],
            [
             1,
             "#276419"
            ]
           ],
           "sequential": [
            [
             0,
             "#0d0887"
            ],
            [
             0.1111111111111111,
             "#46039f"
            ],
            [
             0.2222222222222222,
             "#7201a8"
            ],
            [
             0.3333333333333333,
             "#9c179e"
            ],
            [
             0.4444444444444444,
             "#bd3786"
            ],
            [
             0.5555555555555556,
             "#d8576b"
            ],
            [
             0.6666666666666666,
             "#ed7953"
            ],
            [
             0.7777777777777778,
             "#fb9f3a"
            ],
            [
             0.8888888888888888,
             "#fdca26"
            ],
            [
             1,
             "#f0f921"
            ]
           ],
           "sequentialminus": [
            [
             0,
             "#0d0887"
            ],
            [
             0.1111111111111111,
             "#46039f"
            ],
            [
             0.2222222222222222,
             "#7201a8"
            ],
            [
             0.3333333333333333,
             "#9c179e"
            ],
            [
             0.4444444444444444,
             "#bd3786"
            ],
            [
             0.5555555555555556,
             "#d8576b"
            ],
            [
             0.6666666666666666,
             "#ed7953"
            ],
            [
             0.7777777777777778,
             "#fb9f3a"
            ],
            [
             0.8888888888888888,
             "#fdca26"
            ],
            [
             1,
             "#f0f921"
            ]
           ]
          },
          "colorway": [
           "#636efa",
           "#EF553B",
           "#00cc96",
           "#ab63fa",
           "#FFA15A",
           "#19d3f3",
           "#FF6692",
           "#B6E880",
           "#FF97FF",
           "#FECB52"
          ],
          "font": {
           "color": "#2a3f5f"
          },
          "geo": {
           "bgcolor": "white",
           "lakecolor": "white",
           "landcolor": "#E5ECF6",
           "showlakes": true,
           "showland": true,
           "subunitcolor": "white"
          },
          "hoverlabel": {
           "align": "left"
          },
          "hovermode": "closest",
          "mapbox": {
           "style": "light"
          },
          "paper_bgcolor": "white",
          "plot_bgcolor": "#E5ECF6",
          "polar": {
           "angularaxis": {
            "gridcolor": "white",
            "linecolor": "white",
            "ticks": ""
           },
           "bgcolor": "#E5ECF6",
           "radialaxis": {
            "gridcolor": "white",
            "linecolor": "white",
            "ticks": ""
           }
          },
          "scene": {
           "xaxis": {
            "backgroundcolor": "#E5ECF6",
            "gridcolor": "white",
            "gridwidth": 2,
            "linecolor": "white",
            "showbackground": true,
            "ticks": "",
            "zerolinecolor": "white"
           },
           "yaxis": {
            "backgroundcolor": "#E5ECF6",
            "gridcolor": "white",
            "gridwidth": 2,
            "linecolor": "white",
            "showbackground": true,
            "ticks": "",
            "zerolinecolor": "white"
           },
           "zaxis": {
            "backgroundcolor": "#E5ECF6",
            "gridcolor": "white",
            "gridwidth": 2,
            "linecolor": "white",
            "showbackground": true,
            "ticks": "",
            "zerolinecolor": "white"
           }
          },
          "shapedefaults": {
           "line": {
            "color": "#2a3f5f"
           }
          },
          "ternary": {
           "aaxis": {
            "gridcolor": "white",
            "linecolor": "white",
            "ticks": ""
           },
           "baxis": {
            "gridcolor": "white",
            "linecolor": "white",
            "ticks": ""
           },
           "bgcolor": "#E5ECF6",
           "caxis": {
            "gridcolor": "white",
            "linecolor": "white",
            "ticks": ""
           }
          },
          "title": {
           "x": 0.05
          },
          "xaxis": {
           "automargin": true,
           "gridcolor": "white",
           "linecolor": "white",
           "ticks": "",
           "title": {
            "standoff": 15
           },
           "zerolinecolor": "white",
           "zerolinewidth": 2
          },
          "yaxis": {
           "automargin": true,
           "gridcolor": "white",
           "linecolor": "white",
           "ticks": "",
           "title": {
            "standoff": 15
           },
           "zerolinecolor": "white",
           "zerolinewidth": 2
          }
         }
        },
        "title": {
         "text": "Age difference between men and women in some of the most common movie genres",
         "x": 0.5,
         "xanchor": "center",
         "y": 0.94,
         "yanchor": "top"
        }
       }
      },
      "image/png": "[encoded data removed]",
      "text/html": [
       "<div>                            <div id=\"9b43d39b-c457-4d49-b478-f0e800bdc6e3\" class=\"plotly-graph-div\" style=\"height:525px; width:100%;\"></div>            <script type=\"text/javascript\">                require([\"plotly\"], function(Plotly) {                    window.PLOTLYENV=window.PLOTLYENV || {};                                    if (document.getElementById(\"9b43d39b-c457-4d49-b478-f0e800bdc6e3\")) {                    Plotly.newPlot(                        \"9b43d39b-c457-4d49-b478-f0e800bdc6e3\",                        [{\"hovertemplate\":\"Age difference=%{r}<br>theta=%{theta}<extra></extra>\",\"legendgroup\":\"\",\"line\":{\"color\":\"#636efa\",\"dash\":\"solid\"},\"marker\":{\"symbol\":\"circle\"},\"mode\":\"lines\",\"name\":\"\",\"r\":[6.475306058146728,11.485047294713901,5.904742917900808,7.62525431638095,7.266008246174543,8.74902021449375,6.475306058146728],\"showlegend\":false,\"subplot\":\"polar\",\"theta\":[\"drama\",\"action\",\"B&W\",\"romance\",\"comedy\",\"horror\",\"drama\"],\"type\":\"scatterpolar\",\"fill\":\"toself\"}],                        {\"template\":{\"data\":{\"histogram2dcontour\":[{\"type\":\"histogram2dcontour\",\"colorbar\":{\"outlinewidth\":0,\"ticks\":\"\"},\"colorscale\":[[0.0,\"#0d0887\"],[0.1111111111111111,\"#46039f\"],[0.2222222222222222,\"#7201a8\"],[0.3333333333333333,\"#9c179e\"],[0.4444444444444444,\"#bd3786\"],[0.5555555555555556,\"#d8576b\"],[0.6666666666666666,\"#ed7953\"],[0.7777777777777778,\"#fb9f3a\"],[0.8888888888888888,\"#fdca26\"],[1.0,\"#f0f921\"]]}],\"choropleth\":[{\"type\":\"choropleth\",\"colorbar\":{\"outlinewidth\":0,\"ticks\":\"\"}}],\"histogram2d\":[{\"type\":\"histogram2d\",\"colorbar\":{\"outlinewidth\":0,\"ticks\":\"\"},\"colorscale\":[[0.0,\"#0d0887\"],[0.1111111111111111,\"#46039f\"],[0.2222222222222222,\"#7201a8\"],[0.3333333333333333,\"#9c179e\"],[0.4444444444444444,\"#bd3786\"],[0.5555555555555556,\"#d8576b\"],[0.6666666666666666,\"#ed7953\"],[0.7777777777777778,\"#fb9f3a\"],[0.8888888888888888,\"#fdca26\"],[1.0,\"#f0f921\"]]}],\"heatmap\":[{\"type\":\"heatmap\",\"colorbar\":{\"outlinewidth\":0,\"ticks\":\"\"},\"colorscale\":[[0.0,\"#0d0887\"],[0.1111111111111111,\"#46039f\"],[0.2222222222222222,\"#7201a8\"],[0.3333333333333333,\"#9c179e\"],[0.4444444444444444,\"#bd3786\"],[0.5555555555555556,\"#d8576b\"],[0.6666666666666666,\"#ed7953\"],[0.7777777777777778,\"#fb9f3a\"],[0.8888888888888888,\"#fdca26\"],[1.0,\"#f0f921\"]]}],\"heatmapgl\":[{\"type\":\"heatmapgl\",\"colorbar\":{\"outlinewidth\":0,\"ticks\":\"\"},\"colorscale\":[[0.0,\"#0d0887\"],[0.1111111111111111,\"#46039f\"],[0.2222222222222222,\"#7201a8\"],[0.3333333333333333,\"#9c179e\"],[0.4444444444444444,\"#bd3786\"],[0.5555555555555556,\"#d8576b\"],[0.6666666666666666,\"#ed7953\"],[0.7777777777777778,\"#fb9f3a\"],[0.8888888888888888,\"#fdca26\"],[1.0,\"#f0f921\"]]}],\"contourcarpet\":[{\"type\":\"contourcarpet\",\"colorbar\":{\"outlinewidth\":0,\"ticks\":\"\"}}],\"contour\":[{\"type\":\"contour\",\"colorbar\":{\"outlinewidth\":0,\"ticks\":\"\"},\"colorscale\":[[0.0,\"#0d0887\"],[0.1111111111111111,\"#46039f\"],[0.2222222222222222,\"#7201a8\"],[0.3333333333333333,\"#9c179e\"],[0.4444444444444444,\"#bd3786\"],[0.5555555555555556,\"#d8576b\"],[0.6666666666666666,\"#ed7953\"],[0.7777777777777778,\"#fb9f3a\"],[0.8888888888888888,\"#fdca26\"],[1.0,\"#f0f921\"]]}],\"surface\":[{\"type\":\"surface\",\"colorbar\":{\"outlinewidth\":0,\"ticks\":\"\"},\"colorscale\":[[0.0,\"#0d0887\"],[0.1111111111111111,\"#46039f\"],[0.2222222222222222,\"#7201a8\"],[0.3333333333333333,\"#9c179e\"],[0.4444444444444444,\"#bd3786\"],[0.5555555555555556,\"#d8576b\"],[0.6666666666666666,\"#ed7953\"],[0.7777777777777778,\"#fb9f3a\"],[0.8888888888888888,\"#fdca26\"],[1.0,\"#f0f921\"]]}],\"mesh3d\":[{\"type\":\"mesh3d\",\"colorbar\":{\"outlinewidth\":0,\"ticks\":\"\"}}],\"scatter\":[{\"fillpattern\":{\"fillmode\":\"overlay\",\"size\":10,\"solidity\":0.2},\"type\":\"scatter\"}],\"parcoords\":[{\"type\":\"parcoords\",\"line\":{\"colorbar\":{\"outlinewidth\":0,\"ticks\":\"\"}}}],\"scatterpolargl\":[{\"type\":\"scatterpolargl\",\"marker\":{\"colorbar\":{\"outlinewidth\":0,\"ticks\":\"\"}}}],\"bar\":[{\"error_x\":{\"color\":\"#2a3f5f\"},\"error_y\":{\"color\":\"#2a3f5f\"},\"marker\":{\"line\":{\"color\":\"#E5ECF6\",\"width\":0.5},\"pattern\":{\"fillmode\":\"overlay\",\"size\":10,\"solidity\":0.2}},\"type\":\"bar\"}],\"scattergeo\":[{\"type\":\"scattergeo\",\"marker\":{\"colorbar\":{\"outlinewidth\":0,\"ticks\":\"\"}}}],\"scatterpolar\":[{\"type\":\"scatterpolar\",\"marker\":{\"colorbar\":{\"outlinewidth\":0,\"ticks\":\"\"}}}],\"histogram\":[{\"marker\":{\"pattern\":{\"fillmode\":\"overlay\",\"size\":10,\"solidity\":0.2}},\"type\":\"histogram\"}],\"scattergl\":[{\"type\":\"scattergl\",\"marker\":{\"colorbar\":{\"outlinewidth\":0,\"ticks\":\"\"}}}],\"scatter3d\":[{\"type\":\"scatter3d\",\"line\":{\"colorbar\":{\"outlinewidth\":0,\"ticks\":\"\"}},\"marker\":{\"colorbar\":{\"outlinewidth\":0,\"ticks\":\"\"}}}],\"scattermapbox\":[{\"type\":\"scattermapbox\",\"marker\":{\"colorbar\":{\"outlinewidth\":0,\"ticks\":\"\"}}}],\"scatterternary\":[{\"type\":\"scatterternary\",\"marker\":{\"colorbar\":{\"outlinewidth\":0,\"ticks\":\"\"}}}],\"scattercarpet\":[{\"type\":\"scattercarpet\",\"marker\":{\"colorbar\":{\"outlinewidth\":0,\"ticks\":\"\"}}}],\"carpet\":[{\"aaxis\":{\"endlinecolor\":\"#2a3f5f\",\"gridcolor\":\"white\",\"linecolor\":\"white\",\"minorgridcolor\":\"white\",\"startlinecolor\":\"#2a3f5f\"},\"baxis\":{\"endlinecolor\":\"#2a3f5f\",\"gridcolor\":\"white\",\"linecolor\":\"white\",\"minorgridcolor\":\"white\",\"startlinecolor\":\"#2a3f5f\"},\"type\":\"carpet\"}],\"table\":[{\"cells\":{\"fill\":{\"color\":\"#EBF0F8\"},\"line\":{\"color\":\"white\"}},\"header\":{\"fill\":{\"color\":\"#C8D4E3\"},\"line\":{\"color\":\"white\"}},\"type\":\"table\"}],\"barpolar\":[{\"marker\":{\"line\":{\"color\":\"#E5ECF6\",\"width\":0.5},\"pattern\":{\"fillmode\":\"overlay\",\"size\":10,\"solidity\":0.2}},\"type\":\"barpolar\"}],\"pie\":[{\"automargin\":true,\"type\":\"pie\"}]},\"layout\":{\"autotypenumbers\":\"strict\",\"colorway\":[\"#636efa\",\"#EF553B\",\"#00cc96\",\"#ab63fa\",\"#FFA15A\",\"#19d3f3\",\"#FF6692\",\"#B6E880\",\"#FF97FF\",\"#FECB52\"],\"font\":{\"color\":\"#2a3f5f\"},\"hovermode\":\"closest\",\"hoverlabel\":{\"align\":\"left\"},\"paper_bgcolor\":\"white\",\"plot_bgcolor\":\"#E5ECF6\",\"polar\":{\"bgcolor\":\"#E5ECF6\",\"angularaxis\":{\"gridcolor\":\"white\",\"linecolor\":\"white\",\"ticks\":\"\"},\"radialaxis\":{\"gridcolor\":\"white\",\"linecolor\":\"white\",\"ticks\":\"\"}},\"ternary\":{\"bgcolor\":\"#E5ECF6\",\"aaxis\":{\"gridcolor\":\"white\",\"linecolor\":\"white\",\"ticks\":\"\"},\"baxis\":{\"gridcolor\":\"white\",\"linecolor\":\"white\",\"ticks\":\"\"},\"caxis\":{\"gridcolor\":\"white\",\"linecolor\":\"white\",\"ticks\":\"\"}},\"coloraxis\":{\"colorbar\":{\"outlinewidth\":0,\"ticks\":\"\"}},\"colorscale\":{\"sequential\":[[0.0,\"#0d0887\"],[0.1111111111111111,\"#46039f\"],[0.2222222222222222,\"#7201a8\"],[0.3333333333333333,\"#9c179e\"],[0.4444444444444444,\"#bd3786\"],[0.5555555555555556,\"#d8576b\"],[0.6666666666666666,\"#ed7953\"],[0.7777777777777778,\"#fb9f3a\"],[0.8888888888888888,\"#fdca26\"],[1.0,\"#f0f921\"]],\"sequentialminus\":[[0.0,\"#0d0887\"],[0.1111111111111111,\"#46039f\"],[0.2222222222222222,\"#7201a8\"],[0.3333333333333333,\"#9c179e\"],[0.4444444444444444,\"#bd3786\"],[0.5555555555555556,\"#d8576b\"],[0.6666666666666666,\"#ed7953\"],[0.7777777777777778,\"#fb9f3a\"],[0.8888888888888888,\"#fdca26\"],[1.0,\"#f0f921\"]],\"diverging\":[[0,\"#8e0152\"],[0.1,\"#c51b7d\"],[0.2,\"#de77ae\"],[0.3,\"#f1b6da\"],[0.4,\"#fde0ef\"],[0.5,\"#f7f7f7\"],[0.6,\"#e6f5d0\"],[0.7,\"#b8e186\"],[0.8,\"#7fbc41\"],[0.9,\"#4d9221\"],[1,\"#276419\"]]},\"xaxis\":{\"gridcolor\":\"white\",\"linecolor\":\"white\",\"ticks\":\"\",\"title\":{\"standoff\":15},\"zerolinecolor\":\"white\",\"automargin\":true,\"zerolinewidth\":2},\"yaxis\":{\"gridcolor\":\"white\",\"linecolor\":\"white\",\"ticks\":\"\",\"title\":{\"standoff\":15},\"zerolinecolor\":\"white\",\"automargin\":true,\"zerolinewidth\":2},\"scene\":{\"xaxis\":{\"backgroundcolor\":\"#E5ECF6\",\"gridcolor\":\"white\",\"linecolor\":\"white\",\"showbackground\":true,\"ticks\":\"\",\"zerolinecolor\":\"white\",\"gridwidth\":2},\"yaxis\":{\"backgroundcolor\":\"#E5ECF6\",\"gridcolor\":\"white\",\"linecolor\":\"white\",\"showbackground\":true,\"ticks\":\"\",\"zerolinecolor\":\"white\",\"gridwidth\":2},\"zaxis\":{\"backgroundcolor\":\"#E5ECF6\",\"gridcolor\":\"white\",\"linecolor\":\"white\",\"showbackground\":true,\"ticks\":\"\",\"zerolinecolor\":\"white\",\"gridwidth\":2}},\"shapedefaults\":{\"line\":{\"color\":\"#2a3f5f\"}},\"annotationdefaults\":{\"arrowcolor\":\"#2a3f5f\",\"arrowhead\":0,\"arrowwidth\":1},\"geo\":{\"bgcolor\":\"white\",\"landcolor\":\"#E5ECF6\",\"subunitcolor\":\"white\",\"showland\":true,\"showlakes\":true,\"lakecolor\":\"white\"},\"title\":{\"x\":0.05},\"mapbox\":{\"style\":\"light\"}}},\"polar\":{\"domain\":{\"x\":[0.0,1.0],\"y\":[0.0,1.0]},\"angularaxis\":{\"direction\":\"clockwise\",\"rotation\":90}},\"legend\":{\"tracegroupgap\":0},\"margin\":{\"t\":60},\"title\":{\"text\":\"Age difference between men and women in some of the most common movie genres\",\"y\":0.94,\"x\":0.5,\"xanchor\":\"center\",\"yanchor\":\"top\"}},                        {\"responsive\": true}                    ).then(function(){\n",
       "                            \n",
       "var gd = document.getElementById('9b43d39b-c457-4d49-b478-f0e800bdc6e3');\n",
       "var x = new MutationObserver(function (mutations, observer) {{\n",
       "        var display = window.getComputedStyle(gd).display;\n",
       "        if (!display || display === 'none') {{\n",
       "            console.log([gd, 'removed!']);\n",
       "            Plotly.purge(gd);\n",
       "            observer.disconnect();\n",
       "        }}\n",
       "}});\n",
       "\n",
       "// Listen for the removal of the full notebook cells\n",
       "var notebookContainer = gd.closest('#notebook-container');\n",
       "if (notebookContainer) {{\n",
       "    x.observe(notebookContainer, {childList: true});\n",
       "}}\n",
       "\n",
       "// Listen for the clearing of the current output cell\n",
       "var outputEl = gd.closest('.output');\n",
       "if (outputEl) {{\n",
       "    x.observe(outputEl, {childList: true});\n",
       "}}\n",
       "\n",
       "                        })                };                });            </script>        </div>"
      ]
     },
     "metadata": {},
     "output_type": "display_data"
    }
   ],
   "source": [
    "fig = px.line_polar(df_age, r='Age difference', theta=[\"drama\", \"action\", \"B&W\", \"romance\", \"comedy\", \"horror\"], line_close=True)\n",
    "fig.update_traces(fill='toself')\n",
    "fig.update_layout(\n",
    "    title = {\n",
    "        \"text\": \"Age difference between men and women in some of the most common movie genres\",\n",
    "        \"y\":0.94,\n",
    "        \"x\":0.5,\n",
    "        \"xanchor\":\"center\",\n",
    "        \"yanchor\":\"top\"\n",
    "    }\n",
    ")\n",
    "fig.show()"
   ]
  },
  {
   "cell_type": "markdown",
   "id": "27a61d8b-47c7-4a13-9c9f-9ffba8ba90ee",
   "metadata": {},
   "source": [
    "We observe that the age difference between men and women depends strongly on the movie genre in which they are playing. Action movies show the higher difference for the displayed, and B&W the least."
   ]
  },
  {
   "cell_type": "markdown",
   "id": "84e6559e",
   "metadata": {},
   "source": [
    "### 3.4 Difference in importance of movie roles women and men get <a class=\"anchor\" id=\"section_3_4\"></a>\n",
    "We would like to know if men get more key roles than women in cinema in general.\n",
    "To do so, we first looked on the web (imdb, kaggle, etc.) if we could get datasets with classification of main actors for some movies. But we didn't found a dataset that was big enough. This question is very important for us, and we think it could be very relevant to have an overview of actors importance in movies, by gender. Consequently, we decided to make, for some movies, the ranking of characters using the number of occurence of their name in the summary. "
   ]
  },
  {
   "cell_type": "code",
   "execution_count": 5,
   "id": "a14b9809",
   "metadata": {},
   "outputs": [],
   "source": [
    "## To do so, we will use :\n",
    "## •plot_summaries\n",
    "## •character_md\n",
    "character_md = df_char_meta.copy()"
   ]
  },
  {
   "cell_type": "code",
   "execution_count": 8,
   "id": "334082da",
   "metadata": {},
   "outputs": [
    {
     "data": {
      "text/html": [
       "<div>\n",
       "<style scoped>\n",
       "    .dataframe tbody tr th:only-of-type {\n",
       "        vertical-align: middle;\n",
       "    }\n",
       "\n",
       "    .dataframe tbody tr th {\n",
       "        vertical-align: top;\n",
       "    }\n",
       "\n",
       "    .dataframe thead th {\n",
       "        text-align: right;\n",
       "    }\n",
       "</style>\n",
       "<table border=\"1\" class=\"dataframe\">\n",
       "  <thead>\n",
       "    <tr style=\"text-align: right;\">\n",
       "      <th></th>\n",
       "      <th>Wikipedia movie ID</th>\n",
       "      <th>Freebase movie ID</th>\n",
       "      <th>Movie release date</th>\n",
       "      <th>character name</th>\n",
       "      <th>Actor date of birth</th>\n",
       "      <th>Actor gender</th>\n",
       "      <th>Actor height (in meters)</th>\n",
       "      <th>Actor ethnicity (Freebase ID)</th>\n",
       "      <th>Actor name</th>\n",
       "      <th>Actor age at movie release</th>\n",
       "      <th>Freebase character/actor map ID</th>\n",
       "      <th>Freebase character ID</th>\n",
       "      <th>Freebase actor ID</th>\n",
       "      <th>summary</th>\n",
       "    </tr>\n",
       "  </thead>\n",
       "  <tbody>\n",
       "    <tr>\n",
       "      <th>0</th>\n",
       "      <td>975900</td>\n",
       "      <td>/m/03vyhn</td>\n",
       "      <td>2001-08-24</td>\n",
       "      <td>Akooshay</td>\n",
       "      <td>1958-08-26</td>\n",
       "      <td>F</td>\n",
       "      <td>1.620</td>\n",
       "      <td>NaN</td>\n",
       "      <td>Wanda De Jesus</td>\n",
       "      <td>42.0</td>\n",
       "      <td>/m/0bgchxw</td>\n",
       "      <td>/m/0bgcj3x</td>\n",
       "      <td>/m/03wcfv7</td>\n",
       "      <td>Set in the second half of the 22nd century, th...</td>\n",
       "    </tr>\n",
       "    <tr>\n",
       "      <th>1</th>\n",
       "      <td>975900</td>\n",
       "      <td>/m/03vyhn</td>\n",
       "      <td>2001-08-24</td>\n",
       "      <td>Lieutenant Melanie Ballard</td>\n",
       "      <td>1974-08-15</td>\n",
       "      <td>F</td>\n",
       "      <td>1.780</td>\n",
       "      <td>/m/044038p</td>\n",
       "      <td>Natasha Henstridge</td>\n",
       "      <td>27.0</td>\n",
       "      <td>/m/0jys3m</td>\n",
       "      <td>/m/0bgchn4</td>\n",
       "      <td>/m/0346l4</td>\n",
       "      <td>Set in the second half of the 22nd century, th...</td>\n",
       "    </tr>\n",
       "    <tr>\n",
       "      <th>2</th>\n",
       "      <td>975900</td>\n",
       "      <td>/m/03vyhn</td>\n",
       "      <td>2001-08-24</td>\n",
       "      <td>Desolation Williams</td>\n",
       "      <td>1969-06-15</td>\n",
       "      <td>M</td>\n",
       "      <td>1.727</td>\n",
       "      <td>/m/0x67</td>\n",
       "      <td>Ice Cube</td>\n",
       "      <td>32.0</td>\n",
       "      <td>/m/0jys3g</td>\n",
       "      <td>/m/0bgchn_</td>\n",
       "      <td>/m/01vw26l</td>\n",
       "      <td>Set in the second half of the 22nd century, th...</td>\n",
       "    </tr>\n",
       "    <tr>\n",
       "      <th>3</th>\n",
       "      <td>975900</td>\n",
       "      <td>/m/03vyhn</td>\n",
       "      <td>2001-08-24</td>\n",
       "      <td>Sgt Jericho Butler</td>\n",
       "      <td>1967-09-12</td>\n",
       "      <td>M</td>\n",
       "      <td>1.750</td>\n",
       "      <td>NaN</td>\n",
       "      <td>Jason Statham</td>\n",
       "      <td>33.0</td>\n",
       "      <td>/m/02vchl6</td>\n",
       "      <td>/m/0bgchnq</td>\n",
       "      <td>/m/034hyc</td>\n",
       "      <td>Set in the second half of the 22nd century, th...</td>\n",
       "    </tr>\n",
       "    <tr>\n",
       "      <th>4</th>\n",
       "      <td>975900</td>\n",
       "      <td>/m/03vyhn</td>\n",
       "      <td>2001-08-24</td>\n",
       "      <td>Bashira Kincaid</td>\n",
       "      <td>1977-09-25</td>\n",
       "      <td>F</td>\n",
       "      <td>1.650</td>\n",
       "      <td>NaN</td>\n",
       "      <td>Clea DuVall</td>\n",
       "      <td>23.0</td>\n",
       "      <td>/m/02vbb3r</td>\n",
       "      <td>/m/0bgchp9</td>\n",
       "      <td>/m/01y9xg</td>\n",
       "      <td>Set in the second half of the 22nd century, th...</td>\n",
       "    </tr>\n",
       "  </tbody>\n",
       "</table>\n",
       "</div>"
      ],
      "text/plain": [
       "   Wikipedia movie ID Freebase movie ID Movie release date  \\\n",
       "0              975900         /m/03vyhn         2001-08-24   \n",
       "1              975900         /m/03vyhn         2001-08-24   \n",
       "2              975900         /m/03vyhn         2001-08-24   \n",
       "3              975900         /m/03vyhn         2001-08-24   \n",
       "4              975900         /m/03vyhn         2001-08-24   \n",
       "\n",
       "               character name Actor date of birth Actor gender  \\\n",
       "0                    Akooshay          1958-08-26            F   \n",
       "1  Lieutenant Melanie Ballard          1974-08-15            F   \n",
       "2         Desolation Williams          1969-06-15            M   \n",
       "3          Sgt Jericho Butler          1967-09-12            M   \n",
       "4             Bashira Kincaid          1977-09-25            F   \n",
       "\n",
       "   Actor height (in meters) Actor ethnicity (Freebase ID)          Actor name  \\\n",
       "0                     1.620                           NaN      Wanda De Jesus   \n",
       "1                     1.780                    /m/044038p  Natasha Henstridge   \n",
       "2                     1.727                       /m/0x67            Ice Cube   \n",
       "3                     1.750                           NaN       Jason Statham   \n",
       "4                     1.650                           NaN         Clea DuVall   \n",
       "\n",
       "   Actor age at movie release Freebase character/actor map ID  \\\n",
       "0                        42.0                      /m/0bgchxw   \n",
       "1                        27.0                       /m/0jys3m   \n",
       "2                        32.0                       /m/0jys3g   \n",
       "3                        33.0                      /m/02vchl6   \n",
       "4                        23.0                      /m/02vbb3r   \n",
       "\n",
       "  Freebase character ID Freebase actor ID  \\\n",
       "0            /m/0bgcj3x        /m/03wcfv7   \n",
       "1            /m/0bgchn4         /m/0346l4   \n",
       "2            /m/0bgchn_        /m/01vw26l   \n",
       "3            /m/0bgchnq         /m/034hyc   \n",
       "4            /m/0bgchp9         /m/01y9xg   \n",
       "\n",
       "                                             summary  \n",
       "0  Set in the second half of the 22nd century, th...  \n",
       "1  Set in the second half of the 22nd century, th...  \n",
       "2  Set in the second half of the 22nd century, th...  \n",
       "3  Set in the second half of the 22nd century, th...  \n",
       "4  Set in the second half of the 22nd century, th...  "
      ]
     },
     "execution_count": 8,
     "metadata": {},
     "output_type": "execute_result"
    }
   ],
   "source": [
    "## let's merge summaries with character_md\n",
    "char_summaries = character_md.merge(plot_summaries, on = 'Wikipedia movie ID', how ='inner')\n",
    "char_summaries.head(5)"
   ]
  },
  {
   "cell_type": "code",
   "execution_count": 9,
   "id": "4843fa96",
   "metadata": {},
   "outputs": [],
   "source": [
    "## some characters name are NaN values, let's remove them, as well as NaN summaries\n",
    "char_summaries = char_summaries.dropna(subset=['character name', 'summary'])"
   ]
  },
  {
   "cell_type": "code",
   "execution_count": 10,
   "id": "13677be8",
   "metadata": {},
   "outputs": [],
   "source": [
    "## We define a function that count the number of occurence of a character name in a resume\n",
    "## it also take into account that sometimes the character is called by a part of its name.\n",
    "## example : Jericho for Sgt Jericho Butler \n",
    "## the goal of this function is then to by used as an apply on each row of merged_df\n",
    "\n",
    "def counter(char_name, resume):\n",
    "    char_list = char_name.split()\n",
    "    counter = 0\n",
    "    words_to_remove = ['the', 'The', 'Sgt', 'Big', 'nan', 'NaN', 'in']\n",
    "    for wtr in words_to_remove:\n",
    "        try:\n",
    "            char_list.remove(wtr)\n",
    "        except:\n",
    "            counter = 0\n",
    "    for char in char_list:\n",
    "        counter += resume.count(char)\n",
    "    return counter"
   ]
  },
  {
   "cell_type": "code",
   "execution_count": 11,
   "id": "4d2ea939",
   "metadata": {},
   "outputs": [],
   "source": [
    "char_summaries['name occurence in summary'] = char_summaries.apply(lambda row : counter(str(row['character name']), row['summary']), axis = 1)"
   ]
  },
  {
   "cell_type": "code",
   "execution_count": 12,
   "id": "9e37c318",
   "metadata": {},
   "outputs": [
    {
     "data": {
      "text/html": [
       "<div>\n",
       "<style scoped>\n",
       "    .dataframe tbody tr th:only-of-type {\n",
       "        vertical-align: middle;\n",
       "    }\n",
       "\n",
       "    .dataframe tbody tr th {\n",
       "        vertical-align: top;\n",
       "    }\n",
       "\n",
       "    .dataframe thead th {\n",
       "        text-align: right;\n",
       "    }\n",
       "</style>\n",
       "<table border=\"1\" class=\"dataframe\">\n",
       "  <thead>\n",
       "    <tr style=\"text-align: right;\">\n",
       "      <th></th>\n",
       "      <th>Wikipedia movie ID</th>\n",
       "      <th>character name</th>\n",
       "      <th>name occurence in summary</th>\n",
       "      <th>Actor gender</th>\n",
       "    </tr>\n",
       "  </thead>\n",
       "  <tbody>\n",
       "    <tr>\n",
       "      <th>293914</th>\n",
       "      <td>37501922</td>\n",
       "      <td>John Hunter</td>\n",
       "      <td>1</td>\n",
       "      <td>M</td>\n",
       "    </tr>\n",
       "    <tr>\n",
       "      <th>293915</th>\n",
       "      <td>37501922</td>\n",
       "      <td>Craig Murphy</td>\n",
       "      <td>0</td>\n",
       "      <td>F</td>\n",
       "    </tr>\n",
       "    <tr>\n",
       "      <th>307483</th>\n",
       "      <td>37478048</td>\n",
       "      <td>Ajay</td>\n",
       "      <td>5</td>\n",
       "      <td>M</td>\n",
       "    </tr>\n",
       "    <tr>\n",
       "      <th>47027</th>\n",
       "      <td>37373877</td>\n",
       "      <td>Beth Patterson</td>\n",
       "      <td>0</td>\n",
       "      <td>F</td>\n",
       "    </tr>\n",
       "    <tr>\n",
       "      <th>47029</th>\n",
       "      <td>37373877</td>\n",
       "      <td>Jennifer Jones</td>\n",
       "      <td>0</td>\n",
       "      <td>F</td>\n",
       "    </tr>\n",
       "    <tr>\n",
       "      <th>229443</th>\n",
       "      <td>36956792</td>\n",
       "      <td>Angus MacMorrow</td>\n",
       "      <td>18</td>\n",
       "      <td>M</td>\n",
       "    </tr>\n",
       "    <tr>\n",
       "      <th>229441</th>\n",
       "      <td>36956792</td>\n",
       "      <td>Old Angus</td>\n",
       "      <td>17</td>\n",
       "      <td>M</td>\n",
       "    </tr>\n",
       "    <tr>\n",
       "      <th>229455</th>\n",
       "      <td>36956792</td>\n",
       "      <td>Young Angus</td>\n",
       "      <td>17</td>\n",
       "      <td>M</td>\n",
       "    </tr>\n",
       "    <tr>\n",
       "      <th>229439</th>\n",
       "      <td>36956792</td>\n",
       "      <td>Lewis Mowbray</td>\n",
       "      <td>6</td>\n",
       "      <td>M</td>\n",
       "    </tr>\n",
       "    <tr>\n",
       "      <th>229452</th>\n",
       "      <td>36956792</td>\n",
       "      <td>Captain Hamilton</td>\n",
       "      <td>5</td>\n",
       "      <td>M</td>\n",
       "    </tr>\n",
       "    <tr>\n",
       "      <th>229461</th>\n",
       "      <td>36956792</td>\n",
       "      <td>Anne MacMorrow</td>\n",
       "      <td>2</td>\n",
       "      <td>F</td>\n",
       "    </tr>\n",
       "    <tr>\n",
       "      <th>229445</th>\n",
       "      <td>36956792</td>\n",
       "      <td>Charlie MacMorrow</td>\n",
       "      <td>1</td>\n",
       "      <td>M</td>\n",
       "    </tr>\n",
       "    <tr>\n",
       "      <th>229462</th>\n",
       "      <td>36956792</td>\n",
       "      <td>Kirstie MacMorrow</td>\n",
       "      <td>1</td>\n",
       "      <td>F</td>\n",
       "    </tr>\n",
       "    <tr>\n",
       "      <th>229436</th>\n",
       "      <td>36956792</td>\n",
       "      <td>Gracie</td>\n",
       "      <td>0</td>\n",
       "      <td>F</td>\n",
       "    </tr>\n",
       "    <tr>\n",
       "      <th>229437</th>\n",
       "      <td>36956792</td>\n",
       "      <td>Jock McGowan</td>\n",
       "      <td>0</td>\n",
       "      <td>M</td>\n",
       "    </tr>\n",
       "    <tr>\n",
       "      <th>229438</th>\n",
       "      <td>36956792</td>\n",
       "      <td>Hughie</td>\n",
       "      <td>0</td>\n",
       "      <td>M</td>\n",
       "    </tr>\n",
       "    <tr>\n",
       "      <th>229440</th>\n",
       "      <td>36956792</td>\n",
       "      <td>Jimmy’s Buddy #1</td>\n",
       "      <td>0</td>\n",
       "      <td>M</td>\n",
       "    </tr>\n",
       "    <tr>\n",
       "      <th>229442</th>\n",
       "      <td>36956792</td>\n",
       "      <td>Gunner Corbin</td>\n",
       "      <td>0</td>\n",
       "      <td>M</td>\n",
       "    </tr>\n",
       "    <tr>\n",
       "      <th>229444</th>\n",
       "      <td>36956792</td>\n",
       "      <td>Male Tourist</td>\n",
       "      <td>0</td>\n",
       "      <td>M</td>\n",
       "    </tr>\n",
       "    <tr>\n",
       "      <th>229446</th>\n",
       "      <td>36956792</td>\n",
       "      <td>Jimmy McGarry</td>\n",
       "      <td>0</td>\n",
       "      <td>M</td>\n",
       "    </tr>\n",
       "  </tbody>\n",
       "</table>\n",
       "</div>"
      ],
      "text/plain": [
       "        Wikipedia movie ID     character name  name occurence in summary  \\\n",
       "293914            37501922        John Hunter                          1   \n",
       "293915            37501922       Craig Murphy                          0   \n",
       "307483            37478048               Ajay                          5   \n",
       "47027             37373877     Beth Patterson                          0   \n",
       "47029             37373877     Jennifer Jones                          0   \n",
       "229443            36956792    Angus MacMorrow                         18   \n",
       "229441            36956792          Old Angus                         17   \n",
       "229455            36956792        Young Angus                         17   \n",
       "229439            36956792      Lewis Mowbray                          6   \n",
       "229452            36956792   Captain Hamilton                          5   \n",
       "229461            36956792     Anne MacMorrow                          2   \n",
       "229445            36956792  Charlie MacMorrow                          1   \n",
       "229462            36956792  Kirstie MacMorrow                          1   \n",
       "229436            36956792             Gracie                          0   \n",
       "229437            36956792       Jock McGowan                          0   \n",
       "229438            36956792             Hughie                          0   \n",
       "229440            36956792   Jimmy’s Buddy #1                          0   \n",
       "229442            36956792      Gunner Corbin                          0   \n",
       "229444            36956792       Male Tourist                          0   \n",
       "229446            36956792      Jimmy McGarry                          0   \n",
       "\n",
       "       Actor gender  \n",
       "293914            M  \n",
       "293915            F  \n",
       "307483            M  \n",
       "47027             F  \n",
       "47029             F  \n",
       "229443            M  \n",
       "229441            M  \n",
       "229455            M  \n",
       "229439            M  \n",
       "229452            M  \n",
       "229461            F  \n",
       "229445            M  \n",
       "229462            F  \n",
       "229436            F  \n",
       "229437            M  \n",
       "229438            M  \n",
       "229440            M  \n",
       "229442            M  \n",
       "229444            M  \n",
       "229446            M  "
      ]
     },
     "execution_count": 12,
     "metadata": {},
     "output_type": "execute_result"
    }
   ],
   "source": [
    "## here we sort character names for each movie by their number of occurence in the summary\n",
    "char_summaries.sort_values(['Wikipedia movie ID', 'name occurence in summary'], ascending = False).head(20)[['Wikipedia movie ID', 'character name', 'name occurence in summary', 'Actor gender', ]]"
   ]
  },
  {
   "cell_type": "markdown",
   "id": "7610f706",
   "metadata": {},
   "source": [
    "As we can see, for each movie (movie ID), we have for each character the number of occurence of his/her name in the summary. This will give us some insight of how important are roles obtained by males and females in movies."
   ]
  },
  {
   "cell_type": "code",
   "execution_count": 14,
   "id": "640f580a",
   "metadata": {},
   "outputs": [],
   "source": [
    "#We remove all rows with zero occurences in the resume\n",
    "char_with_role = char_summaries[(char_summaries['name occurence in summary']!=0)&(char_summaries['name occurence in summary']<500)]"
   ]
  },
  {
   "cell_type": "code",
   "execution_count": 15,
   "id": "fbd9bdd2",
   "metadata": {},
   "outputs": [
    {
     "data": {
      "text/html": [
       "<div>\n",
       "<style scoped>\n",
       "    .dataframe tbody tr th:only-of-type {\n",
       "        vertical-align: middle;\n",
       "    }\n",
       "\n",
       "    .dataframe tbody tr th {\n",
       "        vertical-align: top;\n",
       "    }\n",
       "\n",
       "    .dataframe thead th {\n",
       "        text-align: right;\n",
       "    }\n",
       "</style>\n",
       "<table border=\"1\" class=\"dataframe\">\n",
       "  <thead>\n",
       "    <tr style=\"text-align: right;\">\n",
       "      <th></th>\n",
       "      <th>name occurence in summary</th>\n",
       "    </tr>\n",
       "  </thead>\n",
       "  <tbody>\n",
       "    <tr>\n",
       "      <th>count</th>\n",
       "      <td>45691.000000</td>\n",
       "    </tr>\n",
       "    <tr>\n",
       "      <th>mean</th>\n",
       "      <td>8.266289</td>\n",
       "    </tr>\n",
       "    <tr>\n",
       "      <th>std</th>\n",
       "      <td>10.295789</td>\n",
       "    </tr>\n",
       "    <tr>\n",
       "      <th>min</th>\n",
       "      <td>1.000000</td>\n",
       "    </tr>\n",
       "    <tr>\n",
       "      <th>25%</th>\n",
       "      <td>2.000000</td>\n",
       "    </tr>\n",
       "    <tr>\n",
       "      <th>50%</th>\n",
       "      <td>5.000000</td>\n",
       "    </tr>\n",
       "    <tr>\n",
       "      <th>75%</th>\n",
       "      <td>11.000000</td>\n",
       "    </tr>\n",
       "    <tr>\n",
       "      <th>max</th>\n",
       "      <td>485.000000</td>\n",
       "    </tr>\n",
       "  </tbody>\n",
       "</table>\n",
       "</div>"
      ],
      "text/plain": [
       "       name occurence in summary\n",
       "count               45691.000000\n",
       "mean                    8.266289\n",
       "std                    10.295789\n",
       "min                     1.000000\n",
       "25%                     2.000000\n",
       "50%                     5.000000\n",
       "75%                    11.000000\n",
       "max                   485.000000"
      ]
     },
     "execution_count": 15,
     "metadata": {},
     "output_type": "execute_result"
    }
   ],
   "source": [
    "char_with_role[char_with_role['Actor gender']=='M'][['name occurence in summary']].describe()"
   ]
  },
  {
   "cell_type": "code",
   "execution_count": 16,
   "id": "b60cbe66",
   "metadata": {},
   "outputs": [
    {
     "data": {
      "text/html": [
       "<div>\n",
       "<style scoped>\n",
       "    .dataframe tbody tr th:only-of-type {\n",
       "        vertical-align: middle;\n",
       "    }\n",
       "\n",
       "    .dataframe tbody tr th {\n",
       "        vertical-align: top;\n",
       "    }\n",
       "\n",
       "    .dataframe thead th {\n",
       "        text-align: right;\n",
       "    }\n",
       "</style>\n",
       "<table border=\"1\" class=\"dataframe\">\n",
       "  <thead>\n",
       "    <tr style=\"text-align: right;\">\n",
       "      <th></th>\n",
       "      <th>name occurence in summary</th>\n",
       "    </tr>\n",
       "  </thead>\n",
       "  <tbody>\n",
       "    <tr>\n",
       "      <th>count</th>\n",
       "      <td>26050.000000</td>\n",
       "    </tr>\n",
       "    <tr>\n",
       "      <th>mean</th>\n",
       "      <td>7.167678</td>\n",
       "    </tr>\n",
       "    <tr>\n",
       "      <th>std</th>\n",
       "      <td>8.769898</td>\n",
       "    </tr>\n",
       "    <tr>\n",
       "      <th>min</th>\n",
       "      <td>1.000000</td>\n",
       "    </tr>\n",
       "    <tr>\n",
       "      <th>25%</th>\n",
       "      <td>2.000000</td>\n",
       "    </tr>\n",
       "    <tr>\n",
       "      <th>50%</th>\n",
       "      <td>4.000000</td>\n",
       "    </tr>\n",
       "    <tr>\n",
       "      <th>75%</th>\n",
       "      <td>9.000000</td>\n",
       "    </tr>\n",
       "    <tr>\n",
       "      <th>max</th>\n",
       "      <td>349.000000</td>\n",
       "    </tr>\n",
       "  </tbody>\n",
       "</table>\n",
       "</div>"
      ],
      "text/plain": [
       "       name occurence in summary\n",
       "count               26050.000000\n",
       "mean                    7.167678\n",
       "std                     8.769898\n",
       "min                     1.000000\n",
       "25%                     2.000000\n",
       "50%                     4.000000\n",
       "75%                     9.000000\n",
       "max                   349.000000"
      ]
     },
     "execution_count": 16,
     "metadata": {},
     "output_type": "execute_result"
    }
   ],
   "source": [
    "char_with_role[char_with_role['Actor gender']=='F'][['name occurence in summary']].describe()"
   ]
  },
  {
   "cell_type": "markdown",
   "id": "87cfb626-88e4-4c64-96de-29ce917b780f",
   "metadata": {},
   "source": [
    "As can be seen, male characters are slightly more cited than their females counterparts. "
   ]
  },
  {
   "cell_type": "markdown",
   "id": "53dc9ae8",
   "metadata": {},
   "source": [
    "### 3.5 Are IMDb ratings representing somewhat more male or female opinion on movie ? <a class=\"anchor\" id=\"section_3_5\"></a>"
   ]
  },
  {
   "cell_type": "markdown",
   "id": "7f131570",
   "metadata": {},
   "source": [
    "We show here that we can access the breakdown of movie ratings by gender, which can be useful to the analysis. Indeed, we look at how genders are represented in cinema, and seeing how their opinion is represented on a popular website like IMDb can be an interesting persepective. We study quickly the top 250 movies as an initial analysis."
   ]
  },
  {
   "cell_type": "code",
   "execution_count": 54,
   "id": "c9446264",
   "metadata": {},
   "outputs": [],
   "source": [
    "from imdb import IMDb\n",
    "ia = IMDb()"
   ]
  },
  {
   "cell_type": "code",
   "execution_count": 55,
   "id": "312701d1",
   "metadata": {},
   "outputs": [],
   "source": [
    "top250 = ia.get_top250_movies()\n",
    "\n",
    "df = pd.DataFrame()\n",
    "ids = []\n",
    "# Iterate through the first 20 movies in the top 250\n",
    "for movie_count in range(0, 250):\n",
    "    # First, retrieve the movie object using its ID\n",
    "    movie = ia.get_movie(top250[movie_count].movieID, 'vote details')\n",
    "    a = pd.DataFrame.from_dict(movie.get('demographics'))\n",
    "    movie = ia.get_movie(top250[movie_count].movieID) # The identifier is simply tconst without \"tt\"\n",
    "    ids.append(str(movie.get('title')) + \" votes\")\n",
    "    ids.append(str(movie.get('title')) + \" ratings\")\n",
    "    \n",
    "    df = df.append(a)"
   ]
  },
  {
   "cell_type": "code",
   "execution_count": 56,
   "id": "55a45e9d",
   "metadata": {},
   "outputs": [
    {
     "name": "stdout",
     "output_type": "stream",
     "text": [
      "250\n"
     ]
    },
    {
     "data": {
      "text/plain": [
       "Text(0, 0.5, 'Number of movies')"
      ]
     },
     "execution_count": 56,
     "metadata": {},
     "output_type": "execute_result"
    },
    {
     "data": {
      "image/png": "[encoded data removed]",
      "text/plain": [
       "<Figure size 432x288 with 1 Axes>"
      ]
     },
     "metadata": {
      "needs_background": "light"
     },
     "output_type": "display_data"
    }
   ],
   "source": [
    "df = df.set_index(np.array(ids))\n",
    "df_votes = df[df['ttrt fltr imdb users']>10]\n",
    "print(len(df_votes))\n",
    "df_votes['percent_women'] = df_votes['ttrt fltr females']/( df_votes['ttrt fltr males'] +  df_votes['ttrt fltr females'])\n",
    "\n",
    "sns.histplot(df_votes['percent_women'], binrange = (0,1))\n",
    "plt.title('Percentage of women votes in top-250 imdb films')\n",
    "plt.xlabel('Fraction of female votes')\n",
    "plt.ylabel('Number of movies')"
   ]
  },
  {
   "cell_type": "code",
   "execution_count": 57,
   "id": "3d4f09aa",
   "metadata": {},
   "outputs": [
    {
     "data": {
      "text/html": [
       "<div>\n",
       "<style scoped>\n",
       "    .dataframe tbody tr th:only-of-type {\n",
       "        vertical-align: middle;\n",
       "    }\n",
       "\n",
       "    .dataframe tbody tr th {\n",
       "        vertical-align: top;\n",
       "    }\n",
       "\n",
       "    .dataframe thead th {\n",
       "        text-align: right;\n",
       "    }\n",
       "</style>\n",
       "<table border=\"1\" class=\"dataframe\">\n",
       "  <thead>\n",
       "    <tr style=\"text-align: right;\">\n",
       "      <th></th>\n",
       "      <th>ttrt fltr imdb users</th>\n",
       "      <th>ttrt fltr aged under 18</th>\n",
       "      <th>ttrt fltr aged 18 29</th>\n",
       "      <th>ttrt fltr aged 30 44</th>\n",
       "      <th>ttrt fltr aged 45 plus</th>\n",
       "      <th>ttrt fltr males</th>\n",
       "      <th>ttrt fltr males aged under 18</th>\n",
       "      <th>ttrt fltr males aged 18 29</th>\n",
       "      <th>ttrt fltr males aged 30 44</th>\n",
       "      <th>ttrt fltr males aged 45 plus</th>\n",
       "      <th>ttrt fltr females</th>\n",
       "      <th>ttrt fltr females aged under 18</th>\n",
       "      <th>ttrt fltr females aged 18 29</th>\n",
       "      <th>ttrt fltr females aged 30 44</th>\n",
       "      <th>ttrt fltr females aged 45 plus</th>\n",
       "      <th>ttrt fltr top 1000 voters</th>\n",
       "      <th>ttrt fltr us users</th>\n",
       "      <th>ttrt fltr non us users</th>\n",
       "      <th>percent_women</th>\n",
       "    </tr>\n",
       "  </thead>\n",
       "  <tbody>\n",
       "    <tr>\n",
       "      <th>count</th>\n",
       "      <td>2.500000e+02</td>\n",
       "      <td>250.000000</td>\n",
       "      <td>250.000000</td>\n",
       "      <td>2.500000e+02</td>\n",
       "      <td>250.000000</td>\n",
       "      <td>2.500000e+02</td>\n",
       "      <td>250.000000</td>\n",
       "      <td>250.000000</td>\n",
       "      <td>250.000000</td>\n",
       "      <td>250.000000</td>\n",
       "      <td>250.000000</td>\n",
       "      <td>250.000000</td>\n",
       "      <td>250.000000</td>\n",
       "      <td>250.00000</td>\n",
       "      <td>250.000000</td>\n",
       "      <td>250.000000</td>\n",
       "      <td>250.000000</td>\n",
       "      <td>2.500000e+02</td>\n",
       "      <td>250.000000</td>\n",
       "    </tr>\n",
       "    <tr>\n",
       "      <th>mean</th>\n",
       "      <td>6.352836e+05</td>\n",
       "      <td>277.184000</td>\n",
       "      <td>83823.984000</td>\n",
       "      <td>2.550473e+05</td>\n",
       "      <td>74302.768000</td>\n",
       "      <td>3.635374e+05</td>\n",
       "      <td>202.168000</td>\n",
       "      <td>65042.308000</td>\n",
       "      <td>210051.052000</td>\n",
       "      <td>61605.408000</td>\n",
       "      <td>74069.324000</td>\n",
       "      <td>52.976000</td>\n",
       "      <td>16110.184000</td>\n",
       "      <td>41201.82000</td>\n",
       "      <td>11254.356000</td>\n",
       "      <td>715.416000</td>\n",
       "      <td>144255.252000</td>\n",
       "      <td>4.163558e+05</td>\n",
       "      <td>0.166873</td>\n",
       "    </tr>\n",
       "    <tr>\n",
       "      <th>std</th>\n",
       "      <td>5.133924e+05</td>\n",
       "      <td>284.397803</td>\n",
       "      <td>73289.817968</td>\n",
       "      <td>2.063208e+05</td>\n",
       "      <td>52377.731205</td>\n",
       "      <td>2.890791e+05</td>\n",
       "      <td>206.932938</td>\n",
       "      <td>56655.082199</td>\n",
       "      <td>170154.110857</td>\n",
       "      <td>43570.475899</td>\n",
       "      <td>62073.731339</td>\n",
       "      <td>52.407189</td>\n",
       "      <td>15142.401815</td>\n",
       "      <td>35377.13379</td>\n",
       "      <td>8077.855316</td>\n",
       "      <td>156.816481</td>\n",
       "      <td>114511.910655</td>\n",
       "      <td>3.330848e+05</td>\n",
       "      <td>0.053247</td>\n",
       "    </tr>\n",
       "    <tr>\n",
       "      <th>min</th>\n",
       "      <td>3.006200e+04</td>\n",
       "      <td>13.000000</td>\n",
       "      <td>2231.000000</td>\n",
       "      <td>1.240700e+04</td>\n",
       "      <td>1617.000000</td>\n",
       "      <td>2.061600e+04</td>\n",
       "      <td>6.000000</td>\n",
       "      <td>1986.000000</td>\n",
       "      <td>11212.000000</td>\n",
       "      <td>1451.000000</td>\n",
       "      <td>1711.000000</td>\n",
       "      <td>5.000000</td>\n",
       "      <td>208.000000</td>\n",
       "      <td>679.00000</td>\n",
       "      <td>129.000000</td>\n",
       "      <td>108.000000</td>\n",
       "      <td>5674.000000</td>\n",
       "      <td>2.173100e+04</td>\n",
       "      <td>0.042902</td>\n",
       "    </tr>\n",
       "    <tr>\n",
       "      <th>25%</th>\n",
       "      <td>2.214622e+05</td>\n",
       "      <td>77.000000</td>\n",
       "      <td>25061.000000</td>\n",
       "      <td>8.541875e+04</td>\n",
       "      <td>31942.000000</td>\n",
       "      <td>1.215330e+05</td>\n",
       "      <td>54.000000</td>\n",
       "      <td>18652.000000</td>\n",
       "      <td>67796.250000</td>\n",
       "      <td>26551.500000</td>\n",
       "      <td>22810.250000</td>\n",
       "      <td>17.000000</td>\n",
       "      <td>3780.000000</td>\n",
       "      <td>11864.75000</td>\n",
       "      <td>4846.250000</td>\n",
       "      <td>626.250000</td>\n",
       "      <td>47930.250000</td>\n",
       "      <td>1.432375e+05</td>\n",
       "      <td>0.128917</td>\n",
       "    </tr>\n",
       "    <tr>\n",
       "      <th>50%</th>\n",
       "      <td>4.906885e+05</td>\n",
       "      <td>164.000000</td>\n",
       "      <td>64072.500000</td>\n",
       "      <td>1.849370e+05</td>\n",
       "      <td>64662.000000</td>\n",
       "      <td>2.788975e+05</td>\n",
       "      <td>122.500000</td>\n",
       "      <td>50688.000000</td>\n",
       "      <td>155002.000000</td>\n",
       "      <td>53793.000000</td>\n",
       "      <td>57989.500000</td>\n",
       "      <td>33.000000</td>\n",
       "      <td>10835.500000</td>\n",
       "      <td>32324.00000</td>\n",
       "      <td>9518.500000</td>\n",
       "      <td>746.000000</td>\n",
       "      <td>119064.500000</td>\n",
       "      <td>3.288005e+05</td>\n",
       "      <td>0.161445</td>\n",
       "    </tr>\n",
       "    <tr>\n",
       "      <th>75%</th>\n",
       "      <td>9.541362e+05</td>\n",
       "      <td>398.750000</td>\n",
       "      <td>126607.000000</td>\n",
       "      <td>3.757280e+05</td>\n",
       "      <td>104674.250000</td>\n",
       "      <td>5.337785e+05</td>\n",
       "      <td>295.750000</td>\n",
       "      <td>94536.000000</td>\n",
       "      <td>313899.750000</td>\n",
       "      <td>87291.500000</td>\n",
       "      <td>113955.500000</td>\n",
       "      <td>66.750000</td>\n",
       "      <td>25193.500000</td>\n",
       "      <td>64804.50000</td>\n",
       "      <td>15973.000000</td>\n",
       "      <td>841.500000</td>\n",
       "      <td>212163.000000</td>\n",
       "      <td>6.147090e+05</td>\n",
       "      <td>0.196589</td>\n",
       "    </tr>\n",
       "    <tr>\n",
       "      <th>max</th>\n",
       "      <td>2.661909e+06</td>\n",
       "      <td>1689.000000</td>\n",
       "      <td>374587.000000</td>\n",
       "      <td>1.060802e+06</td>\n",
       "      <td>273938.000000</td>\n",
       "      <td>1.490179e+06</td>\n",
       "      <td>1158.000000</td>\n",
       "      <td>300630.000000</td>\n",
       "      <td>886560.000000</td>\n",
       "      <td>221705.000000</td>\n",
       "      <td>295933.000000</td>\n",
       "      <td>350.000000</td>\n",
       "      <td>76429.000000</td>\n",
       "      <td>165999.00000</td>\n",
       "      <td>45994.000000</td>\n",
       "      <td>931.000000</td>\n",
       "      <td>619747.000000</td>\n",
       "      <td>1.669367e+06</td>\n",
       "      <td>0.394324</td>\n",
       "    </tr>\n",
       "  </tbody>\n",
       "</table>\n",
       "</div>"
      ],
      "text/plain": [
       "       ttrt fltr imdb users  ttrt fltr aged under 18  ttrt fltr aged 18 29  \\\n",
       "count          2.500000e+02               250.000000            250.000000   \n",
       "mean           6.352836e+05               277.184000          83823.984000   \n",
       "std            5.133924e+05               284.397803          73289.817968   \n",
       "min            3.006200e+04                13.000000           2231.000000   \n",
       "25%            2.214622e+05                77.000000          25061.000000   \n",
       "50%            4.906885e+05               164.000000          64072.500000   \n",
       "75%            9.541362e+05               398.750000         126607.000000   \n",
       "max            2.661909e+06              1689.000000         374587.000000   \n",
       "\n",
       "       ttrt fltr aged 30 44  ttrt fltr aged 45 plus  ttrt fltr males  \\\n",
       "count          2.500000e+02              250.000000     2.500000e+02   \n",
       "mean           2.550473e+05            74302.768000     3.635374e+05   \n",
       "std            2.063208e+05            52377.731205     2.890791e+05   \n",
       "min            1.240700e+04             1617.000000     2.061600e+04   \n",
       "25%            8.541875e+04            31942.000000     1.215330e+05   \n",
       "50%            1.849370e+05            64662.000000     2.788975e+05   \n",
       "75%            3.757280e+05           104674.250000     5.337785e+05   \n",
       "max            1.060802e+06           273938.000000     1.490179e+06   \n",
       "\n",
       "       ttrt fltr males aged under 18  ttrt fltr males aged 18 29  \\\n",
       "count                     250.000000                  250.000000   \n",
       "mean                      202.168000                65042.308000   \n",
       "std                       206.932938                56655.082199   \n",
       "min                         6.000000                 1986.000000   \n",
       "25%                        54.000000                18652.000000   \n",
       "50%                       122.500000                50688.000000   \n",
       "75%                       295.750000                94536.000000   \n",
       "max                      1158.000000               300630.000000   \n",
       "\n",
       "       ttrt fltr males aged 30 44  ttrt fltr males aged 45 plus  \\\n",
       "count                  250.000000                    250.000000   \n",
       "mean                210051.052000                  61605.408000   \n",
       "std                 170154.110857                  43570.475899   \n",
       "min                  11212.000000                   1451.000000   \n",
       "25%                  67796.250000                  26551.500000   \n",
       "50%                 155002.000000                  53793.000000   \n",
       "75%                 313899.750000                  87291.500000   \n",
       "max                 886560.000000                 221705.000000   \n",
       "\n",
       "       ttrt fltr females  ttrt fltr females aged under 18  \\\n",
       "count         250.000000                       250.000000   \n",
       "mean        74069.324000                        52.976000   \n",
       "std         62073.731339                        52.407189   \n",
       "min          1711.000000                         5.000000   \n",
       "25%         22810.250000                        17.000000   \n",
       "50%         57989.500000                        33.000000   \n",
       "75%        113955.500000                        66.750000   \n",
       "max        295933.000000                       350.000000   \n",
       "\n",
       "       ttrt fltr females aged 18 29  ttrt fltr females aged 30 44  \\\n",
       "count                    250.000000                     250.00000   \n",
       "mean                   16110.184000                   41201.82000   \n",
       "std                    15142.401815                   35377.13379   \n",
       "min                      208.000000                     679.00000   \n",
       "25%                     3780.000000                   11864.75000   \n",
       "50%                    10835.500000                   32324.00000   \n",
       "75%                    25193.500000                   64804.50000   \n",
       "max                    76429.000000                  165999.00000   \n",
       "\n",
       "       ttrt fltr females aged 45 plus  ttrt fltr top 1000 voters  \\\n",
       "count                      250.000000                 250.000000   \n",
       "mean                     11254.356000                 715.416000   \n",
       "std                       8077.855316                 156.816481   \n",
       "min                        129.000000                 108.000000   \n",
       "25%                       4846.250000                 626.250000   \n",
       "50%                       9518.500000                 746.000000   \n",
       "75%                      15973.000000                 841.500000   \n",
       "max                      45994.000000                 931.000000   \n",
       "\n",
       "       ttrt fltr us users  ttrt fltr non us users  percent_women  \n",
       "count          250.000000            2.500000e+02     250.000000  \n",
       "mean        144255.252000            4.163558e+05       0.166873  \n",
       "std         114511.910655            3.330848e+05       0.053247  \n",
       "min           5674.000000            2.173100e+04       0.042902  \n",
       "25%          47930.250000            1.432375e+05       0.128917  \n",
       "50%         119064.500000            3.288005e+05       0.161445  \n",
       "75%         212163.000000            6.147090e+05       0.196589  \n",
       "max         619747.000000            1.669367e+06       0.394324  "
      ]
     },
     "execution_count": 57,
     "metadata": {},
     "output_type": "execute_result"
    }
   ],
   "source": [
    "df_votes.describe()"
   ]
  },
  {
   "cell_type": "markdown",
   "id": "063c5a32",
   "metadata": {},
   "source": [
    "Women contributes to only 16.9% of the ratings in the top IMDb movies. Not a single of these movies have more ratings coming from women. The opinion represented on IMDb is mainly male opinion, at least for the top rated movies."
   ]
  }
 ],
 "metadata": {
  "kernelspec": {
   "display_name": "Python 3 (ipykernel)",
   "language": "python",
   "name": "python3"
  },
  "language_info": {
   "codemirror_mode": {
    "name": "ipython",
    "version": 3
   },
   "file_extension": ".py",
   "mimetype": "text/x-python",
   "name": "python",
   "nbconvert_exporter": "python",
   "pygments_lexer": "ipython3",
   "version": "3.9.7"
  }
 },
 "nbformat": 4,
 "nbformat_minor": 5
}
