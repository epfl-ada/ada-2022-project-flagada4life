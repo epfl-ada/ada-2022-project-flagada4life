{
 "cells": [
  {
   "attachments": {},
   "cell_type": "markdown",
   "id": "4190545d",
   "metadata": {},
   "source": [
    "# Milestone 3 : Final analysis"
   ]
  },
  {
   "attachments": {},
   "cell_type": "markdown",
   "id": "ccf17d82",
   "metadata": {},
   "source": [
    "This notebook is showing how we obtained the plots in our website. We separated from milestone 2 notebook which presents data wrangling and initial analysis in a separate file."
   ]
  },
  {
   "attachments": {},
   "cell_type": "markdown",
   "id": "2650d7fc",
   "metadata": {},
   "source": [
    "### Table of Contents\n",
    "\n",
    "* [Section 0](#section0): Imports\n",
    "* [Section 1](#section1): Loading files and processing\n",
    "* [Section 2](#section2): Analysis of actions more performed by one gender than the other\n",
    "* [Section 3](#section3): Categories of actions & useful functions for analysis\n",
    "* [Section 4](#section4): Gender stereotypes comparison trough epochs\n",
    "* [Section 5](#section5): Gender stereotypes comparison trough movie genres\n",
    "* [Section 6](#section6): Gender stereotypes comparison trough world region\n",
    "* [Section 7](#section7): Gender stereotypes comparison through writer gender\n",
    "* [Section 8](#section8): Gender stereotypes comparison through producer gender\n",
    "\n"
   ]
  },
  {
   "attachments": {},
   "cell_type": "markdown",
   "id": "1cbfb603",
   "metadata": {},
   "source": [
    "## 0. Imports <a class=\"anchor\" id=\"section0\"></a>"
   ]
  },
  {
   "cell_type": "code",
   "execution_count": 3,
   "id": "fda9f7cf",
   "metadata": {},
   "outputs": [],
   "source": [
    "import warnings\n",
    "warnings.filterwarnings(\"ignore\")\n",
    "import pandas as pd\n",
    "import numpy as np\n",
    "import xml.etree\n",
    "import matplotlib.pyplot as plt\n",
    "import seaborn as sns\n",
    "from implementations import *\n",
    "import csv\n",
    "import gzip\n",
    "import xml.etree.ElementTree as ET\n",
    "import nltk\n",
    "from nltk.sentiment import SentimentIntensityAnalyzer\n",
    "from nltk.stem import PorterStemmer\n",
    "from nltk.stem.wordnet import WordNetLemmatizer\n",
    "from nltk import pos_tag\n",
    "import nltk\n",
    "import spacy\n",
    "import numpy.random as random\n",
    "from matplotlib.ticker import FuncFormatter\n",
    "import math\n",
    "import json\n",
    "import pickle\n",
    "\n",
    "# nltk.download('averaged_perceptron_tagger')"
   ]
  },
  {
   "attachments": {},
   "cell_type": "markdown",
   "id": "120b6af8",
   "metadata": {},
   "source": [
    "## 1. Loading files and processing <a class=\"anchor\" id=\"section1\"></a>"
   ]
  },
  {
   "cell_type": "code",
   "execution_count": 171,
   "id": "920368d4",
   "metadata": {},
   "outputs": [],
   "source": [
    "# load data\n",
    "movie_md = load_movie_md()\n",
    "df = pd.read_csv('characters_actions.csv')"
   ]
  },
  {
   "attachments": {},
   "cell_type": "markdown",
   "id": "50ac39d8",
   "metadata": {},
   "source": [
    "#### Obtaining the final action dataframe :"
   ]
  },
  {
   "cell_type": "code",
   "execution_count": 28,
   "id": "24abaa96",
   "metadata": {},
   "outputs": [],
   "source": [
    "# we remove all actions for which the first letter is upper (due to some problem,\n",
    "# some actions has been confound with names)\n",
    "\n",
    "def upper(word):\n",
    "    return word[0].isupper()\n",
    "\n",
    "df = df[~df['action'].apply(upper)]\n",
    "\n",
    "# lemmatize verbs and uppercase them\n",
    "\n",
    "lemmatizer = WordNetLemmatizer()\n",
    "df['action'] = df['action'].apply(lambda x: lemmatizer.lemmatize(x,'v'))"
   ]
  },
  {
   "cell_type": "code",
   "execution_count": 174,
   "id": "1fd73e44",
   "metadata": {},
   "outputs": [],
   "source": [
    "# some irrelevant words we found, due to the mistakes made by stanford corenlp\n",
    "irrelevant_words = ['\\'s', 'and', 'with', 'of', 'to', 'by', 'for', 'in', 'is', 'he', 'has', 'from','as','his', 'on', 'dr.', 'a', 'john', 'drs.', 'father', 'son', 'friend', 'daughter', 'wife', 'mother', 'family', 'sister', 'brother', 'man', 'men', 'captain','singh', 'jack', 'king', 'girl', 'woman', 'girlfriend', 'mary', 'husband', 'parent', 'lady', 'children', 'white', 'car', 'room', 'annie', 'lady', 'queen', 'boy', 'student', 'the', 'friends', 'her', 'home', 'ann', 'anne', 'aunt', 'father', 'girl', 'jane', 'man', 'ms.', 'princess', 'sir', 'sister', 'snow', 'brothers', 'mrs.', 'mrs', 'mr', 'winter', 'apartment', 'mr.', 'widow', 'jim', 'larry', 'van', 'officer','pregnant', 'teacher', 'relationship', 'team', 'socialite', 'maid', 'distraught', 'susan', 'elizabeth', 'anna', 'l', 'sentence', 'steve', 'charlie', '|', 'heartbroken', 'kitty', 'fred', 'boyfriend', 'eddie', 'wealthy', 'delight', 'wound', 'upset', 'alex', 'de', 'crew', 'harry', 'ryan', 'lisa', 'adam', 'place', 'fire', ]\n",
    "\n",
    "# we make a loop over all these words to find them in our dataframe\n",
    "conditions = (df['action']!='')\n",
    "for irr_wrd in list(set(irrelevant_words)):\n",
    "    conditions = conditions&(df['action']!=irr_wrd)\n",
    "    \n",
    "# let's remove those words\n",
    "act_df_treated = df[conditions]\n",
    "\n",
    "# now we merge the actions made by characters with data about the movies \n",
    "char_description_total = act_df_treated.merge(movie_md, left_on ='movie id', right_on = 'Wikipedia movie ID')\n",
    "\n",
    "# differents epochs for which we make our analysis and compare results, we will use it after\n",
    "epochs = [1914, 1945, 1970, 1990, 2000, 2007, 2022]\n",
    "df_epochs = [char_description_total.query('`Movie release date` >=' + str(epochs[i]+1) + ' and `Movie release date` <= ' + str(epochs[i+1])) for i in range(len(epochs)-1)]"
   ]
  },
  {
   "cell_type": "code",
   "execution_count": 178,
   "id": "d6504be3",
   "metadata": {},
   "outputs": [
    {
     "data": {
      "text/html": [
       "<div>\n",
       "<style scoped>\n",
       "    .dataframe tbody tr th:only-of-type {\n",
       "        vertical-align: middle;\n",
       "    }\n",
       "\n",
       "    .dataframe tbody tr th {\n",
       "        vertical-align: top;\n",
       "    }\n",
       "\n",
       "    .dataframe thead th {\n",
       "        text-align: right;\n",
       "    }\n",
       "</style>\n",
       "<table border=\"1\" class=\"dataframe\">\n",
       "  <thead>\n",
       "    <tr style=\"text-align: right;\">\n",
       "      <th></th>\n",
       "      <th>actor name</th>\n",
       "      <th>actor gender</th>\n",
       "      <th>action</th>\n",
       "      <th>Movie name</th>\n",
       "      <th>Wikipedia movie ID</th>\n",
       "      <th>actor id</th>\n",
       "    </tr>\n",
       "  </thead>\n",
       "  <tbody>\n",
       "    <tr>\n",
       "      <th>839662</th>\n",
       "      <td>Chris Kattan</td>\n",
       "      <td>M</td>\n",
       "      <td>inform</td>\n",
       "      <td>Undercover Brother</td>\n",
       "      <td>1182345</td>\n",
       "      <td>/m/02rwns</td>\n",
       "    </tr>\n",
       "    <tr>\n",
       "      <th>245492</th>\n",
       "      <td>Sun Chien</td>\n",
       "      <td>M</td>\n",
       "      <td>hire</td>\n",
       "      <td>Kid with the Golden Arm</td>\n",
       "      <td>10603354</td>\n",
       "      <td>/m/0gc106j</td>\n",
       "    </tr>\n",
       "    <tr>\n",
       "      <th>1354922</th>\n",
       "      <td>Revathi</td>\n",
       "      <td>F</td>\n",
       "      <td>ask</td>\n",
       "      <td>Anjali</td>\n",
       "      <td>1437474</td>\n",
       "      <td>/m/0brddh</td>\n",
       "    </tr>\n",
       "    <tr>\n",
       "      <th>1327525</th>\n",
       "      <td>Mel Blanc</td>\n",
       "      <td>M</td>\n",
       "      <td>kick</td>\n",
       "      <td>Prince Violent</td>\n",
       "      <td>23646229</td>\n",
       "      <td>/m/0c5vh</td>\n",
       "    </tr>\n",
       "    <tr>\n",
       "      <th>966534</th>\n",
       "      <td>Charles Malik Whitfield</td>\n",
       "      <td>M</td>\n",
       "      <td>go</td>\n",
       "      <td>The Temptations</td>\n",
       "      <td>1501461</td>\n",
       "      <td>/m/0k6mn_</td>\n",
       "    </tr>\n",
       "  </tbody>\n",
       "</table>\n",
       "</div>"
      ],
      "text/plain": [
       "                      actor name actor gender  action  \\\n",
       "839662              Chris Kattan            M  inform   \n",
       "245492                 Sun Chien            M    hire   \n",
       "1354922                  Revathi            F     ask   \n",
       "1327525                Mel Blanc            M    kick   \n",
       "966534   Charles Malik Whitfield            M      go   \n",
       "\n",
       "                      Movie name  Wikipedia movie ID    actor id  \n",
       "839662        Undercover Brother             1182345   /m/02rwns  \n",
       "245492   Kid with the Golden Arm            10603354  /m/0gc106j  \n",
       "1354922                   Anjali             1437474   /m/0brddh  \n",
       "1327525           Prince Violent            23646229    /m/0c5vh  \n",
       "966534           The Temptations             1501461   /m/0k6mn_  "
      ]
     },
     "execution_count": 178,
     "metadata": {},
     "output_type": "execute_result"
    }
   ],
   "source": [
    "# plot some actions of the dataframe\n",
    "char_description_total.sample(5)[['actor name', 'actor gender', 'action', 'Movie name', 'Wikipedia movie ID', 'actor id']]"
   ]
  },
  {
   "attachments": {},
   "cell_type": "markdown",
   "id": "8d3be9d6",
   "metadata": {},
   "source": [
    "## 2. Analyze actions more performed by one gender than the other <a class=\"anchor\" id=\"section2\"></a>"
   ]
  },
  {
   "attachments": {},
   "cell_type": "markdown",
   "id": "6cb42f1d",
   "metadata": {},
   "source": [
    "Here is the formula we use to compute frequency for each action, and each gender : \n",
    "\n",
    "\n",
    "$$ frequency_{action}^{males} = \\frac{number\\ of\\ occurence_{action}^{males}}{number\\ of\\ occurence_{all\\ actions}^{males}} $$\n",
    "\n",
    "\n",
    "$$ frequency_{action}^{females} = \\frac{number\\ of\\ occurence_{action}^{females}}{number\\ of\\ occurence_{all\\ actions}^{females}} $$"
   ]
  },
  {
   "cell_type": "code",
   "execution_count": 164,
   "id": "6e00418a",
   "metadata": {},
   "outputs": [
    {
     "name": "stdout",
     "output_type": "stream",
     "text": [
      "male actions size is    : 1176968\n",
      "female actions size is  : 550287\n"
     ]
    }
   ],
   "source": [
    "# Isolate males and females dataframes to make analysis \n",
    "male_description = char_description_total[char_description_total['actor gender']=='M']\n",
    "female_description = char_description_total[char_description_total['actor gender']=='F']\n",
    "\n",
    "# For each gender, we compute the frequency of use, for each action of the dataframe.\n",
    "# we make our computation based on frequencies because the number of actions performed\n",
    "# by males is two times the number of actions made by females.\n",
    "m = male_description.groupby('action', as_index = False).count()[['action', 'actor name']]\n",
    "m['actor name'] *= 100/male_description.shape[0]\n",
    "\n",
    "f = female_description.groupby('action', as_index = False).count()[['action', 'actor name']]\n",
    "f['actor name'] *= 100/female_description.shape[0]\n",
    "\n",
    "# then, we can mergeboth dataframes on actions so for each action we have frequencies\n",
    "# of use for males, and for females\n",
    "merged_df = m.merge(f, on = 'action', suffixes=('_m', '_f'))\n",
    "\n",
    "# frequency ratio compare, for each action, frequency for males over frequency for females\n",
    "merged_df['freq_ratio'] = merged_df['actor name_m']/merged_df['actor name_f']\n",
    "\n",
    "print('male actions size is    : {}'.format(male_description.shape[0]))\n",
    "print('female actions size is  : {}'.format(female_description.shape[0]))"
   ]
  },
  {
   "cell_type": "code",
   "execution_count": 167,
   "id": "b6c334aa",
   "metadata": {},
   "outputs": [
    {
     "data": {
      "text/html": [
       "<div>\n",
       "<style scoped>\n",
       "    .dataframe tbody tr th:only-of-type {\n",
       "        vertical-align: middle;\n",
       "    }\n",
       "\n",
       "    .dataframe tbody tr th {\n",
       "        vertical-align: top;\n",
       "    }\n",
       "\n",
       "    .dataframe thead th {\n",
       "        text-align: right;\n",
       "    }\n",
       "</style>\n",
       "<table border=\"1\" class=\"dataframe\">\n",
       "  <thead>\n",
       "    <tr style=\"text-align: right;\">\n",
       "      <th></th>\n",
       "      <th>action</th>\n",
       "      <th>freq_ratio</th>\n",
       "    </tr>\n",
       "  </thead>\n",
       "  <tbody>\n",
       "    <tr>\n",
       "      <th>4038</th>\n",
       "      <td>marry</td>\n",
       "      <td>0.424134</td>\n",
       "    </tr>\n",
       "    <tr>\n",
       "      <th>3741</th>\n",
       "      <td>kiss</td>\n",
       "      <td>0.441372</td>\n",
       "    </tr>\n",
       "    <tr>\n",
       "      <th>3950</th>\n",
       "      <td>love</td>\n",
       "      <td>0.450952</td>\n",
       "    </tr>\n",
       "    <tr>\n",
       "      <th>5883</th>\n",
       "      <td>seduce</td>\n",
       "      <td>0.503511</td>\n",
       "    </tr>\n",
       "    <tr>\n",
       "      <th>3953</th>\n",
       "      <td>lover</td>\n",
       "      <td>0.522268</td>\n",
       "    </tr>\n",
       "    <tr>\n",
       "      <th>3587</th>\n",
       "      <td>interest</td>\n",
       "      <td>0.537010</td>\n",
       "    </tr>\n",
       "    <tr>\n",
       "      <th>534</th>\n",
       "      <td>attract</td>\n",
       "      <td>0.538183</td>\n",
       "    </tr>\n",
       "    <tr>\n",
       "      <th>6118</th>\n",
       "      <td>sleep</td>\n",
       "      <td>0.563201</td>\n",
       "    </tr>\n",
       "    <tr>\n",
       "      <th>3724</th>\n",
       "      <td>kidnap</td>\n",
       "      <td>0.563817</td>\n",
       "    </tr>\n",
       "    <tr>\n",
       "      <th>3101</th>\n",
       "      <td>happen</td>\n",
       "      <td>0.565243</td>\n",
       "    </tr>\n",
       "  </tbody>\n",
       "</table>\n",
       "</div>"
      ],
      "text/plain": [
       "        action  freq_ratio\n",
       "4038     marry    0.424134\n",
       "3741      kiss    0.441372\n",
       "3950      love    0.450952\n",
       "5883    seduce    0.503511\n",
       "3953     lover    0.522268\n",
       "3587  interest    0.537010\n",
       "534    attract    0.538183\n",
       "6118     sleep    0.563201\n",
       "3724    kidnap    0.563817\n",
       "3101    happen    0.565243"
      ]
     },
     "execution_count": 167,
     "metadata": {},
     "output_type": "execute_result"
    }
   ],
   "source": [
    "# plot actions with the smallest frequenty ratio (i.e : the words most said by females rather than males)\n",
    "merged_df.query(' `actor name_m`>0.05 and `actor name_f`>0.05').sort_values('freq_ratio').head(10)[['action', 'freq_ratio']]"
   ]
  },
  {
   "cell_type": "code",
   "execution_count": 168,
   "id": "c38867c3",
   "metadata": {},
   "outputs": [
    {
     "data": {
      "text/html": [
       "<div>\n",
       "<style scoped>\n",
       "    .dataframe tbody tr th:only-of-type {\n",
       "        vertical-align: middle;\n",
       "    }\n",
       "\n",
       "    .dataframe tbody tr th {\n",
       "        vertical-align: top;\n",
       "    }\n",
       "\n",
       "    .dataframe thead th {\n",
       "        text-align: right;\n",
       "    }\n",
       "</style>\n",
       "<table border=\"1\" class=\"dataframe\">\n",
       "  <thead>\n",
       "    <tr style=\"text-align: right;\">\n",
       "      <th></th>\n",
       "      <th>action</th>\n",
       "      <th>freq_ratio</th>\n",
       "    </tr>\n",
       "  </thead>\n",
       "  <tbody>\n",
       "    <tr>\n",
       "      <th>4569</th>\n",
       "      <td>order</td>\n",
       "      <td>2.339534</td>\n",
       "    </tr>\n",
       "    <tr>\n",
       "      <th>2637</th>\n",
       "      <td>fight</td>\n",
       "      <td>2.101896</td>\n",
       "    </tr>\n",
       "    <tr>\n",
       "      <th>5995</th>\n",
       "      <td>shoot</td>\n",
       "      <td>1.923784</td>\n",
       "    </tr>\n",
       "    <tr>\n",
       "      <th>454</th>\n",
       "      <td>arrest</td>\n",
       "      <td>1.836877</td>\n",
       "    </tr>\n",
       "    <tr>\n",
       "      <th>3728</th>\n",
       "      <td>kill</td>\n",
       "      <td>1.729585</td>\n",
       "    </tr>\n",
       "    <tr>\n",
       "      <th>3134</th>\n",
       "      <td>head</td>\n",
       "      <td>1.579661</td>\n",
       "    </tr>\n",
       "    <tr>\n",
       "      <th>1146</th>\n",
       "      <td>chase</td>\n",
       "      <td>1.508513</td>\n",
       "    </tr>\n",
       "    <tr>\n",
       "      <th>1038</th>\n",
       "      <td>capture</td>\n",
       "      <td>1.488515</td>\n",
       "    </tr>\n",
       "    <tr>\n",
       "      <th>4876</th>\n",
       "      <td>plan</td>\n",
       "      <td>1.469638</td>\n",
       "    </tr>\n",
       "    <tr>\n",
       "      <th>4003</th>\n",
       "      <td>manage</td>\n",
       "      <td>1.468721</td>\n",
       "    </tr>\n",
       "  </tbody>\n",
       "</table>\n",
       "</div>"
      ],
      "text/plain": [
       "       action  freq_ratio\n",
       "4569    order    2.339534\n",
       "2637    fight    2.101896\n",
       "5995    shoot    1.923784\n",
       "454    arrest    1.836877\n",
       "3728     kill    1.729585\n",
       "3134     head    1.579661\n",
       "1146    chase    1.508513\n",
       "1038  capture    1.488515\n",
       "4876     plan    1.469638\n",
       "4003   manage    1.468721"
      ]
     },
     "execution_count": 168,
     "metadata": {},
     "output_type": "execute_result"
    }
   ],
   "source": [
    "# plot actions with the highest frequenty ratio (i.e : the words most said by males rather than females)\n",
    "merged_df.query(' `actor name_m`>0.1 and `actor name_f`>0.1').sort_values('freq_ratio', ascending=False).head(10)[['action', 'freq_ratio']]"
   ]
  },
  {
   "attachments": {},
   "cell_type": "markdown",
   "id": "e7ef9ead",
   "metadata": {},
   "source": [
    "## 3. Categories of actions & useful functions for analysis <a class=\"anchor\" id=\"section3\"></a>"
   ]
  },
  {
   "cell_type": "code",
   "execution_count": 128,
   "id": "e5f62b5f",
   "metadata": {},
   "outputs": [],
   "source": [
    "# Here are some list of verbs assiociated with interesting subjects for the comparison male/female in movies\n",
    "# we found those lists by browsing online for vocabulary list and asking chatGPT, and then we checked them\n",
    "\n",
    "# list of verbs associated with the subject 'violence'\n",
    "violence = ['anger', 'arrest', 'assassinate', 'assault', 'attack', 'beat', 'confront',  'defeat', 'defend', 'destroy', 'die', 'eliminate', 'enrage', 'fight', 'harass', 'hurt', 'hunt', 'imprison', 'kick', 'kill', 'knock', 'murder', 'shoot',  'threaten', 'torture', 'gun',\"attack\",\"beat\",\"bludgeon\",\"box\",\"buffet\",\"club\",\"damage\",\"devastate\",\"disable\",\"exert\",\"fight\",\"harm\",\"hit\",\"hurt\",\"injure\", \"manhandle\",\"maul\",\"maim\",\"pommel\",\"pound\",\"punch\",\"ravage\",\"rough\",\"savage\", \"strike\",\"thrash\",\"thump\",\"wallop\",\"wound\",\"murder\",\"slay\",\"assassinate\",\"eliminate\",\"execute\",\"liquidate\",\"dispatch\",\"massacre\",\"exterminate\",\"butcher\", \"decimate\",\"extinguish\",\"remove\",\"eradicate\",\"finish\",\"snuff\",\"fight\",\"arrest\", \"abduct\",    \"ambush\",    \"assassinate\",    \"attack\",    \"beat\",    \"berate\",  \"bully\",    \"burn\",    \"choke\",    \"coerce\",    \"conquer\",    \"corrupt\",  \"decimate\",    \"defeat\",    \"destroy\",    \"devastate\",    \"disarm\",  \"disembowel\",    \"disintegrate\",    \"dismember\",    \"electrocute\",    \"enslave\",    \"exterminate\",    \"fear\",    \"fight\",    \"flog\",    \"gag\",  \"gang up on\",    \"gouge\",    \"grind\",    \"harm\",    \"hate\",    \"haunt\", \"humiliate\",    \"hunt\",    \"intimidate\",    \"invade\",    \"isolate\",    \"lynch\",    \"massacre\",    \"maul\",    \"murder\",    \"mutilate\",    \"oppress\",  \"overpower\",    \"persecute\",    \"pillage\",    \"plunder\",    \"poison\",    \"pound\",    \"rape\",    \"ravage\",    \"ravish\",    \"rebel\",    \"remorse\",   \"repress\",    \"resort\",    \"rob\",    \"sabotage\",    \"savage\",    \"scald\", \"slaughter\",    \"smash\",    \"strangle\",    \"terrorize\",    \"torture\",\"trample\",    \"tyrannize\",    \"undermine\",    \"vanquish\",    \"vandalize\",\"violate\",    \"wage\",    \"whip\",    \"wound\"]\n",
    "violence = list(set(violence))\n",
    "\n",
    "# list of verbs assciated with the subject 'love/seduction'\n",
    "love_seduction = ['seduce', 'prostitute', 'miss', 'marry', 'love', 'kiss', 'engage', 'date', 'attract', 'flirt', 'divorce', 'cheat', 'dance', 'sleep', 'separate', 'sleep', 'touch', \"adore\", \"desire\",'seduce', 'prostitute', 'miss', 'marry', 'love', 'kiss', 'engage', 'attract', 'flirt', 'divorce', 'cheat', 'dance', 'sleep', 'separate', 'sleep','touch', \"lust\", \"attract\", \"infatuate\", \"devote\", \"admirate\", \"care\",  \"concern\", \"warmth\",  \"sentiment\", \"intimacy\", \"closeness\", \"connection\", \"attachment\", \"bond\", \"union\", \"relationship\",  \"commitment\",     \"faithfulness\", \"loyalty\", \"devote\", \"care\", \"concern\", \"fondness\", \"warmth\",     \"sentimentality\", \"sentiment\", \"empathy\", \"intimacy\", \"closeness\", \"connection\",     \"attachment\", \"bond\", \"union\", \"relationship\",  \"commitment\", \"faithfulness\", \"loyalty\",     \"devotion\", \"care\", \"concern\",  \"fondness\", \"warmth\", \"sentimentality\", \"sentiment\",     \"empathy\", \"intimacy\",  \"closeness\", \"connection\", \"attachment\", \"bond\", \"union\",     \"relationship\",   \"commitment\", \"faithfulness\", \"loyalty\", \"hug\", \"kiss\", \"cuddle\", \"caress\",  \"embrace\", \"snuggle\", \"spoon\", \"nuzzle\", \"cuddle\", \"snuggle\", \"wed\", \"marry\",   \"join\", \"unite\", \"pledge\", \"commit\", \"enter\", \"tie\", \"become\", \"invite\", \"marries\", \"parent\", \"nurture\", \"protect\", \"provide\", \"support\", \"guide\", \"teach\", \"raise\",  \"love\", \"care\", \"bond\", \"unite\"]\n",
    "love_seduction =  love_seduction + [ \"adore\",    \"allure\",    \"attract\",    \"beguile\",    \"cherish\",    \"court\",    \"crave\",    \"delight\",    \"desire\",    \"entice\",    \"flirt\",    \"fondle\",    \"glorify\",    \"gratify\",    \"idolize\",    \"infatuate\",    \"lure\",    \"magnetize\",    \"mesmerize\",    \"mesmerise\",    \"nuzzle\",    \"pamper\",    \"passion\",    \"persuade\",    \"possess\",    \"ravish\",    \"seduce\",    \"smooch\",    \"solicit\",    \"tempt\",    \"woo\",    \"yearn\",    \"amour\",    \"caress\",    \"cherish\",    \"coo\",    \"cuddle\",    \"enamor\",    \"enrapture\",    \"enthrall\",    \"entreat\",    \"flirt\",    \"fondle\",    \"hug\",    \"idolize\",    \"infatuate\",    \"kiss\",    \"long\",    \"love\",    \"luxuriate\",    \"massage\",    \"moon\",    \"nuzzle\",    \"ogle\",    \"pet\",    \"please\",    \"praise\",    \"relish\",    \"romance\",    \"smooch\",    \"snuggle\",    \"stroke\",    \"treasure\",    \"tryst\",    \"adore\",    \"affection\",    \"amour\",    \"appreciation\",    \"attraction\",    \"devoted\",    \"devotedness\",    \"enthusiasm\",    \"fondness\",    \"friendship\",    \"tenderness\",    \"warmth\",    \"worshipping\",    \"adoration\",    \"admiration\",    \"amatory\",    \"amorous\",    \"ardent\",    \"attached\",    \"captivated\",    \"covetous\",    \"devoted\",    \"enamored\",    \"fascinated\",    \"fervent\",    \"fervid\",    \"enthusiastic\",    \"passionate\",    \"smitten\",    \"tender\",    \"warm\",    \"zealous\",    \"craze\",    \"delusion\",    \"infatuation\",    \"obsession\"]\n",
    "love_seduction = list(set(love_seduction))\n",
    "\n",
    "# list of verbs assciated with the subject 'success'\n",
    "success = ['Excel', 'Master', 'Finish', 'Achieve', 'Get', 'Fulfill', 'Surmount', 'Realize', 'Prosper', 'Pass', 'Gain', 'Complete', 'Accomplish', 'Make', 'Win', 'Attain', 'Overcome', 'Advance', 'Triumph', 'Conquer', 'Secure', 'Acquire', 'Perform', 'Establish', 'Obtain', 'Conclude', 'acquit', 'succeed']\n",
    "success = [act.lower() for act in success]\n",
    "success = success +  [    \"achieve\",    \"acquire\",    \"advance\",    \"attain\",    \"benefit\",    \"capture\",    \"conquer\",    \"cultivate\",    \"develop\",    \"earn\",    \"excel\",    \"flourish\",    \"gain\",    \"grow\",    \"improve\",    \"master\",    \"maximize\",    \"obtain\",    \"overcome\",    \"prosper\",    \"reach\",    \"realize\",    \"succeed\",    \"thrive\",    \"win\",    \"apply\",    \"begin\",    \"capitalize\",    \"commit\",    \"concentrate\",    \"dedicate\",    \"determine\",    \"discipline\",    \"endeavor\",    \"engage\",    \"enter\",    \"establish\",    \"execute\",    \"focus\",    \"follow\",    \"initiate\",    \"launch\",    \"pursue\",    \"start\",    \"take\",    \"try\",    \"act\",    \"adapt\",    \"adjust\",    \"alter\",    \"amend\",    \"change\",    \"correct\",    \"customize\",    \"evolve\",    \"modify\",    \"mold\",    \"optimize\",    \"reform\",    \"refine\",    \"remodel\",    \"renovate\",    \"revise\",    \"shape\",    \"transition\",    \"upgrade\",    \"amass\",    \"assemble\",    \"accumulate\",    \"collect\",    \"compile\",    \"congregate\",    \"gather\",    \"hoard\",    \"muster\",    \"obtain\",    \"procure\",    \"secure\",    \"stockpile\",    \"store\",    \"accomplish\",    \"achieve\",    \"complete\",    \"conclude\",    \"execute\",    \"finish\",    \"fulfill\",    \"satisfy\",    \"solve\",    \"attain\",    \"acquire\",    \"earn\",    \"obtain\",    \"realize\",    \"receive\",    \"secure\",    \"access\",    \"command\",    \"control\",    \"direct\",    \"govern\",    \"lead\",    \"manage\",    \"oversee\",    \"regulate\",    \"rule\",    \"supervise\"]\n",
    "success = list(set(success))\n",
    "\n",
    "# list of verbs assciated with the subject 'intelligence'\n",
    "intelligence = list(set([    \"analyze\",    \"assess\",    \"calculate\",    \"categorize\",    \"classify\",    \"compare\",    \"conceptualize\",    \"conclude\",    \"deduce\",    \"define\",    \"determine\",    \"diagnose\",    \"discern\",    \"evaluate\",    \"examine\",    \"experiment\",    \"explain\",    \"formulate\",    \"identify\",    \"infer\",    \"investigate\",    \"know\",    \"learn\",    \"memorize\",    \"observe\",    \"organize\",    \"predict\",    \"question\",    \"recognize\",    \"relate\",    \"research\",    \"review\",    \"solve\",    \"study\",    \"summarize\",    \"think\",    \"understand\",    \"abstract\",    \"appraise\",    \"appreciate\",    \"comprehend\",    \"conceptualise\",    \"decide\",    \"deduct\",    \"deliberate\",    \"estimate\",    \"exemplify\",    \"fathom\",    \"grasp\",    \"gather\",    \"hypothesize\",    \"imagine\",    \"invent\",    \"judge\",    \"knowing\",    \"perceive\",    \"plan\",    \"postulate\",    \"reason\",    \"surmise\",    \"synthesize\",    \"theorize\",    \"trace\",    \"weigh\",    \"assimilate\",    \"comprehension\",    \"computation\",    \"dissect\",    \"exercise\",    \"insight\",    \"inspect\",    \"interrogate\",    \"interview\",    \"introspection\",    \"investigate\",    \"ponder\",    \"probe\",    \"query\",    \"ruminate\",    \"scrutinize\",    \"subdivide\",    \"substantiate\",    \"substitute\",    \"subtract\",    \"survey\",    \"tease\",    \"test\",    \"translate\",    \"tutor\",    \"verify\",    \"abstract\",    \"conceptualise\",    \"delineate\",    \"dissect\",    \"elucidate\",    \"exemplify\",    \"expose\",    \"extract\",    \"inspect\",    \"interpret\",    \"probe\",    \"question\",    \"scrutinize\",    \"subdivide\",    \"substantiate\",    \"substitute\",    \"subtract\",    \"translate\",    \"uncover\",    \"verify\",    \"vivisect\"]))"
   ]
  },
  {
   "cell_type": "code",
   "execution_count": 52,
   "id": "e49a20be",
   "metadata": {},
   "outputs": [],
   "source": [
    "def get_freq_ratio(df_epoch, action_list):\n",
    "    \"\"\"\n",
    "    Function that returns for a sub-dataframe the mean of freq_ratio\n",
    "    it allows to get mean freq_ratio for a category of actions (ex: violence)\n",
    "    and under other conditions (ex: epoch, movie genre, etc...)\n",
    "     \"\"\"\n",
    "    \n",
    "    male_description = df_epoch[df_epoch['actor gender']=='M']\n",
    "    female_description = df_epoch[df_epoch['actor gender']=='F']\n",
    "\n",
    "    m = male_description.groupby('action', as_index = False).count()[['action', 'actor name']]\n",
    "    m['actor name'] *= 100/male_description.shape[0]\n",
    "    f = female_description.groupby('action', as_index = False).count()[['action', 'actor name']]\n",
    "    f['actor name'] *= 100/female_description.shape[0]\n",
    "    merged_df = m.merge(f, on = 'action', suffixes=('_m', '_f'))\n",
    "    merged_df['freq_ratio'] = merged_df['actor name_m']/merged_df['actor name_f']\n",
    "    \n",
    "    conditions = merged_df['action'] == \"\"\n",
    "    for ls in action_list:\n",
    "        conditions = (conditions) | (merged_df['action']==ls)\n",
    "    merged_df = merged_df[conditions]\n",
    "    \n",
    "    total_freq_m = merged_df['actor name_m'].sum()\n",
    "    total_freq_f = merged_df['actor name_f'].sum()\n",
    "    freq_ratio = total_freq_m/total_freq_f\n",
    "    \n",
    "    return freq_ratio"
   ]
  },
  {
   "cell_type": "code",
   "execution_count": 53,
   "id": "79db5335",
   "metadata": {},
   "outputs": [],
   "source": [
    "def boostrap_on_df(f, df, action_list, gender):\n",
    "    \"\"\"\n",
    "    Function that returns the mean of freq_ratio with its 95% bootstrapped CI\n",
    "    for a sub-dataframe of actions\n",
    "    \"\"\"\n",
    "\n",
    "    val_ = np.array([f(df_epoch = df.sample(n = len(df), replace=True), action_list = action_list) for i in range(50)])\n",
    "    lower, upper = np.quantile(val_, q=[0.025, 0.975])\n",
    "    \n",
    "    return val_.mean(), lower, upper"
   ]
  },
  {
   "attachments": {},
   "cell_type": "markdown",
   "id": "a836728f",
   "metadata": {},
   "source": [
    "## 4. Gender stereotypes comparison trough epochs <a class=\"anchor\" id=\"section4\"></a>"
   ]
  },
  {
   "cell_type": "markdown",
   "id": "57f77afc",
   "metadata": {},
   "source": [
    "Now, using categories of actions, we will compare how their use by genders varies with epochs. The categories we choose are ones pertinent and \"clichés\" for men/women : \n",
    "- Love/seduction\n",
    "- violence\n",
    "- success\n",
    "- intelligence"
   ]
  },
  {
   "cell_type": "code",
   "execution_count": 108,
   "id": "4c71e3fb",
   "metadata": {},
   "outputs": [
    {
     "name": "stdout",
     "output_type": "stream",
     "text": [
      "advancement : 1 / 7\n",
      "advancement : 2 / 7\n",
      "advancement : 3 / 7\n",
      "advancement : 4 / 7\n",
      "advancement : 5 / 7\n",
      "advancement : 6 / 7\n"
     ]
    }
   ],
   "source": [
    "# we create lists where we will store all our boostrapped results\n",
    "Lower_ls, Upper_ls, Mean_ls = [], [], []\n",
    "Lower_v, Upper_v, Mean_v = [], [], []\n",
    "Lower_s, Upper_s, Mean_s = [], [], []\n",
    "Lower_i, Upper_i, Mean_i = [], [], []\n",
    "\n",
    "for i in range(len(epochs)-1):\n",
    "    print('advancement : {} / {}'.format(i+1, len(epochs)))\n",
    "    mean, lower, upper = boostrap_on_df(f = get_freq_ratio, df = df_epochs[i], action_list = love_seduction, gender = 'M')\n",
    "    Lower_ls.append((lower-1))\n",
    "    Upper_ls.append((upper-1))\n",
    "    Mean_ls.append((mean-1))\n",
    "    \n",
    "    mean, lower, upper = boostrap_on_df(f = get_freq_ratio, df = df_epochs[i], action_list = violence, gender = 'M')\n",
    "    Lower_v.append((lower-1))\n",
    "    Upper_v.append((upper-1))\n",
    "    Mean_v.append((mean-1))\n",
    "    \n",
    "    mean, lower, upper = boostrap_on_df(f = get_freq_ratio, df = df_epochs[i], action_list = success, gender = 'M')\n",
    "    Lower_s.append((lower-1))\n",
    "    Upper_s.append((upper-1))\n",
    "    Mean_s.append((mean-1))\n",
    "    \n",
    "    mean, lower, upper = boostrap_on_df(f = get_freq_ratio, df = df_epochs[i], action_list = intelligence, gender = 'M')\n",
    "    Lower_i.append((lower-1))\n",
    "    Upper_i.append((upper-1))\n",
    "    Mean_i.append((mean-1))"
   ]
  },
  {
   "cell_type": "code",
   "execution_count": 110,
   "id": "4c36a45f",
   "metadata": {},
   "outputs": [
    {
     "data": {
      "image/png": "[encoded data removed]",
      "text/plain": [
       "<Figure size 1200x800 with 1 Axes>"
      ]
     },
     "metadata": {},
     "output_type": "display_data"
    }
   ],
   "source": [
    "# now we plot our results\n",
    "f, ax = plt.subplots(figsize = (12,8))\n",
    "ax.grid(True, linestyle = '-.')\n",
    "ax.set_ylabel('Male’s category frequency over female’s')\n",
    "ax.set_xlabel('Year')\n",
    "ax.set_ylim([-0.5, 0.6])\n",
    "ax.set_xlim([1950, 2013])\n",
    "\n",
    "ax.yaxis.set_major_formatter(FuncFormatter(lambda y, _: '+'*int(y>0)  +'{:.0%}'.format(y)))\n",
    "\n",
    "ax.set_title('Which actions are most performed by males rather than females across time ?')\n",
    "sns.lineplot(ax = ax, x = np.linspace(1915, 2012, len(epochs)-1), y = Mean_ls, color = 'red', label = 'love/seduction')\n",
    "ax.fill_between(x = np.linspace(1915, 2012, len(epochs)-1), y1 = Lower_ls, y2=Upper_ls, color ='pink', alpha = 0.3)\n",
    "\n",
    "sns.lineplot(ax = ax, x = np.linspace(1915, 2012, len(epochs)-1), y = Mean_v, color = 'darkorange', label = 'violence')\n",
    "ax.fill_between(x = np.linspace(1915, 2012, len(epochs)-1), y1 = Lower_v, y2=Upper_v, color ='lightsalmon', alpha = 0.3)\n",
    "\n",
    "sns.lineplot(ax = ax, x = np.linspace(1915, 2012, len(epochs)-1), y = Mean_s, color = 'green', label = 'success')\n",
    "ax.fill_between(x = np.linspace(1915, 2012, len(epochs)-1), y1 = Lower_s, y2=Upper_s, color ='green', alpha = 0.15)\n",
    "\n",
    "sns.lineplot(ax = ax, x = np.linspace(1915, 2012, len(epochs)-1), y = Mean_i, color = 'black', label = 'intelligence')\n",
    "ax.fill_between(x = np.linspace(1915, 2012, len(epochs)-1), y1 = Lower_i, y2=Upper_i, color ='black', alpha = 0.15)\n",
    "\n",
    "#plt.savefig('img.png',dpi=900, format = 'png', bbox_inches = 'tight')"
   ]
  },
  {
   "attachments": {},
   "cell_type": "markdown",
   "id": "50f2743a",
   "metadata": {},
   "source": [
    "## 5. Gender stereotypes comparison trough movie genres <a class=\"anchor\" id=\"section5\"></a>"
   ]
  },
  {
   "cell_type": "code",
   "execution_count": 8,
   "id": "a6542442",
   "metadata": {},
   "outputs": [],
   "source": [
    "# some process on dataframes to get genres of all movies\n",
    "char_description_total = char_description_total.explode('Movie genres')\n",
    "genres = ['Drama', 'Comedy', 'Romance Film', 'Action', 'Thriller']\n",
    "df_genres = [char_description_total[char_description_total['Movie genres']==genre] for genre in genres]"
   ]
  },
  {
   "cell_type": "code",
   "execution_count": 55,
   "id": "a14fed4e",
   "metadata": {},
   "outputs": [
    {
     "name": "stdout",
     "output_type": "stream",
     "text": [
      "advancement : 0 / 5\n",
      "advancement : 1 / 5\n",
      "advancement : 2 / 5\n",
      "advancement : 3 / 5\n",
      "advancement : 4 / 5\n"
     ]
    }
   ],
   "source": [
    "# store boostrapped results\n",
    "Lower_ls, Upper_ls, Mean_ls = [], [], []\n",
    "Lower_v, Upper_v, Mean_v = [], [], []\n",
    "Lower_s, Upper_s, Mean_s = [], [], []\n",
    "Lower_i, Upper_i, Mean_i = [], [], []\n",
    "\n",
    "for i in range(len(genres)):\n",
    "    print('advancement : {} / {}'.format(i+1, len(genres)))\n",
    "    mean, lower, upper = boostrap_on_df(f = get_freq_ratio, df = df_genres[i], action_list = love_seduction, gender = 'M')\n",
    "    Lower_ls.append((lower-1))\n",
    "    Upper_ls.append((upper-1))\n",
    "    Mean_ls.append((mean-1))\n",
    "    \n",
    "    mean, lower, upper = boostrap_on_df(f = get_freq_ratio, df = df_genres[i], action_list = violence, gender = 'M')\n",
    "    Lower_v.append((lower-1))\n",
    "    Upper_v.append((upper-1))\n",
    "    Mean_v.append((mean-1))\n",
    "    \n",
    "    mean, lower, upper = boostrap_on_df(f = get_freq_ratio, df = df_genres[i], action_list = success, gender = 'M')\n",
    "    Lower_s.append((lower-1))\n",
    "    Upper_s.append((upper-1))\n",
    "    Mean_s.append((mean-1))\n",
    "    \n",
    "    mean, lower, upper = boostrap_on_df(f = get_freq_ratio, df = df_genres[i], action_list = intelligence, gender = 'M')\n",
    "    Lower_i.append((lower-1))\n",
    "    Upper_i.append((upper-1))\n",
    "    Mean_i.append((mean-1))"
   ]
  },
  {
   "cell_type": "code",
   "execution_count": 60,
   "id": "5fd22280",
   "metadata": {},
   "outputs": [],
   "source": [
    "# store results into a dataframe\n",
    "DATA_df = pd.DataFrame.from_dict({'ratio-1': Mean_ls + Mean_v + Mean_s + Mean_i,\n",
    "                                  'lower': Lower_ls + Lower_v + Lower_s + Lower_i,\n",
    "                                  'upper': Upper_ls + Upper_v + Upper_s + Upper_i, \n",
    "                                  'genre': genres*4, \n",
    "                                  'category': ['love/seduction']*5+['violence']*5+['success']*5+['intelligence']*5})\n",
    "#DATA_df = pd.read_csv('genre_analysis.csv')"
   ]
  },
  {
   "cell_type": "code",
   "execution_count": 107,
   "id": "15ccbfcf",
   "metadata": {},
   "outputs": [
    {
     "data": {
      "image/png": "[encoded data removed]",
      "text/plain": [
       "<Figure size 1200x800 with 1 Axes>"
      ]
     },
     "metadata": {},
     "output_type": "display_data"
    }
   ],
   "source": [
    "# plot the results\n",
    "f, ax = plt.subplots(figsize=(12,8))\n",
    "ax.set_title('Which actions are more performed by males rather than females ?')\n",
    "ax.grid(True, linestyle = '-.')\n",
    "barWidth = 0.2\n",
    "colors = ['red', 'blue', 'orange', 'yellow']\n",
    "\n",
    "for i, cat in enumerate(DATA_df['category'].drop_duplicates().to_list()):\n",
    "    bars = DATA_df[DATA_df['category']==cat]['ratio-1'].to_list()\n",
    "    yer = (DATA_df[DATA_df['category']==cat]['upper']-DATA_df[DATA_df['category']==cat]['lower']).to_list()\n",
    "    r = [x+barWidth*i for x in np.arange(len(bars))]\n",
    "    ax.bar(r, bars, width = barWidth, color = colors[i], edgecolor = 'black', yerr=yer, capsize=7, label=cat, alpha = 0.5)\n",
    "\n",
    "ax.yaxis.set_major_formatter(FuncFormatter(lambda y, _: '+'*int(y>0)  +'{:.0%}'.format(y)))\n",
    "ax.set_xticks([r + barWidth for r in range(len(bars))], DATA_df['genre'].drop_duplicates().to_list())\n",
    "ax.set_ylabel('Male’s category frequency over female’s')\n",
    "plt.legend()\n",
    "#plt.savefig('img.png',dpi=500, format = 'png', bbox_inches = 'tight')\n",
    "plt.show()\n"
   ]
  },
  {
   "attachments": {},
   "cell_type": "markdown",
   "id": "fe739500",
   "metadata": {},
   "source": [
    "## 6. Gender stereotypes comparison trough world region <a class=\"anchor\" id=\"section6\"></a>"
   ]
  },
  {
   "cell_type": "code",
   "execution_count": 85,
   "id": "9dae3cbe",
   "metadata": {},
   "outputs": [],
   "source": [
    "# some process on the dataframe to get the world regions\n",
    "world_regions = ['USA', 'West Europe', 'India']\n",
    "char_description_total = char_description_total.explode('Movie countries')\n",
    "char_description_total['Movie countries'] = char_description_total['Movie countries'].replace({'United States of America': 'USA'})\n",
    "\n",
    "west_europe = ['France','Italy','Germany','Spain','Luxembourg','Netherlands','United Kingdom'] \n",
    "\n",
    "for country in west_europe:\n",
    "    char_description_total['Movie countries'] = char_description_total['Movie countries'].replace({country: 'West Europe'})\n",
    "\n",
    "char_description_total = char_description_total[char_description_total['Movie countries'].isin(['USA', 'West Europe', 'India'])]\n",
    "df_region = [char_description_total[char_description_total['Movie countries']==wr] for wr in world_regions]"
   ]
  },
  {
   "cell_type": "code",
   "execution_count": 89,
   "id": "ae2c79c0",
   "metadata": {},
   "outputs": [
    {
     "name": "stdout",
     "output_type": "stream",
     "text": [
      "advancement : 1 / 3\n",
      "advancement : 2 / 3\n",
      "advancement : 3 / 3\n"
     ]
    }
   ],
   "source": [
    "# store boostrapped results on lists\n",
    "Lower_ls, Upper_ls, Mean_ls = [], [], []\n",
    "Lower_v, Upper_v, Mean_v = [], [], []\n",
    "Lower_s, Upper_s, Mean_s = [], [], []\n",
    "Lower_i, Upper_i, Mean_i = [], [], []\n",
    "\n",
    "for i in range(len(world_regions)):\n",
    "    print('advancement : {} / {}'.format(i+1, len(world_regions)))\n",
    "    mean, lower, upper = boostrap_on_df(f = get_freq_ratio, df = df_region[i], action_list = love_seduction, gender = 'M')\n",
    "    Lower_ls.append((lower-1))\n",
    "    Upper_ls.append((upper-1))\n",
    "    Mean_ls.append((mean-1))\n",
    "    \n",
    "    mean, lower, upper = boostrap_on_df(f = get_freq_ratio, df = df_region[i], action_list = violence, gender = 'M')\n",
    "    Lower_v.append((lower-1))\n",
    "    Upper_v.append((upper-1))\n",
    "    Mean_v.append((mean-1))\n",
    "    \n",
    "    mean, lower, upper = boostrap_on_df(f = get_freq_ratio, df = df_region[i], action_list = success, gender = 'M')\n",
    "    Lower_s.append((lower-1))\n",
    "    Upper_s.append((upper-1))\n",
    "    Mean_s.append((mean-1))\n",
    "    \n",
    "    mean, lower, upper = boostrap_on_df(f = get_freq_ratio, df = df_region[i], action_list = intelligence, gender = 'M')\n",
    "    Lower_i.append((lower-1))\n",
    "    Upper_i.append((upper-1))\n",
    "    Mean_i.append((mean-1))"
   ]
  },
  {
   "cell_type": "code",
   "execution_count": 102,
   "id": "3bbd2eb8",
   "metadata": {},
   "outputs": [],
   "source": [
    "# store results into a dataframe\n",
    "DATA_df = pd.DataFrame.from_dict({'ratio-1': Mean_ls + Mean_v + Mean_s + Mean_i,\n",
    "                                  'lower': Lower_ls + Lower_v + Lower_s + Lower_i,\n",
    "                                  'upper': Upper_ls + Upper_v + Upper_s + Upper_i, \n",
    "                                  'world_region': world_regions*4, \n",
    "                                  'category': ['love/seduction']*3+['violence']*3+['success']*3+['intelligence']*3})\n",
    "#DATA_df.to_csv('world_regions.csv', index = False)"
   ]
  },
  {
   "cell_type": "code",
   "execution_count": 100,
   "id": "5b7bcbc0",
   "metadata": {},
   "outputs": [
    {
     "data": {
      "image/png": "[encoded data removed]",
      "text/plain": [
       "<Figure size 1200x800 with 1 Axes>"
      ]
     },
     "metadata": {},
     "output_type": "display_data"
    }
   ],
   "source": [
    "# plot results\n",
    "f, ax = plt.subplots(figsize=(12,8))\n",
    "ax.set_title('Which actions are more performed by males rather than females ?')\n",
    "ax.grid(True, linestyle = '-.')\n",
    "barWidth = 0.2\n",
    "colors = ['red', 'blue', 'orange', 'yellow']\n",
    "\n",
    "for i, cat in enumerate(DATA_df['category'].drop_duplicates().to_list()):\n",
    "    bars = DATA_df[DATA_df['category']==cat]['ratio-1'].to_list()\n",
    "    yer = (DATA_df[DATA_df['category']==cat]['upper']-DATA_df[DATA_df['category']==cat]['lower']).to_list()\n",
    "    r = [x+barWidth*i for x in np.arange(len(bars))]\n",
    "    ax.bar(r, bars, width = barWidth, color = colors[i], edgecolor = 'black', yerr=yer, capsize=7, label=cat, alpha = 0.5)\n",
    "\n",
    "ax.yaxis.set_major_formatter(FuncFormatter(lambda y, _: '+'*int(y>0)  +'{:.0%}'.format(y)))\n",
    "ax.set_xticks([r + barWidth for r in range(len(bars))], DATA_df['world_region'].drop_duplicates().to_list())\n",
    "ax.set_ylabel('Male’s category frequency over female’s')\n",
    "plt.legend()\n",
    "#plt.savefig('img.png',dpi=500, format = 'png', bbox_inches = 'tight')\n",
    "plt.show()\n"
   ]
  },
  {
   "attachments": {},
   "cell_type": "markdown",
   "id": "b546616f",
   "metadata": {},
   "source": [
    "## 7. Gender stereotypes comparison through writer's gender <a class=\"anchor\" id=\"section7\"></a>"
   ]
  },
  {
   "attachments": {},
   "cell_type": "markdown",
   "id": "04591188",
   "metadata": {},
   "source": [
    "### Obtaining the number of male and females writers and directors for each movie in the dataset"
   ]
  },
  {
   "cell_type": "code",
   "execution_count": 7,
   "id": "49d634cc",
   "metadata": {},
   "outputs": [],
   "source": [
    "#Importing the metadata from CMU Movie Summary Corpus\n",
    "df_movie_meta = pd.read_table(\"./data/MovieSummaries/movie.metadata.tsv\", header=None)\n",
    "df_movie_meta.columns=[\"Wikipedia movie ID\", \"Freebase movie ID\", \"Movie name\", \"Movie release date\", \n",
    "                     \"Movie box office revenue\", \"Movie runtime\", \"Movie languages\", \"Movie countries\", \"Movie genres\"]\n"
   ]
  },
  {
   "cell_type": "code",
   "execution_count": 8,
   "id": "db19c4da",
   "metadata": {},
   "outputs": [
    {
     "data": {
      "text/html": [
       "<div>\n",
       "<style scoped>\n",
       "    .dataframe tbody tr th:only-of-type {\n",
       "        vertical-align: middle;\n",
       "    }\n",
       "\n",
       "    .dataframe tbody tr th {\n",
       "        vertical-align: top;\n",
       "    }\n",
       "\n",
       "    .dataframe thead th {\n",
       "        text-align: right;\n",
       "    }\n",
       "</style>\n",
       "<table border=\"1\" class=\"dataframe\">\n",
       "  <thead>\n",
       "    <tr style=\"text-align: right;\">\n",
       "      <th></th>\n",
       "      <th>freebaseID</th>\n",
       "      <th>IMDb_ID</th>\n",
       "    </tr>\n",
       "  </thead>\n",
       "  <tbody>\n",
       "    <tr>\n",
       "      <th>0</th>\n",
       "      <td>/m/05cj_j</td>\n",
       "      <td>tt0074512</td>\n",
       "    </tr>\n",
       "    <tr>\n",
       "      <th>1</th>\n",
       "      <td>/m/0d1t3h</td>\n",
       "      <td>tt0079630</td>\n",
       "    </tr>\n",
       "    <tr>\n",
       "      <th>2</th>\n",
       "      <td>/m/0gt35</td>\n",
       "      <td>tt0031971</td>\n",
       "    </tr>\n",
       "  </tbody>\n",
       "</table>\n",
       "</div>"
      ],
      "text/plain": [
       "  freebaseID    IMDb_ID\n",
       "0  /m/05cj_j  tt0074512\n",
       "1  /m/0d1t3h  tt0079630\n",
       "2   /m/0gt35  tt0031971"
      ]
     },
     "execution_count": 8,
     "metadata": {},
     "output_type": "execute_result"
    }
   ],
   "source": [
    "# To map freebase ids to imdb ids\n",
    "fb_to_imdb = pd.read_csv('freebase_to_imdb.csv')\n",
    "# drop columns that are not needed\n",
    "fb_to_imdb.drop(columns = ['sitelink', 'item'], inplace = True)\n",
    "fb_to_imdb.head(3)"
   ]
  },
  {
   "cell_type": "code",
   "execution_count": 14,
   "id": "adee0606",
   "metadata": {},
   "outputs": [
    {
     "data": {
      "text/html": [
       "<div>\n",
       "<style scoped>\n",
       "    .dataframe tbody tr th:only-of-type {\n",
       "        vertical-align: middle;\n",
       "    }\n",
       "\n",
       "    .dataframe tbody tr th {\n",
       "        vertical-align: top;\n",
       "    }\n",
       "\n",
       "    .dataframe thead th {\n",
       "        text-align: right;\n",
       "    }\n",
       "</style>\n",
       "<table border=\"1\" class=\"dataframe\">\n",
       "  <thead>\n",
       "    <tr style=\"text-align: right;\">\n",
       "      <th></th>\n",
       "      <th>tconst</th>\n",
       "      <th>directors</th>\n",
       "      <th>writers</th>\n",
       "    </tr>\n",
       "  </thead>\n",
       "  <tbody>\n",
       "    <tr>\n",
       "      <th>0</th>\n",
       "      <td>tt0000001</td>\n",
       "      <td>nm0005690</td>\n",
       "      <td>\\N</td>\n",
       "    </tr>\n",
       "    <tr>\n",
       "      <th>1</th>\n",
       "      <td>tt0000002</td>\n",
       "      <td>nm0721526</td>\n",
       "      <td>\\N</td>\n",
       "    </tr>\n",
       "    <tr>\n",
       "      <th>2</th>\n",
       "      <td>tt0000003</td>\n",
       "      <td>nm0721526</td>\n",
       "      <td>\\N</td>\n",
       "    </tr>\n",
       "  </tbody>\n",
       "</table>\n",
       "</div>"
      ],
      "text/plain": [
       "      tconst  directors writers\n",
       "0  tt0000001  nm0005690      \\N\n",
       "1  tt0000002  nm0721526      \\N\n",
       "2  tt0000003  nm0721526      \\N"
      ]
     },
     "execution_count": 14,
     "metadata": {},
     "output_type": "execute_result"
    }
   ],
   "source": [
    "data_folder_IMDB = './IMDb data/'\n",
    "# Importing the data on the cast\n",
    "f = gzip.open(data_folder_IMDB + '/title.crew.tsv.gz', 'rb')\n",
    "df_title_crew=  pd.read_csv(f, sep='\\t')\n",
    "df_title_crew.head(3)"
   ]
  },
  {
   "cell_type": "code",
   "execution_count": 11,
   "id": "2e782e31",
   "metadata": {},
   "outputs": [
    {
     "name": "stderr",
     "output_type": "stream",
     "text": [
      "c:\\Users\\33642\\AppData\\Local\\Programs\\Python\\Python39\\lib\\site-packages\\IPython\\core\\interactiveshell.py:3444: DtypeWarning: Columns (4) have mixed types.Specify dtype option on import or set low_memory=False.\n",
      "  exec(code_obj, self.user_global_ns, self.user_ns)\n"
     ]
    },
    {
     "data": {
      "text/html": [
       "<div>\n",
       "<style scoped>\n",
       "    .dataframe tbody tr th:only-of-type {\n",
       "        vertical-align: middle;\n",
       "    }\n",
       "\n",
       "    .dataframe tbody tr th {\n",
       "        vertical-align: top;\n",
       "    }\n",
       "\n",
       "    .dataframe thead th {\n",
       "        text-align: right;\n",
       "    }\n",
       "</style>\n",
       "<table border=\"1\" class=\"dataframe\">\n",
       "  <thead>\n",
       "    <tr style=\"text-align: right;\">\n",
       "      <th></th>\n",
       "      <th>Wikipedia movie ID</th>\n",
       "      <th>Freebase movie ID</th>\n",
       "      <th>Movie name</th>\n",
       "      <th>Movie genres</th>\n",
       "      <th>IMDb_ID</th>\n",
       "    </tr>\n",
       "  </thead>\n",
       "  <tbody>\n",
       "    <tr>\n",
       "      <th>0</th>\n",
       "      <td>975900</td>\n",
       "      <td>/m/03vyhn</td>\n",
       "      <td>Ghosts of Mars</td>\n",
       "      <td>{\"/m/01jfsb\": \"Thriller\", \"/m/06n90\": \"Science...</td>\n",
       "      <td>tt0228333</td>\n",
       "    </tr>\n",
       "    <tr>\n",
       "      <th>1</th>\n",
       "      <td>28463795</td>\n",
       "      <td>/m/0crgdbh</td>\n",
       "      <td>Brun bitter</td>\n",
       "      <td>{\"/m/0lsxr\": \"Crime Fiction\", \"/m/07s9rl0\": \"D...</td>\n",
       "      <td>tt0094806</td>\n",
       "    </tr>\n",
       "    <tr>\n",
       "      <th>2</th>\n",
       "      <td>9363483</td>\n",
       "      <td>/m/0285_cd</td>\n",
       "      <td>White Of The Eye</td>\n",
       "      <td>{\"/m/01jfsb\": \"Thriller\", \"/m/0glj9q\": \"Erotic...</td>\n",
       "      <td>tt0094320</td>\n",
       "    </tr>\n",
       "  </tbody>\n",
       "</table>\n",
       "</div>"
      ],
      "text/plain": [
       "   Wikipedia movie ID Freebase movie ID        Movie name  \\\n",
       "0              975900         /m/03vyhn    Ghosts of Mars   \n",
       "1            28463795        /m/0crgdbh       Brun bitter   \n",
       "2             9363483        /m/0285_cd  White Of The Eye   \n",
       "\n",
       "                                        Movie genres    IMDb_ID  \n",
       "0  {\"/m/01jfsb\": \"Thriller\", \"/m/06n90\": \"Science...  tt0228333  \n",
       "1  {\"/m/0lsxr\": \"Crime Fiction\", \"/m/07s9rl0\": \"D...  tt0094806  \n",
       "2  {\"/m/01jfsb\": \"Thriller\", \"/m/0glj9q\": \"Erotic...  tt0094320  "
      ]
     },
     "execution_count": 11,
     "metadata": {},
     "output_type": "execute_result"
    }
   ],
   "source": [
    "f = gzip.open(data_folder_IMDB + '/title.basics.tsv.gz', 'rb')\n",
    "df_title_basics =  pd.read_csv(f, sep='\\t')\n",
    "df_title_basics = df_title_basics.drop(columns = ['isAdult', 'endYear', 'startYear', 'runtimeMinutes', 'titleType'])\n",
    "\n",
    "# Getting imdb ids matching freebase ids\n",
    "df_movie_meta = df_movie_meta.drop(columns = ['Movie runtime', 'Movie countries', 'Movie languages', 'Movie box office revenue', 'Movie release date'])\n",
    "data = df_movie_meta.merge(fb_to_imdb, how = 'inner', left_on = 'Freebase movie ID', right_on = 'freebaseID' )\n",
    "\n",
    "# Merging cmu and imdb movies\n",
    "merged_cmu_imdb = data.merge(df_title_basics, how = 'inner', left_on = 'IMDb_ID', right_on = 'tconst')\n",
    "merged_cmu_imdb = merged_cmu_imdb.drop(columns = ['tconst', 'originalTitle', 'genres', 'freebaseID', 'primaryTitle'])\n",
    "merged_cmu_imdb.head(3)"
   ]
  },
  {
   "cell_type": "code",
   "execution_count": 17,
   "id": "62693023",
   "metadata": {},
   "outputs": [
    {
     "data": {
      "text/html": [
       "<div>\n",
       "<style scoped>\n",
       "    .dataframe tbody tr th:only-of-type {\n",
       "        vertical-align: middle;\n",
       "    }\n",
       "\n",
       "    .dataframe tbody tr th {\n",
       "        vertical-align: top;\n",
       "    }\n",
       "\n",
       "    .dataframe thead th {\n",
       "        text-align: right;\n",
       "    }\n",
       "</style>\n",
       "<table border=\"1\" class=\"dataframe\">\n",
       "  <thead>\n",
       "    <tr style=\"text-align: right;\">\n",
       "      <th></th>\n",
       "      <th>Wikipedia movie ID</th>\n",
       "      <th>Freebase movie ID</th>\n",
       "      <th>Movie name</th>\n",
       "      <th>IMDb_ID</th>\n",
       "      <th>directors</th>\n",
       "      <th>writers</th>\n",
       "    </tr>\n",
       "  </thead>\n",
       "  <tbody>\n",
       "    <tr>\n",
       "      <th>0</th>\n",
       "      <td>975900</td>\n",
       "      <td>/m/03vyhn</td>\n",
       "      <td>Ghosts of Mars</td>\n",
       "      <td>tt0228333</td>\n",
       "      <td>nm0000118</td>\n",
       "      <td>nm0837917,nm0000118</td>\n",
       "    </tr>\n",
       "    <tr>\n",
       "      <th>1</th>\n",
       "      <td>28463795</td>\n",
       "      <td>/m/0crgdbh</td>\n",
       "      <td>Brun bitter</td>\n",
       "      <td>tt0094806</td>\n",
       "      <td>nm0803751</td>\n",
       "      <td>nm0803751,nm0820866</td>\n",
       "    </tr>\n",
       "    <tr>\n",
       "      <th>2</th>\n",
       "      <td>9363483</td>\n",
       "      <td>/m/0285_cd</td>\n",
       "      <td>White Of The Eye</td>\n",
       "      <td>tt0094320</td>\n",
       "      <td>nm0131910</td>\n",
       "      <td>nm0465026,nm0131910,nm0458461,nm1738738</td>\n",
       "    </tr>\n",
       "  </tbody>\n",
       "</table>\n",
       "</div>"
      ],
      "text/plain": [
       "   Wikipedia movie ID Freebase movie ID        Movie name    IMDb_ID  \\\n",
       "0              975900         /m/03vyhn    Ghosts of Mars  tt0228333   \n",
       "1            28463795        /m/0crgdbh       Brun bitter  tt0094806   \n",
       "2             9363483        /m/0285_cd  White Of The Eye  tt0094320   \n",
       "\n",
       "   directors                                  writers  \n",
       "0  nm0000118                      nm0837917,nm0000118  \n",
       "1  nm0803751                      nm0803751,nm0820866  \n",
       "2  nm0131910  nm0465026,nm0131910,nm0458461,nm1738738  "
      ]
     },
     "execution_count": 17,
     "metadata": {},
     "output_type": "execute_result"
    }
   ],
   "source": [
    "# Obtaining the crew for each movie\n",
    "merged_cmu_imdb = merged_cmu_imdb.merge(df_title_crew, how = 'inner', left_on = 'IMDb_ID', right_on = 'tconst')\n",
    "merged_cmu_imdb = merged_cmu_imdb.drop(columns = ['tconst', 'Movie genres'])\n",
    "merged_cmu_imdb.head(3)"
   ]
  },
  {
   "attachments": {},
   "cell_type": "markdown",
   "id": "12397148",
   "metadata": {},
   "source": [
    "We now have the writers and directors information for the movies. We can have more than one writer and director per movie."
   ]
  },
  {
   "cell_type": "code",
   "execution_count": 20,
   "id": "a8d1d0f0",
   "metadata": {},
   "outputs": [],
   "source": [
    "# Selecting subsets of the dataframe \n",
    "df_directors = merged_cmu_imdb[['Freebase movie ID', 'directors']]\n",
    "df_writers = merged_cmu_imdb[['Freebase movie ID', 'writers']]\n",
    "# Splitting the directors into a list\n",
    "df_directors['directors'] = df_directors['directors'].apply(lambda x : x.split(','))\n",
    "# Splitting the writers into a list\n",
    "df_writers['writers'] = df_writers['writers'].apply(lambda x : x.split(','))"
   ]
  },
  {
   "cell_type": "code",
   "execution_count": 22,
   "id": "d0da4a22",
   "metadata": {},
   "outputs": [],
   "source": [
    "gender_imdb = pd.read_csv('imdb_genders.csv')\n",
    "gender_imdb['gender'] = gender_imdb['gender'].apply(lambda x : str(x).rsplit('/', 1)[-1])\n",
    "gender_imdb = gender_imdb.drop(columns = ['id'])\n",
    "# Replacing male and female genders and keeping only them. We don't consider other genres because they are too few\n",
    "gender_imdb['gender'] = gender_imdb['gender'].str.replace('Q6581097', 'male')\n",
    "gender_imdb['gender'] = gender_imdb['gender'].str.replace('Q6581072', 'female')\n",
    "gender_imdb = gender_imdb[gender_imdb['gender'].str.contains('male|female')]"
   ]
  },
  {
   "cell_type": "code",
   "execution_count": 23,
   "id": "e72813cd",
   "metadata": {},
   "outputs": [
    {
     "data": {
      "text/html": [
       "<div>\n",
       "<style scoped>\n",
       "    .dataframe tbody tr th:only-of-type {\n",
       "        vertical-align: middle;\n",
       "    }\n",
       "\n",
       "    .dataframe tbody tr th {\n",
       "        vertical-align: top;\n",
       "    }\n",
       "\n",
       "    .dataframe thead th {\n",
       "        text-align: right;\n",
       "    }\n",
       "</style>\n",
       "<table border=\"1\" class=\"dataframe\">\n",
       "  <thead>\n",
       "    <tr style=\"text-align: right;\">\n",
       "      <th></th>\n",
       "      <th>Freebase movie ID</th>\n",
       "      <th>writers</th>\n",
       "      <th>gender</th>\n",
       "      <th>IMDb_ID</th>\n",
       "    </tr>\n",
       "  </thead>\n",
       "  <tbody>\n",
       "    <tr>\n",
       "      <th>0</th>\n",
       "      <td>/m/03vyhn</td>\n",
       "      <td>nm0000118</td>\n",
       "      <td>male</td>\n",
       "      <td>nm0000118</td>\n",
       "    </tr>\n",
       "    <tr>\n",
       "      <th>1</th>\n",
       "      <td>/m/0crgdbh</td>\n",
       "      <td>nm0803751</td>\n",
       "      <td>male</td>\n",
       "      <td>nm0803751</td>\n",
       "    </tr>\n",
       "    <tr>\n",
       "      <th>2</th>\n",
       "      <td>/m/0crgdbh</td>\n",
       "      <td>nm0820866</td>\n",
       "      <td>male</td>\n",
       "      <td>nm0820866</td>\n",
       "    </tr>\n",
       "  </tbody>\n",
       "</table>\n",
       "</div>"
      ],
      "text/plain": [
       "  Freebase movie ID    writers gender    IMDb_ID\n",
       "0         /m/03vyhn  nm0000118   male  nm0000118\n",
       "1        /m/0crgdbh  nm0803751   male  nm0803751\n",
       "2        /m/0crgdbh  nm0820866   male  nm0820866"
      ]
     },
     "execution_count": 23,
     "metadata": {},
     "output_type": "execute_result"
    }
   ],
   "source": [
    "# Putting only one director and writer per line\n",
    "df_directors = df_directors.set_index(['Freebase movie ID']).apply(lambda x: x.explode()).reset_index()\n",
    "df_writers = df_writers.set_index(['Freebase movie ID']).apply(lambda x: x.explode()).reset_index()\n",
    "# keeping only unique directors and writers\n",
    "df_writers_unique = df_writers.drop_duplicates(subset = 'writers')\n",
    "df_directors_unique = df_directors.drop_duplicates(subset = 'directors')\n",
    "# Getting their imdb ids\n",
    "df_wri = df_writers_unique.merge(gender_imdb, how = 'inner', left_on='writers', right_on = 'IMDb_ID')\n",
    "df_dir = df_directors_unique.merge(gender_imdb, how = 'inner', left_on='directors', right_on = 'IMDb_ID')\n",
    "df_wri.head(3)"
   ]
  },
  {
   "cell_type": "code",
   "execution_count": 28,
   "id": "86d918fd",
   "metadata": {},
   "outputs": [
    {
     "data": {
      "text/html": [
       "<div>\n",
       "<style scoped>\n",
       "    .dataframe tbody tr th:only-of-type {\n",
       "        vertical-align: middle;\n",
       "    }\n",
       "\n",
       "    .dataframe tbody tr th {\n",
       "        vertical-align: top;\n",
       "    }\n",
       "\n",
       "    .dataframe thead th {\n",
       "        text-align: right;\n",
       "    }\n",
       "</style>\n",
       "<table border=\"1\" class=\"dataframe\">\n",
       "  <thead>\n",
       "    <tr style=\"text-align: right;\">\n",
       "      <th></th>\n",
       "      <th>writers</th>\n",
       "      <th>gender</th>\n",
       "    </tr>\n",
       "  </thead>\n",
       "  <tbody>\n",
       "    <tr>\n",
       "      <th>0</th>\n",
       "      <td>nm0000118</td>\n",
       "      <td>male</td>\n",
       "    </tr>\n",
       "    <tr>\n",
       "      <th>1</th>\n",
       "      <td>nm0803751</td>\n",
       "      <td>male</td>\n",
       "    </tr>\n",
       "    <tr>\n",
       "      <th>2</th>\n",
       "      <td>nm0820866</td>\n",
       "      <td>male</td>\n",
       "    </tr>\n",
       "  </tbody>\n",
       "</table>\n",
       "</div>"
      ],
      "text/plain": [
       "     writers gender\n",
       "0  nm0000118   male\n",
       "1  nm0803751   male\n",
       "2  nm0820866   male"
      ]
     },
     "execution_count": 28,
     "metadata": {},
     "output_type": "execute_result"
    }
   ],
   "source": [
    "gender_writers = df_wri[['writers', 'gender']]\n",
    "gender_directors = df_dir[['directors', 'gender']]\n",
    "gender_writers.head(3)"
   ]
  },
  {
   "cell_type": "code",
   "execution_count": 29,
   "id": "0ab8d1e1",
   "metadata": {},
   "outputs": [
    {
     "name": "stdout",
     "output_type": "stream",
     "text": [
      "True\n"
     ]
    }
   ],
   "source": [
    "gender_directors = gender_directors.drop_duplicates(subset = ['directors'])\n",
    "print(gender_directors.directors.is_unique)\n",
    "gender_directors = gender_directors.set_index(['directors'])\n",
    "gender_writers = gender_writers.drop_duplicates(subset = ['writers'])\n",
    "gender_writers.writers.is_unique\n",
    "gender_writers = gender_writers.set_index(['writers'])"
   ]
  },
  {
   "cell_type": "code",
   "execution_count": 30,
   "id": "97739412",
   "metadata": {},
   "outputs": [
    {
     "name": "stdout",
     "output_type": "stream",
     "text": [
      "male      24027\n",
      "female     3841\n",
      "Name: gender, dtype: int64\n"
     ]
    },
    {
     "data": {
      "image/png": "[encoded data removed]",
      "text/plain": [
       "<Figure size 432x216 with 1 Axes>"
      ]
     },
     "metadata": {},
     "output_type": "display_data"
    },
    {
     "data": {
      "text/plain": [
       "<Figure size 432x288 with 0 Axes>"
      ]
     },
     "metadata": {},
     "output_type": "display_data"
    }
   ],
   "source": [
    "print(df_wri['gender'].value_counts())\n",
    "\n",
    "mylabels = [\"male\", \"female\"]\n",
    "fig = plt.figure(figsize=(6,3)) \n",
    "colors = ['lightskyblue','pink']\n",
    "plt.pie(df_wri['gender'].value_counts(), labels = mylabels, autopct='%1.2f%%', colors = colors)\n",
    "plt.title(\"Writers gender distribution (n = 27891)\")\n",
    "plt.figure(facecolor='yellow')\n",
    "plt.show()\n",
    "fig.savefig('writers_gender.png', format='png', dpi=900)"
   ]
  },
  {
   "cell_type": "code",
   "execution_count": 31,
   "id": "2372028f",
   "metadata": {},
   "outputs": [
    {
     "name": "stdout",
     "output_type": "stream",
     "text": [
      "male      15568\n",
      "female     1657\n",
      "Name: gender, dtype: int64\n"
     ]
    },
    {
     "data": {
      "image/png": "[encoded data removed]",
      "text/plain": [
       "<Figure size 432x216 with 1 Axes>"
      ]
     },
     "metadata": {},
     "output_type": "display_data"
    },
    {
     "data": {
      "text/plain": [
       "<Figure size 432x288 with 0 Axes>"
      ]
     },
     "metadata": {},
     "output_type": "display_data"
    }
   ],
   "source": [
    "print(df_dir['gender'].value_counts())\n",
    "\n",
    "mylabels = [\"male\", \"female\"]\n",
    "fig = plt.figure(figsize=(6,3)) \n",
    "colors = ['lightskyblue','pink']\n",
    "plt.pie(df_dir['gender'].value_counts(), labels = mylabels, autopct='%1.2f%%', colors = colors)\n",
    "plt.title(\"Directors gender distribution (n = 17244)\")\n",
    "plt.figure(facecolor='yellow')\n",
    "plt.show()\n",
    "fig.savefig('myimage.png', format='png', dpi=900)"
   ]
  },
  {
   "cell_type": "code",
   "execution_count": 32,
   "id": "e473c0bb",
   "metadata": {},
   "outputs": [
    {
     "data": {
      "text/html": [
       "<div>\n",
       "<style scoped>\n",
       "    .dataframe tbody tr th:only-of-type {\n",
       "        vertical-align: middle;\n",
       "    }\n",
       "\n",
       "    .dataframe tbody tr th {\n",
       "        vertical-align: top;\n",
       "    }\n",
       "\n",
       "    .dataframe thead th {\n",
       "        text-align: right;\n",
       "    }\n",
       "</style>\n",
       "<table border=\"1\" class=\"dataframe\">\n",
       "  <thead>\n",
       "    <tr style=\"text-align: right;\">\n",
       "      <th></th>\n",
       "      <th>Wikipedia movie ID</th>\n",
       "      <th>Freebase movie ID</th>\n",
       "      <th>Movie name</th>\n",
       "      <th>IMDb_ID</th>\n",
       "      <th>directors</th>\n",
       "      <th>writers</th>\n",
       "    </tr>\n",
       "  </thead>\n",
       "  <tbody>\n",
       "    <tr>\n",
       "      <th>0</th>\n",
       "      <td>975900</td>\n",
       "      <td>/m/03vyhn</td>\n",
       "      <td>Ghosts of Mars</td>\n",
       "      <td>tt0228333</td>\n",
       "      <td>[nm0000118]</td>\n",
       "      <td>[nm0837917, nm0000118]</td>\n",
       "    </tr>\n",
       "    <tr>\n",
       "      <th>1</th>\n",
       "      <td>28463795</td>\n",
       "      <td>/m/0crgdbh</td>\n",
       "      <td>Brun bitter</td>\n",
       "      <td>tt0094806</td>\n",
       "      <td>[nm0803751]</td>\n",
       "      <td>[nm0803751, nm0820866]</td>\n",
       "    </tr>\n",
       "    <tr>\n",
       "      <th>2</th>\n",
       "      <td>9363483</td>\n",
       "      <td>/m/0285_cd</td>\n",
       "      <td>White Of The Eye</td>\n",
       "      <td>tt0094320</td>\n",
       "      <td>[nm0131910]</td>\n",
       "      <td>[nm0465026, nm0131910, nm0458461, nm1738738]</td>\n",
       "    </tr>\n",
       "  </tbody>\n",
       "</table>\n",
       "</div>"
      ],
      "text/plain": [
       "   Wikipedia movie ID Freebase movie ID        Movie name    IMDb_ID  \\\n",
       "0              975900         /m/03vyhn    Ghosts of Mars  tt0228333   \n",
       "1            28463795        /m/0crgdbh       Brun bitter  tt0094806   \n",
       "2             9363483        /m/0285_cd  White Of The Eye  tt0094320   \n",
       "\n",
       "     directors                                       writers  \n",
       "0  [nm0000118]                        [nm0837917, nm0000118]  \n",
       "1  [nm0803751]                        [nm0803751, nm0820866]  \n",
       "2  [nm0131910]  [nm0465026, nm0131910, nm0458461, nm1738738]  "
      ]
     },
     "execution_count": 32,
     "metadata": {},
     "output_type": "execute_result"
    }
   ],
   "source": [
    "merged_cmu_imdb['writers'] = merged_cmu_imdb['writers'].apply(lambda x : x.split(','))\n",
    "merged_cmu_imdb['directors'] = merged_cmu_imdb['directors'].apply(lambda x : x.split(','))\n",
    "merged_cmu_imdb.head(3)"
   ]
  },
  {
   "cell_type": "code",
   "execution_count": 33,
   "id": "b684ebe7",
   "metadata": {},
   "outputs": [],
   "source": [
    "def get_gender_counts(lst, dataframe):\n",
    "    \"\"\"\n",
    "    takes a list of ids as input and a table of gender linked to ids\n",
    "    returns counts of men and women in the list of ids\n",
    "    \"\"\"\n",
    "    \n",
    "    male_count = 0\n",
    "    female_count = 0\n",
    "    unknown = 0\n",
    "    if len(lst) == 0:\n",
    "        return 0,0,0\n",
    "    for id in lst:\n",
    "        gender = dataframe[dataframe.index == id]['gender']\n",
    "        if len(gender) == 1 :\n",
    "            gender = gender.item()\n",
    "            if gender == 'male':\n",
    "                male_count += 1\n",
    "            elif gender == 'female':\n",
    "                female_count += 1\n",
    "        else : \n",
    "            unknown += 1\n",
    "    return [male_count, female_count, unknown]"
   ]
  },
  {
   "cell_type": "code",
   "execution_count": 34,
   "id": "88641933",
   "metadata": {},
   "outputs": [
    {
     "data": {
      "text/html": [
       "<div>\n",
       "<style scoped>\n",
       "    .dataframe tbody tr th:only-of-type {\n",
       "        vertical-align: middle;\n",
       "    }\n",
       "\n",
       "    .dataframe tbody tr th {\n",
       "        vertical-align: top;\n",
       "    }\n",
       "\n",
       "    .dataframe thead th {\n",
       "        text-align: right;\n",
       "    }\n",
       "</style>\n",
       "<table border=\"1\" class=\"dataframe\">\n",
       "  <thead>\n",
       "    <tr style=\"text-align: right;\">\n",
       "      <th></th>\n",
       "      <th>Wikipedia movie ID</th>\n",
       "      <th>Freebase movie ID</th>\n",
       "      <th>Movie name</th>\n",
       "      <th>IMDb_ID</th>\n",
       "      <th>directors</th>\n",
       "      <th>writers</th>\n",
       "      <th>counts_dir</th>\n",
       "      <th>counts_wri</th>\n",
       "    </tr>\n",
       "  </thead>\n",
       "  <tbody>\n",
       "    <tr>\n",
       "      <th>0</th>\n",
       "      <td>975900</td>\n",
       "      <td>/m/03vyhn</td>\n",
       "      <td>Ghosts of Mars</td>\n",
       "      <td>tt0228333</td>\n",
       "      <td>[nm0000118]</td>\n",
       "      <td>[nm0837917, nm0000118]</td>\n",
       "      <td>[1, 0, 0]</td>\n",
       "      <td>[1, 0, 1]</td>\n",
       "    </tr>\n",
       "    <tr>\n",
       "      <th>1</th>\n",
       "      <td>28463795</td>\n",
       "      <td>/m/0crgdbh</td>\n",
       "      <td>Brun bitter</td>\n",
       "      <td>tt0094806</td>\n",
       "      <td>[nm0803751]</td>\n",
       "      <td>[nm0803751, nm0820866]</td>\n",
       "      <td>[1, 0, 0]</td>\n",
       "      <td>[2, 0, 0]</td>\n",
       "    </tr>\n",
       "    <tr>\n",
       "      <th>2</th>\n",
       "      <td>9363483</td>\n",
       "      <td>/m/0285_cd</td>\n",
       "      <td>White Of The Eye</td>\n",
       "      <td>tt0094320</td>\n",
       "      <td>[nm0131910]</td>\n",
       "      <td>[nm0465026, nm0131910, nm0458461, nm1738738]</td>\n",
       "      <td>[1, 0, 0]</td>\n",
       "      <td>[2, 1, 1]</td>\n",
       "    </tr>\n",
       "  </tbody>\n",
       "</table>\n",
       "</div>"
      ],
      "text/plain": [
       "   Wikipedia movie ID Freebase movie ID        Movie name    IMDb_ID  \\\n",
       "0              975900         /m/03vyhn    Ghosts of Mars  tt0228333   \n",
       "1            28463795        /m/0crgdbh       Brun bitter  tt0094806   \n",
       "2             9363483        /m/0285_cd  White Of The Eye  tt0094320   \n",
       "\n",
       "     directors                                       writers counts_dir  \\\n",
       "0  [nm0000118]                        [nm0837917, nm0000118]  [1, 0, 0]   \n",
       "1  [nm0803751]                        [nm0803751, nm0820866]  [1, 0, 0]   \n",
       "2  [nm0131910]  [nm0465026, nm0131910, nm0458461, nm1738738]  [1, 0, 0]   \n",
       "\n",
       "  counts_wri  \n",
       "0  [1, 0, 1]  \n",
       "1  [2, 0, 0]  \n",
       "2  [2, 1, 1]  "
      ]
     },
     "execution_count": 34,
     "metadata": {},
     "output_type": "execute_result"
    }
   ],
   "source": [
    "df = merged_cmu_imdb.copy()\n",
    "df['counts_dir'] = df['directors'].apply(lambda x: get_gender_counts(x, gender_directors))\n",
    "df['counts_wri'] = df['writers'].apply(lambda x: get_gender_counts(x, gender_writers))\n",
    "df.head(3)"
   ]
  },
  {
   "cell_type": "code",
   "execution_count": 35,
   "id": "9d820b06",
   "metadata": {},
   "outputs": [],
   "source": [
    "# Separating the counts into columns\n",
    "df['male_writers'] = df['counts_wri'].apply(lambda x: x[0])\n",
    "df['female_writers'] = df['counts_wri'].apply(lambda x: x[1])\n",
    "df['unknown_writers'] = df['counts_wri'].apply(lambda x: x[2])\n",
    "\n",
    "df['male_dir'] = df['counts_dir'].apply(lambda x: x[0])\n",
    "df['female_dir'] = df['counts_dir'].apply(lambda x: x[1])\n",
    "df['unknown_dir'] = df['counts_dir'].apply(lambda x: x[2])\n",
    "\n",
    "df = df.drop(columns = ['counts_wri', 'counts_dir'])"
   ]
  },
  {
   "cell_type": "code",
   "execution_count": 36,
   "id": "9ada932b",
   "metadata": {},
   "outputs": [
    {
     "name": "stdout",
     "output_type": "stream",
     "text": [
      "The number of movies for which we have at least one director is: 55314\n"
     ]
    }
   ],
   "source": [
    "df_with_dir_gender = df[df['male_dir'] + df['female_dir'] != 0]\n",
    "print('The number of movies for which we have at least one director is: ' + str(len(df_with_dir_gender)))"
   ]
  },
  {
   "cell_type": "code",
   "execution_count": 43,
   "id": "7e8076a8",
   "metadata": {},
   "outputs": [
    {
     "name": "stdout",
     "output_type": "stream",
     "text": [
      "The fraction of movies with more male directors than female directors is: 0.949\n",
      "The fraction of movies with as much male directors as female directors is: 0.006\n",
      "The fraction of movies with more female directors than male directors is: 0.045\n"
     ]
    }
   ],
   "source": [
    "print('The fraction of movies with more male directors than female directors is: ' + str(round(len(df_with_dir_gender[df_with_dir_gender['male_dir']>df_with_dir_gender['female_dir']])/len(df_with_dir_gender),3)))\n",
    "print('The fraction of movies with as much male directors as female directors is: ' + str(round(len(df_with_dir_gender[df_with_dir_gender['male_dir'] == df_with_dir_gender['female_dir']])/len(df_with_dir_gender),3)))\n",
    "print('The fraction of movies with more female directors than male directors is: ' + str(round(len(df_with_dir_gender[df_with_dir_gender['male_dir'] < df_with_dir_gender['female_dir']])/len(df_with_dir_gender),3)))"
   ]
  },
  {
   "cell_type": "code",
   "execution_count": 45,
   "id": "3daa11cf",
   "metadata": {},
   "outputs": [
    {
     "name": "stdout",
     "output_type": "stream",
     "text": [
      "The number of movies for which we have at least one director is: 50123\n"
     ]
    }
   ],
   "source": [
    "df_with_wri_gender = df[df['male_writers'] + df['female_writers'] != 0]\n",
    "print('The number of movies for which we have at least one director is: ' + str(len(df_with_wri_gender)))"
   ]
  },
  {
   "cell_type": "code",
   "execution_count": 46,
   "id": "4220d630",
   "metadata": {},
   "outputs": [
    {
     "name": "stdout",
     "output_type": "stream",
     "text": [
      "The fraction of movies with more male writers than female directors is: 0.888\n",
      "The fraction of movies with as much male writers as female writers is: 0.055\n",
      "The fraction of movies with more female directors than male directors is: 0.057\n"
     ]
    }
   ],
   "source": [
    "print('The fraction of movies with more male writers than female directors is: ' + str(round(len(df_with_wri_gender[df_with_wri_gender['male_writers']>df_with_wri_gender['female_writers']])/len(df_with_wri_gender),3)))\n",
    "print('The fraction of movies with as much male writers as female writers is: ' + str(round(len(df_with_wri_gender[df_with_wri_gender['male_writers'] == df_with_wri_gender['female_writers']])/len(df_with_wri_gender),3)))\n",
    "print('The fraction of movies with more female directors than male directors is: '+ str(round(len(df_with_wri_gender[df_with_wri_gender['male_writers'] < df_with_wri_gender['female_writers']])/len(df_with_wri_gender),3)))\n"
   ]
  },
  {
   "cell_type": "code",
   "execution_count": 47,
   "id": "076e7dd3",
   "metadata": {},
   "outputs": [],
   "source": [
    "df.to_pickle('dir_writers_genders.p')"
   ]
  },
  {
   "cell_type": "code",
   "execution_count": 4,
   "id": "239db86e",
   "metadata": {},
   "outputs": [
    {
     "data": {
      "text/html": [
       "<div>\n",
       "<style scoped>\n",
       "    .dataframe tbody tr th:only-of-type {\n",
       "        vertical-align: middle;\n",
       "    }\n",
       "\n",
       "    .dataframe tbody tr th {\n",
       "        vertical-align: top;\n",
       "    }\n",
       "\n",
       "    .dataframe thead th {\n",
       "        text-align: right;\n",
       "    }\n",
       "</style>\n",
       "<table border=\"1\" class=\"dataframe\">\n",
       "  <thead>\n",
       "    <tr style=\"text-align: right;\">\n",
       "      <th></th>\n",
       "      <th>Wikipedia movie ID</th>\n",
       "      <th>Freebase movie ID</th>\n",
       "      <th>Movie name</th>\n",
       "      <th>IMDb_ID</th>\n",
       "      <th>directors</th>\n",
       "      <th>writers</th>\n",
       "      <th>male_writers</th>\n",
       "      <th>female_writers</th>\n",
       "      <th>unknown_writers</th>\n",
       "      <th>male_dir</th>\n",
       "      <th>female_dir</th>\n",
       "      <th>unknown_dir</th>\n",
       "    </tr>\n",
       "  </thead>\n",
       "  <tbody>\n",
       "    <tr>\n",
       "      <th>0</th>\n",
       "      <td>975900</td>\n",
       "      <td>/m/03vyhn</td>\n",
       "      <td>Ghosts of Mars</td>\n",
       "      <td>tt0228333</td>\n",
       "      <td>[nm0000118]</td>\n",
       "      <td>[nm0837917, nm0000118]</td>\n",
       "      <td>1</td>\n",
       "      <td>0</td>\n",
       "      <td>1</td>\n",
       "      <td>1</td>\n",
       "      <td>0</td>\n",
       "      <td>0</td>\n",
       "    </tr>\n",
       "    <tr>\n",
       "      <th>1</th>\n",
       "      <td>28463795</td>\n",
       "      <td>/m/0crgdbh</td>\n",
       "      <td>Brun bitter</td>\n",
       "      <td>tt0094806</td>\n",
       "      <td>[nm0803751]</td>\n",
       "      <td>[nm0803751, nm0820866]</td>\n",
       "      <td>2</td>\n",
       "      <td>0</td>\n",
       "      <td>0</td>\n",
       "      <td>1</td>\n",
       "      <td>0</td>\n",
       "      <td>0</td>\n",
       "    </tr>\n",
       "    <tr>\n",
       "      <th>2</th>\n",
       "      <td>9363483</td>\n",
       "      <td>/m/0285_cd</td>\n",
       "      <td>White Of The Eye</td>\n",
       "      <td>tt0094320</td>\n",
       "      <td>[nm0131910]</td>\n",
       "      <td>[nm0465026, nm0131910, nm0458461, nm1738738]</td>\n",
       "      <td>2</td>\n",
       "      <td>1</td>\n",
       "      <td>1</td>\n",
       "      <td>1</td>\n",
       "      <td>0</td>\n",
       "      <td>0</td>\n",
       "    </tr>\n",
       "    <tr>\n",
       "      <th>3</th>\n",
       "      <td>261236</td>\n",
       "      <td>/m/01mrr1</td>\n",
       "      <td>A Woman in Flames</td>\n",
       "      <td>tt0083949</td>\n",
       "      <td>[nm0885554]</td>\n",
       "      <td>[nm0885554, nm0959016]</td>\n",
       "      <td>1</td>\n",
       "      <td>0</td>\n",
       "      <td>1</td>\n",
       "      <td>1</td>\n",
       "      <td>0</td>\n",
       "      <td>0</td>\n",
       "    </tr>\n",
       "    <tr>\n",
       "      <th>4</th>\n",
       "      <td>10408933</td>\n",
       "      <td>/m/02qc0j7</td>\n",
       "      <td>Alexander's Ragtime Band</td>\n",
       "      <td>tt0029852</td>\n",
       "      <td>[nm0454771]</td>\n",
       "      <td>[nm0778636, nm0873707, nm0792553, nm0000927, n...</td>\n",
       "      <td>4</td>\n",
       "      <td>1</td>\n",
       "      <td>1</td>\n",
       "      <td>1</td>\n",
       "      <td>0</td>\n",
       "      <td>0</td>\n",
       "    </tr>\n",
       "    <tr>\n",
       "      <th>...</th>\n",
       "      <td>...</td>\n",
       "      <td>...</td>\n",
       "      <td>...</td>\n",
       "      <td>...</td>\n",
       "      <td>...</td>\n",
       "      <td>...</td>\n",
       "      <td>...</td>\n",
       "      <td>...</td>\n",
       "      <td>...</td>\n",
       "      <td>...</td>\n",
       "      <td>...</td>\n",
       "      <td>...</td>\n",
       "    </tr>\n",
       "    <tr>\n",
       "      <th>61939</th>\n",
       "      <td>23851782</td>\n",
       "      <td>/m/06_vb43</td>\n",
       "      <td>The Ghost Train</td>\n",
       "      <td>tt0033660</td>\n",
       "      <td>[nm0285962]</td>\n",
       "      <td>[nm0725965, nm0651357, nm0346436, nm0249218]</td>\n",
       "      <td>4</td>\n",
       "      <td>0</td>\n",
       "      <td>0</td>\n",
       "      <td>1</td>\n",
       "      <td>0</td>\n",
       "      <td>0</td>\n",
       "    </tr>\n",
       "    <tr>\n",
       "      <th>61940</th>\n",
       "      <td>32468537</td>\n",
       "      <td>/m/0crwd9y</td>\n",
       "      <td>Shadow Boxing 2</td>\n",
       "      <td>tt0459759</td>\n",
       "      <td>[nm2415918]</td>\n",
       "      <td>[nm1284414, nm12760099]</td>\n",
       "      <td>1</td>\n",
       "      <td>0</td>\n",
       "      <td>1</td>\n",
       "      <td>1</td>\n",
       "      <td>0</td>\n",
       "      <td>0</td>\n",
       "    </tr>\n",
       "    <tr>\n",
       "      <th>61941</th>\n",
       "      <td>34980460</td>\n",
       "      <td>/m/0g4pl34</td>\n",
       "      <td>Knuckle</td>\n",
       "      <td>tt1606259</td>\n",
       "      <td>[nm3817974]</td>\n",
       "      <td>[\\N]</td>\n",
       "      <td>0</td>\n",
       "      <td>0</td>\n",
       "      <td>1</td>\n",
       "      <td>0</td>\n",
       "      <td>0</td>\n",
       "      <td>1</td>\n",
       "    </tr>\n",
       "    <tr>\n",
       "      <th>61942</th>\n",
       "      <td>9971909</td>\n",
       "      <td>/m/02pygw1</td>\n",
       "      <td>Another Nice Mess</td>\n",
       "      <td>tt0362411</td>\n",
       "      <td>[nm0251872]</td>\n",
       "      <td>[nm0251872]</td>\n",
       "      <td>1</td>\n",
       "      <td>0</td>\n",
       "      <td>0</td>\n",
       "      <td>1</td>\n",
       "      <td>0</td>\n",
       "      <td>0</td>\n",
       "    </tr>\n",
       "    <tr>\n",
       "      <th>61943</th>\n",
       "      <td>12476867</td>\n",
       "      <td>/m/02w7zz8</td>\n",
       "      <td>Spliced</td>\n",
       "      <td>tt0354216</td>\n",
       "      <td>[nm0928691]</td>\n",
       "      <td>[nm1322535]</td>\n",
       "      <td>0</td>\n",
       "      <td>0</td>\n",
       "      <td>1</td>\n",
       "      <td>1</td>\n",
       "      <td>0</td>\n",
       "      <td>0</td>\n",
       "    </tr>\n",
       "  </tbody>\n",
       "</table>\n",
       "<p>61944 rows × 12 columns</p>\n",
       "</div>"
      ],
      "text/plain": [
       "       Wikipedia movie ID Freebase movie ID                Movie name  \\\n",
       "0                  975900         /m/03vyhn            Ghosts of Mars   \n",
       "1                28463795        /m/0crgdbh               Brun bitter   \n",
       "2                 9363483        /m/0285_cd          White Of The Eye   \n",
       "3                  261236         /m/01mrr1         A Woman in Flames   \n",
       "4                10408933        /m/02qc0j7  Alexander's Ragtime Band   \n",
       "...                   ...               ...                       ...   \n",
       "61939            23851782        /m/06_vb43           The Ghost Train   \n",
       "61940            32468537        /m/0crwd9y           Shadow Boxing 2   \n",
       "61941            34980460        /m/0g4pl34                   Knuckle   \n",
       "61942             9971909        /m/02pygw1         Another Nice Mess   \n",
       "61943            12476867        /m/02w7zz8                   Spliced   \n",
       "\n",
       "         IMDb_ID    directors  \\\n",
       "0      tt0228333  [nm0000118]   \n",
       "1      tt0094806  [nm0803751]   \n",
       "2      tt0094320  [nm0131910]   \n",
       "3      tt0083949  [nm0885554]   \n",
       "4      tt0029852  [nm0454771]   \n",
       "...          ...          ...   \n",
       "61939  tt0033660  [nm0285962]   \n",
       "61940  tt0459759  [nm2415918]   \n",
       "61941  tt1606259  [nm3817974]   \n",
       "61942  tt0362411  [nm0251872]   \n",
       "61943  tt0354216  [nm0928691]   \n",
       "\n",
       "                                                 writers  male_writers  \\\n",
       "0                                 [nm0837917, nm0000118]             1   \n",
       "1                                 [nm0803751, nm0820866]             2   \n",
       "2           [nm0465026, nm0131910, nm0458461, nm1738738]             2   \n",
       "3                                 [nm0885554, nm0959016]             1   \n",
       "4      [nm0778636, nm0873707, nm0792553, nm0000927, n...             4   \n",
       "...                                                  ...           ...   \n",
       "61939       [nm0725965, nm0651357, nm0346436, nm0249218]             4   \n",
       "61940                            [nm1284414, nm12760099]             1   \n",
       "61941                                               [\\N]             0   \n",
       "61942                                        [nm0251872]             1   \n",
       "61943                                        [nm1322535]             0   \n",
       "\n",
       "       female_writers  unknown_writers  male_dir  female_dir  unknown_dir  \n",
       "0                   0                1         1           0            0  \n",
       "1                   0                0         1           0            0  \n",
       "2                   1                1         1           0            0  \n",
       "3                   0                1         1           0            0  \n",
       "4                   1                1         1           0            0  \n",
       "...               ...              ...       ...         ...          ...  \n",
       "61939               0                0         1           0            0  \n",
       "61940               0                1         1           0            0  \n",
       "61941               0                1         0           0            1  \n",
       "61942               0                0         1           0            0  \n",
       "61943               0                1         1           0            0  \n",
       "\n",
       "[61944 rows x 12 columns]"
      ]
     },
     "execution_count": 4,
     "metadata": {},
     "output_type": "execute_result"
    }
   ],
   "source": [
    "# This is our final dataframe\n",
    "pd.read_pickle('dir_writers_genders.p')\n"
   ]
  },
  {
   "attachments": {},
   "cell_type": "markdown",
   "id": "77234c83",
   "metadata": {},
   "source": [
    "Now we can merge thanks to the wikipedia movie ID and do our analysis !"
   ]
  },
  {
   "cell_type": "code",
   "execution_count": 132,
   "id": "715b1c54",
   "metadata": {},
   "outputs": [],
   "source": [
    "# open data on writers/ directors from imdb database\n",
    "dir_writ_df = pd.read_pickle('./MovieSummaries/dir_writers_genders.p')\n",
    "\n",
    "# merge with our actiosn dataframe\n",
    "merge_dir_wr_df = char_description_total.merge(dir_writ_df, on = 'Wikipedia movie ID')"
   ]
  },
  {
   "cell_type": "code",
   "execution_count": 141,
   "id": "e5f45c37",
   "metadata": {},
   "outputs": [],
   "source": [
    "# preprocess to get movies with at least one females writer, \n",
    "# and movies with zero females writer\n",
    "df_writers = []\n",
    "df_writers.append(merge_dir_wr_df.query('female_writers>0'))\n",
    "df_writers.append(merge_dir_wr_df.query('female_writers==0'))"
   ]
  },
  {
   "cell_type": "code",
   "execution_count": 142,
   "id": "349e55b1",
   "metadata": {},
   "outputs": [
    {
     "name": "stdout",
     "output_type": "stream",
     "text": [
      "advancement : 1 / 2\n",
      "advancement : 2 / 2\n"
     ]
    }
   ],
   "source": [
    "# compute and store bootstrapped results\n",
    "Lower_ls, Upper_ls, Mean_ls = [], [], []\n",
    "Lower_v, Upper_v, Mean_v = [], [], []\n",
    "Lower_s, Upper_s, Mean_s = [], [], []\n",
    "Lower_i, Upper_i, Mean_i = [], [], []\n",
    "\n",
    "for i in range(2):\n",
    "    print('advancement : {} / {}'.format(i+1, 2))\n",
    "    mean, lower, upper = boostrap_on_df(f = get_freq_ratio, df = df_writers[i], action_list = love_seduction, gender = 'M')\n",
    "    Lower_ls.append((lower-1))\n",
    "    Upper_ls.append((upper-1))\n",
    "    Mean_ls.append((mean-1))\n",
    "    \n",
    "    mean, lower, upper = boostrap_on_df(f = get_freq_ratio, df = df_writers[i], action_list = violence, gender = 'M')\n",
    "    Lower_v.append((lower-1))\n",
    "    Upper_v.append((upper-1))\n",
    "    Mean_v.append((mean-1))\n",
    "    \n",
    "    mean, lower, upper = boostrap_on_df(f = get_freq_ratio, df = df_writers[i], action_list = success, gender = 'M')\n",
    "    Lower_s.append((lower-1))\n",
    "    Upper_s.append((upper-1))\n",
    "    Mean_s.append((mean-1))\n",
    "    \n",
    "    mean, lower, upper = boostrap_on_df(f = get_freq_ratio, df = df_writers[i], action_list = intelligence, gender = 'M')\n",
    "    Lower_i.append((lower-1))\n",
    "    Upper_i.append((upper-1))\n",
    "    Mean_i.append((mean-1))"
   ]
  },
  {
   "cell_type": "code",
   "execution_count": 143,
   "id": "11ad4e59",
   "metadata": {},
   "outputs": [],
   "source": [
    "# store results into a dataframe \n",
    "DATA_df = pd.DataFrame.from_dict({'ratio-1': Mean_ls + Mean_v + Mean_s + Mean_i,\n",
    "                                  'lower': Lower_ls + Lower_v + Lower_s + Lower_i,\n",
    "                                  'upper': Upper_ls + Upper_v + Upper_s + Upper_i, \n",
    "                                  'writer': ['at least one woman', 'no woman']*4, \n",
    "                                  'category': ['love/seduction']*2+['violence']*2+['success']*2+['intelligence']*2})\n",
    "#DATA_df = pd.read_csv('writer_impact_gender_actions.csv')"
   ]
  },
  {
   "cell_type": "code",
   "execution_count": 163,
   "id": "37358abb",
   "metadata": {
    "scrolled": false
   },
   "outputs": [
    {
     "data": {
      "image/png": "[encoded data removed]",
      "text/plain": [
       "<Figure size 1200x800 with 1 Axes>"
      ]
     },
     "metadata": {},
     "output_type": "display_data"
    }
   ],
   "source": [
    "# plot results \n",
    "f, ax = plt.subplots(figsize=(12,8))\n",
    "ax.set_title('Which actions are more performed by males rather than females ?')\n",
    "ax.grid(True, linestyle = '-.')\n",
    "barWidth = 0.2\n",
    "colors = ['red', 'blue', 'orange', 'yellow']\n",
    "\n",
    "for i, cat in enumerate(DATA_df['category'].drop_duplicates().to_list()):\n",
    "    bars = DATA_df[DATA_df['category']==cat]['ratio-1'].to_list()\n",
    "    yer = (DATA_df[DATA_df['category']==cat]['upper']-DATA_df[DATA_df['category']==cat]['lower']).to_list()\n",
    "    r = [x+barWidth*i for x in np.arange(len(bars))]\n",
    "    ax.bar(r, bars, width = barWidth, color = colors[i], edgecolor = 'black', yerr=yer, capsize=7, label=cat, alpha = 0.5)\n",
    "\n",
    "ax.yaxis.set_major_formatter(FuncFormatter(lambda y, _: '+'*int(y>0)  +'{:.0%}'.format(y)))\n",
    "ax.set_xticks([r + barWidth for r in range(len(bars))], ['At least one woman writer', 'No woman writer'])\n",
    "ax.set_ylabel('Male’s category frequency over female’s')\n",
    "plt.legend()\n",
    "#plt.savefig('img.png',dpi=900, format = 'png', bbox_inches = 'tight')\n",
    "plt.show()"
   ]
  },
  {
   "attachments": {},
   "cell_type": "markdown",
   "id": "5f6ed692",
   "metadata": {},
   "source": [
    "## 8. Gender stereotypes comparison through producer's gender <a class=\"anchor\" id=\"section8\"></a>"
   ]
  },
  {
   "cell_type": "code",
   "execution_count": 149,
   "id": "0753fa09",
   "metadata": {},
   "outputs": [],
   "source": [
    "# preprocess to get movies with at least one females director, \n",
    "# and movies with zero females director.\n",
    "df_directors = []\n",
    "df_directors.append(merge_dir_wr_df.query('female_dir>0'))\n",
    "df_directors.append(merge_dir_wr_df.query('female_dir==0'))"
   ]
  },
  {
   "cell_type": "code",
   "execution_count": 150,
   "id": "706930e2",
   "metadata": {},
   "outputs": [
    {
     "name": "stdout",
     "output_type": "stream",
     "text": [
      "advancement : 1 / 2   • • • •\n",
      "advancement : 2 / 2   • • • •\n"
     ]
    }
   ],
   "source": [
    "# compute and store boostrapped results\n",
    "Lower_ls, Upper_ls, Mean_ls = [], [], []\n",
    "Lower_v, Upper_v, Mean_v = [], [], []\n",
    "Lower_s, Upper_s, Mean_s = [], [], []\n",
    "Lower_i, Upper_i, Mean_i = [], [], []\n",
    "\n",
    "for i in range(2):\n",
    "    print('advancement : {} / {}'.format(i+1, 2), end =' ')\n",
    "    mean, lower, upper = boostrap_on_df(f = get_freq_ratio, df = df_directors[i], action_list = love_seduction, gender = 'M')\n",
    "    Lower_ls.append((lower-1))\n",
    "    Upper_ls.append((upper-1))\n",
    "    Mean_ls.append((mean-1))\n",
    "    print('  •', end =' ')\n",
    "    mean, lower, upper = boostrap_on_df(f = get_freq_ratio, df = df_directors[i], action_list = violence, gender = 'M')\n",
    "    Lower_v.append((lower-1))\n",
    "    Upper_v.append((upper-1))\n",
    "    Mean_v.append((mean-1))\n",
    "    print('•', end =' ')\n",
    "    mean, lower, upper = boostrap_on_df(f = get_freq_ratio, df = df_directors[i], action_list = success, gender = 'M')\n",
    "    Lower_s.append((lower-1))\n",
    "    Upper_s.append((upper-1))\n",
    "    Mean_s.append((mean-1))\n",
    "    print('•', end =' ')\n",
    "    mean, lower, upper = boostrap_on_df(f = get_freq_ratio, df = df_directors[i], action_list = intelligence, gender = 'M')\n",
    "    Lower_i.append((lower-1))\n",
    "    Upper_i.append((upper-1))\n",
    "    Mean_i.append((mean-1))\n",
    "    print('•')"
   ]
  },
  {
   "cell_type": "code",
   "execution_count": 155,
   "id": "ef2bc781",
   "metadata": {},
   "outputs": [],
   "source": [
    "# store results into a dataframe\n",
    "DATA_df = pd.DataFrame.from_dict({'ratio-1': Mean_ls + Mean_v + Mean_s + Mean_i,\n",
    "                                  'lower': Lower_ls + Lower_v + Lower_s + Lower_i,\n",
    "                                  'upper': Upper_ls + Upper_v + Upper_s + Upper_i, \n",
    "                                  'director': ['At least one woman directing', 'No woman directing']*4, \n",
    "                                  'category': ['love/seduction']*2+['violence']*2+['success']*2+['intelligence']*2})\n",
    "#DATA_df.to_csv('dir_impact_gender_actions.csv', index=False)"
   ]
  },
  {
   "cell_type": "code",
   "execution_count": 158,
   "id": "09b260f3",
   "metadata": {},
   "outputs": [
    {
     "data": {
      "image/png": "[encoded data removed]",
      "text/plain": [
       "<Figure size 1200x800 with 1 Axes>"
      ]
     },
     "metadata": {},
     "output_type": "display_data"
    }
   ],
   "source": [
    "# plot results\n",
    "f, ax = plt.subplots(figsize=(12,8))\n",
    "ax.set_title('Which actions are more performed by males rather than females ?')\n",
    "ax.grid(True, linestyle = '-.')\n",
    "barWidth = 0.2\n",
    "colors = ['red', 'blue', 'orange', 'yellow']\n",
    "\n",
    "for i, cat in enumerate(DATA_df['category'].drop_duplicates().to_list()):\n",
    "    bars = DATA_df[DATA_df['category']==cat]['ratio-1'].to_list()\n",
    "    yer = (DATA_df[DATA_df['category']==cat]['upper']-DATA_df[DATA_df['category']==cat]['lower']).to_list()\n",
    "    r = [x+barWidth*i for x in np.arange(len(bars))]\n",
    "    ax.bar(r, bars, width = barWidth, color = colors[i], edgecolor = 'black', yerr=yer, capsize=7, label=cat, alpha = 0.5)\n",
    "\n",
    "ax.yaxis.set_major_formatter(FuncFormatter(lambda y, _: '+'*int(y>0)  +'{:.0%}'.format(y)))\n",
    "ax.set_xticks([r + barWidth for r in range(len(bars))], DATA_df['director'].drop_duplicates().to_list())\n",
    "ax.set_ylabel('Male’s category frequency over female’s')\n",
    "plt.legend()\n",
    "#plt.savefig('img.png',dpi=900, format = 'png', bbox_inches = 'tight')\n",
    "plt.show()"
   ]
  }
 ],
 "metadata": {
  "kernelspec": {
   "display_name": "Python 3",
   "language": "python",
   "name": "python3"
  },
  "language_info": {
   "codemirror_mode": {
    "name": "ipython",
    "version": 3
   },
   "file_extension": ".py",
   "mimetype": "text/x-python",
   "name": "python",
   "nbconvert_exporter": "python",
   "pygments_lexer": "ipython3",
   "version": "3.9.7 (tags/v3.9.7:1016ef3, Aug 30 2021, 20:19:38) [MSC v.1929 64 bit (AMD64)]"
  },
  "vscode": {
   "interpreter": {
    "hash": "c5376c8925aa4898e6f925ba9208a355cc5a70058ebe3966adf02abe77148e9e"
   }
  }
 },
 "nbformat": 4,
 "nbformat_minor": 5
}
