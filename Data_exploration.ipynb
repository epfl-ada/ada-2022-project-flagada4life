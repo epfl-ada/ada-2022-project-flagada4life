{
 "cells": [
  {
   "cell_type": "markdown",
   "id": "0c63f038",
   "metadata": {},
   "source": [
    "# First little exploration of the movie dataset"
   ]
  },
  {
   "cell_type": "markdown",
   "id": "7d1afeb1",
   "metadata": {},
   "source": [
    "## Movie.metadata"
   ]
  },
  {
   "cell_type": "code",
   "execution_count": 1,
   "id": "50def4fa",
   "metadata": {},
   "outputs": [],
   "source": [
    "import pandas as pd\n",
    "import numpy as np\n",
    "import matplotlib.pyplot as plt\n",
    "%matplotlib inline\n",
    "import seaborn as sns\n",
    "import math\n",
    "import json\n",
    "\n",
    "data_folder = './data/MovieSummaries/'\n",
    "\n",
    "movie_metadata = pd.read_csv(data_folder + 'movie.metadata.tsv', sep =\"\\t\", header=None\n",
    "                      , names = ['Wikipedia movie ID', 'Freebase movie ID', 'Movie name'\n",
    "                       ,'Movie release date','Movie box office revenue','Movie runtime',\n",
    "                       'Movie languages', 'Movie countries','Movie genres'], index_col = 'Wikipedia movie ID')"
   ]
  },
  {
   "cell_type": "code",
   "execution_count": 2,
   "id": "c1869a34",
   "metadata": {},
   "outputs": [
    {
     "data": {
      "text/html": [
       "<div>\n",
       "<style scoped>\n",
       "    .dataframe tbody tr th:only-of-type {\n",
       "        vertical-align: middle;\n",
       "    }\n",
       "\n",
       "    .dataframe tbody tr th {\n",
       "        vertical-align: top;\n",
       "    }\n",
       "\n",
       "    .dataframe thead th {\n",
       "        text-align: right;\n",
       "    }\n",
       "</style>\n",
       "<table border=\"1\" class=\"dataframe\">\n",
       "  <thead>\n",
       "    <tr style=\"text-align: right;\">\n",
       "      <th></th>\n",
       "      <th>Freebase movie ID</th>\n",
       "      <th>Movie name</th>\n",
       "      <th>Movie release date</th>\n",
       "      <th>Movie box office revenue</th>\n",
       "      <th>Movie runtime</th>\n",
       "      <th>Movie languages</th>\n",
       "      <th>Movie countries</th>\n",
       "      <th>Movie genres</th>\n",
       "    </tr>\n",
       "    <tr>\n",
       "      <th>Wikipedia movie ID</th>\n",
       "      <th></th>\n",
       "      <th></th>\n",
       "      <th></th>\n",
       "      <th></th>\n",
       "      <th></th>\n",
       "      <th></th>\n",
       "      <th></th>\n",
       "      <th></th>\n",
       "    </tr>\n",
       "  </thead>\n",
       "  <tbody>\n",
       "    <tr>\n",
       "      <th>975900</th>\n",
       "      <td>/m/03vyhn</td>\n",
       "      <td>Ghosts of Mars</td>\n",
       "      <td>2001-08-24</td>\n",
       "      <td>14010832.0</td>\n",
       "      <td>98.0</td>\n",
       "      <td>{\"/m/02h40lc\": \"English Language\"}</td>\n",
       "      <td>{\"/m/09c7w0\": \"United States of America\"}</td>\n",
       "      <td>{\"/m/01jfsb\": \"Thriller\", \"/m/06n90\": \"Science...</td>\n",
       "    </tr>\n",
       "    <tr>\n",
       "      <th>3196793</th>\n",
       "      <td>/m/08yl5d</td>\n",
       "      <td>Getting Away with Murder: The JonBenét Ramsey ...</td>\n",
       "      <td>2000-02-16</td>\n",
       "      <td>NaN</td>\n",
       "      <td>95.0</td>\n",
       "      <td>{\"/m/02h40lc\": \"English Language\"}</td>\n",
       "      <td>{\"/m/09c7w0\": \"United States of America\"}</td>\n",
       "      <td>{\"/m/02n4kr\": \"Mystery\", \"/m/03bxz7\": \"Biograp...</td>\n",
       "    </tr>\n",
       "  </tbody>\n",
       "</table>\n",
       "</div>"
      ],
      "text/plain": [
       "                   Freebase movie ID  \\\n",
       "Wikipedia movie ID                     \n",
       "975900                     /m/03vyhn   \n",
       "3196793                    /m/08yl5d   \n",
       "\n",
       "                                                           Movie name  \\\n",
       "Wikipedia movie ID                                                      \n",
       "975900                                                 Ghosts of Mars   \n",
       "3196793             Getting Away with Murder: The JonBenét Ramsey ...   \n",
       "\n",
       "                   Movie release date  Movie box office revenue  \\\n",
       "Wikipedia movie ID                                                \n",
       "975900                     2001-08-24                14010832.0   \n",
       "3196793                    2000-02-16                       NaN   \n",
       "\n",
       "                    Movie runtime                     Movie languages  \\\n",
       "Wikipedia movie ID                                                      \n",
       "975900                       98.0  {\"/m/02h40lc\": \"English Language\"}   \n",
       "3196793                      95.0  {\"/m/02h40lc\": \"English Language\"}   \n",
       "\n",
       "                                              Movie countries  \\\n",
       "Wikipedia movie ID                                              \n",
       "975900              {\"/m/09c7w0\": \"United States of America\"}   \n",
       "3196793             {\"/m/09c7w0\": \"United States of America\"}   \n",
       "\n",
       "                                                         Movie genres  \n",
       "Wikipedia movie ID                                                     \n",
       "975900              {\"/m/01jfsb\": \"Thriller\", \"/m/06n90\": \"Science...  \n",
       "3196793             {\"/m/02n4kr\": \"Mystery\", \"/m/03bxz7\": \"Biograp...  "
      ]
     },
     "execution_count": 2,
     "metadata": {},
     "output_type": "execute_result"
    }
   ],
   "source": [
    "movie_metadata.head(2)"
   ]
  },
  {
   "cell_type": "code",
   "execution_count": 3,
   "id": "ec4c6b7c",
   "metadata": {},
   "outputs": [
    {
     "data": {
      "text/plain": [
       "True"
      ]
     },
     "execution_count": 3,
     "metadata": {},
     "output_type": "execute_result"
    }
   ],
   "source": [
    "movie_metadata.index.is_unique"
   ]
  },
  {
   "cell_type": "markdown",
   "id": "c243adc1",
   "metadata": {},
   "source": [
    "Let's see the movies with biggest box office revenues."
   ]
  },
  {
   "cell_type": "code",
   "execution_count": 4,
   "id": "9c48c777",
   "metadata": {},
   "outputs": [
    {
     "data": {
      "text/html": [
       "<div>\n",
       "<style scoped>\n",
       "    .dataframe tbody tr th:only-of-type {\n",
       "        vertical-align: middle;\n",
       "    }\n",
       "\n",
       "    .dataframe tbody tr th {\n",
       "        vertical-align: top;\n",
       "    }\n",
       "\n",
       "    .dataframe thead th {\n",
       "        text-align: right;\n",
       "    }\n",
       "</style>\n",
       "<table border=\"1\" class=\"dataframe\">\n",
       "  <thead>\n",
       "    <tr style=\"text-align: right;\">\n",
       "      <th></th>\n",
       "      <th>Freebase movie ID</th>\n",
       "      <th>Movie name</th>\n",
       "      <th>Movie release date</th>\n",
       "      <th>Movie box office revenue</th>\n",
       "      <th>Movie runtime</th>\n",
       "      <th>Movie languages</th>\n",
       "      <th>Movie countries</th>\n",
       "      <th>Movie genres</th>\n",
       "    </tr>\n",
       "    <tr>\n",
       "      <th>Wikipedia movie ID</th>\n",
       "      <th></th>\n",
       "      <th></th>\n",
       "      <th></th>\n",
       "      <th></th>\n",
       "      <th></th>\n",
       "      <th></th>\n",
       "      <th></th>\n",
       "      <th></th>\n",
       "    </tr>\n",
       "  </thead>\n",
       "  <tbody>\n",
       "    <tr>\n",
       "      <th>4273140</th>\n",
       "      <td>/m/0bth54</td>\n",
       "      <td>Avatar</td>\n",
       "      <td>2009-12-10</td>\n",
       "      <td>2.782275e+09</td>\n",
       "      <td>178.0</td>\n",
       "      <td>{\"/m/02h40lc\": \"English Language\", \"/m/06nm1\":...</td>\n",
       "      <td>{\"/m/09c7w0\": \"United States of America\", \"/m/...</td>\n",
       "      <td>{\"/m/01jfsb\": \"Thriller\", \"/m/06n90\": \"Science...</td>\n",
       "    </tr>\n",
       "    <tr>\n",
       "      <th>52371</th>\n",
       "      <td>/m/0dr_4</td>\n",
       "      <td>Titanic</td>\n",
       "      <td>1997-11-01</td>\n",
       "      <td>2.185372e+09</td>\n",
       "      <td>194.0</td>\n",
       "      <td>{\"/m/02bjrlw\": \"Italian Language\", \"/m/02h40lc...</td>\n",
       "      <td>{\"/m/09c7w0\": \"United States of America\"}</td>\n",
       "      <td>{\"/m/0fx2s\": \"Tragedy\", \"/m/04xvh5\": \"Costume ...</td>\n",
       "    </tr>\n",
       "  </tbody>\n",
       "</table>\n",
       "</div>"
      ],
      "text/plain": [
       "                   Freebase movie ID Movie name Movie release date  \\\n",
       "Wikipedia movie ID                                                   \n",
       "4273140                    /m/0bth54     Avatar         2009-12-10   \n",
       "52371                       /m/0dr_4    Titanic         1997-11-01   \n",
       "\n",
       "                    Movie box office revenue  Movie runtime  \\\n",
       "Wikipedia movie ID                                            \n",
       "4273140                         2.782275e+09          178.0   \n",
       "52371                           2.185372e+09          194.0   \n",
       "\n",
       "                                                      Movie languages  \\\n",
       "Wikipedia movie ID                                                      \n",
       "4273140             {\"/m/02h40lc\": \"English Language\", \"/m/06nm1\":...   \n",
       "52371               {\"/m/02bjrlw\": \"Italian Language\", \"/m/02h40lc...   \n",
       "\n",
       "                                                      Movie countries  \\\n",
       "Wikipedia movie ID                                                      \n",
       "4273140             {\"/m/09c7w0\": \"United States of America\", \"/m/...   \n",
       "52371                       {\"/m/09c7w0\": \"United States of America\"}   \n",
       "\n",
       "                                                         Movie genres  \n",
       "Wikipedia movie ID                                                     \n",
       "4273140             {\"/m/01jfsb\": \"Thriller\", \"/m/06n90\": \"Science...  \n",
       "52371               {\"/m/0fx2s\": \"Tragedy\", \"/m/04xvh5\": \"Costume ...  "
      ]
     },
     "execution_count": 4,
     "metadata": {},
     "output_type": "execute_result"
    }
   ],
   "source": [
    "movie_metadata.sort_values('Movie box office revenue', ascending = False).head(2)"
   ]
  },
  {
   "cell_type": "code",
   "execution_count": 5,
   "id": "d4957f3c",
   "metadata": {},
   "outputs": [
    {
     "data": {
      "text/plain": [
       "Wikipedia movie ID\n",
       "975900      2001-08-24\n",
       "3196793     2000-02-16\n",
       "28463795          1988\n",
       "9363483           1987\n",
       "261236            1983\n",
       "13696889    1913-05-29\n",
       "18998739          2002\n",
       "10408933    1938-08-16\n",
       "9997961           1974\n",
       "2345652           1960\n",
       "175026            1930\n",
       "24229100          1974\n",
       "6631279     1997-04-04\n",
       "171005      1989-11-08\n",
       "18296435          1986\n",
       "11250635           NaN\n",
       "30388930          1984\n",
       "77856       1964-08-27\n",
       "32456683          1967\n",
       "33420460          1992\n",
       "Name: Movie release date, dtype: object"
      ]
     },
     "execution_count": 5,
     "metadata": {},
     "output_type": "execute_result"
    }
   ],
   "source": [
    "movie_metadata['Movie release date'][:20]"
   ]
  },
  {
   "cell_type": "markdown",
   "id": "32eec72a",
   "metadata": {},
   "source": [
    "Need to process by genres."
   ]
  },
  {
   "cell_type": "markdown",
   "id": "de8944f1",
   "metadata": {},
   "source": [
    "Some of the movies have precise dates, others only years."
   ]
  },
  {
   "cell_type": "code",
   "execution_count": 6,
   "id": "94866af0",
   "metadata": {},
   "outputs": [],
   "source": [
    "movie_metadata['Movie languages'] = movie_metadata['Movie languages'].apply(lambda x: json.loads(x)) # Converts to dictionnary\n",
    "movie_metadata['Movie languages'] = movie_metadata['Movie languages'].apply(lambda x: list(x.values()))\n",
    "movie_metadata['Movie countries'] = movie_metadata['Movie countries'].apply(lambda x: json.loads(x)) # Converts to dictionnary\n",
    "movie_metadata['Movie countries'] = movie_metadata['Movie countries'].apply(lambda x: list(x.values()))\n",
    "movie_metadata['Movie genres'] = movie_metadata['Movie genres'].apply(lambda x: json.loads(x)) # Converts to dictionnary\n",
    "movie_metadata['Movie genres'] = movie_metadata['Movie genres'].apply(lambda x: list(x.values()))"
   ]
  },
  {
   "cell_type": "code",
   "execution_count": 8,
   "id": "f5b18df9",
   "metadata": {},
   "outputs": [
    {
     "data": {
      "text/plain": [
       "Text(0.5, 1.0, 'Top languages')"
      ]
     },
     "execution_count": 8,
     "metadata": {},
     "output_type": "execute_result"
    },
    {
     "data": {
      "image/png": "[encoded data removed]",
      "text/plain": [
       "<Figure size 1008x288 with 1 Axes>"
      ]
     },
     "metadata": {
      "needs_background": "light"
     },
     "output_type": "display_data"
    }
   ],
   "source": [
    "# helpful source : https://towardsdatascience.com/dealing-with-list-values-in-pandas-dataframes-a177e534f173\n",
    "\n",
    "languages_dict = {}\n",
    "for i in movie_metadata['Movie languages']:\n",
    "    for j in i:\n",
    "        if j not in languages_dict:\n",
    "            languages_dict[j] = 1\n",
    "        else:\n",
    "            languages_dict[j] += 1\n",
    "            \n",
    "def to_1D(series):\n",
    "    return pd.Series([x for _list in series for x in _list])\n",
    "\n",
    "a = to_1D(movie_metadata['Movie languages']).value_counts().nlargest(6)\n",
    "\n",
    "fig, ax = plt.subplots(figsize = (14,4))\n",
    "ax.bar(a.index,\n",
    "        a.values)\n",
    "ax.set_ylabel(\"Frequency\", size = 12)\n",
    "ax.set_title(\"Top languages\", size = 14)"
   ]
  },
  {
   "cell_type": "code",
   "execution_count": 9,
   "id": "cf0169ba",
   "metadata": {},
   "outputs": [
    {
     "data": {
      "text/plain": [
       "Text(0.5, 1.0, 'Top movie coutries')"
      ]
     },
     "execution_count": 9,
     "metadata": {},
     "output_type": "execute_result"
    },
    {
     "data": {
      "image/png": "[encoded data removed]",
      "text/plain": [
       "<Figure size 1008x288 with 1 Axes>"
      ]
     },
     "metadata": {
      "needs_background": "light"
     },
     "output_type": "display_data"
    }
   ],
   "source": [
    "languages_dict = {}\n",
    "for i in movie_metadata['Movie countries']:\n",
    "    for j in i:\n",
    "        if j not in languages_dict:\n",
    "            languages_dict[j] = 1\n",
    "        else:\n",
    "            languages_dict[j] += 1\n",
    "            \n",
    "def to_1D(series):\n",
    "    return pd.Series([x for _list in series for x in _list])\n",
    "\n",
    "a = to_1D(movie_metadata['Movie countries']).value_counts().nlargest(6)\n",
    "\n",
    "fig, ax = plt.subplots(figsize = (14,4))\n",
    "ax.bar(a.index,\n",
    "        a.values)\n",
    "ax.set_ylabel(\"Frequency\", size = 12)\n",
    "ax.set_title(\"Top movie coutries\", size = 14)"
   ]
  },
  {
   "cell_type": "code",
   "execution_count": 18,
   "id": "d4bb398c",
   "metadata": {},
   "outputs": [
    {
     "data": {
      "text/plain": [
       "Text(0.5, 1.0, 'Top genres')"
      ]
     },
     "execution_count": 18,
     "metadata": {},
     "output_type": "execute_result"
    },
    {
     "data": {
      "image/png": "[encoded data removed]",
      "text/plain": [
       "<Figure size 1008x288 with 1 Axes>"
      ]
     },
     "metadata": {
      "needs_background": "light"
     },
     "output_type": "display_data"
    }
   ],
   "source": [
    "languages_dict = {}\n",
    "for i in movie_metadata['Movie genres']:\n",
    "    for j in i:\n",
    "        if j not in languages_dict:\n",
    "            languages_dict[j] = 1\n",
    "        else:\n",
    "            languages_dict[j] += 1\n",
    "            \n",
    "def to_1D(series):\n",
    "    return pd.Series([x for _list in series for x in _list])\n",
    "\n",
    "a = to_1D(movie_metadata['Movie genres']).value_counts().nlargest(20)\n",
    "\n",
    "fig, ax = plt.subplots(figsize = (14,4))\n",
    "ax.bar(a.index,\n",
    "        a.values)\n",
    "plt.xticks(rotation=90)\n",
    "ax.set_ylabel(\"Frequency\", size = 12)\n",
    "ax.set_title(\"Top genres\", size = 14)"
   ]
  },
  {
   "cell_type": "markdown",
   "id": "75d319b9",
   "metadata": {},
   "source": [
    "## Character.metadata"
   ]
  },
  {
   "cell_type": "code",
   "execution_count": 21,
   "id": "4fd218d8",
   "metadata": {},
   "outputs": [],
   "source": [
    "char_metadata = pd.read_csv(data_folder + 'character.metadata.tsv', sep =\"\\t\", header=None\n",
    "                      , names = ['Wikipedia movie ID', 'Freebase movie ID', 'Movie release date'\n",
    "                       ,'Character name','Actor date of birth','Actor gender',\n",
    "                       'Actor height', 'Actor ethnicity','Actor name','Actor age at movie release',\n",
    "                        'Freebase character/actor map ID', 'Freebase character ID',\n",
    "                        'Freebase actor ID'], index_col = 'Wikipedia movie ID')"
   ]
  },
  {
   "cell_type": "code",
   "execution_count": 22,
   "id": "014d9364",
   "metadata": {},
   "outputs": [
    {
     "data": {
      "text/html": [
       "<div>\n",
       "<style scoped>\n",
       "    .dataframe tbody tr th:only-of-type {\n",
       "        vertical-align: middle;\n",
       "    }\n",
       "\n",
       "    .dataframe tbody tr th {\n",
       "        vertical-align: top;\n",
       "    }\n",
       "\n",
       "    .dataframe thead th {\n",
       "        text-align: right;\n",
       "    }\n",
       "</style>\n",
       "<table border=\"1\" class=\"dataframe\">\n",
       "  <thead>\n",
       "    <tr style=\"text-align: right;\">\n",
       "      <th></th>\n",
       "      <th>Freebase movie ID</th>\n",
       "      <th>Movie release date</th>\n",
       "      <th>Character name</th>\n",
       "      <th>Actor date of birth</th>\n",
       "      <th>Actor gender</th>\n",
       "      <th>Actor height</th>\n",
       "      <th>Actor ethnicity</th>\n",
       "      <th>Actor name</th>\n",
       "      <th>Actor age at movie release</th>\n",
       "      <th>Freebase character/actor map ID</th>\n",
       "      <th>Freebase character ID</th>\n",
       "      <th>Freebase actor ID</th>\n",
       "    </tr>\n",
       "    <tr>\n",
       "      <th>Wikipedia movie ID</th>\n",
       "      <th></th>\n",
       "      <th></th>\n",
       "      <th></th>\n",
       "      <th></th>\n",
       "      <th></th>\n",
       "      <th></th>\n",
       "      <th></th>\n",
       "      <th></th>\n",
       "      <th></th>\n",
       "      <th></th>\n",
       "      <th></th>\n",
       "      <th></th>\n",
       "    </tr>\n",
       "  </thead>\n",
       "  <tbody>\n",
       "    <tr>\n",
       "      <th>975900</th>\n",
       "      <td>/m/03vyhn</td>\n",
       "      <td>2001-08-24</td>\n",
       "      <td>Akooshay</td>\n",
       "      <td>1958-08-26</td>\n",
       "      <td>F</td>\n",
       "      <td>1.620</td>\n",
       "      <td>NaN</td>\n",
       "      <td>Wanda De Jesus</td>\n",
       "      <td>42.0</td>\n",
       "      <td>/m/0bgchxw</td>\n",
       "      <td>/m/0bgcj3x</td>\n",
       "      <td>/m/03wcfv7</td>\n",
       "    </tr>\n",
       "    <tr>\n",
       "      <th>975900</th>\n",
       "      <td>/m/03vyhn</td>\n",
       "      <td>2001-08-24</td>\n",
       "      <td>Lieutenant Melanie Ballard</td>\n",
       "      <td>1974-08-15</td>\n",
       "      <td>F</td>\n",
       "      <td>1.780</td>\n",
       "      <td>/m/044038p</td>\n",
       "      <td>Natasha Henstridge</td>\n",
       "      <td>27.0</td>\n",
       "      <td>/m/0jys3m</td>\n",
       "      <td>/m/0bgchn4</td>\n",
       "      <td>/m/0346l4</td>\n",
       "    </tr>\n",
       "    <tr>\n",
       "      <th>975900</th>\n",
       "      <td>/m/03vyhn</td>\n",
       "      <td>2001-08-24</td>\n",
       "      <td>Desolation Williams</td>\n",
       "      <td>1969-06-15</td>\n",
       "      <td>M</td>\n",
       "      <td>1.727</td>\n",
       "      <td>/m/0x67</td>\n",
       "      <td>Ice Cube</td>\n",
       "      <td>32.0</td>\n",
       "      <td>/m/0jys3g</td>\n",
       "      <td>/m/0bgchn_</td>\n",
       "      <td>/m/01vw26l</td>\n",
       "    </tr>\n",
       "    <tr>\n",
       "      <th>975900</th>\n",
       "      <td>/m/03vyhn</td>\n",
       "      <td>2001-08-24</td>\n",
       "      <td>Sgt Jericho Butler</td>\n",
       "      <td>1967-09-12</td>\n",
       "      <td>M</td>\n",
       "      <td>1.750</td>\n",
       "      <td>NaN</td>\n",
       "      <td>Jason Statham</td>\n",
       "      <td>33.0</td>\n",
       "      <td>/m/02vchl6</td>\n",
       "      <td>/m/0bgchnq</td>\n",
       "      <td>/m/034hyc</td>\n",
       "    </tr>\n",
       "    <tr>\n",
       "      <th>975900</th>\n",
       "      <td>/m/03vyhn</td>\n",
       "      <td>2001-08-24</td>\n",
       "      <td>Bashira Kincaid</td>\n",
       "      <td>1977-09-25</td>\n",
       "      <td>F</td>\n",
       "      <td>1.650</td>\n",
       "      <td>NaN</td>\n",
       "      <td>Clea DuVall</td>\n",
       "      <td>23.0</td>\n",
       "      <td>/m/02vbb3r</td>\n",
       "      <td>/m/0bgchp9</td>\n",
       "      <td>/m/01y9xg</td>\n",
       "    </tr>\n",
       "  </tbody>\n",
       "</table>\n",
       "</div>"
      ],
      "text/plain": [
       "                   Freebase movie ID Movie release date  \\\n",
       "Wikipedia movie ID                                        \n",
       "975900                     /m/03vyhn         2001-08-24   \n",
       "975900                     /m/03vyhn         2001-08-24   \n",
       "975900                     /m/03vyhn         2001-08-24   \n",
       "975900                     /m/03vyhn         2001-08-24   \n",
       "975900                     /m/03vyhn         2001-08-24   \n",
       "\n",
       "                                Character name Actor date of birth  \\\n",
       "Wikipedia movie ID                                                   \n",
       "975900                                Akooshay          1958-08-26   \n",
       "975900              Lieutenant Melanie Ballard          1974-08-15   \n",
       "975900                     Desolation Williams          1969-06-15   \n",
       "975900                      Sgt Jericho Butler          1967-09-12   \n",
       "975900                         Bashira Kincaid          1977-09-25   \n",
       "\n",
       "                   Actor gender  Actor height Actor ethnicity  \\\n",
       "Wikipedia movie ID                                              \n",
       "975900                        F         1.620             NaN   \n",
       "975900                        F         1.780      /m/044038p   \n",
       "975900                        M         1.727         /m/0x67   \n",
       "975900                        M         1.750             NaN   \n",
       "975900                        F         1.650             NaN   \n",
       "\n",
       "                            Actor name  Actor age at movie release  \\\n",
       "Wikipedia movie ID                                                   \n",
       "975900                  Wanda De Jesus                        42.0   \n",
       "975900              Natasha Henstridge                        27.0   \n",
       "975900                        Ice Cube                        32.0   \n",
       "975900                   Jason Statham                        33.0   \n",
       "975900                     Clea DuVall                        23.0   \n",
       "\n",
       "                   Freebase character/actor map ID Freebase character ID  \\\n",
       "Wikipedia movie ID                                                         \n",
       "975900                                  /m/0bgchxw            /m/0bgcj3x   \n",
       "975900                                   /m/0jys3m            /m/0bgchn4   \n",
       "975900                                   /m/0jys3g            /m/0bgchn_   \n",
       "975900                                  /m/02vchl6            /m/0bgchnq   \n",
       "975900                                  /m/02vbb3r            /m/0bgchp9   \n",
       "\n",
       "                   Freebase actor ID  \n",
       "Wikipedia movie ID                    \n",
       "975900                    /m/03wcfv7  \n",
       "975900                     /m/0346l4  \n",
       "975900                    /m/01vw26l  \n",
       "975900                     /m/034hyc  \n",
       "975900                     /m/01y9xg  "
      ]
     },
     "execution_count": 22,
     "metadata": {},
     "output_type": "execute_result"
    }
   ],
   "source": [
    "char_metadata.head()"
   ]
  },
  {
   "cell_type": "markdown",
   "id": "65c0ef80",
   "metadata": {},
   "source": [
    "Few tests to see how bad the data is."
   ]
  },
  {
   "cell_type": "code",
   "execution_count": 23,
   "id": "5ce06068",
   "metadata": {},
   "outputs": [
    {
     "data": {
      "text/plain": [
       "381"
      ]
     },
     "execution_count": 23,
     "metadata": {},
     "output_type": "execute_result"
    }
   ],
   "source": [
    "len(char_metadata[char_metadata['Actor age at movie release']<0])"
   ]
  },
  {
   "cell_type": "code",
   "execution_count": 24,
   "id": "3ee29039",
   "metadata": {},
   "outputs": [
    {
     "data": {
      "image/png": "[encoded data removed]",
      "text/plain": [
       "<Figure size 432x288 with 1 Axes>"
      ]
     },
     "metadata": {},
     "output_type": "display_data"
    }
   ],
   "source": [
    "df_fem = char_metadata[char_metadata['Actor gender'] == 'F']\n",
    "df_masc = char_metadata[char_metadata['Actor gender'] == 'M']\n",
    "mylabels = [\"women\", \"men\"]\n",
    "plt.pie(np.array([df_fem['Actor name'].nunique(),df_masc['Actor name'].nunique()]), labels = mylabels, autopct='%1.2f%%')\n",
    "plt.title(\"Percentage of men and women actor in the dataset\")\n",
    "plt.show()"
   ]
  },
  {
   "cell_type": "code",
   "execution_count": 25,
   "id": "5ef90582",
   "metadata": {},
   "outputs": [],
   "source": [
    "char_metadata[\"Actor date of birth\"] = pd.to_datetime(char_metadata[\"Actor date of birth\"],errors = 'coerce', utc = True)"
   ]
  },
  {
   "cell_type": "code",
   "execution_count": 26,
   "id": "537712f8",
   "metadata": {},
   "outputs": [
    {
     "name": "stdout",
     "output_type": "stream",
     "text": [
      "Wikipedia movie ID\n",
      "975900      1958.0\n",
      "975900      1974.0\n",
      "975900      1969.0\n",
      "975900      1967.0\n",
      "975900      1977.0\n",
      "             ...  \n",
      "913762      1970.0\n",
      "913762      1965.0\n",
      "28308153    1941.0\n",
      "28308153       NaN\n",
      "28308153       NaN\n",
      "Name: Actor date of birth, Length: 450669, dtype: float64\n"
     ]
    }
   ],
   "source": [
    "print(char_metadata[\"Actor date of birth\"].dt.year)"
   ]
  },
  {
   "cell_type": "code",
   "execution_count": 27,
   "id": "690cab87",
   "metadata": {},
   "outputs": [],
   "source": [
    "char_metadata['year_distrib'] = char_metadata[\"Actor date of birth\"].dt.year"
   ]
  },
  {
   "cell_type": "code",
   "execution_count": 28,
   "id": "34d8e7db",
   "metadata": {},
   "outputs": [
    {
     "data": {
      "text/html": [
       "<div>\n",
       "<style scoped>\n",
       "    .dataframe tbody tr th:only-of-type {\n",
       "        vertical-align: middle;\n",
       "    }\n",
       "\n",
       "    .dataframe tbody tr th {\n",
       "        vertical-align: top;\n",
       "    }\n",
       "\n",
       "    .dataframe thead th {\n",
       "        text-align: right;\n",
       "    }\n",
       "</style>\n",
       "<table border=\"1\" class=\"dataframe\">\n",
       "  <thead>\n",
       "    <tr style=\"text-align: right;\">\n",
       "      <th></th>\n",
       "      <th>Freebase movie ID</th>\n",
       "      <th>Movie release date</th>\n",
       "      <th>Character name</th>\n",
       "      <th>Actor date of birth</th>\n",
       "      <th>Actor gender</th>\n",
       "      <th>Actor height</th>\n",
       "      <th>Actor ethnicity</th>\n",
       "      <th>Actor name</th>\n",
       "      <th>Actor age at movie release</th>\n",
       "      <th>Freebase character/actor map ID</th>\n",
       "      <th>Freebase character ID</th>\n",
       "      <th>Freebase actor ID</th>\n",
       "      <th>year_distrib</th>\n",
       "    </tr>\n",
       "    <tr>\n",
       "      <th>Wikipedia movie ID</th>\n",
       "      <th></th>\n",
       "      <th></th>\n",
       "      <th></th>\n",
       "      <th></th>\n",
       "      <th></th>\n",
       "      <th></th>\n",
       "      <th></th>\n",
       "      <th></th>\n",
       "      <th></th>\n",
       "      <th></th>\n",
       "      <th></th>\n",
       "      <th></th>\n",
       "      <th></th>\n",
       "    </tr>\n",
       "  </thead>\n",
       "  <tbody>\n",
       "    <tr>\n",
       "      <th>975900</th>\n",
       "      <td>/m/03vyhn</td>\n",
       "      <td>2001-08-24</td>\n",
       "      <td>Akooshay</td>\n",
       "      <td>1958-08-26 00:00:00+00:00</td>\n",
       "      <td>F</td>\n",
       "      <td>1.620</td>\n",
       "      <td>NaN</td>\n",
       "      <td>Wanda De Jesus</td>\n",
       "      <td>42.0</td>\n",
       "      <td>/m/0bgchxw</td>\n",
       "      <td>/m/0bgcj3x</td>\n",
       "      <td>/m/03wcfv7</td>\n",
       "      <td>1958.0</td>\n",
       "    </tr>\n",
       "    <tr>\n",
       "      <th>975900</th>\n",
       "      <td>/m/03vyhn</td>\n",
       "      <td>2001-08-24</td>\n",
       "      <td>Lieutenant Melanie Ballard</td>\n",
       "      <td>1974-08-15 00:00:00+00:00</td>\n",
       "      <td>F</td>\n",
       "      <td>1.780</td>\n",
       "      <td>/m/044038p</td>\n",
       "      <td>Natasha Henstridge</td>\n",
       "      <td>27.0</td>\n",
       "      <td>/m/0jys3m</td>\n",
       "      <td>/m/0bgchn4</td>\n",
       "      <td>/m/0346l4</td>\n",
       "      <td>1974.0</td>\n",
       "    </tr>\n",
       "    <tr>\n",
       "      <th>975900</th>\n",
       "      <td>/m/03vyhn</td>\n",
       "      <td>2001-08-24</td>\n",
       "      <td>Desolation Williams</td>\n",
       "      <td>1969-06-15 00:00:00+00:00</td>\n",
       "      <td>M</td>\n",
       "      <td>1.727</td>\n",
       "      <td>/m/0x67</td>\n",
       "      <td>Ice Cube</td>\n",
       "      <td>32.0</td>\n",
       "      <td>/m/0jys3g</td>\n",
       "      <td>/m/0bgchn_</td>\n",
       "      <td>/m/01vw26l</td>\n",
       "      <td>1969.0</td>\n",
       "    </tr>\n",
       "    <tr>\n",
       "      <th>975900</th>\n",
       "      <td>/m/03vyhn</td>\n",
       "      <td>2001-08-24</td>\n",
       "      <td>Sgt Jericho Butler</td>\n",
       "      <td>1967-09-12 00:00:00+00:00</td>\n",
       "      <td>M</td>\n",
       "      <td>1.750</td>\n",
       "      <td>NaN</td>\n",
       "      <td>Jason Statham</td>\n",
       "      <td>33.0</td>\n",
       "      <td>/m/02vchl6</td>\n",
       "      <td>/m/0bgchnq</td>\n",
       "      <td>/m/034hyc</td>\n",
       "      <td>1967.0</td>\n",
       "    </tr>\n",
       "    <tr>\n",
       "      <th>975900</th>\n",
       "      <td>/m/03vyhn</td>\n",
       "      <td>2001-08-24</td>\n",
       "      <td>Bashira Kincaid</td>\n",
       "      <td>1977-09-25 00:00:00+00:00</td>\n",
       "      <td>F</td>\n",
       "      <td>1.650</td>\n",
       "      <td>NaN</td>\n",
       "      <td>Clea DuVall</td>\n",
       "      <td>23.0</td>\n",
       "      <td>/m/02vbb3r</td>\n",
       "      <td>/m/0bgchp9</td>\n",
       "      <td>/m/01y9xg</td>\n",
       "      <td>1977.0</td>\n",
       "    </tr>\n",
       "    <tr>\n",
       "      <th>...</th>\n",
       "      <td>...</td>\n",
       "      <td>...</td>\n",
       "      <td>...</td>\n",
       "      <td>...</td>\n",
       "      <td>...</td>\n",
       "      <td>...</td>\n",
       "      <td>...</td>\n",
       "      <td>...</td>\n",
       "      <td>...</td>\n",
       "      <td>...</td>\n",
       "      <td>...</td>\n",
       "      <td>...</td>\n",
       "      <td>...</td>\n",
       "    </tr>\n",
       "    <tr>\n",
       "      <th>913762</th>\n",
       "      <td>/m/03pcrp</td>\n",
       "      <td>1992-05-21</td>\n",
       "      <td>Additional Voices</td>\n",
       "      <td>NaT</td>\n",
       "      <td>F</td>\n",
       "      <td>NaN</td>\n",
       "      <td>NaN</td>\n",
       "      <td>Violet Bronte</td>\n",
       "      <td>NaN</td>\n",
       "      <td>/m/0kr409m</td>\n",
       "      <td>/m/0kr409r</td>\n",
       "      <td>/m/0kr409z</td>\n",
       "      <td>NaN</td>\n",
       "    </tr>\n",
       "    <tr>\n",
       "      <th>913762</th>\n",
       "      <td>/m/03pcrp</td>\n",
       "      <td>1992-05-21</td>\n",
       "      <td>Additional Voices</td>\n",
       "      <td>1954-01-01 00:00:00+00:00</td>\n",
       "      <td>M</td>\n",
       "      <td>NaN</td>\n",
       "      <td>NaN</td>\n",
       "      <td>Sonny Byrkett</td>\n",
       "      <td>38.0</td>\n",
       "      <td>/m/0kr405f</td>\n",
       "      <td>/m/0kr405k</td>\n",
       "      <td>/m/0gn4bz</td>\n",
       "      <td>1954.0</td>\n",
       "    </tr>\n",
       "    <tr>\n",
       "      <th>913762</th>\n",
       "      <td>/m/03pcrp</td>\n",
       "      <td>1992-05-21</td>\n",
       "      <td>Silvie Gena</td>\n",
       "      <td>1958-01-01 00:00:00+00:00</td>\n",
       "      <td>F</td>\n",
       "      <td>NaN</td>\n",
       "      <td>NaN</td>\n",
       "      <td>Susan Byrkett</td>\n",
       "      <td>34.0</td>\n",
       "      <td>/m/0kr40b9</td>\n",
       "      <td>/m/0kr40bf</td>\n",
       "      <td>/m/0gn4nd</td>\n",
       "      <td>1958.0</td>\n",
       "    </tr>\n",
       "    <tr>\n",
       "      <th>913762</th>\n",
       "      <td>/m/03pcrp</td>\n",
       "      <td>1992-05-21</td>\n",
       "      <td>Exegran</td>\n",
       "      <td>NaT</td>\n",
       "      <td>M</td>\n",
       "      <td>NaN</td>\n",
       "      <td>NaN</td>\n",
       "      <td>Hal Cleaveland</td>\n",
       "      <td>NaN</td>\n",
       "      <td>/m/0kr407c</td>\n",
       "      <td>/m/0kr406_</td>\n",
       "      <td>/m/0kr407h</td>\n",
       "      <td>NaN</td>\n",
       "    </tr>\n",
       "    <tr>\n",
       "      <th>28308153</th>\n",
       "      <td>/m/0cp05t9</td>\n",
       "      <td>1957</td>\n",
       "      <td>NaN</td>\n",
       "      <td>NaT</td>\n",
       "      <td>NaN</td>\n",
       "      <td>NaN</td>\n",
       "      <td>NaN</td>\n",
       "      <td>Roberta Paterson</td>\n",
       "      <td>NaN</td>\n",
       "      <td>/m/0g8ngmj</td>\n",
       "      <td>NaN</td>\n",
       "      <td>/m/0g8ngmm</td>\n",
       "      <td>NaN</td>\n",
       "    </tr>\n",
       "  </tbody>\n",
       "</table>\n",
       "<p>134079 rows × 13 columns</p>\n",
       "</div>"
      ],
      "text/plain": [
       "                   Freebase movie ID Movie release date  \\\n",
       "Wikipedia movie ID                                        \n",
       "975900                     /m/03vyhn         2001-08-24   \n",
       "975900                     /m/03vyhn         2001-08-24   \n",
       "975900                     /m/03vyhn         2001-08-24   \n",
       "975900                     /m/03vyhn         2001-08-24   \n",
       "975900                     /m/03vyhn         2001-08-24   \n",
       "...                              ...                ...   \n",
       "913762                     /m/03pcrp         1992-05-21   \n",
       "913762                     /m/03pcrp         1992-05-21   \n",
       "913762                     /m/03pcrp         1992-05-21   \n",
       "913762                     /m/03pcrp         1992-05-21   \n",
       "28308153                  /m/0cp05t9               1957   \n",
       "\n",
       "                                Character name       Actor date of birth  \\\n",
       "Wikipedia movie ID                                                         \n",
       "975900                                Akooshay 1958-08-26 00:00:00+00:00   \n",
       "975900              Lieutenant Melanie Ballard 1974-08-15 00:00:00+00:00   \n",
       "975900                     Desolation Williams 1969-06-15 00:00:00+00:00   \n",
       "975900                      Sgt Jericho Butler 1967-09-12 00:00:00+00:00   \n",
       "975900                         Bashira Kincaid 1977-09-25 00:00:00+00:00   \n",
       "...                                        ...                       ...   \n",
       "913762                       Additional Voices                       NaT   \n",
       "913762                       Additional Voices 1954-01-01 00:00:00+00:00   \n",
       "913762                             Silvie Gena 1958-01-01 00:00:00+00:00   \n",
       "913762                                 Exegran                       NaT   \n",
       "28308153                                   NaN                       NaT   \n",
       "\n",
       "                   Actor gender  Actor height Actor ethnicity  \\\n",
       "Wikipedia movie ID                                              \n",
       "975900                        F         1.620             NaN   \n",
       "975900                        F         1.780      /m/044038p   \n",
       "975900                        M         1.727         /m/0x67   \n",
       "975900                        M         1.750             NaN   \n",
       "975900                        F         1.650             NaN   \n",
       "...                         ...           ...             ...   \n",
       "913762                        F           NaN             NaN   \n",
       "913762                        M           NaN             NaN   \n",
       "913762                        F           NaN             NaN   \n",
       "913762                        M           NaN             NaN   \n",
       "28308153                    NaN           NaN             NaN   \n",
       "\n",
       "                            Actor name  Actor age at movie release  \\\n",
       "Wikipedia movie ID                                                   \n",
       "975900                  Wanda De Jesus                        42.0   \n",
       "975900              Natasha Henstridge                        27.0   \n",
       "975900                        Ice Cube                        32.0   \n",
       "975900                   Jason Statham                        33.0   \n",
       "975900                     Clea DuVall                        23.0   \n",
       "...                                ...                         ...   \n",
       "913762                   Violet Bronte                         NaN   \n",
       "913762                   Sonny Byrkett                        38.0   \n",
       "913762                   Susan Byrkett                        34.0   \n",
       "913762                  Hal Cleaveland                         NaN   \n",
       "28308153              Roberta Paterson                         NaN   \n",
       "\n",
       "                   Freebase character/actor map ID Freebase character ID  \\\n",
       "Wikipedia movie ID                                                         \n",
       "975900                                  /m/0bgchxw            /m/0bgcj3x   \n",
       "975900                                   /m/0jys3m            /m/0bgchn4   \n",
       "975900                                   /m/0jys3g            /m/0bgchn_   \n",
       "975900                                  /m/02vchl6            /m/0bgchnq   \n",
       "975900                                  /m/02vbb3r            /m/0bgchp9   \n",
       "...                                            ...                   ...   \n",
       "913762                                  /m/0kr409m            /m/0kr409r   \n",
       "913762                                  /m/0kr405f            /m/0kr405k   \n",
       "913762                                  /m/0kr40b9            /m/0kr40bf   \n",
       "913762                                  /m/0kr407c            /m/0kr406_   \n",
       "28308153                                /m/0g8ngmj                   NaN   \n",
       "\n",
       "                   Freebase actor ID  year_distrib  \n",
       "Wikipedia movie ID                                  \n",
       "975900                    /m/03wcfv7        1958.0  \n",
       "975900                     /m/0346l4        1974.0  \n",
       "975900                    /m/01vw26l        1969.0  \n",
       "975900                     /m/034hyc        1967.0  \n",
       "975900                     /m/01y9xg        1977.0  \n",
       "...                              ...           ...  \n",
       "913762                    /m/0kr409z           NaN  \n",
       "913762                     /m/0gn4bz        1954.0  \n",
       "913762                     /m/0gn4nd        1958.0  \n",
       "913762                    /m/0kr407h           NaN  \n",
       "28308153                  /m/0g8ngmm           NaN  \n",
       "\n",
       "[134079 rows x 13 columns]"
      ]
     },
     "execution_count": 28,
     "metadata": {},
     "output_type": "execute_result"
    }
   ],
   "source": [
    "char_metadata.drop_duplicates(subset = 'Actor name' )"
   ]
  },
  {
   "cell_type": "code",
   "execution_count": 29,
   "id": "33ae916e",
   "metadata": {},
   "outputs": [
    {
     "data": {
      "text/plain": [
       "Text(0.5, 1.0, 'Date of birth of actors')"
      ]
     },
     "execution_count": 29,
     "metadata": {},
     "output_type": "execute_result"
    },
    {
     "data": {
      "image/png": "[encoded data removed]",
      "text/plain": [
       "<Figure size 432x288 with 1 Axes>"
      ]
     },
     "metadata": {
      "needs_background": "light"
     },
     "output_type": "display_data"
    }
   ],
   "source": [
    "sns.histplot(char_metadata['year_distrib'], discrete = True)\n",
    "plt.title('Date of birth of actors')"
   ]
  },
  {
   "cell_type": "code",
   "execution_count": 38,
   "id": "3edae537",
   "metadata": {},
   "outputs": [
    {
     "data": {
      "text/plain": [
       "Text(0.5, 1.0, 'Top characters')"
      ]
     },
     "execution_count": 38,
     "metadata": {},
     "output_type": "execute_result"
    },
    {
     "data": {
      "image/png": "[encoded data removed]",
      "text/plain": [
       "<Figure size 1008x288 with 1 Axes>"
      ]
     },
     "metadata": {
      "needs_background": "light"
     },
     "output_type": "display_data"
    }
   ],
   "source": [
    "b = char_metadata['Character name'].value_counts().nlargest(50)\n",
    "fig, ax = plt.subplots(figsize = (14,4))\n",
    "ax.bar(b.index,\n",
    "        b.values)\n",
    "plt.xticks(rotation=90)\n",
    "ax.set_ylabel(\"Frequency\", size = 12)\n",
    "ax.set_title(\"Top characters\", size = 14)"
   ]
  },
  {
   "cell_type": "code",
   "execution_count": 40,
   "id": "afb7814b",
   "metadata": {},
   "outputs": [
    {
     "data": {
      "text/plain": [
       "Text(0.5, 1.0, 'Top actors')"
      ]
     },
     "execution_count": 40,
     "metadata": {},
     "output_type": "execute_result"
    },
    {
     "data": {
      "image/png": "[encoded data removed]",
      "text/plain": [
       "<Figure size 1008x288 with 1 Axes>"
      ]
     },
     "metadata": {
      "needs_background": "light"
     },
     "output_type": "display_data"
    }
   ],
   "source": [
    "c = char_metadata['Actor name'].value_counts().nlargest(50)\n",
    "fig, ax = plt.subplots(figsize = (14,4))\n",
    "ax.bar(c.index,\n",
    "        c.values)\n",
    "plt.xticks(rotation=90)\n",
    "ax.set_ylabel(\"Frequency\", size = 12)\n",
    "ax.set_title(\"Top actors\", size = 14)"
   ]
  },
  {
   "cell_type": "code",
   "execution_count": 41,
   "id": "ca829dfa",
   "metadata": {},
   "outputs": [
    {
     "data": {
      "text/plain": [
       "Text(0.5, 1.0, 'Top ethnicity')"
      ]
     },
     "execution_count": 41,
     "metadata": {},
     "output_type": "execute_result"
    },
    {
     "data": {
      "image/png": "[encoded data removed]",
      "text/plain": [
       "<Figure size 1008x288 with 1 Axes>"
      ]
     },
     "metadata": {
      "needs_background": "light"
     },
     "output_type": "display_data"
    }
   ],
   "source": [
    "d = char_metadata['Actor ethnicity'].value_counts().nlargest(50)\n",
    "fig, ax = plt.subplots(figsize = (14,4))\n",
    "ax.bar(d.index,\n",
    "        d.values)\n",
    "plt.xticks(rotation=90)\n",
    "ax.set_ylabel(\"Frequency\", size = 12)\n",
    "ax.set_title(\"Top ethnicity\", size = 14)"
   ]
  },
  {
   "cell_type": "markdown",
   "id": "08927f45",
   "metadata": {},
   "source": [
    "Not very useful, let's fetch freebase ids\n",
    "\n",
    "https://www.youtube.com/watch?v=-pFTxOoiuYI\n",
    "\n"
   ]
  },
  {
   "cell_type": "code",
   "execution_count": 60,
   "id": "b28cace1",
   "metadata": {},
   "outputs": [
    {
     "ename": "JSONDecodeError",
     "evalue": "[Errno Expecting value] <!DOCTYPE html><html lang=\"en\" dir=\"ltr\"><head><meta charset=\"utf-8\"><meta http-equiv=\"X-UA-Compatible\" content=\"IE=edge\"><meta name=\"viewport\" content=\"width=device-width,initial-scale=1,user-scalable=yes\"><link rel=\"stylesheet\" href=\"css/style.min.372a7e7a49dcaedce6ae.css\"><link id=\"favicon\" rel=\"shortcut icon\"><script src=\"js/shim.min.05fe49cdd30866fd4947.js\"></script><style id=\"MJX-CHTML-styles\">/* placeholder for MathJax */</style></head><body><div class=\"wikibase-queryservice container-fluid\"><div class=\"row\"><nav class=\"navbar navbar-default\"><div class=\"navbar-header\"><button type=\"button\" class=\"navbar-toggle collapsed\" data-toggle=\"collapse\" data-target=\"#header-navbar-collapse\" aria-expanded=\"false\"><span class=\"sr-only\">Toggle navigation</span><span class=\"icon-bar\"></span><span class=\"icon-bar\"></span><span class=\"icon-bar\"></span></button><div class=\"navbar-brand\"><a href=\"./\"><img src=\"data:image/gif;base64,R0lGODlhAQABAAAAACwAAAAAAQABAAA=\"><span></span></a></div></div><div class=\"collapse navbar-collapse in\" id=\"header-navbar-collapse\"><ul class=\"nav navbar-nav navbar-left\" id=\"left-navbar\"><li><button type=\"button\" class=\"btn navbar-btn btn-default\" id=\"open-example\" data-toggle=\"modal\" data-target=\"#QueryExamples\"><span class=\"fa fa-folder-open-o\"></span> <span data-i18n=\"wdqs-app-button-examples\" id=\"examples-label\"></span></button></li><li class=\"dropdown\"><div class=\"btn-group navbar-btn\" id=\"query-builder-dd\"><a target=\"_blank\" href=\"https://query.wikidata.org/querybuilder/\" class=\"btn btn-default dropdown-toggle query-builder-toggle\" id=\"query-builder-toggle\"><span data-i18n=\"wdqs-app-query-builder-name\" id=\"query-builder-label\"></span></a><div class=\"dropdown-menu query-builder\"><strong><p data-i18n=\"wdqs-app-query-builder-dd-title\"></p></strong><p data-i18n=\"wdqs-app-query-builder-dd-copy\"></p><a class=\"query-builder-toggle\" target=\"_blank\" href=\"https://query.wikidata.org/querybuilder/\"><img src=\"./wikibase/queryService/ui/304px_querybuilder_final.gif\"></a></div></div></li><li class=\"dropdown\"><div class=\"btn-group navbar-btn\"><a href=\"https://www.wikidata.org/wiki/Special:MyLanguage/Wikidata:SPARQL_query_service/Wikidata_Query_Help\" target=\"_blank\" class=\"btn btn-default\"><span class=\"glyphicon glyphicon-question-sign\" aria-hidden=\"true\"></span> <span data-i18n=\"wdqs-app-button-help\" id=\"help-label\"></span> </a><button data-toggle=\"dropdown\" class=\"btn btn-default dropdown-toggle\" id=\"help-toggle\"><span class=\"caret\"></span></button><ul class=\"dropdown-menu\"><li><a target=\"_blank\" rel=\"noopener\" href=\"https://www.wikidata.org/wiki/Special:MyLanguage/Wikidata:SPARQL_query_service/Wikidata_Query_Help\" data-i18n=\"wdqs-app-help-portal\"></a></li><li><a target=\"_blank\" rel=\"noopener\" href=\"https://www.mediawiki.org/wiki/Special:MyLanguage/Wikidata_Query_Service/User_Manual\" data-i18n=\"wdqs-app-help-manual\"></a></li><li><a target=\"_blank\" rel=\"noopener\" id=\"examples-link\" href=\"https://www.wikidata.org/wiki/Special:MyLanguage/Wikidata:SPARQL_query_service/queries/examples\" data-i18n=\"wdqs-app-help-examples\"></a></li><li role=\"separator\" class=\"divider\"></li><li><a target=\"_blank\" rel=\"noopener\" href=\"https://www.w3.org/TR/sparql11-query/\">SPARQL</a></li><li><a target=\"_blank\" rel=\"noopener\" href=\"https://www.mediawiki.org/wiki/Special:MyLanguage/Wikibase/Indexing/RDF_Dump_Format\" data-i18n=\"wdqs-app-help-datamodel\"></a></li><li><a target=\"_blank\" rel=\"noopener\" href=\"https://www.mediawiki.org/wiki/Special:MyLanguage/Wikibase/Indexing/RDF_Dump_Format#Full_list_of_prefixes\" data-i18n=\"wdqs-app-help-prefixes\"></a></li><li role=\"separator\" class=\"divider\"></li><li><a target=\"_blank\" rel=\"noopener\" href=\"https://www.wikidata.org/wiki/Special:MyLanguage/Wikidata:Request_a_query\" data-i18n=\"wdqs-app-help-request-query\"></a></li><li><a target=\"_blank\" rel=\"noopener\" href=\"https://www.mediawiki.org/w/index.php?title=Talk:Wikidata_Query_Service&action=edit&section=new\" data-i18n=\"wdqs-app-help-feedback\"></a></li><li><a target=\"_blank\" rel=\"noopener\" id=\"copyright-link\" href=\"https://www.wikidata.org/wiki/Special:MyLanguage/Wikidata:SPARQL_query_service/Copyright\" data-i18n=\"wdqs-app-help-copy\"></a></li></ul></div></li><li class=\"dropdown\"><div class=\"btn-group navbar-btn\"><a href=\"https://www.wikidata.org/wiki/Special:MyLanguage/Wikidata:Tools\" target=\"_blank\" class=\"btn btn-default\"><span class=\"glyphicon glyphicon-cog\" aria-hidden=\"true\"></span> <span data-i18n=\"wdqs-app-button-more-tools\" id=\"tools-label\"></span> </a><button data-toggle=\"dropdown\" class=\"btn btn-default dropdown-toggle\" id=\"tools-toggle\"><span class=\"caret\"></span></button><ul class=\"dropdown-menu\"><li><a target=\"_blank\" rel=\"noopener\" href=\"https://www.wikidata.org/wiki/Special:MyLanguage/Wikidata:Tools/Edit_items\" data-i18n=\"wdqs-app-tools-edit-items\"></a></li><li><a target=\"_blank\" rel=\"noopener\" href=\"https://www.wikidata.org/wiki/Special:MyLanguage/Wikidata:Tools/Query_data\" data-i18n=\"wdqs-app-tools-query-data\"></a></li><li><a target=\"_blank\" rel=\"noopener\" href=\"https://www.wikidata.org/wiki/Special:MyLanguage/Wikidata:Tools/Enhance_user_interface\" data-i18n=\"wdqs-app-tools-enhance-ui\"></a></li><li><a target=\"_blank\" rel=\"noopener\" href=\"https://www.wikidata.org/wiki/Special:MyLanguage/Wikidata:Tools/Visualize_data\" data-i18n=\"wdqs-app-tools-visualize-data\"></a></li><li><a target=\"_blank\" rel=\"noopener\" href=\"https://www.wikidata.org/wiki/Special:MyLanguage/Wikidata:List_of_properties\" data-i18n=\"wdqs-app-tools-list-properties\"></a></li><li><a target=\"_blank\" rel=\"noopener\" href=\"https://www.wikidata.org/wiki/Special:MyLanguage/Wikidata:Tools/Lexicographical_data\" data-i18n=\"wdqs-app-tools-lexicographical-data\"></a></li><li><a target=\"_blank\" rel=\"noopener\" href=\"https://www.wikidata.org/wiki/Special:MyLanguage/Wikidata:Tools/For_programmers\" data-i18n=\"wdqs-app-tools-for-programmers\"></a></li><li role=\"separator\" class=\"divider\"></li><li><a target=\"_blank\" rel=\"noopener\" href=\"https://tools.wmflabs.org/hay/directory/#/search/wikidata\">Wikimedia Toolforge</a></li></ul></div></li></ul><ul class=\"nav navbar-nav navbar-right\" id=\"right-navbar\"><li><a href=\"#\" class=\"uls-trigger\" id=\"language-toggle\" data-toggle=\"tooltip\"></a></li></ul></div></nav><div id=\"query-box\"><form id=\"query-form\" action=\"https://query.wikidata.org/bigdata/namespace/wdq/sparql\"><div class=\"query-main\"><div class=\"toolbar\"><div class=\"toolbar-top\"><div><a href=\"#\" class=\"btn query-helper-trigger\" data-toggle=\"tooltip\" data-placement=\"top\" data-i18n=\"[title]wdqs-app-button-query-helper\"><span class=\"fa fa-info-circle\" aria-hidden=\"true\"></span></a></div><div><a href=\"#\" class=\"btn fullscreen-toggle\" data-toggle=\"tooltip\" data-placement=\"top\" data-i18n=\"[title]wdqs-app-button-fullscreen-title\"><span class=\"fa fa-arrows-alt\" aria-hidden=\"true\"></span></a></div><div class=\"dropdown\"><a href=\"#\" class=\"btn dropdown-toggle\" data-toggle=\"dropdown\" role=\"button\" aria-haspopup=\"true\" aria-expanded=\"false\" data-i18n=\"[title]wdqs-app-button-prefixes\"><span class=\"fa fa-thumb-tack\" aria-hidden=\"true\"></span><span class=\"caret\"></span></a><ul class=\"dropdown-menu\"><li><strong data-i18n=\"wdqs-app-button-prefixes\"></strong></li><li role=\"separator\" class=\"divider\"></li><li><div class=\"namespace-shortcuts\"></div></li><li role=\"separator\" class=\"divider\"></li><li><a class=\"addPrefixes\" data-i18n=\"wdqs-app-editor-addprefixes\"></a></li></ul></div><div><a href=\"#\" class=\"btn\" id=\"format-button\" data-toggle=\"tooltip\" data-placement=\"top\" data-i18n=\"[title]wdqs-app-button-format-title\"><span class=\"fa fa-diamond\" aria-hidden=\"true\"></span></a></div><div><a href=\"#\" class=\"btn\" data-i18n=\"[title]wdqs-app-button-examples\" data-toggle=\"modal\" data-target=\"#QueryExamples\"><span class=\"fa fa-folder-open-o\" aria-hidden=\"true\"></span></a></div><div><a href=\"#\" class=\"btn restore\" id=\"restore-button\" data-toggle=\"tooltip\" data-placement=\"top\" data-i18n=\"[title]wdqs-app-button-restore-title\"><span class=\"fa fa-history\" aria-hidden=\"true\"></span></a></div><div><a href=\"#\" class=\"btn\" id=\"clear-button\" data-toggle=\"tooltip\" data-placement=\"top\" data-i18n=\"[title]wdqs-app-button-clear-title\"><span class=\"fa fa-trash-o\" aria-hidden=\"true\"></span></a></div><div><a href=\"#\" class=\"btn shareQuery shortUrlTrigger query\" target=\"_blank\" data-i18n=\"[title]wdqs-app-shorturl-page-title\" data-toggle=\"popover\"><span class=\"fa fa-link\" aria-hidden=\"true\"></span></a></div></div><div class=\"toolbar-bottom\"><button type=\"submit\" class=\"btn btn-info\" id=\"execute-button\" data-toggle=\"tooltip\" data-placement=\"top\" data-i18n=\"[title]wdqs-app-button-run-title\"><span class=\"fa fa-play\" aria-hidden=\"true\"></span></button></div></div><div class=\"query-helper-and-editor\"><div class=\"query-helper query-helper-hidden\"><div class=\"panel panel-info\"><div class=\"panel-heading\"><strong data-i18n=\"wdqs-app-help-queryhelper\"></strong> <a target=\"_blank\" rel=\"noopener\" id=\"query-helper-help\" href=\"https://www.wikidata.org/wiki/Special:MyLanguage/Wikidata:SPARQL_query_service/Query_Helper\"><span class=\"glyphicon glyphicon-question-sign\"></span></a> <button type=\"button\" class=\"close\" aria-label=\"Close\"><span aria-hidden=\"true\">&times;</span></button></div><div class=\"panel-body\"></div></div></div><div class=\"splitter\"></div><div class=\"query-editor-container\" dir=\"ltr\"><textarea class=\"queryEditor\" name=\"query\" data-i18n=\"[placeholder]wdqs-app-editor-placeholder\" placeholder=\"(Input a SPARQL query or choose a query example)\"></textarea></div></div></div><div class=\"navbar navbar-default query-helper-tag-cloud query-helper-hidden\"></div><div class=\"status navbar navbar-default toolbar\"><div class=\"navbar-right\"><span class=\"dataUpdated\"></span></div></div></form></div></div><noscript><div class=\"row action-bar\" style=\"display: block\"><div class=\"message\"><div class=\"label label-warning\">For interactive query editing, a localized user interface, and other improvements, please enable JavaScript or use a browser that supports it.</div></div></div></noscript><div class=\"row\"><nav class=\"navbar navbar-default result\"><ul class=\"nav navbar-nav navbar-left\"><li><a id=\"display-button\" href=\"#\" data-toggle=\"dropdown\" class=\"dropdown-toggle\" data-placement=\"top\" data-i18n=\"[title]wdqs-app-button-display-title\"><span id=\"display-button-icon\" class=\"glyphicon glyphicon-eye-open\" aria-hidden=\"true\"></span><span id=\"display-button-label\"></span><span class=\"caret\"></span></a><ul id=\"result-browser-menu\" class=\"dropdown-menu\" role=\"menu\"></ul></li><li></li><li><a target=\"_blank\" class=\"help\" rel=\"noopener\" href=\"https://www.wikidata.org/wiki/Special:MyLanguage/Wikidata:SPARQL_query_service/Wikidata_Query_Help/Result_Views\"><span class=\"fa fa-question-circle\"></span></a></li></ul><ul class=\"nav navbar-nav navbar-right\"><li class=\"navbar-text\"><span class=\"query-total\"><span class=\"label label-default\" id=\"response-summary\"></span> </span>&nbsp;</li><li><a class=\"btn\" data-toggle=\"modal\" data-target=\"#CodeExamples\" data-i18n=\"[title]wdqs-app-button-code-title\"><span class=\"fa fa-code\"></span> <span data-i18n=\"wdqs-app-button-code\"></span></a></li><li><a id=\"download-button\" href=\"#\" data-toggle=\"dropdown\" class=\"dropdown-toggle\" data-placement=\"top\" data-i18n=\"[title]wdqs-app-button-download-title\"><span class=\"glyphicon glyphicon-download-alt\" aria-hidden=\"true\"></span><span data-i18n=\"wdqs-app-button-download\"></span><span class=\"caret\"></span></a><ul class=\"dropdown-menu\" role=\"menu\"><li><a id=\"downloadJSON\" href=\"#\"><span class=\"fa fa-file-code-o\" aria-hidden=\"true\"></span> <span data-i18n=\"wdqs-app-result-json\"></span></a></li><li><a id=\"downloadFull-JSON\" href=\"#\"><span class=\"fa fa-file-code-o\" aria-hidden=\"true\"></span> <span data-i18n=\"wdqs-app-result-json-verbose\"></span></a></li><li role=\"separator\" class=\"divider\"></li><li><a id=\"downloadSimple-TSV\" href=\"#\"><span class=\"fa fa-file-excel-o\" aria-hidden=\"true\"></span> <span data-i18n=\"wdqs-app-result-tsv\"></span></a></li><li><a id=\"downloadTSV\" href=\"#\"><span class=\"fa fa-file-excel-o\" aria-hidden=\"true\"></span> <span data-i18n=\"wdqs-app-result-tsv-verbose\"></span></a></li><li role=\"separator\" class=\"divider\"></li><li><a id=\"downloadCSV\" href=\"#\"><span class=\"fa fa-file-excel-o\" aria-hidden=\"true\"></span> <span data-i18n=\"wdqs-app-result-csv\"></span></a></li><li role=\"separator\" class=\"divider\"></li><li><a id=\"downloadHTML\" href=\"#\"><span class=\"fa fa-file-code-o\" aria-hidden=\"true\"></span> <span data-i18n=\"wdqs-app-result-html\"></span></a></li><li role=\"separator\" class=\"divider\"></li><li><a id=\"downloadSVG\" href=\"#\"><span class=\"fa fa-file-image-o\" aria-hidden=\"true\"></span> <span data-i18n=\"wdqs-app-result-svg\"></span></a></li></ul></li><li><a id=\"link-button\" href=\"#\" data-toggle=\"dropdown\" class=\"dropdown-toggle\" aria-haspopup=\"true\" aria-expanded=\"false\" data-placement=\"top\" data-i18n=\"[title]wdqs-app-button-link-title\"><span class=\"glyphicon glyphicon-link\" aria-hidden=\"true\"></span><span data-i18n=\"wdqs-app-button-link\"></span><span class=\"caret\"></span></a><ul class=\"dropdown-menu\"><li><a href=\"#\" class=\"shortUrlTrigger result\" target=\"_blank\" data-i18n=\"[title]wdqs-app-result-shorturl-title\" data-toggle=\"popover\"><span data-i18n=\"wdqs-app-result-shorturl\"></span></a></li><li><a target=\"_blank\" class=\"queryUri\" data-i18n=\"[title]wdqs-app-result-endpoint-title\"><span data-i18n=\"wdqs-app-result-endpoint\"></span></a></li><li><a href=\"#\" class=\"embed result\" target=\"_blank\" data-toggle=\"popover\" data-i18n=\"wdqs-app-result-embed\"></a></li></ul></li></ul></nav></div><div class=\"row action-bar\"><div class=\"message\"></div></div><div class=\"row\"><div id=\"query-result\">Test result</div></div><div class=\"row\"><div id=\"query-error\" class=\"panel-heading\"></div></div><div class=\"row\"><div id=\"empty-query-error\" class=\"text-center\"><p data-i18n=\"wdqs-action-empty-query\"></p><button type=\"button\" class=\"btn navbar-btn btn-default\" id=\"open-example\" data-toggle=\"modal\" data-target=\"#QueryExamples\"><span class=\"fa fa-folder-open-o\"></span> <span data-i18n=\"wdqs-app-button-examples\" id=\"examples-label\"></span></button></div></div><div class=\"row\"><div id=\"loading-spinner\"><i class=\"fa fa-spinner fa-pulse fa-3x fa-fw\"></i> <span class=\"sr-only\">Loading...</span></div></div><div id=\"explorer-dialogs\"><div class=\"explorer-dialog\"><div data-role=\"header\" class=\"modal-header clearfix explorer-header\"><h3 data-role=\"title\" class=\"modal-title pull-left explorer-title\">Explorer</h3><button data-role=\"close\" type=\"button\" class=\"close\" data-dismiss=\"modal\" aria-label=\"Close\"><span aria-hidden=\"true\">&times;</span></button></div><div data-role=\"body\" class=\"explorer-body\"></div></div></div></div><div class=\"modal fade QueryExamples\" id=\"QueryExamples\" tabindex=\"-1\" role=\"dialog\" aria-labelledby=\"QueryExamplesModalLabel\"><div class=\"modal-dialog modal-lg\" role=\"document\"><div class=\"modal-content\"><div class=\"modal-body\"><div class=\"tagCloud\"></div><div class=\"tagFilter\"></div><div class=\"input-group\"><span class=\"input-group-addon\"><span class=\"glyphicon glyphicon-filter\" aria-hidden=\"true\"></span></span> <input type=\"text\" class=\"tableFilter form-control\" placeholder=\"Type to filter\"> <span class=\"input-group-addon\"><span class=\"badge count\"></span></span></div><div class=\"exampleTable\"><table class=\"table\"><tbody class=\"searchable\"></tbody></table></div></div></div></div></div><div class=\"modal\" id=\"keyboardShortcutHelpModal\" tabindex=\"-1\" role=\"dialog\" aria-labelledby=\"keyboardShortcutHelpModalLabel\" aria-hidden=\"true\"><div class=\"modal-dialog\" role=\"document\"><div class=\"modal-content\"><div class=\"modal-header\"><h5 class=\"modal-title\" id=\"keyboardShortcutHelpModalLabel\" data-i18n=\"wdqs-dialog-key-shortcut-title\"></h5></div><div class=\"modal-body\"><table class=\"keyboard-shortcut-help\"><tbody><tr><th scope=\"row\"><kbd><kbd>ctrl</kbd>+<kbd>enter</kbd></kbd></th><td data-i18n=\"wdqs-dialog-key-shortcut-run-query\"></td></tr><tr><th scope=\"row\"><kbd>esc</kbd></th><td data-i18n=\"wdqs-dialog-key-shortcut-esc\"></td></tr><tr><th scope=\"row\"><kbd>?</kbd></th><td data-i18n=\"wdqs-dialog-key-shortcut-show-shortcut-help\"></td></tr><tr><th scope=\"row\"><kbd>i</kbd></th><td data-i18n=\"wdqs-dialog-key-shortcut-focus-textarea\"></td></tr><tr><th scope=\"row\"><kbd>r</kbd></th><td data-i18n=\"wdqs-dialog-key-shortcut-jump-to-result\"></td></tr><tr><th scope=\"row\"><kbd>f</kbd></th><td data-i18n=\"wdqs-dialog-key-shortcut-focus-filter\"></td></tr><tr><th scope=\"row\"><kbd>s</kbd></th><td data-i18n=\"wdqs-dialog-key-shortcut-focus-show\"></td></tr><tr><th scope=\"row\"><kbd>m</kbd></th><td data-i18n=\"wdqs-dialog-key-shortcut-focus-limit\"></td></tr><tr><th scope=\"row\"><kbd>e</kbd></th><td data-i18n=\"wdqs-dialog-key-shortcut-show-example\"></td></tr><tr><th scope=\"row\"><kbd>h</kbd></th><td data-i18n=\"wdqs-dialog-key-shortcut-help-menu\"></td></tr><tr><th scope=\"row\"><kbd>l</kbd></th><td data-i18n=\"wdqs-dialog-key-shortcut-show-language\"></td></tr></tbody></table></div><div class=\"modal-footer\"><button type=\"button\" class=\"btn btn-default\" data-dismiss=\"modal\" data-i18n=\"wdqs-dialog-key-shortcut-close-button\"></button></div></div></div></div><div class=\"modal fade CodeExamples\" id=\"CodeExamples\" tabindex=\"-1\" role=\"dialog\" aria-labelledby=\"CodeExamplesModalLabel\"><div class=\"modal-dialog modal-lg\" role=\"document\"><div class=\"modal-content\"><div class=\"modal-body\"><div><ul class=\"nav nav-tabs\" role=\"tablist\"></ul><div class=\"tab-content\"></div></div></div></div></div></div><script src=\"js/vendor.min.0c96f018ea3fdcadd317.js\"></script><script src=\"js/wdqs.min.7906af714e7933b9c782.js\"></script></body></html>: 0",
     "output_type": "error",
     "traceback": [
      "\u001b[1;31m---------------------------------------------------------------------------\u001b[0m",
      "\u001b[1;31mJSONDecodeError\u001b[0m                           Traceback (most recent call last)",
      "\u001b[1;32m~\\AppData\\Local\\Programs\\Python\\Python39\\lib\\site-packages\\requests\\models.py\u001b[0m in \u001b[0;36mjson\u001b[1;34m(self, **kwargs)\u001b[0m\n\u001b[0;32m    909\u001b[0m         \u001b[1;32mtry\u001b[0m\u001b[1;33m:\u001b[0m\u001b[1;33m\u001b[0m\u001b[1;33m\u001b[0m\u001b[0m\n\u001b[1;32m--> 910\u001b[1;33m             \u001b[1;32mreturn\u001b[0m \u001b[0mcomplexjson\u001b[0m\u001b[1;33m.\u001b[0m\u001b[0mloads\u001b[0m\u001b[1;33m(\u001b[0m\u001b[0mself\u001b[0m\u001b[1;33m.\u001b[0m\u001b[0mtext\u001b[0m\u001b[1;33m,\u001b[0m \u001b[1;33m**\u001b[0m\u001b[0mkwargs\u001b[0m\u001b[1;33m)\u001b[0m\u001b[1;33m\u001b[0m\u001b[1;33m\u001b[0m\u001b[0m\n\u001b[0m\u001b[0;32m    911\u001b[0m         \u001b[1;32mexcept\u001b[0m \u001b[0mJSONDecodeError\u001b[0m \u001b[1;32mas\u001b[0m \u001b[0me\u001b[0m\u001b[1;33m:\u001b[0m\u001b[1;33m\u001b[0m\u001b[1;33m\u001b[0m\u001b[0m\n",
      "\u001b[1;32m~\\AppData\\Local\\Programs\\Python\\Python39\\lib\\json\\__init__.py\u001b[0m in \u001b[0;36mloads\u001b[1;34m(s, cls, object_hook, parse_float, parse_int, parse_constant, object_pairs_hook, **kw)\u001b[0m\n\u001b[0;32m    345\u001b[0m             parse_constant is None and object_pairs_hook is None and not kw):\n\u001b[1;32m--> 346\u001b[1;33m         \u001b[1;32mreturn\u001b[0m \u001b[0m_default_decoder\u001b[0m\u001b[1;33m.\u001b[0m\u001b[0mdecode\u001b[0m\u001b[1;33m(\u001b[0m\u001b[0ms\u001b[0m\u001b[1;33m)\u001b[0m\u001b[1;33m\u001b[0m\u001b[1;33m\u001b[0m\u001b[0m\n\u001b[0m\u001b[0;32m    347\u001b[0m     \u001b[1;32mif\u001b[0m \u001b[0mcls\u001b[0m \u001b[1;32mis\u001b[0m \u001b[1;32mNone\u001b[0m\u001b[1;33m:\u001b[0m\u001b[1;33m\u001b[0m\u001b[1;33m\u001b[0m\u001b[0m\n",
      "\u001b[1;32m~\\AppData\\Local\\Programs\\Python\\Python39\\lib\\json\\decoder.py\u001b[0m in \u001b[0;36mdecode\u001b[1;34m(self, s, _w)\u001b[0m\n\u001b[0;32m    336\u001b[0m         \"\"\"\n\u001b[1;32m--> 337\u001b[1;33m         \u001b[0mobj\u001b[0m\u001b[1;33m,\u001b[0m \u001b[0mend\u001b[0m \u001b[1;33m=\u001b[0m \u001b[0mself\u001b[0m\u001b[1;33m.\u001b[0m\u001b[0mraw_decode\u001b[0m\u001b[1;33m(\u001b[0m\u001b[0ms\u001b[0m\u001b[1;33m,\u001b[0m \u001b[0midx\u001b[0m\u001b[1;33m=\u001b[0m\u001b[0m_w\u001b[0m\u001b[1;33m(\u001b[0m\u001b[0ms\u001b[0m\u001b[1;33m,\u001b[0m \u001b[1;36m0\u001b[0m\u001b[1;33m)\u001b[0m\u001b[1;33m.\u001b[0m\u001b[0mend\u001b[0m\u001b[1;33m(\u001b[0m\u001b[1;33m)\u001b[0m\u001b[1;33m)\u001b[0m\u001b[1;33m\u001b[0m\u001b[1;33m\u001b[0m\u001b[0m\n\u001b[0m\u001b[0;32m    338\u001b[0m         \u001b[0mend\u001b[0m \u001b[1;33m=\u001b[0m \u001b[0m_w\u001b[0m\u001b[1;33m(\u001b[0m\u001b[0ms\u001b[0m\u001b[1;33m,\u001b[0m \u001b[0mend\u001b[0m\u001b[1;33m)\u001b[0m\u001b[1;33m.\u001b[0m\u001b[0mend\u001b[0m\u001b[1;33m(\u001b[0m\u001b[1;33m)\u001b[0m\u001b[1;33m\u001b[0m\u001b[1;33m\u001b[0m\u001b[0m\n",
      "\u001b[1;32m~\\AppData\\Local\\Programs\\Python\\Python39\\lib\\json\\decoder.py\u001b[0m in \u001b[0;36mraw_decode\u001b[1;34m(self, s, idx)\u001b[0m\n\u001b[0;32m    354\u001b[0m         \u001b[1;32mexcept\u001b[0m \u001b[0mStopIteration\u001b[0m \u001b[1;32mas\u001b[0m \u001b[0merr\u001b[0m\u001b[1;33m:\u001b[0m\u001b[1;33m\u001b[0m\u001b[1;33m\u001b[0m\u001b[0m\n\u001b[1;32m--> 355\u001b[1;33m             \u001b[1;32mraise\u001b[0m \u001b[0mJSONDecodeError\u001b[0m\u001b[1;33m(\u001b[0m\u001b[1;34m\"Expecting value\"\u001b[0m\u001b[1;33m,\u001b[0m \u001b[0ms\u001b[0m\u001b[1;33m,\u001b[0m \u001b[0merr\u001b[0m\u001b[1;33m.\u001b[0m\u001b[0mvalue\u001b[0m\u001b[1;33m)\u001b[0m \u001b[1;32mfrom\u001b[0m \u001b[1;32mNone\u001b[0m\u001b[1;33m\u001b[0m\u001b[1;33m\u001b[0m\u001b[0m\n\u001b[0m\u001b[0;32m    356\u001b[0m         \u001b[1;32mreturn\u001b[0m \u001b[0mobj\u001b[0m\u001b[1;33m,\u001b[0m \u001b[0mend\u001b[0m\u001b[1;33m\u001b[0m\u001b[1;33m\u001b[0m\u001b[0m\n",
      "\u001b[1;31mJSONDecodeError\u001b[0m: Expecting value: line 1 column 1 (char 0)",
      "\nDuring handling of the above exception, another exception occurred:\n",
      "\u001b[1;31mJSONDecodeError\u001b[0m                           Traceback (most recent call last)",
      "\u001b[1;32m~\\AppData\\Local\\Temp/ipykernel_3444/1553816389.py\u001b[0m in \u001b[0;36m<module>\u001b[1;34m\u001b[0m\n\u001b[0;32m      4\u001b[0m \u001b[1;33m\u001b[0m\u001b[0m\n\u001b[0;32m      5\u001b[0m \u001b[0mresponse\u001b[0m \u001b[1;33m=\u001b[0m \u001b[0mrequests\u001b[0m\u001b[1;33m.\u001b[0m\u001b[0mget\u001b[0m\u001b[1;33m(\u001b[0m\u001b[0mquery\u001b[0m\u001b[1;33m)\u001b[0m\u001b[1;33m\u001b[0m\u001b[1;33m\u001b[0m\u001b[0m\n\u001b[1;32m----> 6\u001b[1;33m \u001b[0mprint\u001b[0m\u001b[1;33m(\u001b[0m\u001b[0mresponse\u001b[0m\u001b[1;33m.\u001b[0m\u001b[0mjson\u001b[0m\u001b[1;33m(\u001b[0m\u001b[1;33m)\u001b[0m\u001b[1;33m)\u001b[0m\u001b[1;33m\u001b[0m\u001b[1;33m\u001b[0m\u001b[0m\n\u001b[0m",
      "\u001b[1;32m~\\AppData\\Local\\Programs\\Python\\Python39\\lib\\site-packages\\requests\\models.py\u001b[0m in \u001b[0;36mjson\u001b[1;34m(self, **kwargs)\u001b[0m\n\u001b[0;32m    915\u001b[0m                 \u001b[1;32mraise\u001b[0m \u001b[0mRequestsJSONDecodeError\u001b[0m\u001b[1;33m(\u001b[0m\u001b[0me\u001b[0m\u001b[1;33m.\u001b[0m\u001b[0mmessage\u001b[0m\u001b[1;33m)\u001b[0m\u001b[1;33m\u001b[0m\u001b[1;33m\u001b[0m\u001b[0m\n\u001b[0;32m    916\u001b[0m             \u001b[1;32melse\u001b[0m\u001b[1;33m:\u001b[0m\u001b[1;33m\u001b[0m\u001b[1;33m\u001b[0m\u001b[0m\n\u001b[1;32m--> 917\u001b[1;33m                 \u001b[1;32mraise\u001b[0m \u001b[0mRequestsJSONDecodeError\u001b[0m\u001b[1;33m(\u001b[0m\u001b[0me\u001b[0m\u001b[1;33m.\u001b[0m\u001b[0mmsg\u001b[0m\u001b[1;33m,\u001b[0m \u001b[0me\u001b[0m\u001b[1;33m.\u001b[0m\u001b[0mdoc\u001b[0m\u001b[1;33m,\u001b[0m \u001b[0me\u001b[0m\u001b[1;33m.\u001b[0m\u001b[0mpos\u001b[0m\u001b[1;33m)\u001b[0m\u001b[1;33m\u001b[0m\u001b[1;33m\u001b[0m\u001b[0m\n\u001b[0m\u001b[0;32m    918\u001b[0m \u001b[1;33m\u001b[0m\u001b[0m\n\u001b[0;32m    919\u001b[0m     \u001b[1;33m@\u001b[0m\u001b[0mproperty\u001b[0m\u001b[1;33m\u001b[0m\u001b[1;33m\u001b[0m\u001b[0m\n",
      "\u001b[1;31mJSONDecodeError\u001b[0m: [Errno Expecting value] <!DOCTYPE html><html lang=\"en\" dir=\"ltr\"><head><meta charset=\"utf-8\"><meta http-equiv=\"X-UA-Compatible\" content=\"IE=edge\"><meta name=\"viewport\" content=\"width=device-width,initial-scale=1,user-scalable=yes\"><link rel=\"stylesheet\" href=\"css/style.min.372a7e7a49dcaedce6ae.css\"><link id=\"favicon\" rel=\"shortcut icon\"><script src=\"js/shim.min.05fe49cdd30866fd4947.js\"></script><style id=\"MJX-CHTML-styles\">/* placeholder for MathJax */</style></head><body><div class=\"wikibase-queryservice container-fluid\"><div class=\"row\"><nav class=\"navbar navbar-default\"><div class=\"navbar-header\"><button type=\"button\" class=\"navbar-toggle collapsed\" data-toggle=\"collapse\" data-target=\"#header-navbar-collapse\" aria-expanded=\"false\"><span class=\"sr-only\">Toggle navigation</span><span class=\"icon-bar\"></span><span class=\"icon-bar\"></span><span class=\"icon-bar\"></span></button><div class=\"navbar-brand\"><a href=\"./\"><img src=\"data:image/gif;base64,R0lGODlhAQABAAAAACwAAAAAAQABAAA=\"><span></span></a></div></div><div class=\"collapse navbar-collapse in\" id=\"header-navbar-collapse\"><ul class=\"nav navbar-nav navbar-left\" id=\"left-navbar\"><li><button type=\"button\" class=\"btn navbar-btn btn-default\" id=\"open-example\" data-toggle=\"modal\" data-target=\"#QueryExamples\"><span class=\"fa fa-folder-open-o\"></span> <span data-i18n=\"wdqs-app-button-examples\" id=\"examples-label\"></span></button></li><li class=\"dropdown\"><div class=\"btn-group navbar-btn\" id=\"query-builder-dd\"><a target=\"_blank\" href=\"https://query.wikidata.org/querybuilder/\" class=\"btn btn-default dropdown-toggle query-builder-toggle\" id=\"query-builder-toggle\"><span data-i18n=\"wdqs-app-query-builder-name\" id=\"query-builder-label\"></span></a><div class=\"dropdown-menu query-builder\"><strong><p data-i18n=\"wdqs-app-query-builder-dd-title\"></p></strong><p data-i18n=\"wdqs-app-query-builder-dd-copy\"></p><a class=\"query-builder-toggle\" target=\"_blank\" href=\"https://query.wikidata.org/querybuilder/\"><img src=\"./wikibase/queryService/ui/304px_querybuilder_final.gif\"></a></div></div></li><li class=\"dropdown\"><div class=\"btn-group navbar-btn\"><a href=\"https://www.wikidata.org/wiki/Special:MyLanguage/Wikidata:SPARQL_query_service/Wikidata_Query_Help\" target=\"_blank\" class=\"btn btn-default\"><span class=\"glyphicon glyphicon-question-sign\" aria-hidden=\"true\"></span> <span data-i18n=\"wdqs-app-button-help\" id=\"help-label\"></span> </a><button data-toggle=\"dropdown\" class=\"btn btn-default dropdown-toggle\" id=\"help-toggle\"><span class=\"caret\"></span></button><ul class=\"dropdown-menu\"><li><a target=\"_blank\" rel=\"noopener\" href=\"https://www.wikidata.org/wiki/Special:MyLanguage/Wikidata:SPARQL_query_service/Wikidata_Query_Help\" data-i18n=\"wdqs-app-help-portal\"></a></li><li><a target=\"_blank\" rel=\"noopener\" href=\"https://www.mediawiki.org/wiki/Special:MyLanguage/Wikidata_Query_Service/User_Manual\" data-i18n=\"wdqs-app-help-manual\"></a></li><li><a target=\"_blank\" rel=\"noopener\" id=\"examples-link\" href=\"https://www.wikidata.org/wiki/Special:MyLanguage/Wikidata:SPARQL_query_service/queries/examples\" data-i18n=\"wdqs-app-help-examples\"></a></li><li role=\"separator\" class=\"divider\"></li><li><a target=\"_blank\" rel=\"noopener\" href=\"https://www.w3.org/TR/sparql11-query/\">SPARQL</a></li><li><a target=\"_blank\" rel=\"noopener\" href=\"https://www.mediawiki.org/wiki/Special:MyLanguage/Wikibase/Indexing/RDF_Dump_Format\" data-i18n=\"wdqs-app-help-datamodel\"></a></li><li><a target=\"_blank\" rel=\"noopener\" href=\"https://www.mediawiki.org/wiki/Special:MyLanguage/Wikibase/Indexing/RDF_Dump_Format#Full_list_of_prefixes\" data-i18n=\"wdqs-app-help-prefixes\"></a></li><li role=\"separator\" class=\"divider\"></li><li><a target=\"_blank\" rel=\"noopener\" href=\"https://www.wikidata.org/wiki/Special:MyLanguage/Wikidata:Request_a_query\" data-i18n=\"wdqs-app-help-request-query\"></a></li><li><a target=\"_blank\" rel=\"noopener\" href=\"https://www.mediawiki.org/w/index.php?title=Talk:Wikidata_Query_Service&action=edit&section=new\" data-i18n=\"wdqs-app-help-feedback\"></a></li><li><a target=\"_blank\" rel=\"noopener\" id=\"copyright-link\" href=\"https://www.wikidata.org/wiki/Special:MyLanguage/Wikidata:SPARQL_query_service/Copyright\" data-i18n=\"wdqs-app-help-copy\"></a></li></ul></div></li><li class=\"dropdown\"><div class=\"btn-group navbar-btn\"><a href=\"https://www.wikidata.org/wiki/Special:MyLanguage/Wikidata:Tools\" target=\"_blank\" class=\"btn btn-default\"><span class=\"glyphicon glyphicon-cog\" aria-hidden=\"true\"></span> <span data-i18n=\"wdqs-app-button-more-tools\" id=\"tools-label\"></span> </a><button data-toggle=\"dropdown\" class=\"btn btn-default dropdown-toggle\" id=\"tools-toggle\"><span class=\"caret\"></span></button><ul class=\"dropdown-menu\"><li><a target=\"_blank\" rel=\"noopener\" href=\"https://www.wikidata.org/wiki/Special:MyLanguage/Wikidata:Tools/Edit_items\" data-i18n=\"wdqs-app-tools-edit-items\"></a></li><li><a target=\"_blank\" rel=\"noopener\" href=\"https://www.wikidata.org/wiki/Special:MyLanguage/Wikidata:Tools/Query_data\" data-i18n=\"wdqs-app-tools-query-data\"></a></li><li><a target=\"_blank\" rel=\"noopener\" href=\"https://www.wikidata.org/wiki/Special:MyLanguage/Wikidata:Tools/Enhance_user_interface\" data-i18n=\"wdqs-app-tools-enhance-ui\"></a></li><li><a target=\"_blank\" rel=\"noopener\" href=\"https://www.wikidata.org/wiki/Special:MyLanguage/Wikidata:Tools/Visualize_data\" data-i18n=\"wdqs-app-tools-visualize-data\"></a></li><li><a target=\"_blank\" rel=\"noopener\" href=\"https://www.wikidata.org/wiki/Special:MyLanguage/Wikidata:List_of_properties\" data-i18n=\"wdqs-app-tools-list-properties\"></a></li><li><a target=\"_blank\" rel=\"noopener\" href=\"https://www.wikidata.org/wiki/Special:MyLanguage/Wikidata:Tools/Lexicographical_data\" data-i18n=\"wdqs-app-tools-lexicographical-data\"></a></li><li><a target=\"_blank\" rel=\"noopener\" href=\"https://www.wikidata.org/wiki/Special:MyLanguage/Wikidata:Tools/For_programmers\" data-i18n=\"wdqs-app-tools-for-programmers\"></a></li><li role=\"separator\" class=\"divider\"></li><li><a target=\"_blank\" rel=\"noopener\" href=\"https://tools.wmflabs.org/hay/directory/#/search/wikidata\">Wikimedia Toolforge</a></li></ul></div></li></ul><ul class=\"nav navbar-nav navbar-right\" id=\"right-navbar\"><li><a href=\"#\" class=\"uls-trigger\" id=\"language-toggle\" data-toggle=\"tooltip\"></a></li></ul></div></nav><div id=\"query-box\"><form id=\"query-form\" action=\"https://query.wikidata.org/bigdata/namespace/wdq/sparql\"><div class=\"query-main\"><div class=\"toolbar\"><div class=\"toolbar-top\"><div><a href=\"#\" class=\"btn query-helper-trigger\" data-toggle=\"tooltip\" data-placement=\"top\" data-i18n=\"[title]wdqs-app-button-query-helper\"><span class=\"fa fa-info-circle\" aria-hidden=\"true\"></span></a></div><div><a href=\"#\" class=\"btn fullscreen-toggle\" data-toggle=\"tooltip\" data-placement=\"top\" data-i18n=\"[title]wdqs-app-button-fullscreen-title\"><span class=\"fa fa-arrows-alt\" aria-hidden=\"true\"></span></a></div><div class=\"dropdown\"><a href=\"#\" class=\"btn dropdown-toggle\" data-toggle=\"dropdown\" role=\"button\" aria-haspopup=\"true\" aria-expanded=\"false\" data-i18n=\"[title]wdqs-app-button-prefixes\"><span class=\"fa fa-thumb-tack\" aria-hidden=\"true\"></span><span class=\"caret\"></span></a><ul class=\"dropdown-menu\"><li><strong data-i18n=\"wdqs-app-button-prefixes\"></strong></li><li role=\"separator\" class=\"divider\"></li><li><div class=\"namespace-shortcuts\"></div></li><li role=\"separator\" class=\"divider\"></li><li><a class=\"addPrefixes\" data-i18n=\"wdqs-app-editor-addprefixes\"></a></li></ul></div><div><a href=\"#\" class=\"btn\" id=\"format-button\" data-toggle=\"tooltip\" data-placement=\"top\" data-i18n=\"[title]wdqs-app-button-format-title\"><span class=\"fa fa-diamond\" aria-hidden=\"true\"></span></a></div><div><a href=\"#\" class=\"btn\" data-i18n=\"[title]wdqs-app-button-examples\" data-toggle=\"modal\" data-target=\"#QueryExamples\"><span class=\"fa fa-folder-open-o\" aria-hidden=\"true\"></span></a></div><div><a href=\"#\" class=\"btn restore\" id=\"restore-button\" data-toggle=\"tooltip\" data-placement=\"top\" data-i18n=\"[title]wdqs-app-button-restore-title\"><span class=\"fa fa-history\" aria-hidden=\"true\"></span></a></div><div><a href=\"#\" class=\"btn\" id=\"clear-button\" data-toggle=\"tooltip\" data-placement=\"top\" data-i18n=\"[title]wdqs-app-button-clear-title\"><span class=\"fa fa-trash-o\" aria-hidden=\"true\"></span></a></div><div><a href=\"#\" class=\"btn shareQuery shortUrlTrigger query\" target=\"_blank\" data-i18n=\"[title]wdqs-app-shorturl-page-title\" data-toggle=\"popover\"><span class=\"fa fa-link\" aria-hidden=\"true\"></span></a></div></div><div class=\"toolbar-bottom\"><button type=\"submit\" class=\"btn btn-info\" id=\"execute-button\" data-toggle=\"tooltip\" data-placement=\"top\" data-i18n=\"[title]wdqs-app-button-run-title\"><span class=\"fa fa-play\" aria-hidden=\"true\"></span></button></div></div><div class=\"query-helper-and-editor\"><div class=\"query-helper query-helper-hidden\"><div class=\"panel panel-info\"><div class=\"panel-heading\"><strong data-i18n=\"wdqs-app-help-queryhelper\"></strong> <a target=\"_blank\" rel=\"noopener\" id=\"query-helper-help\" href=\"https://www.wikidata.org/wiki/Special:MyLanguage/Wikidata:SPARQL_query_service/Query_Helper\"><span class=\"glyphicon glyphicon-question-sign\"></span></a> <button type=\"button\" class=\"close\" aria-label=\"Close\"><span aria-hidden=\"true\">&times;</span></button></div><div class=\"panel-body\"></div></div></div><div class=\"splitter\"></div><div class=\"query-editor-container\" dir=\"ltr\"><textarea class=\"queryEditor\" name=\"query\" data-i18n=\"[placeholder]wdqs-app-editor-placeholder\" placeholder=\"(Input a SPARQL query or choose a query example)\"></textarea></div></div></div><div class=\"navbar navbar-default query-helper-tag-cloud query-helper-hidden\"></div><div class=\"status navbar navbar-default toolbar\"><div class=\"navbar-right\"><span class=\"dataUpdated\"></span></div></div></form></div></div><noscript><div class=\"row action-bar\" style=\"display: block\"><div class=\"message\"><div class=\"label label-warning\">For interactive query editing, a localized user interface, and other improvements, please enable JavaScript or use a browser that supports it.</div></div></div></noscript><div class=\"row\"><nav class=\"navbar navbar-default result\"><ul class=\"nav navbar-nav navbar-left\"><li><a id=\"display-button\" href=\"#\" data-toggle=\"dropdown\" class=\"dropdown-toggle\" data-placement=\"top\" data-i18n=\"[title]wdqs-app-button-display-title\"><span id=\"display-button-icon\" class=\"glyphicon glyphicon-eye-open\" aria-hidden=\"true\"></span><span id=\"display-button-label\"></span><span class=\"caret\"></span></a><ul id=\"result-browser-menu\" class=\"dropdown-menu\" role=\"menu\"></ul></li><li></li><li><a target=\"_blank\" class=\"help\" rel=\"noopener\" href=\"https://www.wikidata.org/wiki/Special:MyLanguage/Wikidata:SPARQL_query_service/Wikidata_Query_Help/Result_Views\"><span class=\"fa fa-question-circle\"></span></a></li></ul><ul class=\"nav navbar-nav navbar-right\"><li class=\"navbar-text\"><span class=\"query-total\"><span class=\"label label-default\" id=\"response-summary\"></span> </span>&nbsp;</li><li><a class=\"btn\" data-toggle=\"modal\" data-target=\"#CodeExamples\" data-i18n=\"[title]wdqs-app-button-code-title\"><span class=\"fa fa-code\"></span> <span data-i18n=\"wdqs-app-button-code\"></span></a></li><li><a id=\"download-button\" href=\"#\" data-toggle=\"dropdown\" class=\"dropdown-toggle\" data-placement=\"top\" data-i18n=\"[title]wdqs-app-button-download-title\"><span class=\"glyphicon glyphicon-download-alt\" aria-hidden=\"true\"></span><span data-i18n=\"wdqs-app-button-download\"></span><span class=\"caret\"></span></a><ul class=\"dropdown-menu\" role=\"menu\"><li><a id=\"downloadJSON\" href=\"#\"><span class=\"fa fa-file-code-o\" aria-hidden=\"true\"></span> <span data-i18n=\"wdqs-app-result-json\"></span></a></li><li><a id=\"downloadFull-JSON\" href=\"#\"><span class=\"fa fa-file-code-o\" aria-hidden=\"true\"></span> <span data-i18n=\"wdqs-app-result-json-verbose\"></span></a></li><li role=\"separator\" class=\"divider\"></li><li><a id=\"downloadSimple-TSV\" href=\"#\"><span class=\"fa fa-file-excel-o\" aria-hidden=\"true\"></span> <span data-i18n=\"wdqs-app-result-tsv\"></span></a></li><li><a id=\"downloadTSV\" href=\"#\"><span class=\"fa fa-file-excel-o\" aria-hidden=\"true\"></span> <span data-i18n=\"wdqs-app-result-tsv-verbose\"></span></a></li><li role=\"separator\" class=\"divider\"></li><li><a id=\"downloadCSV\" href=\"#\"><span class=\"fa fa-file-excel-o\" aria-hidden=\"true\"></span> <span data-i18n=\"wdqs-app-result-csv\"></span></a></li><li role=\"separator\" class=\"divider\"></li><li><a id=\"downloadHTML\" href=\"#\"><span class=\"fa fa-file-code-o\" aria-hidden=\"true\"></span> <span data-i18n=\"wdqs-app-result-html\"></span></a></li><li role=\"separator\" class=\"divider\"></li><li><a id=\"downloadSVG\" href=\"#\"><span class=\"fa fa-file-image-o\" aria-hidden=\"true\"></span> <span data-i18n=\"wdqs-app-result-svg\"></span></a></li></ul></li><li><a id=\"link-button\" href=\"#\" data-toggle=\"dropdown\" class=\"dropdown-toggle\" aria-haspopup=\"true\" aria-expanded=\"false\" data-placement=\"top\" data-i18n=\"[title]wdqs-app-button-link-title\"><span class=\"glyphicon glyphicon-link\" aria-hidden=\"true\"></span><span data-i18n=\"wdqs-app-button-link\"></span><span class=\"caret\"></span></a><ul class=\"dropdown-menu\"><li><a href=\"#\" class=\"shortUrlTrigger result\" target=\"_blank\" data-i18n=\"[title]wdqs-app-result-shorturl-title\" data-toggle=\"popover\"><span data-i18n=\"wdqs-app-result-shorturl\"></span></a></li><li><a target=\"_blank\" class=\"queryUri\" data-i18n=\"[title]wdqs-app-result-endpoint-title\"><span data-i18n=\"wdqs-app-result-endpoint\"></span></a></li><li><a href=\"#\" class=\"embed result\" target=\"_blank\" data-toggle=\"popover\" data-i18n=\"wdqs-app-result-embed\"></a></li></ul></li></ul></nav></div><div class=\"row action-bar\"><div class=\"message\"></div></div><div class=\"row\"><div id=\"query-result\">Test result</div></div><div class=\"row\"><div id=\"query-error\" class=\"panel-heading\"></div></div><div class=\"row\"><div id=\"empty-query-error\" class=\"text-center\"><p data-i18n=\"wdqs-action-empty-query\"></p><button type=\"button\" class=\"btn navbar-btn btn-default\" id=\"open-example\" data-toggle=\"modal\" data-target=\"#QueryExamples\"><span class=\"fa fa-folder-open-o\"></span> <span data-i18n=\"wdqs-app-button-examples\" id=\"examples-label\"></span></button></div></div><div class=\"row\"><div id=\"loading-spinner\"><i class=\"fa fa-spinner fa-pulse fa-3x fa-fw\"></i> <span class=\"sr-only\">Loading...</span></div></div><div id=\"explorer-dialogs\"><div class=\"explorer-dialog\"><div data-role=\"header\" class=\"modal-header clearfix explorer-header\"><h3 data-role=\"title\" class=\"modal-title pull-left explorer-title\">Explorer</h3><button data-role=\"close\" type=\"button\" class=\"close\" data-dismiss=\"modal\" aria-label=\"Close\"><span aria-hidden=\"true\">&times;</span></button></div><div data-role=\"body\" class=\"explorer-body\"></div></div></div></div><div class=\"modal fade QueryExamples\" id=\"QueryExamples\" tabindex=\"-1\" role=\"dialog\" aria-labelledby=\"QueryExamplesModalLabel\"><div class=\"modal-dialog modal-lg\" role=\"document\"><div class=\"modal-content\"><div class=\"modal-body\"><div class=\"tagCloud\"></div><div class=\"tagFilter\"></div><div class=\"input-group\"><span class=\"input-group-addon\"><span class=\"glyphicon glyphicon-filter\" aria-hidden=\"true\"></span></span> <input type=\"text\" class=\"tableFilter form-control\" placeholder=\"Type to filter\"> <span class=\"input-group-addon\"><span class=\"badge count\"></span></span></div><div class=\"exampleTable\"><table class=\"table\"><tbody class=\"searchable\"></tbody></table></div></div></div></div></div><div class=\"modal\" id=\"keyboardShortcutHelpModal\" tabindex=\"-1\" role=\"dialog\" aria-labelledby=\"keyboardShortcutHelpModalLabel\" aria-hidden=\"true\"><div class=\"modal-dialog\" role=\"document\"><div class=\"modal-content\"><div class=\"modal-header\"><h5 class=\"modal-title\" id=\"keyboardShortcutHelpModalLabel\" data-i18n=\"wdqs-dialog-key-shortcut-title\"></h5></div><div class=\"modal-body\"><table class=\"keyboard-shortcut-help\"><tbody><tr><th scope=\"row\"><kbd><kbd>ctrl</kbd>+<kbd>enter</kbd></kbd></th><td data-i18n=\"wdqs-dialog-key-shortcut-run-query\"></td></tr><tr><th scope=\"row\"><kbd>esc</kbd></th><td data-i18n=\"wdqs-dialog-key-shortcut-esc\"></td></tr><tr><th scope=\"row\"><kbd>?</kbd></th><td data-i18n=\"wdqs-dialog-key-shortcut-show-shortcut-help\"></td></tr><tr><th scope=\"row\"><kbd>i</kbd></th><td data-i18n=\"wdqs-dialog-key-shortcut-focus-textarea\"></td></tr><tr><th scope=\"row\"><kbd>r</kbd></th><td data-i18n=\"wdqs-dialog-key-shortcut-jump-to-result\"></td></tr><tr><th scope=\"row\"><kbd>f</kbd></th><td data-i18n=\"wdqs-dialog-key-shortcut-focus-filter\"></td></tr><tr><th scope=\"row\"><kbd>s</kbd></th><td data-i18n=\"wdqs-dialog-key-shortcut-focus-show\"></td></tr><tr><th scope=\"row\"><kbd>m</kbd></th><td data-i18n=\"wdqs-dialog-key-shortcut-focus-limit\"></td></tr><tr><th scope=\"row\"><kbd>e</kbd></th><td data-i18n=\"wdqs-dialog-key-shortcut-show-example\"></td></tr><tr><th scope=\"row\"><kbd>h</kbd></th><td data-i18n=\"wdqs-dialog-key-shortcut-help-menu\"></td></tr><tr><th scope=\"row\"><kbd>l</kbd></th><td data-i18n=\"wdqs-dialog-key-shortcut-show-language\"></td></tr></tbody></table></div><div class=\"modal-footer\"><button type=\"button\" class=\"btn btn-default\" data-dismiss=\"modal\" data-i18n=\"wdqs-dialog-key-shortcut-close-button\"></button></div></div></div></div><div class=\"modal fade CodeExamples\" id=\"CodeExamples\" tabindex=\"-1\" role=\"dialog\" aria-labelledby=\"CodeExamplesModalLabel\"><div class=\"modal-dialog modal-lg\" role=\"document\"><div class=\"modal-content\"><div class=\"modal-body\"><div><ul class=\"nav nav-tabs\" role=\"tablist\"></ul><div class=\"tab-content\"></div></div></div></div></div></div><script src=\"js/vendor.min.0c96f018ea3fdcadd317.js\"></script><script src=\"js/wdqs.min.7906af714e7933b9c782.js\"></script></body></html>: 0"
     ]
    }
   ],
   "source": [
    "import requests\n",
    "\n",
    "query = \"https://query.wikidata.org/#PREFIX%20wd%3A%20%3Chttp%3A%2F%2Fwww.wikidata.org%2Fentity%2F%3E%0APREFIX%20wdt%3A%20%3Chttp%3A%2F%2Fwww.wikidata.org%2Fprop%2Fdirect%2F%3E%0APREFIX%20wikibase%3A%20%3Chttp%3A%2F%2Fwikiba.se%2Fontology%23%3E%0A%0ASELECT%20%20%3Fs%20%3FsLabel%20%3Fp%20%20%3Fo%20%3FoLabel%20WHERE%20%7B%0A%20%3Fs%20wdt%3AP646%20%22%2Fm%2F03vyhn%22%0A%20%20%20SERVICE%20wikibase%3Alabel%20%7B%0A%20%20%20%20bd%3AserviceParam%20wikibase%3Alanguage%20%22en%22%20.%0A%20%20%20%7D%0A%20%7D\"\n",
    "\n",
    "response = requests.get(query)\n",
    "print(response.json())\n"
   ]
  },
  {
   "cell_type": "code",
   "execution_count": 53,
   "id": "933ec7a4",
   "metadata": {},
   "outputs": [
    {
     "ename": "AttributeError",
     "evalue": "module 'pywikibot' has no attribute 'family'",
     "output_type": "error",
     "traceback": [
      "\u001b[1;31m---------------------------------------------------------------------------\u001b[0m",
      "\u001b[1;31mAttributeError\u001b[0m                            Traceback (most recent call last)",
      "\u001b[1;32m~\\AppData\\Local\\Temp/ipykernel_3444/1910823812.py\u001b[0m in \u001b[0;36m<module>\u001b[1;34m\u001b[0m\n\u001b[0;32m      1\u001b[0m \u001b[1;32mimport\u001b[0m \u001b[0mpywikibot\u001b[0m\u001b[1;33m\u001b[0m\u001b[1;33m\u001b[0m\u001b[0m\n\u001b[1;32m----> 2\u001b[1;33m \u001b[0msite\u001b[0m \u001b[1;33m=\u001b[0m \u001b[0mpywikibot\u001b[0m\u001b[1;33m.\u001b[0m\u001b[0mSite\u001b[0m\u001b[1;33m(\u001b[0m\u001b[1;34m'wikipedia:en'\u001b[0m\u001b[1;33m)\u001b[0m\u001b[1;33m\u001b[0m\u001b[1;33m\u001b[0m\u001b[0m\n\u001b[0m\u001b[0;32m      3\u001b[0m \u001b[0mrepo\u001b[0m \u001b[1;33m=\u001b[0m \u001b[0msite\u001b[0m\u001b[1;33m.\u001b[0m\u001b[0mdata_repository\u001b[0m\u001b[1;33m(\u001b[0m\u001b[1;33m)\u001b[0m  \u001b[1;31m# the Wikibase repository for given site\u001b[0m\u001b[1;33m\u001b[0m\u001b[1;33m\u001b[0m\u001b[0m\n\u001b[0;32m      4\u001b[0m \u001b[0mpage\u001b[0m \u001b[1;33m=\u001b[0m \u001b[0mrepo\u001b[0m\u001b[1;33m.\u001b[0m\u001b[0mpage_from_repository\u001b[0m\u001b[1;33m(\u001b[0m\u001b[1;34m'Q91'\u001b[0m\u001b[1;33m)\u001b[0m  \u001b[1;31m# create a local page for the given item\u001b[0m\u001b[1;33m\u001b[0m\u001b[1;33m\u001b[0m\u001b[0m\n\u001b[0;32m      5\u001b[0m \u001b[0mitem\u001b[0m \u001b[1;33m=\u001b[0m \u001b[0mpywikibot\u001b[0m\u001b[1;33m.\u001b[0m\u001b[0mItemPage\u001b[0m\u001b[1;33m(\u001b[0m\u001b[0mrepo\u001b[0m\u001b[1;33m,\u001b[0m \u001b[1;34m'Q91'\u001b[0m\u001b[1;33m)\u001b[0m  \u001b[1;31m# a repository item\u001b[0m\u001b[1;33m\u001b[0m\u001b[1;33m\u001b[0m\u001b[0m\n",
      "\u001b[1;32m~\\AppData\\Local\\Programs\\Python\\Python39\\lib\\site-packages\\pywikibot\\__init__.py\u001b[0m in \u001b[0;36mSite\u001b[1;34m(code, fam, user, interface, url)\u001b[0m\n\u001b[0;32m   1116\u001b[0m     \u001b[0mkey\u001b[0m \u001b[1;33m=\u001b[0m \u001b[1;34m'{}:{}:{}:{}'\u001b[0m\u001b[1;33m.\u001b[0m\u001b[0mformat\u001b[0m\u001b[1;33m(\u001b[0m\u001b[0minterface\u001b[0m\u001b[1;33m.\u001b[0m\u001b[0m__name__\u001b[0m\u001b[1;33m,\u001b[0m \u001b[0mfam\u001b[0m\u001b[1;33m,\u001b[0m \u001b[0mcode\u001b[0m\u001b[1;33m,\u001b[0m \u001b[0muser\u001b[0m\u001b[1;33m)\u001b[0m\u001b[1;33m\u001b[0m\u001b[1;33m\u001b[0m\u001b[0m\n\u001b[0;32m   1117\u001b[0m     \u001b[1;32mif\u001b[0m \u001b[0mkey\u001b[0m \u001b[1;32mnot\u001b[0m \u001b[1;32min\u001b[0m \u001b[0m_sites\u001b[0m \u001b[1;32mor\u001b[0m \u001b[1;32mnot\u001b[0m \u001b[0misinstance\u001b[0m\u001b[1;33m(\u001b[0m\u001b[0m_sites\u001b[0m\u001b[1;33m[\u001b[0m\u001b[0mkey\u001b[0m\u001b[1;33m]\u001b[0m\u001b[1;33m,\u001b[0m \u001b[0minterface\u001b[0m\u001b[1;33m)\u001b[0m\u001b[1;33m:\u001b[0m\u001b[1;33m\u001b[0m\u001b[1;33m\u001b[0m\u001b[0m\n\u001b[1;32m-> 1118\u001b[1;33m         \u001b[0m_sites\u001b[0m\u001b[1;33m[\u001b[0m\u001b[0mkey\u001b[0m\u001b[1;33m]\u001b[0m \u001b[1;33m=\u001b[0m \u001b[0minterface\u001b[0m\u001b[1;33m(\u001b[0m\u001b[0mcode\u001b[0m\u001b[1;33m=\u001b[0m\u001b[0mcode\u001b[0m\u001b[1;33m,\u001b[0m \u001b[0mfam\u001b[0m\u001b[1;33m=\u001b[0m\u001b[0mfam\u001b[0m\u001b[1;33m,\u001b[0m \u001b[0muser\u001b[0m\u001b[1;33m=\u001b[0m\u001b[0muser\u001b[0m\u001b[1;33m)\u001b[0m\u001b[1;33m\u001b[0m\u001b[1;33m\u001b[0m\u001b[0m\n\u001b[0m\u001b[0;32m   1119\u001b[0m         debug(\"Instantiated {} object '{}'\"\n\u001b[0;32m   1120\u001b[0m               .format(interface.__name__, _sites[key]))\n",
      "\u001b[1;32m~\\AppData\\Local\\Programs\\Python\\Python39\\lib\\site-packages\\pywikibot\\site\\_apisite.py\u001b[0m in \u001b[0;36m__init__\u001b[1;34m(self, code, fam, user)\u001b[0m\n\u001b[0;32m    115\u001b[0m     ) -> None:\n\u001b[0;32m    116\u001b[0m         \u001b[1;34m\"\"\"Initializer.\"\"\"\u001b[0m\u001b[1;33m\u001b[0m\u001b[1;33m\u001b[0m\u001b[0m\n\u001b[1;32m--> 117\u001b[1;33m         \u001b[0msuper\u001b[0m\u001b[1;33m(\u001b[0m\u001b[1;33m)\u001b[0m\u001b[1;33m.\u001b[0m\u001b[0m__init__\u001b[0m\u001b[1;33m(\u001b[0m\u001b[0mcode\u001b[0m\u001b[1;33m,\u001b[0m \u001b[0mfam\u001b[0m\u001b[1;33m,\u001b[0m \u001b[0muser\u001b[0m\u001b[1;33m)\u001b[0m\u001b[1;33m\u001b[0m\u001b[1;33m\u001b[0m\u001b[0m\n\u001b[0m\u001b[0;32m    118\u001b[0m         \u001b[0mself\u001b[0m\u001b[1;33m.\u001b[0m\u001b[0m_globaluserinfo\u001b[0m \u001b[1;33m=\u001b[0m \u001b[1;33m{\u001b[0m\u001b[1;33m}\u001b[0m  \u001b[1;31m# type: Dict[Union[int, str], Any]\u001b[0m\u001b[1;33m\u001b[0m\u001b[1;33m\u001b[0m\u001b[0m\n\u001b[0;32m    119\u001b[0m         \u001b[0mself\u001b[0m\u001b[1;33m.\u001b[0m\u001b[0m_interwikimap\u001b[0m \u001b[1;33m=\u001b[0m \u001b[0m_InterwikiMap\u001b[0m\u001b[1;33m(\u001b[0m\u001b[0mself\u001b[0m\u001b[1;33m)\u001b[0m\u001b[1;33m\u001b[0m\u001b[1;33m\u001b[0m\u001b[0m\n",
      "\u001b[1;32m~\\AppData\\Local\\Programs\\Python\\Python39\\lib\\site-packages\\pywikibot\\site\\_basesite.py\u001b[0m in \u001b[0;36m__init__\u001b[1;34m(self, code, fam, user)\u001b[0m\n\u001b[0;32m     52\u001b[0m                           .format(code))\n\u001b[0;32m     53\u001b[0m             \u001b[0mcode\u001b[0m \u001b[1;33m=\u001b[0m \u001b[0mcode\u001b[0m\u001b[1;33m.\u001b[0m\u001b[0mlower\u001b[0m\u001b[1;33m(\u001b[0m\u001b[1;33m)\u001b[0m\u001b[1;33m\u001b[0m\u001b[1;33m\u001b[0m\u001b[0m\n\u001b[1;32m---> 54\u001b[1;33m         \u001b[1;32mif\u001b[0m \u001b[1;32mnot\u001b[0m \u001b[0mall\u001b[0m\u001b[1;33m(\u001b[0m\u001b[0mx\u001b[0m \u001b[1;32min\u001b[0m \u001b[0mpywikibot\u001b[0m\u001b[1;33m.\u001b[0m\u001b[0mfamily\u001b[0m\u001b[1;33m.\u001b[0m\u001b[0mCODE_CHARACTERS\u001b[0m \u001b[1;32mfor\u001b[0m \u001b[0mx\u001b[0m \u001b[1;32min\u001b[0m \u001b[0mcode\u001b[0m\u001b[1;33m)\u001b[0m\u001b[1;33m:\u001b[0m\u001b[1;33m\u001b[0m\u001b[1;33m\u001b[0m\u001b[0m\n\u001b[0m\u001b[0;32m     55\u001b[0m             pywikibot.log('BaseSite: code \"{}\" contains invalid characters'\n\u001b[0;32m     56\u001b[0m                           .format(code))\n",
      "\u001b[1;32m~\\AppData\\Local\\Programs\\Python\\Python39\\lib\\site-packages\\pywikibot\\site\\_basesite.py\u001b[0m in \u001b[0;36m<genexpr>\u001b[1;34m(.0)\u001b[0m\n\u001b[0;32m     52\u001b[0m                           .format(code))\n\u001b[0;32m     53\u001b[0m             \u001b[0mcode\u001b[0m \u001b[1;33m=\u001b[0m \u001b[0mcode\u001b[0m\u001b[1;33m.\u001b[0m\u001b[0mlower\u001b[0m\u001b[1;33m(\u001b[0m\u001b[1;33m)\u001b[0m\u001b[1;33m\u001b[0m\u001b[1;33m\u001b[0m\u001b[0m\n\u001b[1;32m---> 54\u001b[1;33m         \u001b[1;32mif\u001b[0m \u001b[1;32mnot\u001b[0m \u001b[0mall\u001b[0m\u001b[1;33m(\u001b[0m\u001b[0mx\u001b[0m \u001b[1;32min\u001b[0m \u001b[0mpywikibot\u001b[0m\u001b[1;33m.\u001b[0m\u001b[0mfamily\u001b[0m\u001b[1;33m.\u001b[0m\u001b[0mCODE_CHARACTERS\u001b[0m \u001b[1;32mfor\u001b[0m \u001b[0mx\u001b[0m \u001b[1;32min\u001b[0m \u001b[0mcode\u001b[0m\u001b[1;33m)\u001b[0m\u001b[1;33m:\u001b[0m\u001b[1;33m\u001b[0m\u001b[1;33m\u001b[0m\u001b[0m\n\u001b[0m\u001b[0;32m     55\u001b[0m             pywikibot.log('BaseSite: code \"{}\" contains invalid characters'\n\u001b[0;32m     56\u001b[0m                           .format(code))\n",
      "\u001b[1;31mAttributeError\u001b[0m: module 'pywikibot' has no attribute 'family'"
     ]
    }
   ],
   "source": [
    "import pywikibot\n",
    "site = pywikibot.Site('wikipedia:en')\n",
    "repo = site.data_repository()  # the Wikibase repository for given site\n",
    "page = repo.page_from_repository('Q91')  # create a local page for the given item\n",
    "item = pywikibot.ItemPage(repo, 'Q91')  # a repository item\n",
    "data = item.get()  # get all item data from repository for this item\n"
   ]
  },
  {
   "cell_type": "markdown",
   "id": "58b826ca",
   "metadata": {},
   "source": [
    "## plot_summaries.txt"
   ]
  },
  {
   "cell_type": "markdown",
   "id": "dad36628",
   "metadata": {},
   "source": [
    "Printing the first few lines of the movie summaries"
   ]
  },
  {
   "cell_type": "code",
   "execution_count": 16,
   "id": "fc1c5762",
   "metadata": {},
   "outputs": [
    {
     "name": "stdout",
     "output_type": "stream",
     "text": [
      "[\"23890098\\tShlykov, a hard-working taxi driver and Lyosha, a saxophonist, develop a bizarre love-hate relationship, and despite their prejudices, realize they aren't so different after all.\\n\"]\n"
     ]
    }
   ],
   "source": [
    "with open(data_folder + \"plot_summaries.txt\") as myfile:\n",
    "    head = [next(myfile) for x in range(1)]\n",
    "print(head)"
   ]
  },
  {
   "cell_type": "markdown",
   "id": "d4d87d89",
   "metadata": {},
   "source": [
    "## name.clusters.txt"
   ]
  },
  {
   "cell_type": "code",
   "execution_count": 17,
   "id": "2dcd8b89",
   "metadata": {},
   "outputs": [
    {
     "name": "stdout",
     "output_type": "stream",
     "text": [
      "['Stuart Little\\t/m/0k3w9c\\n', 'Stuart Little\\t/m/0k3wcx\\n', 'Stuart Little\\t/m/0k3wbn\\n']\n"
     ]
    }
   ],
   "source": [
    "with open(data_folder + \"name.clusters.txt\") as myfile:\n",
    "    head = [next(myfile) for x in range(3)]\n",
    "print(head)"
   ]
  },
  {
   "cell_type": "markdown",
   "id": "a4dde6a5",
   "metadata": {},
   "source": [
    "## tvtropes.cluster.txt"
   ]
  },
  {
   "cell_type": "code",
   "execution_count": 18,
   "id": "ebe1c9bd",
   "metadata": {},
   "outputs": [
    {
     "name": "stdout",
     "output_type": "stream",
     "text": [
      "['absent_minded_professor\\t{\"char\": \"Professor Philip Brainard\", \"movie\": \"Flubber\", \"id\": \"/m/0jy9q0\", \"actor\": \"Robin Williams\"}\\n', 'absent_minded_professor\\t{\"char\": \"Professor Keenbean\", \"movie\": \"Richie Rich\", \"id\": \"/m/02vchl3\", \"actor\": \"Michael McShane\"}\\n', 'absent_minded_professor\\t{\"char\": \"Dr. Reinhardt Lane\", \"movie\": \"The Shadow\", \"id\": \"/m/0k6fkc\", \"actor\": \"Ian McKellen\"}\\n']\n"
     ]
    }
   ],
   "source": [
    "with open(data_folder + \"tvtropes.clusters.txt\") as myfile:\n",
    "    head = [next(myfile) for x in range(3)]\n",
    "print(head)\n"
   ]
  },
  {
   "cell_type": "markdown",
   "id": "a9eb4319",
   "metadata": {},
   "source": [
    "## corenlp_plot_summaries.tar.gz (to load)"
   ]
  },
  {
   "cell_type": "code",
   "execution_count": null,
   "id": "f1ee59bd",
   "metadata": {},
   "outputs": [],
   "source": []
  }
 ],
 "metadata": {
  "kernelspec": {
   "display_name": "Python 3 (ipykernel)",
   "language": "python",
   "name": "python3"
  },
  "language_info": {
   "codemirror_mode": {
    "name": "ipython",
    "version": 3
   },
   "file_extension": ".py",
   "mimetype": "text/x-python",
   "name": "python",
   "nbconvert_exporter": "python",
   "pygments_lexer": "ipython3",
   "version": "3.9.7"
  }
 },
 "nbformat": 4,
 "nbformat_minor": 5
}
